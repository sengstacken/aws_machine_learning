{
 "cells": [
  {
   "cell_type": "markdown",
   "metadata": {},
   "source": [
    "# Data Loading and Feature Engineering"
   ]
  },
  {
   "cell_type": "markdown",
   "metadata": {},
   "source": [
    "## Overview\n",
    "\n",
    "This notebook downloads, prepares, and transforms the ipenyou dataset.  This example uses dask for parallel data loading.  However, you could use a number of different techniques to load and transform the datasets.  We'll also add features to the dataset to be used for downstream machine learning\n",
    "\n",
    "#### iPinYou\n",
    "\n",
    "The iPinYou Global RTB(Real-Time Bidding) Bidding Algorithm Competition is organized by iPinYou (http://www.ipinyou.com) from April 1st, 2013 to December 31st, 2013. \n",
    "\n",
    "The competition has been divided into three seasons. For each season, a training dataset is released to the competition participants, the testing dataset is reserved by iPinYou. The complete testing dataset is randomly divided into two parts: one part is the leaderboard testing dataset to score and rank the participating teams on the leaderboard, and the other part is reserved for the final offline evaluation. \n",
    "\n",
    "We will be using the second season of iPinYou.  The training dataset includes a set of processed iPinYou DSP bidding, impression, click, and conversion logs.  We will be using the impression and click datasets.  The impression data assumes the bidder won the ad and the click dataset includes which ads were clicks.  Our goal will be to predict when a user will click the ad. \n",
    "\n",
    "Let's get started!  First, let's update our python libraries"
   ]
  },
  {
   "cell_type": "code",
   "execution_count": 61,
   "metadata": {},
   "outputs": [
    {
     "name": "stdout",
     "output_type": "stream",
     "text": [
      "Requirement already satisfied: numpy in /opt/conda/lib/python3.7/site-packages (1.21.6)\n",
      "\u001b[33mWARNING: Running pip as the 'root' user can result in broken permissions and conflicting behaviour with the system package manager. It is recommended to use a virtual environment instead: https://pip.pypa.io/warnings/venv\u001b[0m\u001b[33m\n",
      "\u001b[0m\n",
      "\u001b[1m[\u001b[0m\u001b[34;49mnotice\u001b[0m\u001b[1;39;49m]\u001b[0m\u001b[39;49m A new release of pip is available: \u001b[0m\u001b[31;49m23.0.1\u001b[0m\u001b[39;49m -> \u001b[0m\u001b[32;49m23.1.2\u001b[0m\n",
      "\u001b[1m[\u001b[0m\u001b[34;49mnotice\u001b[0m\u001b[1;39;49m]\u001b[0m\u001b[39;49m To update, run: \u001b[0m\u001b[32;49mpip install --upgrade pip\u001b[0m\n",
      "Note: you may need to restart the kernel to use updated packages.\n",
      "Requirement already satisfied: scikit-learn in /opt/conda/lib/python3.7/site-packages (1.0.2)\n",
      "Requirement already satisfied: threadpoolctl>=2.0.0 in /opt/conda/lib/python3.7/site-packages (from scikit-learn) (3.1.0)\n",
      "Requirement already satisfied: scipy>=1.1.0 in /opt/conda/lib/python3.7/site-packages (from scikit-learn) (1.4.1)\n",
      "Requirement already satisfied: numpy>=1.14.6 in /opt/conda/lib/python3.7/site-packages (from scikit-learn) (1.21.6)\n",
      "Requirement already satisfied: joblib>=0.11 in /opt/conda/lib/python3.7/site-packages (from scikit-learn) (1.2.0)\n",
      "\u001b[33mWARNING: Running pip as the 'root' user can result in broken permissions and conflicting behaviour with the system package manager. It is recommended to use a virtual environment instead: https://pip.pypa.io/warnings/venv\u001b[0m\u001b[33m\n",
      "\u001b[0m\n",
      "\u001b[1m[\u001b[0m\u001b[34;49mnotice\u001b[0m\u001b[1;39;49m]\u001b[0m\u001b[39;49m A new release of pip is available: \u001b[0m\u001b[31;49m23.0.1\u001b[0m\u001b[39;49m -> \u001b[0m\u001b[32;49m23.1.2\u001b[0m\n",
      "\u001b[1m[\u001b[0m\u001b[34;49mnotice\u001b[0m\u001b[1;39;49m]\u001b[0m\u001b[39;49m To update, run: \u001b[0m\u001b[32;49mpip install --upgrade pip\u001b[0m\n",
      "Note: you may need to restart the kernel to use updated packages.\n",
      "Requirement already satisfied: dask in /opt/conda/lib/python3.7/site-packages (2022.2.0)\n",
      "Requirement already satisfied: cloudpickle>=1.1.1 in /opt/conda/lib/python3.7/site-packages (from dask) (2.2.1)\n",
      "Requirement already satisfied: toolz>=0.8.2 in /opt/conda/lib/python3.7/site-packages (from dask) (0.10.0)\n",
      "Requirement already satisfied: partd>=0.3.10 in /opt/conda/lib/python3.7/site-packages (from dask) (1.1.0)\n",
      "Requirement already satisfied: packaging>=20.0 in /opt/conda/lib/python3.7/site-packages (from dask) (20.1)\n",
      "Requirement already satisfied: fsspec>=0.6.0 in /opt/conda/lib/python3.7/site-packages (from dask) (2023.1.0)\n",
      "Requirement already satisfied: pyyaml>=5.3.1 in /opt/conda/lib/python3.7/site-packages (from dask) (6.0)\n",
      "Requirement already satisfied: pyparsing>=2.0.2 in /opt/conda/lib/python3.7/site-packages (from packaging>=20.0->dask) (2.4.6)\n",
      "Requirement already satisfied: six in /opt/conda/lib/python3.7/site-packages (from packaging>=20.0->dask) (1.14.0)\n",
      "Requirement already satisfied: locket in /opt/conda/lib/python3.7/site-packages (from partd>=0.3.10->dask) (0.2.0)\n",
      "\u001b[33mWARNING: Running pip as the 'root' user can result in broken permissions and conflicting behaviour with the system package manager. It is recommended to use a virtual environment instead: https://pip.pypa.io/warnings/venv\u001b[0m\u001b[33m\n",
      "\u001b[0m\n",
      "\u001b[1m[\u001b[0m\u001b[34;49mnotice\u001b[0m\u001b[1;39;49m]\u001b[0m\u001b[39;49m A new release of pip is available: \u001b[0m\u001b[31;49m23.0.1\u001b[0m\u001b[39;49m -> \u001b[0m\u001b[32;49m23.1.2\u001b[0m\n",
      "\u001b[1m[\u001b[0m\u001b[34;49mnotice\u001b[0m\u001b[1;39;49m]\u001b[0m\u001b[39;49m To update, run: \u001b[0m\u001b[32;49mpip install --upgrade pip\u001b[0m\n",
      "Note: you may need to restart the kernel to use updated packages.\n",
      "Requirement already satisfied: imblearn in /opt/conda/lib/python3.7/site-packages (0.0)\n",
      "Requirement already satisfied: imbalanced-learn in /opt/conda/lib/python3.7/site-packages (from imblearn) (0.10.1)\n",
      "Requirement already satisfied: scipy>=1.3.2 in /opt/conda/lib/python3.7/site-packages (from imbalanced-learn->imblearn) (1.4.1)\n",
      "Requirement already satisfied: scikit-learn>=1.0.2 in /opt/conda/lib/python3.7/site-packages (from imbalanced-learn->imblearn) (1.0.2)\n",
      "Requirement already satisfied: numpy>=1.17.3 in /opt/conda/lib/python3.7/site-packages (from imbalanced-learn->imblearn) (1.21.6)\n",
      "Requirement already satisfied: joblib>=1.1.1 in /opt/conda/lib/python3.7/site-packages (from imbalanced-learn->imblearn) (1.2.0)\n",
      "Requirement already satisfied: threadpoolctl>=2.0.0 in /opt/conda/lib/python3.7/site-packages (from imbalanced-learn->imblearn) (3.1.0)\n",
      "\u001b[33mWARNING: Running pip as the 'root' user can result in broken permissions and conflicting behaviour with the system package manager. It is recommended to use a virtual environment instead: https://pip.pypa.io/warnings/venv\u001b[0m\u001b[33m\n",
      "\u001b[0m\n",
      "\u001b[1m[\u001b[0m\u001b[34;49mnotice\u001b[0m\u001b[1;39;49m]\u001b[0m\u001b[39;49m A new release of pip is available: \u001b[0m\u001b[31;49m23.0.1\u001b[0m\u001b[39;49m -> \u001b[0m\u001b[32;49m23.1.2\u001b[0m\n",
      "\u001b[1m[\u001b[0m\u001b[34;49mnotice\u001b[0m\u001b[1;39;49m]\u001b[0m\u001b[39;49m To update, run: \u001b[0m\u001b[32;49mpip install --upgrade pip\u001b[0m\n",
      "Note: you may need to restart the kernel to use updated packages.\n"
     ]
    }
   ],
   "source": [
    "%pip install numpy --upgrade\n",
    "%pip install scikit-learn --upgrade\n",
    "%pip install dask\n",
    "%pip install imblearn\n",
    "%pip install Faker"
   ]
  },
  {
   "cell_type": "code",
   "execution_count": 62,
   "metadata": {},
   "outputs": [
    {
     "data": {
      "text/plain": [
       "{'status': 'ok', 'restart': True}"
      ]
     },
     "execution_count": 62,
     "metadata": {},
     "output_type": "execute_result"
    }
   ],
   "source": [
    "# do auto kernel restart\n",
    "import IPython\n",
    "IPython.Application.instance().kernel.do_shutdown(True) #automatically restarts kernel"
   ]
  },
  {
   "cell_type": "code",
   "execution_count": 24,
   "metadata": {},
   "outputs": [],
   "source": [
    "# python library imports\n",
    "\n",
    "import pandas as pd\n",
    "import glob\n",
    "import numpy as np\n",
    "import dask.dataframe as dd\n",
    "import gc\n",
    "import sys\n",
    "import numpy as np\n",
    "import pyarrow\n",
    "from sklearn.model_selection import train_test_split\n",
    "import sagemaker\n",
    "import os\n",
    "import boto3\n",
    "from imblearn.over_sampling import SMOTENC\n",
    "from faker import Faker\n",
    "import uuid"
   ]
  },
  {
   "cell_type": "code",
   "execution_count": 19,
   "metadata": {},
   "outputs": [
    {
     "name": "stdout",
     "output_type": "stream",
     "text": [
      "Region : us-east-1\n",
      "IAM Role : arn:aws:iam::725069941408:role/service-role/AmazonSageMaker-ExecutionRole-20230327T095833\n",
      "S3 Bucket : sagemaker-us-east-1-725069941408\n",
      "SageMaker Python SDK version : 2.145.0\n",
      "Python version : 3.7.10 (default, Jun  4 2021, 14:48:32) \n",
      "[GCC 7.5.0]\n"
     ]
    }
   ],
   "source": [
    "region = boto3.Session().region_name\n",
    "role = sagemaker.get_execution_role()\n",
    "sagemaker_session = sagemaker.Session()\n",
    "bucket_name = sagemaker.Session().default_bucket()\n",
    "\n",
    "prefix = 'ipinyou'\n",
    "os.environ[\"AWS_REGION\"] = region\n",
    "\n",
    "print(f'Region : {region}')\n",
    "print(f'IAM Role : {role}')\n",
    "print(f'S3 Bucket : {bucket_name}')\n",
    "\n",
    "# Get the current installed version of Sagemaker SDK, TensorFlow, Python, Boto3 and SMDebug\n",
    "print(f'SageMaker Python SDK version : {sagemaker.__version__}')\n",
    "print(f'Python version : {sys.version}')"
   ]
  },
  {
   "cell_type": "markdown",
   "metadata": {
    "jp-MarkdownHeadingCollapsed": true,
    "tags": []
   },
   "source": [
    "## Data Download - only once"
   ]
  },
  {
   "cell_type": "code",
   "execution_count": 20,
   "metadata": {},
   "outputs": [
    {
     "name": "stdout",
     "output_type": "stream",
     "text": [
      "                           PRE algo.submission.demo/\n",
      "                           PRE testing1st/\n",
      "                           PRE testing2nd/\n",
      "                           PRE testing3rd/\n",
      "                           PRE training1st/\n",
      "                           PRE training2nd/\n",
      "                           PRE training3rd/\n",
      "2023-03-27 15:25:45      10663 README\n",
      "2023-03-27 15:25:45      10534 README.old\n",
      "2023-03-27 15:25:45       6144 city.cn.txt\n",
      "2023-03-27 15:25:45       4683 city.en.txt\n",
      "2023-03-27 15:25:45       7305 files.md5\n",
      "2023-03-27 15:25:45        326 known.data.bugs.txt\n",
      "2023-03-27 15:25:45        410 region.cn.txt\n",
      "2023-03-27 15:25:45        435 region.en.txt\n",
      "2023-03-27 15:26:46       1335 user.profile.tags.cn.txt\n",
      "2023-03-27 15:26:46       1420 user.profile.tags.en.txt\n"
     ]
    }
   ],
   "source": [
    "# check data in s3\n",
    "!aws s3 ls s3://ipenyou/"
   ]
  },
  {
   "cell_type": "code",
   "execution_count": 7,
   "metadata": {},
   "outputs": [],
   "source": [
    "!mkdir data"
   ]
  },
  {
   "cell_type": "markdown",
   "metadata": {
    "tags": []
   },
   "source": [
    "copy data from s3 to local EFS in SageMaker Studio, ~6 GB of data"
   ]
  },
  {
   "cell_type": "code",
   "execution_count": 10,
   "metadata": {},
   "outputs": [],
   "source": [
    "!aws s3 cp s3://ipenyou/ ./data/ --recursive"
   ]
  },
  {
   "cell_type": "markdown",
   "metadata": {},
   "source": [
    "The files in the dataset are plain text, *.txt.bz2 or *.tar.bz2 files. With bunzip2 and tar Linux or Mac command, they can be uncompressed easily into plain text:  \n",
    "           bunzip2 *.txt.bz2\n",
    "           tar xvjf *.tar.bz2"
   ]
  },
  {
   "cell_type": "code",
   "execution_count": 12,
   "metadata": {},
   "outputs": [],
   "source": [
    "# convert all data to txt files from bz2 files - takes a long time :( \n",
    "!bzip2 -vd ./data/training2nd/*.bz2\n",
    "!bzip2 -vd ./data/testing2nd/*.bz2"
   ]
  },
  {
   "cell_type": "code",
   "execution_count": null,
   "metadata": {},
   "outputs": [],
   "source": [
    "# TODO push back to s3 as txt files"
   ]
  },
  {
   "cell_type": "markdown",
   "metadata": {},
   "source": [
    "## Data Loading\n",
    "\n",
    "Now that we've downloaded the data, let's use dask and pandas to process the data"
   ]
  },
  {
   "cell_type": "code",
   "execution_count": 21,
   "metadata": {},
   "outputs": [
    {
     "data": {
      "text/plain": [
       "['BidID',\n",
       " 'Timestamp',\n",
       " 'Log Type',\n",
       " 'iPinYou ID',\n",
       " 'User-Agent',\n",
       " 'IP',\n",
       " 'Region',\n",
       " 'City',\n",
       " 'Ad Exchange',\n",
       " 'Domain',\n",
       " 'URL',\n",
       " 'Anonymous URL ID',\n",
       " 'Ad slot ID',\n",
       " 'Ad slot width',\n",
       " 'Ad slot height',\n",
       " 'Ad slot visibility',\n",
       " 'Ad slot format',\n",
       " 'Ad slot floor price',\n",
       " 'Creative ID',\n",
       " 'Bidding price',\n",
       " 'Paying price',\n",
       " 'Key page URL',\n",
       " 'Advertiser ID',\n",
       " 'User Tags']"
      ]
     },
     "execution_count": 21,
     "metadata": {},
     "output_type": "execute_result"
    }
   ],
   "source": [
    "# define columns\n",
    "ad_columns = ['BidID','Timestamp','Log Type','iPinYou ID','User-Agent','IP','Region','City','Ad Exchange','Domain','URL','Anonymous URL ID','Ad slot ID','Ad slot width','Ad slot height','Ad slot visibility','Ad slot format','Ad slot floor price','Creative ID','Bidding price','Paying price','Key page URL','Advertiser ID','User Tags']\n",
    "ad_columns"
   ]
  },
  {
   "cell_type": "markdown",
   "metadata": {},
   "source": [
    "Let's take the impression data and join it with the click data.  We'll use the BidID to match clicks and impressions.  We'll add a new prediction column called 'clicks'"
   ]
  },
  {
   "cell_type": "code",
   "execution_count": 23,
   "metadata": {},
   "outputs": [],
   "source": [
    "# read impression data\n",
    "df_imp = dd.read_csv('./data/training2nd/i*.txt',sep='\\t',header=0,names=ad_columns)\n",
    "# read click data\n",
    "#ddf_clicks = dd.read_csv('./data/training2nd/clk*.txt',sep='\\t',header=0,names=ad_columns)"
   ]
  },
  {
   "cell_type": "code",
   "execution_count": 5,
   "metadata": {},
   "outputs": [
    {
     "name": "stdout",
     "output_type": "stream",
     "text": [
      "A total of 12237142 impressions in the impression training dataset\n"
     ]
    }
   ],
   "source": [
    "print(f'A total of {len(ddf_imp)} impressions in the impression training dataset')"
   ]
  },
  {
   "cell_type": "markdown",
   "metadata": {},
   "source": [
    "Since there are multiple advertisers in this dataset, let's take just one of the ad Id's for our analysis.  One could imagine that you don't downsample here and include the 'advertiser ID'.  This ID corresponds to a Software Advertiser per - https://arxiv.org/pdf/1407.7073.pdf"
   ]
  },
  {
   "cell_type": "markdown",
   "metadata": {},
   "source": [
    "# resample to create new data"
   ]
  },
  {
   "cell_type": "code",
   "execution_count": 15,
   "metadata": {},
   "outputs": [],
   "source": [
    "n = 1000000"
   ]
  },
  {
   "cell_type": "code",
   "execution_count": 16,
   "metadata": {},
   "outputs": [],
   "source": [
    "fake = Faker()"
   ]
  },
  {
   "cell_type": "code",
   "execution_count": 17,
   "metadata": {},
   "outputs": [],
   "source": [
    "Faker.seed(54321)"
   ]
  },
  {
   "cell_type": "code",
   "execution_count": 26,
   "metadata": {},
   "outputs": [
    {
     "name": "stdout",
     "output_type": "stream",
     "text": [
      "CPU times: user 48 s, sys: 3.82 s, total: 51.8 s\n",
      "Wall time: 47.5 s\n"
     ]
    }
   ],
   "source": [
    "%%time\n",
    "ips = []\n",
    "uid = []\n",
    "for _ in range(n):\n",
    "    ips.append(fake.ipv4_public().split('.'))\n",
    "    uid.append(uuid.uuid1())"
   ]
  },
  {
   "cell_type": "code",
   "execution_count": 29,
   "metadata": {},
   "outputs": [],
   "source": [
    "drop_columns = ['BidID','Timestamp','Log Type','iPinYou ID','User-Agent','Ad Exchange','Domain','URL','Anonymous URL ID','Ad slot ID','Ad slot width','Ad slot height','Ad slot visibility','Ad slot format','Ad slot floor price','Creative ID','Bidding price','Paying price','Key page URL','Advertiser ID']"
   ]
  },
  {
   "cell_type": "code",
   "execution_count": 30,
   "metadata": {},
   "outputs": [],
   "source": [
    "df_imp = df_imp.drop(columns = drop_columns)"
   ]
  },
  {
   "cell_type": "code",
   "execution_count": 31,
   "metadata": {},
   "outputs": [
    {
     "data": {
      "text/html": [
       "<div><strong>Dask DataFrame Structure:</strong></div>\n",
       "<div>\n",
       "<style scoped>\n",
       "    .dataframe tbody tr th:only-of-type {\n",
       "        vertical-align: middle;\n",
       "    }\n",
       "\n",
       "    .dataframe tbody tr th {\n",
       "        vertical-align: top;\n",
       "    }\n",
       "\n",
       "    .dataframe thead th {\n",
       "        text-align: right;\n",
       "    }\n",
       "</style>\n",
       "<table border=\"1\" class=\"dataframe\">\n",
       "  <thead>\n",
       "    <tr style=\"text-align: right;\">\n",
       "      <th></th>\n",
       "      <th>IP</th>\n",
       "      <th>Region</th>\n",
       "      <th>City</th>\n",
       "      <th>User Tags</th>\n",
       "    </tr>\n",
       "    <tr>\n",
       "      <th>npartitions=69</th>\n",
       "      <th></th>\n",
       "      <th></th>\n",
       "      <th></th>\n",
       "      <th></th>\n",
       "    </tr>\n",
       "  </thead>\n",
       "  <tbody>\n",
       "    <tr>\n",
       "      <th></th>\n",
       "      <td>object</td>\n",
       "      <td>int64</td>\n",
       "      <td>int64</td>\n",
       "      <td>object</td>\n",
       "    </tr>\n",
       "    <tr>\n",
       "      <th></th>\n",
       "      <td>...</td>\n",
       "      <td>...</td>\n",
       "      <td>...</td>\n",
       "      <td>...</td>\n",
       "    </tr>\n",
       "    <tr>\n",
       "      <th>...</th>\n",
       "      <td>...</td>\n",
       "      <td>...</td>\n",
       "      <td>...</td>\n",
       "      <td>...</td>\n",
       "    </tr>\n",
       "    <tr>\n",
       "      <th></th>\n",
       "      <td>...</td>\n",
       "      <td>...</td>\n",
       "      <td>...</td>\n",
       "      <td>...</td>\n",
       "    </tr>\n",
       "    <tr>\n",
       "      <th></th>\n",
       "      <td>...</td>\n",
       "      <td>...</td>\n",
       "      <td>...</td>\n",
       "      <td>...</td>\n",
       "    </tr>\n",
       "  </tbody>\n",
       "</table>\n",
       "</div>\n",
       "<div>Dask Name: drop_by_shallow_copy, 139 tasks</div>"
      ],
      "text/plain": [
       "Dask DataFrame Structure:\n",
       "                    IP Region   City User Tags\n",
       "npartitions=69                                \n",
       "                object  int64  int64    object\n",
       "                   ...    ...    ...       ...\n",
       "...                ...    ...    ...       ...\n",
       "                   ...    ...    ...       ...\n",
       "                   ...    ...    ...       ...\n",
       "Dask Name: drop_by_shallow_copy, 139 tasks"
      ]
     },
     "execution_count": 31,
     "metadata": {},
     "output_type": "execute_result"
    }
   ],
   "source": [
    "df_imp"
   ]
  },
  {
   "cell_type": "code",
   "execution_count": 32,
   "metadata": {},
   "outputs": [],
   "source": [
    "def sample_categorical_data(df, num_samples):\n",
    "    newdata_df = pd.DataFrame()\n",
    "    for column in df.columns:\n",
    "        sample_column = df[column].sample(n=num_samples, replace=True).reset_index(drop=True)\n",
    "        newdata_df[column] = sample_column\n",
    "        \n",
    "    return newdata_df"
   ]
  },
  {
   "cell_type": "code",
   "execution_count": 33,
   "metadata": {},
   "outputs": [],
   "source": [
    "df_imp = df_imp.compute()"
   ]
  },
  {
   "cell_type": "code",
   "execution_count": 34,
   "metadata": {},
   "outputs": [
    {
     "name": "stdout",
     "output_type": "stream",
     "text": [
      "CPU times: user 993 ms, sys: 23.9 ms, total: 1.02 s\n",
      "Wall time: 1.01 s\n"
     ]
    }
   ],
   "source": [
    "%%time\n",
    "new_sample = sample_categorical_data(df_imp,n)"
   ]
  },
  {
   "cell_type": "code",
   "execution_count": 35,
   "metadata": {},
   "outputs": [
    {
     "data": {
      "text/html": [
       "<div>\n",
       "<style scoped>\n",
       "    .dataframe tbody tr th:only-of-type {\n",
       "        vertical-align: middle;\n",
       "    }\n",
       "\n",
       "    .dataframe tbody tr th {\n",
       "        vertical-align: top;\n",
       "    }\n",
       "\n",
       "    .dataframe thead th {\n",
       "        text-align: right;\n",
       "    }\n",
       "</style>\n",
       "<table border=\"1\" class=\"dataframe\">\n",
       "  <thead>\n",
       "    <tr style=\"text-align: right;\">\n",
       "      <th></th>\n",
       "      <th>IP</th>\n",
       "      <th>Region</th>\n",
       "      <th>City</th>\n",
       "      <th>User Tags</th>\n",
       "    </tr>\n",
       "  </thead>\n",
       "  <tbody>\n",
       "    <tr>\n",
       "      <th>0</th>\n",
       "      <td>61.178.155.*</td>\n",
       "      <td>27</td>\n",
       "      <td>1</td>\n",
       "      <td>10063,10093,10075,10006</td>\n",
       "    </tr>\n",
       "    <tr>\n",
       "      <th>1</th>\n",
       "      <td>27.186.224.*</td>\n",
       "      <td>15</td>\n",
       "      <td>165</td>\n",
       "      <td>10006</td>\n",
       "    </tr>\n",
       "    <tr>\n",
       "      <th>2</th>\n",
       "      <td>175.50.254.*</td>\n",
       "      <td>276</td>\n",
       "      <td>1</td>\n",
       "      <td>10057,10024,13403,10006,10063,10077,10111</td>\n",
       "    </tr>\n",
       "    <tr>\n",
       "      <th>3</th>\n",
       "      <td>111.79.219.*</td>\n",
       "      <td>393</td>\n",
       "      <td>68</td>\n",
       "      <td>10063,10083,10006,10059,10110</td>\n",
       "    </tr>\n",
       "    <tr>\n",
       "      <th>4</th>\n",
       "      <td>122.79.162.*</td>\n",
       "      <td>106</td>\n",
       "      <td>278</td>\n",
       "      <td>10006,10110</td>\n",
       "    </tr>\n",
       "    <tr>\n",
       "      <th>...</th>\n",
       "      <td>...</td>\n",
       "      <td>...</td>\n",
       "      <td>...</td>\n",
       "      <td>...</td>\n",
       "    </tr>\n",
       "    <tr>\n",
       "      <th>999995</th>\n",
       "      <td>118.207.238.*</td>\n",
       "      <td>80</td>\n",
       "      <td>290</td>\n",
       "      <td>10083,13403,10006,10110</td>\n",
       "    </tr>\n",
       "    <tr>\n",
       "      <th>999996</th>\n",
       "      <td>218.31.5.*</td>\n",
       "      <td>201</td>\n",
       "      <td>149</td>\n",
       "      <td>10006,10075,13042,10031,10063,10052,10076,10111</td>\n",
       "    </tr>\n",
       "    <tr>\n",
       "      <th>999997</th>\n",
       "      <td>183.131.26.*</td>\n",
       "      <td>1</td>\n",
       "      <td>85</td>\n",
       "      <td>NaN</td>\n",
       "    </tr>\n",
       "    <tr>\n",
       "      <th>999998</th>\n",
       "      <td>223.86.114.*</td>\n",
       "      <td>94</td>\n",
       "      <td>212</td>\n",
       "      <td>13403,13776,10083,10063,13866,10111</td>\n",
       "    </tr>\n",
       "    <tr>\n",
       "      <th>999999</th>\n",
       "      <td>182.40.208.*</td>\n",
       "      <td>94</td>\n",
       "      <td>7</td>\n",
       "      <td>10031,10006,10093,13866,13776,10075,10063,10111</td>\n",
       "    </tr>\n",
       "  </tbody>\n",
       "</table>\n",
       "<p>1000000 rows × 4 columns</p>\n",
       "</div>"
      ],
      "text/plain": [
       "                   IP  Region  City  \\\n",
       "0        61.178.155.*      27     1   \n",
       "1        27.186.224.*      15   165   \n",
       "2        175.50.254.*     276     1   \n",
       "3        111.79.219.*     393    68   \n",
       "4        122.79.162.*     106   278   \n",
       "...               ...     ...   ...   \n",
       "999995  118.207.238.*      80   290   \n",
       "999996     218.31.5.*     201   149   \n",
       "999997   183.131.26.*       1    85   \n",
       "999998   223.86.114.*      94   212   \n",
       "999999   182.40.208.*      94     7   \n",
       "\n",
       "                                              User Tags  \n",
       "0                               10063,10093,10075,10006  \n",
       "1                                                 10006  \n",
       "2             10057,10024,13403,10006,10063,10077,10111  \n",
       "3                         10063,10083,10006,10059,10110  \n",
       "4                                           10006,10110  \n",
       "...                                                 ...  \n",
       "999995                          10083,13403,10006,10110  \n",
       "999996  10006,10075,13042,10031,10063,10052,10076,10111  \n",
       "999997                                              NaN  \n",
       "999998              13403,13776,10083,10063,13866,10111  \n",
       "999999  10031,10006,10093,13866,13776,10075,10063,10111  \n",
       "\n",
       "[1000000 rows x 4 columns]"
      ]
     },
     "execution_count": 35,
     "metadata": {},
     "output_type": "execute_result"
    }
   ],
   "source": [
    "new_sample"
   ]
  },
  {
   "cell_type": "code",
   "execution_count": null,
   "metadata": {},
   "outputs": [],
   "source": []
  },
  {
   "cell_type": "code",
   "execution_count": null,
   "metadata": {},
   "outputs": [],
   "source": []
  },
  {
   "cell_type": "code",
   "execution_count": null,
   "metadata": {},
   "outputs": [],
   "source": []
  },
  {
   "cell_type": "code",
   "execution_count": null,
   "metadata": {},
   "outputs": [],
   "source": []
  },
  {
   "cell_type": "code",
   "execution_count": null,
   "metadata": {},
   "outputs": [],
   "source": [
    "%%time\n",
    "# Now, let's only get the impression data for a single Advertiser ID.  \n",
    "df = ddf_imp[ddf_imp['Advertiser ID']==3358].compute()"
   ]
  },
  {
   "cell_type": "markdown",
   "metadata": {
    "tags": []
   },
   "source": [
    "#### Save to intermediate parquet file"
   ]
  },
  {
   "cell_type": "code",
   "execution_count": null,
   "metadata": {},
   "outputs": [],
   "source": [
    "df.to_parquet('dftest.gzip',compression='gzip')"
   ]
  },
  {
   "cell_type": "code",
   "execution_count": null,
   "metadata": {},
   "outputs": [],
   "source": [
    "df = pd.read_parquet('dftest.gzip', engine='pyarrow')"
   ]
  },
  {
   "cell_type": "markdown",
   "metadata": {
    "tags": []
   },
   "source": [
    "## Feature Engineering"
   ]
  },
  {
   "cell_type": "code",
   "execution_count": null,
   "metadata": {},
   "outputs": [],
   "source": [
    "# convert timestamp\n",
    "df['Timestamp'] = pd.to_datetime(df['Timestamp'], format='%Y%m%d%H%M%S%f')"
   ]
  },
  {
   "cell_type": "code",
   "execution_count": null,
   "metadata": {},
   "outputs": [],
   "source": [
    "df"
   ]
  },
  {
   "cell_type": "markdown",
   "metadata": {},
   "source": [
    "Let's take the timestamp information and generate features from it.  "
   ]
  },
  {
   "cell_type": "code",
   "execution_count": null,
   "metadata": {},
   "outputs": [],
   "source": [
    "import re\n",
    "\n",
    "def make_date(df, date_field):\n",
    "    \"Make sure `df[date_field]` is of the right date type.\"\n",
    "    field_dtype = df[date_field].dtype\n",
    "    if isinstance(field_dtype, pd.core.dtypes.dtypes.DatetimeTZDtype):\n",
    "        field_dtype = np.datetime64\n",
    "    if not np.issubdtype(field_dtype, np.datetime64):\n",
    "        df[date_field] = pd.to_datetime(df[date_field], infer_datetime_format=True)\n",
    "\n",
    "def add_datepart(df, field_name, drop=True, time=False):\n",
    "    \"Helper function that adds columns relevant to a date in the column `field_name` of `df`.\"\n",
    "    make_date(df, field_name)\n",
    "    field = df[field_name]\n",
    "    prefix = re.sub('[Dd]ate$', '', field_name)\n",
    "    attr = ['Year', 'Month', 'Week', 'Day', 'Dayofweek', 'Dayofyear', 'Is_month_end', 'Is_month_start',\n",
    "            'Is_quarter_end', 'Is_quarter_start', 'Is_year_end', 'Is_year_start']\n",
    "    if time: attr = attr + ['Hour', 'Minute', 'Second']\n",
    "    # Pandas removed `dt.week` in v1.1.10\n",
    "    week = field.dt.isocalendar().week.astype(field.dt.day.dtype) if hasattr(field.dt, 'isocalendar') else field.dt.week\n",
    "    for n in attr: df[prefix + n] = getattr(field.dt, n.lower()) if n != 'Week' else week\n",
    "    mask = ~field.isna()\n",
    "    df[prefix + 'Elapsed'] = np.where(mask,field.values.astype(np.int64) // 10 ** 9,np.nan)\n",
    "    if drop: df.drop(field_name, axis=1, inplace=True)\n",
    "    return df"
   ]
  },
  {
   "cell_type": "code",
   "execution_count": null,
   "metadata": {},
   "outputs": [],
   "source": [
    "df = add_datepart(df, 'Timestamp', time=True)"
   ]
  },
  {
   "cell_type": "code",
   "execution_count": null,
   "metadata": {},
   "outputs": [],
   "source": [
    "# create one hot encoded features from the user tags\n",
    "_ = df['User Tags'].str.get_dummies(sep=',')"
   ]
  },
  {
   "cell_type": "code",
   "execution_count": null,
   "metadata": {},
   "outputs": [],
   "source": [
    "# add them back to the dataframe\n",
    "df = pd.concat([df, _], axis=1)"
   ]
  },
  {
   "cell_type": "code",
   "execution_count": null,
   "metadata": {},
   "outputs": [],
   "source": [
    "df.head()"
   ]
  },
  {
   "cell_type": "code",
   "execution_count": null,
   "metadata": {},
   "outputs": [],
   "source": [
    "# create 3 features from the IP address\n",
    "_ = df['IP'].str.split(pat='.',expand=True)"
   ]
  },
  {
   "cell_type": "code",
   "execution_count": null,
   "metadata": {},
   "outputs": [],
   "source": [
    "df[['ip1','ip2','ip3']]= _.rename(columns={0:'ip1',1:'ip2',2:'ip3'}).drop(columns=[3])"
   ]
  },
  {
   "cell_type": "code",
   "execution_count": null,
   "metadata": {},
   "outputs": [],
   "source": [
    "df.drop(columns=['IP','User Tags'],inplace=True)"
   ]
  },
  {
   "cell_type": "code",
   "execution_count": null,
   "metadata": {},
   "outputs": [],
   "source": [
    "df['ip1'] = df['ip1'].astype('int')\n",
    "df['ip2'] = df['ip2'].astype('int')\n",
    "df['ip3'] = df['ip3'].astype('int')"
   ]
  },
  {
   "cell_type": "code",
   "execution_count": null,
   "metadata": {},
   "outputs": [],
   "source": [
    "df"
   ]
  },
  {
   "cell_type": "markdown",
   "metadata": {
    "tags": []
   },
   "source": [
    "## Select an audience "
   ]
  },
  {
   "cell_type": "code",
   "execution_count": null,
   "metadata": {},
   "outputs": [],
   "source": [
    "fashionfemale = df[(df['10059']==1) & (df['10111']==1)]  # fashion and female"
   ]
  },
  {
   "cell_type": "code",
   "execution_count": null,
   "metadata": {},
   "outputs": [],
   "source": [
    "len(fashionfemale)"
   ]
  },
  {
   "cell_type": "code",
   "execution_count": null,
   "metadata": {},
   "outputs": [],
   "source": [
    "# get random sample of ids that are not in fashionfemale and are not repeated.  "
   ]
  },
  {
   "cell_type": "code",
   "execution_count": null,
   "metadata": {},
   "outputs": [],
   "source": [
    "not_it = df[~df['iPinYou ID'].isin(fashionfemale)].sample(len(fashionfemale),replace=False,random_state=54321)"
   ]
  },
  {
   "cell_type": "markdown",
   "metadata": {
    "tags": []
   },
   "source": [
    "keep:  Region, City, ip1, ip2, ip3, all customer attributes"
   ]
  },
  {
   "cell_type": "code",
   "execution_count": null,
   "metadata": {},
   "outputs": [],
   "source": [
    "fashionfemale = fashionfemale.drop(columns=['BidID', 'Log Type', 'iPinYou ID', 'User-Agent',\n",
    "       'Ad Exchange', 'Domain', 'URL', 'Anonymous URL ID', 'Ad slot ID',\n",
    "       'Ad slot width', 'Ad slot height', 'Ad slot visibility',\n",
    "       'Ad slot format', 'Ad slot floor price', 'Creative ID', 'Bidding price',\n",
    "       'Paying price', 'Key page URL', 'Advertiser ID', 'TimestampYear',\n",
    "       'TimestampMonth', 'TimestampWeek', 'TimestampDay', 'TimestampDayofweek',\n",
    "       'TimestampDayofyear', 'TimestampIs_month_end',\n",
    "       'TimestampIs_month_start', 'TimestampIs_quarter_end',\n",
    "       'TimestampIs_quarter_start', 'TimestampIs_year_end',\n",
    "       'TimestampIs_year_start', 'TimestampHour', 'TimestampMinute',\n",
    "       'TimestampSecond', 'TimestampElapsed'])"
   ]
  },
  {
   "cell_type": "code",
   "execution_count": null,
   "metadata": {
    "tags": []
   },
   "outputs": [],
   "source": [
    "fashionfemale.drop_duplicates(inplace=True)"
   ]
  },
  {
   "cell_type": "code",
   "execution_count": null,
   "metadata": {},
   "outputs": [],
   "source": [
    "fashionfemale['group'] = 1"
   ]
  },
  {
   "cell_type": "code",
   "execution_count": null,
   "metadata": {},
   "outputs": [],
   "source": [
    "fashionfemale"
   ]
  },
  {
   "cell_type": "code",
   "execution_count": null,
   "metadata": {},
   "outputs": [],
   "source": [
    "not_it = not_it.drop(columns=['BidID', 'Log Type', 'iPinYou ID', 'User-Agent',\n",
    "       'Ad Exchange', 'Domain', 'URL', 'Anonymous URL ID', 'Ad slot ID',\n",
    "       'Ad slot width', 'Ad slot height', 'Ad slot visibility',\n",
    "       'Ad slot format', 'Ad slot floor price', 'Creative ID', 'Bidding price',\n",
    "       'Paying price', 'Key page URL', 'Advertiser ID', 'TimestampYear',\n",
    "       'TimestampMonth', 'TimestampWeek', 'TimestampDay', 'TimestampDayofweek',\n",
    "       'TimestampDayofyear', 'TimestampIs_month_end',\n",
    "       'TimestampIs_month_start', 'TimestampIs_quarter_end',\n",
    "       'TimestampIs_quarter_start', 'TimestampIs_year_end',\n",
    "       'TimestampIs_year_start', 'TimestampHour', 'TimestampMinute',\n",
    "       'TimestampSecond', 'TimestampElapsed'])"
   ]
  },
  {
   "cell_type": "code",
   "execution_count": null,
   "metadata": {},
   "outputs": [],
   "source": [
    "not_it.drop_duplicates(inplace=True)"
   ]
  },
  {
   "cell_type": "code",
   "execution_count": null,
   "metadata": {},
   "outputs": [],
   "source": [
    "not_it['group'] = 0"
   ]
  },
  {
   "cell_type": "code",
   "execution_count": null,
   "metadata": {},
   "outputs": [],
   "source": [
    "fulldf = pd.concat([fashionfemale, not_it])"
   ]
  },
  {
   "cell_type": "code",
   "execution_count": null,
   "metadata": {},
   "outputs": [],
   "source": [
    "fulldf  "
   ]
  },
  {
   "cell_type": "code",
   "execution_count": null,
   "metadata": {},
   "outputs": [],
   "source": [
    "# move predictive variable to first column\n",
    "fulldf = fulldf[ ['group'] + [col for col in fulldf.columns if col != 'group'] ] "
   ]
  },
  {
   "cell_type": "code",
   "execution_count": null,
   "metadata": {},
   "outputs": [],
   "source": [
    "fulldf"
   ]
  },
  {
   "cell_type": "code",
   "execution_count": null,
   "metadata": {},
   "outputs": [],
   "source": [
    "fulldf.to_csv('usersegfull.csv',header=False, index=False)"
   ]
  },
  {
   "cell_type": "code",
   "execution_count": 49,
   "metadata": {},
   "outputs": [],
   "source": [
    "fulldf = pd.read_csv('usersegfull.csv',header=None)"
   ]
  },
  {
   "cell_type": "code",
   "execution_count": 50,
   "metadata": {},
   "outputs": [
    {
     "name": "stdout",
     "output_type": "stream",
     "text": [
      "<class 'pandas.core.frame.DataFrame'>\n",
      "RangeIndex: 216887 entries, 0 to 216886\n",
      "Data columns (total 49 columns):\n",
      " #   Column  Non-Null Count   Dtype\n",
      "---  ------  --------------   -----\n",
      " 0   0       216887 non-null  int64\n",
      " 1   1       216887 non-null  int64\n",
      " 2   2       216887 non-null  int64\n",
      " 3   3       216887 non-null  int64\n",
      " 4   4       216887 non-null  int64\n",
      " 5   5       216887 non-null  int64\n",
      " 6   6       216887 non-null  int64\n",
      " 7   7       216887 non-null  int64\n",
      " 8   8       216887 non-null  int64\n",
      " 9   9       216887 non-null  int64\n",
      " 10  10      216887 non-null  int64\n",
      " 11  11      216887 non-null  int64\n",
      " 12  12      216887 non-null  int64\n",
      " 13  13      216887 non-null  int64\n",
      " 14  14      216887 non-null  int64\n",
      " 15  15      216887 non-null  int64\n",
      " 16  16      216887 non-null  int64\n",
      " 17  17      216887 non-null  int64\n",
      " 18  18      216887 non-null  int64\n",
      " 19  19      216887 non-null  int64\n",
      " 20  20      216887 non-null  int64\n",
      " 21  21      216887 non-null  int64\n",
      " 22  22      216887 non-null  int64\n",
      " 23  23      216887 non-null  int64\n",
      " 24  24      216887 non-null  int64\n",
      " 25  25      216887 non-null  int64\n",
      " 26  26      216887 non-null  int64\n",
      " 27  27      216887 non-null  int64\n",
      " 28  28      216887 non-null  int64\n",
      " 29  29      216887 non-null  int64\n",
      " 30  30      216887 non-null  int64\n",
      " 31  31      216887 non-null  int64\n",
      " 32  32      216887 non-null  int64\n",
      " 33  33      216887 non-null  int64\n",
      " 34  34      216887 non-null  int64\n",
      " 35  35      216887 non-null  int64\n",
      " 36  36      216887 non-null  int64\n",
      " 37  37      216887 non-null  int64\n",
      " 38  38      216887 non-null  int64\n",
      " 39  39      216887 non-null  int64\n",
      " 40  40      216887 non-null  int64\n",
      " 41  41      216887 non-null  int64\n",
      " 42  42      216887 non-null  int64\n",
      " 43  43      216887 non-null  int64\n",
      " 44  44      216887 non-null  int64\n",
      " 45  45      216887 non-null  int64\n",
      " 46  46      216887 non-null  int64\n",
      " 47  47      216887 non-null  int64\n",
      " 48  48      216887 non-null  int64\n",
      "dtypes: int64(49)\n",
      "memory usage: 81.1 MB\n"
     ]
    }
   ],
   "source": [
    "fulldf.info()"
   ]
  },
  {
   "cell_type": "code",
   "execution_count": 15,
   "metadata": {},
   "outputs": [
    {
     "data": {
      "text/html": [
       "<div>\n",
       "<style scoped>\n",
       "    .dataframe tbody tr th:only-of-type {\n",
       "        vertical-align: middle;\n",
       "    }\n",
       "\n",
       "    .dataframe tbody tr th {\n",
       "        vertical-align: top;\n",
       "    }\n",
       "\n",
       "    .dataframe thead th {\n",
       "        text-align: right;\n",
       "    }\n",
       "</style>\n",
       "<table border=\"1\" class=\"dataframe\">\n",
       "  <thead>\n",
       "    <tr style=\"text-align: right;\">\n",
       "      <th></th>\n",
       "      <th>0</th>\n",
       "      <th>1</th>\n",
       "      <th>2</th>\n",
       "      <th>3</th>\n",
       "      <th>4</th>\n",
       "      <th>5</th>\n",
       "      <th>6</th>\n",
       "      <th>7</th>\n",
       "      <th>8</th>\n",
       "      <th>9</th>\n",
       "      <th>...</th>\n",
       "      <th>36</th>\n",
       "      <th>37</th>\n",
       "      <th>38</th>\n",
       "      <th>39</th>\n",
       "      <th>40</th>\n",
       "      <th>41</th>\n",
       "      <th>42</th>\n",
       "      <th>43</th>\n",
       "      <th>44</th>\n",
       "      <th>45</th>\n",
       "    </tr>\n",
       "  </thead>\n",
       "  <tbody>\n",
       "    <tr>\n",
       "      <th>100000</th>\n",
       "      <td>1</td>\n",
       "      <td>164</td>\n",
       "      <td>165</td>\n",
       "      <td>1</td>\n",
       "      <td>1</td>\n",
       "      <td>0</td>\n",
       "      <td>0</td>\n",
       "      <td>0</td>\n",
       "      <td>0</td>\n",
       "      <td>1</td>\n",
       "      <td>...</td>\n",
       "      <td>0</td>\n",
       "      <td>0</td>\n",
       "      <td>0</td>\n",
       "      <td>0</td>\n",
       "      <td>0</td>\n",
       "      <td>0</td>\n",
       "      <td>0</td>\n",
       "      <td>0</td>\n",
       "      <td>0</td>\n",
       "      <td>0</td>\n",
       "    </tr>\n",
       "    <tr>\n",
       "      <th>100001</th>\n",
       "      <td>1</td>\n",
       "      <td>55</td>\n",
       "      <td>56</td>\n",
       "      <td>0</td>\n",
       "      <td>0</td>\n",
       "      <td>0</td>\n",
       "      <td>0</td>\n",
       "      <td>0</td>\n",
       "      <td>0</td>\n",
       "      <td>1</td>\n",
       "      <td>...</td>\n",
       "      <td>0</td>\n",
       "      <td>0</td>\n",
       "      <td>0</td>\n",
       "      <td>0</td>\n",
       "      <td>0</td>\n",
       "      <td>0</td>\n",
       "      <td>0</td>\n",
       "      <td>0</td>\n",
       "      <td>0</td>\n",
       "      <td>0</td>\n",
       "    </tr>\n",
       "    <tr>\n",
       "      <th>100002</th>\n",
       "      <td>1</td>\n",
       "      <td>308</td>\n",
       "      <td>309</td>\n",
       "      <td>1</td>\n",
       "      <td>1</td>\n",
       "      <td>0</td>\n",
       "      <td>0</td>\n",
       "      <td>0</td>\n",
       "      <td>1</td>\n",
       "      <td>1</td>\n",
       "      <td>...</td>\n",
       "      <td>0</td>\n",
       "      <td>0</td>\n",
       "      <td>1</td>\n",
       "      <td>0</td>\n",
       "      <td>0</td>\n",
       "      <td>0</td>\n",
       "      <td>0</td>\n",
       "      <td>0</td>\n",
       "      <td>0</td>\n",
       "      <td>0</td>\n",
       "    </tr>\n",
       "    <tr>\n",
       "      <th>100003</th>\n",
       "      <td>1</td>\n",
       "      <td>333</td>\n",
       "      <td>334</td>\n",
       "      <td>1</td>\n",
       "      <td>1</td>\n",
       "      <td>0</td>\n",
       "      <td>0</td>\n",
       "      <td>0</td>\n",
       "      <td>0</td>\n",
       "      <td>1</td>\n",
       "      <td>...</td>\n",
       "      <td>0</td>\n",
       "      <td>0</td>\n",
       "      <td>0</td>\n",
       "      <td>0</td>\n",
       "      <td>0</td>\n",
       "      <td>1</td>\n",
       "      <td>0</td>\n",
       "      <td>0</td>\n",
       "      <td>0</td>\n",
       "      <td>0</td>\n",
       "    </tr>\n",
       "    <tr>\n",
       "      <th>100004</th>\n",
       "      <td>1</td>\n",
       "      <td>2</td>\n",
       "      <td>2</td>\n",
       "      <td>1</td>\n",
       "      <td>0</td>\n",
       "      <td>0</td>\n",
       "      <td>0</td>\n",
       "      <td>0</td>\n",
       "      <td>1</td>\n",
       "      <td>1</td>\n",
       "      <td>...</td>\n",
       "      <td>0</td>\n",
       "      <td>0</td>\n",
       "      <td>0</td>\n",
       "      <td>0</td>\n",
       "      <td>0</td>\n",
       "      <td>0</td>\n",
       "      <td>0</td>\n",
       "      <td>0</td>\n",
       "      <td>0</td>\n",
       "      <td>0</td>\n",
       "    </tr>\n",
       "    <tr>\n",
       "      <th>...</th>\n",
       "      <td>...</td>\n",
       "      <td>...</td>\n",
       "      <td>...</td>\n",
       "      <td>...</td>\n",
       "      <td>...</td>\n",
       "      <td>...</td>\n",
       "      <td>...</td>\n",
       "      <td>...</td>\n",
       "      <td>...</td>\n",
       "      <td>...</td>\n",
       "      <td>...</td>\n",
       "      <td>...</td>\n",
       "      <td>...</td>\n",
       "      <td>...</td>\n",
       "      <td>...</td>\n",
       "      <td>...</td>\n",
       "      <td>...</td>\n",
       "      <td>...</td>\n",
       "      <td>...</td>\n",
       "      <td>...</td>\n",
       "      <td>...</td>\n",
       "    </tr>\n",
       "    <tr>\n",
       "      <th>119995</th>\n",
       "      <td>0</td>\n",
       "      <td>124</td>\n",
       "      <td>129</td>\n",
       "      <td>0</td>\n",
       "      <td>0</td>\n",
       "      <td>0</td>\n",
       "      <td>0</td>\n",
       "      <td>0</td>\n",
       "      <td>1</td>\n",
       "      <td>0</td>\n",
       "      <td>...</td>\n",
       "      <td>0</td>\n",
       "      <td>0</td>\n",
       "      <td>0</td>\n",
       "      <td>1</td>\n",
       "      <td>0</td>\n",
       "      <td>1</td>\n",
       "      <td>0</td>\n",
       "      <td>0</td>\n",
       "      <td>0</td>\n",
       "      <td>0</td>\n",
       "    </tr>\n",
       "    <tr>\n",
       "      <th>119996</th>\n",
       "      <td>0</td>\n",
       "      <td>15</td>\n",
       "      <td>20</td>\n",
       "      <td>0</td>\n",
       "      <td>0</td>\n",
       "      <td>0</td>\n",
       "      <td>0</td>\n",
       "      <td>0</td>\n",
       "      <td>0</td>\n",
       "      <td>0</td>\n",
       "      <td>...</td>\n",
       "      <td>0</td>\n",
       "      <td>0</td>\n",
       "      <td>0</td>\n",
       "      <td>0</td>\n",
       "      <td>0</td>\n",
       "      <td>0</td>\n",
       "      <td>0</td>\n",
       "      <td>0</td>\n",
       "      <td>0</td>\n",
       "      <td>0</td>\n",
       "    </tr>\n",
       "    <tr>\n",
       "      <th>119997</th>\n",
       "      <td>0</td>\n",
       "      <td>164</td>\n",
       "      <td>170</td>\n",
       "      <td>1</td>\n",
       "      <td>0</td>\n",
       "      <td>0</td>\n",
       "      <td>0</td>\n",
       "      <td>0</td>\n",
       "      <td>0</td>\n",
       "      <td>0</td>\n",
       "      <td>...</td>\n",
       "      <td>0</td>\n",
       "      <td>0</td>\n",
       "      <td>0</td>\n",
       "      <td>0</td>\n",
       "      <td>0</td>\n",
       "      <td>0</td>\n",
       "      <td>0</td>\n",
       "      <td>0</td>\n",
       "      <td>0</td>\n",
       "      <td>0</td>\n",
       "    </tr>\n",
       "    <tr>\n",
       "      <th>119998</th>\n",
       "      <td>0</td>\n",
       "      <td>124</td>\n",
       "      <td>131</td>\n",
       "      <td>0</td>\n",
       "      <td>0</td>\n",
       "      <td>0</td>\n",
       "      <td>0</td>\n",
       "      <td>0</td>\n",
       "      <td>0</td>\n",
       "      <td>0</td>\n",
       "      <td>...</td>\n",
       "      <td>0</td>\n",
       "      <td>0</td>\n",
       "      <td>0</td>\n",
       "      <td>1</td>\n",
       "      <td>0</td>\n",
       "      <td>0</td>\n",
       "      <td>0</td>\n",
       "      <td>0</td>\n",
       "      <td>0</td>\n",
       "      <td>0</td>\n",
       "    </tr>\n",
       "    <tr>\n",
       "      <th>119999</th>\n",
       "      <td>0</td>\n",
       "      <td>216</td>\n",
       "      <td>237</td>\n",
       "      <td>1</td>\n",
       "      <td>0</td>\n",
       "      <td>0</td>\n",
       "      <td>0</td>\n",
       "      <td>0</td>\n",
       "      <td>0</td>\n",
       "      <td>0</td>\n",
       "      <td>...</td>\n",
       "      <td>0</td>\n",
       "      <td>0</td>\n",
       "      <td>0</td>\n",
       "      <td>0</td>\n",
       "      <td>0</td>\n",
       "      <td>0</td>\n",
       "      <td>0</td>\n",
       "      <td>0</td>\n",
       "      <td>0</td>\n",
       "      <td>0</td>\n",
       "    </tr>\n",
       "  </tbody>\n",
       "</table>\n",
       "<p>20000 rows × 46 columns</p>\n",
       "</div>"
      ],
      "text/plain": [
       "        0    1    2   3   4   5   6   7   8   9   ...  36  37  38  39  40  41  \\\n",
       "100000   1  164  165   1   1   0   0   0   0   1  ...   0   0   0   0   0   0   \n",
       "100001   1   55   56   0   0   0   0   0   0   1  ...   0   0   0   0   0   0   \n",
       "100002   1  308  309   1   1   0   0   0   1   1  ...   0   0   1   0   0   0   \n",
       "100003   1  333  334   1   1   0   0   0   0   1  ...   0   0   0   0   0   1   \n",
       "100004   1    2    2   1   0   0   0   0   1   1  ...   0   0   0   0   0   0   \n",
       "...     ..  ...  ...  ..  ..  ..  ..  ..  ..  ..  ...  ..  ..  ..  ..  ..  ..   \n",
       "119995   0  124  129   0   0   0   0   0   1   0  ...   0   0   0   1   0   1   \n",
       "119996   0   15   20   0   0   0   0   0   0   0  ...   0   0   0   0   0   0   \n",
       "119997   0  164  170   1   0   0   0   0   0   0  ...   0   0   0   0   0   0   \n",
       "119998   0  124  131   0   0   0   0   0   0   0  ...   0   0   0   1   0   0   \n",
       "119999   0  216  237   1   0   0   0   0   0   0  ...   0   0   0   0   0   0   \n",
       "\n",
       "        42  43  44  45  \n",
       "100000   0   0   0   0  \n",
       "100001   0   0   0   0  \n",
       "100002   0   0   0   0  \n",
       "100003   0   0   0   0  \n",
       "100004   0   0   0   0  \n",
       "...     ..  ..  ..  ..  \n",
       "119995   0   0   0   0  \n",
       "119996   0   0   0   0  \n",
       "119997   0   0   0   0  \n",
       "119998   0   0   0   0  \n",
       "119999   0   0   0   0  \n",
       "\n",
       "[20000 rows x 46 columns]"
      ]
     },
     "execution_count": 15,
     "metadata": {},
     "output_type": "execute_result"
    }
   ],
   "source": [
    "fulldf.iloc[100000:120000,0:46]"
   ]
  },
  {
   "cell_type": "code",
   "execution_count": 51,
   "metadata": {
    "tags": []
   },
   "outputs": [],
   "source": [
    "from imblearn.over_sampling import SMOTEN"
   ]
  },
  {
   "cell_type": "code",
   "execution_count": 52,
   "metadata": {},
   "outputs": [],
   "source": [
    "temp_ = fulldf.sample(10000,replace=False,random_state=54321)"
   ]
  },
  {
   "cell_type": "code",
   "execution_count": 53,
   "metadata": {},
   "outputs": [],
   "source": [
    "y = np.random.choice([0,1], size=len(temp_), p=[0.5, 0.5])"
   ]
  },
  {
   "cell_type": "code",
   "execution_count": 54,
   "metadata": {
    "tags": []
   },
   "outputs": [],
   "source": [
    "sampler = SMOTEN(sampling_strategy='all',random_state=54321,n_jobs=-1)"
   ]
  },
  {
   "cell_type": "code",
   "execution_count": 55,
   "metadata": {},
   "outputs": [
    {
     "name": "stderr",
     "output_type": "stream",
     "text": [
      "/opt/conda/lib/python3.7/site-packages/imblearn/over_sampling/_smote/base.py:862: FutureWarning: The parameter `n_jobs` has been deprecated in 0.10 and will be removed in 0.12. You can pass an nearest neighbors estimator where `n_jobs` is already set instead.\n",
      "  FutureWarning,\n"
     ]
    },
    {
     "name": "stdout",
     "output_type": "stream",
     "text": [
      "CPU times: user 44.1 s, sys: 1.68 s, total: 45.8 s\n",
      "Wall time: 45.8 s\n"
     ]
    }
   ],
   "source": [
    "%%time\n",
    "X_res, y_res = sampler.fit_resample(temp_.iloc[:,1:46], y)"
   ]
  },
  {
   "cell_type": "code",
   "execution_count": 56,
   "metadata": {},
   "outputs": [
    {
     "data": {
      "text/plain": [
       "20000"
      ]
     },
     "execution_count": 56,
     "metadata": {},
     "output_type": "execute_result"
    }
   ],
   "source": [
    "len(fulldf.iloc[100000:120000,1:46])"
   ]
  },
  {
   "cell_type": "code",
   "execution_count": 57,
   "metadata": {},
   "outputs": [
    {
     "data": {
      "text/plain": [
       "5108"
      ]
     },
     "execution_count": 57,
     "metadata": {},
     "output_type": "execute_result"
    }
   ],
   "source": [
    "y_res.sum()"
   ]
  },
  {
   "cell_type": "code",
   "execution_count": 58,
   "metadata": {},
   "outputs": [
    {
     "data": {
      "text/plain": [
       "10216"
      ]
     },
     "execution_count": 58,
     "metadata": {},
     "output_type": "execute_result"
    }
   ],
   "source": [
    "len(y_res)"
   ]
  },
  {
   "cell_type": "code",
   "execution_count": 25,
   "metadata": {},
   "outputs": [
    {
     "data": {
      "text/html": [
       "<div>\n",
       "<style scoped>\n",
       "    .dataframe tbody tr th:only-of-type {\n",
       "        vertical-align: middle;\n",
       "    }\n",
       "\n",
       "    .dataframe tbody tr th {\n",
       "        vertical-align: top;\n",
       "    }\n",
       "\n",
       "    .dataframe thead th {\n",
       "        text-align: right;\n",
       "    }\n",
       "</style>\n",
       "<table border=\"1\" class=\"dataframe\">\n",
       "  <thead>\n",
       "    <tr style=\"text-align: right;\">\n",
       "      <th></th>\n",
       "      <th>1</th>\n",
       "      <th>2</th>\n",
       "      <th>3</th>\n",
       "      <th>4</th>\n",
       "      <th>5</th>\n",
       "      <th>6</th>\n",
       "      <th>7</th>\n",
       "      <th>8</th>\n",
       "      <th>9</th>\n",
       "      <th>10</th>\n",
       "      <th>...</th>\n",
       "      <th>36</th>\n",
       "      <th>37</th>\n",
       "      <th>38</th>\n",
       "      <th>39</th>\n",
       "      <th>40</th>\n",
       "      <th>41</th>\n",
       "      <th>42</th>\n",
       "      <th>43</th>\n",
       "      <th>44</th>\n",
       "      <th>45</th>\n",
       "    </tr>\n",
       "  </thead>\n",
       "  <tbody>\n",
       "    <tr>\n",
       "      <th>0</th>\n",
       "      <td>164</td>\n",
       "      <td>165</td>\n",
       "      <td>1</td>\n",
       "      <td>1</td>\n",
       "      <td>0</td>\n",
       "      <td>0</td>\n",
       "      <td>0</td>\n",
       "      <td>0</td>\n",
       "      <td>1</td>\n",
       "      <td>1</td>\n",
       "      <td>...</td>\n",
       "      <td>0</td>\n",
       "      <td>0</td>\n",
       "      <td>0</td>\n",
       "      <td>0</td>\n",
       "      <td>0</td>\n",
       "      <td>0</td>\n",
       "      <td>0</td>\n",
       "      <td>0</td>\n",
       "      <td>0</td>\n",
       "      <td>0</td>\n",
       "    </tr>\n",
       "    <tr>\n",
       "      <th>1</th>\n",
       "      <td>55</td>\n",
       "      <td>56</td>\n",
       "      <td>0</td>\n",
       "      <td>0</td>\n",
       "      <td>0</td>\n",
       "      <td>0</td>\n",
       "      <td>0</td>\n",
       "      <td>0</td>\n",
       "      <td>1</td>\n",
       "      <td>0</td>\n",
       "      <td>...</td>\n",
       "      <td>0</td>\n",
       "      <td>0</td>\n",
       "      <td>0</td>\n",
       "      <td>0</td>\n",
       "      <td>0</td>\n",
       "      <td>0</td>\n",
       "      <td>0</td>\n",
       "      <td>0</td>\n",
       "      <td>0</td>\n",
       "      <td>0</td>\n",
       "    </tr>\n",
       "    <tr>\n",
       "      <th>2</th>\n",
       "      <td>308</td>\n",
       "      <td>309</td>\n",
       "      <td>1</td>\n",
       "      <td>1</td>\n",
       "      <td>0</td>\n",
       "      <td>0</td>\n",
       "      <td>0</td>\n",
       "      <td>1</td>\n",
       "      <td>1</td>\n",
       "      <td>1</td>\n",
       "      <td>...</td>\n",
       "      <td>0</td>\n",
       "      <td>0</td>\n",
       "      <td>1</td>\n",
       "      <td>0</td>\n",
       "      <td>0</td>\n",
       "      <td>0</td>\n",
       "      <td>0</td>\n",
       "      <td>0</td>\n",
       "      <td>0</td>\n",
       "      <td>0</td>\n",
       "    </tr>\n",
       "    <tr>\n",
       "      <th>3</th>\n",
       "      <td>333</td>\n",
       "      <td>334</td>\n",
       "      <td>1</td>\n",
       "      <td>1</td>\n",
       "      <td>0</td>\n",
       "      <td>0</td>\n",
       "      <td>0</td>\n",
       "      <td>0</td>\n",
       "      <td>1</td>\n",
       "      <td>1</td>\n",
       "      <td>...</td>\n",
       "      <td>0</td>\n",
       "      <td>0</td>\n",
       "      <td>0</td>\n",
       "      <td>0</td>\n",
       "      <td>0</td>\n",
       "      <td>1</td>\n",
       "      <td>0</td>\n",
       "      <td>0</td>\n",
       "      <td>0</td>\n",
       "      <td>0</td>\n",
       "    </tr>\n",
       "    <tr>\n",
       "      <th>4</th>\n",
       "      <td>2</td>\n",
       "      <td>2</td>\n",
       "      <td>1</td>\n",
       "      <td>0</td>\n",
       "      <td>0</td>\n",
       "      <td>0</td>\n",
       "      <td>0</td>\n",
       "      <td>1</td>\n",
       "      <td>1</td>\n",
       "      <td>1</td>\n",
       "      <td>...</td>\n",
       "      <td>0</td>\n",
       "      <td>0</td>\n",
       "      <td>0</td>\n",
       "      <td>0</td>\n",
       "      <td>0</td>\n",
       "      <td>0</td>\n",
       "      <td>0</td>\n",
       "      <td>0</td>\n",
       "      <td>0</td>\n",
       "      <td>0</td>\n",
       "    </tr>\n",
       "    <tr>\n",
       "      <th>...</th>\n",
       "      <td>...</td>\n",
       "      <td>...</td>\n",
       "      <td>...</td>\n",
       "      <td>...</td>\n",
       "      <td>...</td>\n",
       "      <td>...</td>\n",
       "      <td>...</td>\n",
       "      <td>...</td>\n",
       "      <td>...</td>\n",
       "      <td>...</td>\n",
       "      <td>...</td>\n",
       "      <td>...</td>\n",
       "      <td>...</td>\n",
       "      <td>...</td>\n",
       "      <td>...</td>\n",
       "      <td>...</td>\n",
       "      <td>...</td>\n",
       "      <td>...</td>\n",
       "      <td>...</td>\n",
       "      <td>...</td>\n",
       "      <td>...</td>\n",
       "    </tr>\n",
       "    <tr>\n",
       "      <th>34239</th>\n",
       "      <td>2</td>\n",
       "      <td>2</td>\n",
       "      <td>1</td>\n",
       "      <td>1</td>\n",
       "      <td>0</td>\n",
       "      <td>0</td>\n",
       "      <td>0</td>\n",
       "      <td>1</td>\n",
       "      <td>1</td>\n",
       "      <td>1</td>\n",
       "      <td>...</td>\n",
       "      <td>0</td>\n",
       "      <td>0</td>\n",
       "      <td>0</td>\n",
       "      <td>1</td>\n",
       "      <td>0</td>\n",
       "      <td>0</td>\n",
       "      <td>0</td>\n",
       "      <td>0</td>\n",
       "      <td>0</td>\n",
       "      <td>0</td>\n",
       "    </tr>\n",
       "    <tr>\n",
       "      <th>34240</th>\n",
       "      <td>80</td>\n",
       "      <td>82</td>\n",
       "      <td>1</td>\n",
       "      <td>1</td>\n",
       "      <td>0</td>\n",
       "      <td>0</td>\n",
       "      <td>1</td>\n",
       "      <td>0</td>\n",
       "      <td>1</td>\n",
       "      <td>1</td>\n",
       "      <td>...</td>\n",
       "      <td>0</td>\n",
       "      <td>0</td>\n",
       "      <td>0</td>\n",
       "      <td>0</td>\n",
       "      <td>0</td>\n",
       "      <td>0</td>\n",
       "      <td>0</td>\n",
       "      <td>0</td>\n",
       "      <td>0</td>\n",
       "      <td>0</td>\n",
       "    </tr>\n",
       "    <tr>\n",
       "      <th>34241</th>\n",
       "      <td>94</td>\n",
       "      <td>97</td>\n",
       "      <td>0</td>\n",
       "      <td>0</td>\n",
       "      <td>0</td>\n",
       "      <td>0</td>\n",
       "      <td>0</td>\n",
       "      <td>0</td>\n",
       "      <td>1</td>\n",
       "      <td>1</td>\n",
       "      <td>...</td>\n",
       "      <td>0</td>\n",
       "      <td>0</td>\n",
       "      <td>0</td>\n",
       "      <td>1</td>\n",
       "      <td>0</td>\n",
       "      <td>0</td>\n",
       "      <td>0</td>\n",
       "      <td>0</td>\n",
       "      <td>0</td>\n",
       "      <td>0</td>\n",
       "    </tr>\n",
       "    <tr>\n",
       "      <th>34242</th>\n",
       "      <td>183</td>\n",
       "      <td>79</td>\n",
       "      <td>1</td>\n",
       "      <td>1</td>\n",
       "      <td>0</td>\n",
       "      <td>0</td>\n",
       "      <td>0</td>\n",
       "      <td>1</td>\n",
       "      <td>1</td>\n",
       "      <td>1</td>\n",
       "      <td>...</td>\n",
       "      <td>0</td>\n",
       "      <td>0</td>\n",
       "      <td>1</td>\n",
       "      <td>1</td>\n",
       "      <td>0</td>\n",
       "      <td>0</td>\n",
       "      <td>0</td>\n",
       "      <td>0</td>\n",
       "      <td>0</td>\n",
       "      <td>0</td>\n",
       "    </tr>\n",
       "    <tr>\n",
       "      <th>34243</th>\n",
       "      <td>94</td>\n",
       "      <td>334</td>\n",
       "      <td>0</td>\n",
       "      <td>0</td>\n",
       "      <td>0</td>\n",
       "      <td>0</td>\n",
       "      <td>0</td>\n",
       "      <td>0</td>\n",
       "      <td>1</td>\n",
       "      <td>1</td>\n",
       "      <td>...</td>\n",
       "      <td>0</td>\n",
       "      <td>0</td>\n",
       "      <td>0</td>\n",
       "      <td>0</td>\n",
       "      <td>0</td>\n",
       "      <td>0</td>\n",
       "      <td>0</td>\n",
       "      <td>0</td>\n",
       "      <td>0</td>\n",
       "      <td>0</td>\n",
       "    </tr>\n",
       "  </tbody>\n",
       "</table>\n",
       "<p>34244 rows × 45 columns</p>\n",
       "</div>"
      ],
      "text/plain": [
       "        1    2   3   4   5   6   7   8   9   10  ...  36  37  38  39  40  41  \\\n",
       "0      164  165   1   1   0   0   0   0   1   1  ...   0   0   0   0   0   0   \n",
       "1       55   56   0   0   0   0   0   0   1   0  ...   0   0   0   0   0   0   \n",
       "2      308  309   1   1   0   0   0   1   1   1  ...   0   0   1   0   0   0   \n",
       "3      333  334   1   1   0   0   0   0   1   1  ...   0   0   0   0   0   1   \n",
       "4        2    2   1   0   0   0   0   1   1   1  ...   0   0   0   0   0   0   \n",
       "...    ...  ...  ..  ..  ..  ..  ..  ..  ..  ..  ...  ..  ..  ..  ..  ..  ..   \n",
       "34239    2    2   1   1   0   0   0   1   1   1  ...   0   0   0   1   0   0   \n",
       "34240   80   82   1   1   0   0   1   0   1   1  ...   0   0   0   0   0   0   \n",
       "34241   94   97   0   0   0   0   0   0   1   1  ...   0   0   0   1   0   0   \n",
       "34242  183   79   1   1   0   0   0   1   1   1  ...   0   0   1   1   0   0   \n",
       "34243   94  334   0   0   0   0   0   0   1   1  ...   0   0   0   0   0   0   \n",
       "\n",
       "       42  43  44  45  \n",
       "0       0   0   0   0  \n",
       "1       0   0   0   0  \n",
       "2       0   0   0   0  \n",
       "3       0   0   0   0  \n",
       "4       0   0   0   0  \n",
       "...    ..  ..  ..  ..  \n",
       "34239   0   0   0   0  \n",
       "34240   0   0   0   0  \n",
       "34241   0   0   0   0  \n",
       "34242   0   0   0   0  \n",
       "34243   0   0   0   0  \n",
       "\n",
       "[34244 rows x 45 columns]"
      ]
     },
     "execution_count": 25,
     "metadata": {},
     "output_type": "execute_result"
    }
   ],
   "source": [
    "X_res"
   ]
  },
  {
   "cell_type": "code",
   "execution_count": null,
   "metadata": {},
   "outputs": [],
   "source": [
    "# for ip addresses"
   ]
  },
  {
   "cell_type": "markdown",
   "metadata": {
    "tags": []
   },
   "source": [
    "# Backup"
   ]
  },
  {
   "cell_type": "code",
   "execution_count": null,
   "metadata": {},
   "outputs": [],
   "source": [
    "### STOP HERE!!!  ###  "
   ]
  },
  {
   "cell_type": "code",
   "execution_count": 364,
   "metadata": {},
   "outputs": [],
   "source": [
    "# TODO\n",
    "# consider one hot encoding Region and City\n"
   ]
  },
  {
   "cell_type": "code",
   "execution_count": 365,
   "metadata": {},
   "outputs": [],
   "source": [
    "df['clicks'] = df['clicks']*1"
   ]
  },
  {
   "cell_type": "code",
   "execution_count": 366,
   "metadata": {},
   "outputs": [],
   "source": [
    "df.drop(columns=['Advertiser ID', 'TimestampElapsed'],inplace=True)"
   ]
  },
  {
   "cell_type": "code",
   "execution_count": 367,
   "metadata": {},
   "outputs": [],
   "source": [
    "# move clicks to the first column in the dataframe\n",
    "clicks = df.pop('clicks')\n",
    "df.insert(0,'clicks',clicks)"
   ]
  },
  {
   "cell_type": "code",
   "execution_count": 368,
   "metadata": {},
   "outputs": [],
   "source": [
    "display(df)"
   ]
  },
  {
   "cell_type": "markdown",
   "metadata": {},
   "source": [
    "#### Save to intermediate parquet file"
   ]
  },
  {
   "cell_type": "code",
   "execution_count": 319,
   "metadata": {},
   "outputs": [],
   "source": [
    "df.to_parquet('dfclean.gzip',compression='gzip')"
   ]
  },
  {
   "cell_type": "code",
   "execution_count": 320,
   "metadata": {},
   "outputs": [],
   "source": [
    "df = pd.read_parquet('dfclean.gzip', engine='pyarrow')"
   ]
  },
  {
   "cell_type": "code",
   "execution_count": 381,
   "metadata": {},
   "outputs": [],
   "source": [
    "df = pd.read_parquet('dfclean.gzip')"
   ]
  },
  {
   "cell_type": "code",
   "execution_count": 385,
   "metadata": {},
   "outputs": [],
   "source": [
    "df = df.dropna()"
   ]
  },
  {
   "cell_type": "markdown",
   "metadata": {},
   "source": [
    "#### Save off test / train datasets, stratify on clicks"
   ]
  },
  {
   "cell_type": "code",
   "execution_count": 387,
   "metadata": {},
   "outputs": [],
   "source": [
    "train, test = train_test_split(df,test_size=0.1, random_state = 4321, stratify=df['clicks'])"
   ]
  },
  {
   "cell_type": "code",
   "execution_count": 374,
   "metadata": {},
   "outputs": [],
   "source": [
    "train = train*1"
   ]
  },
  {
   "cell_type": "code",
   "execution_count": 375,
   "metadata": {},
   "outputs": [],
   "source": [
    "test = test*1"
   ]
  },
  {
   "cell_type": "code",
   "execution_count": 388,
   "metadata": {},
   "outputs": [],
   "source": [
    "train.to_csv('train.csv',index=False,header=False, encoding='utf-8')"
   ]
  },
  {
   "cell_type": "code",
   "execution_count": 389,
   "metadata": {},
   "outputs": [],
   "source": [
    "test.to_csv('test.csv',index=False,header=False, encoding='utf-8')"
   ]
  },
  {
   "cell_type": "code",
   "execution_count": 390,
   "metadata": {},
   "outputs": [],
   "source": [
    "test.to_csv()"
   ]
  },
  {
   "cell_type": "code",
   "execution_count": 391,
   "metadata": {},
   "outputs": [],
   "source": [
    "p = pd.read_csv('test.csv')"
   ]
  },
  {
   "cell_type": "code",
   "execution_count": 324,
   "metadata": {},
   "outputs": [],
   "source": [
    "# collect python garbage\n",
    "gc.collect()"
   ]
  },
  {
   "cell_type": "markdown",
   "metadata": {},
   "source": [
    "## Synthetic Data Generation"
   ]
  },
  {
   "cell_type": "markdown",
   "metadata": {
    "tags": []
   },
   "source": [
    "When dealing with a mixed of continuous and categorical features, SMOTENC is the only method which can handle this case."
   ]
  },
  {
   "cell_type": "code",
   "execution_count": null,
   "metadata": {},
   "outputs": [],
   "source": [
    "# Oversample the minority class with SMOTENC\n",
    "categorical_features = [1,3,4,5]\n",
    "\n",
    "over = SMOTENC(categorical_features=categorical_features, random_state=54321, sampling_strategy='all', n_jobs=-1)\n",
    "\n",
    "# Fit and apply to the CMS dataset in a single transform\n",
    "X_smote, y_smote = over.fit_resample(X_train, y_train)\n"
   ]
  },
  {
   "cell_type": "markdown",
   "metadata": {
    "tags": []
   },
   "source": [
    "## Convert to tfrecords\n",
    "\n",
    "References:\n",
    "* https://www.srijan.net/resources/blog/building-a-high-performance-data-pipeline-with-tensorflow\n",
    "* https://keras.io/examples/keras_recipes/creating_tfrecords/\n"
   ]
  },
  {
   "cell_type": "code",
   "execution_count": 325,
   "metadata": {},
   "outputs": [],
   "source": [
    "import tensorflow as tf"
   ]
  },
  {
   "cell_type": "code",
   "execution_count": 326,
   "metadata": {},
   "outputs": [],
   "source": [
    "df = pd.read_parquet('dfclean.gzip', engine='pyarrow')"
   ]
  },
  {
   "cell_type": "code",
   "execution_count": 327,
   "metadata": {},
   "outputs": [],
   "source": [
    "train, test = train_test_split(df,test_size=0.1, random_state = 4321, stratify=df['clicks'])"
   ]
  },
  {
   "cell_type": "code",
   "execution_count": 328,
   "metadata": {},
   "outputs": [],
   "source": [
    "test"
   ]
  },
  {
   "cell_type": "code",
   "execution_count": 329,
   "metadata": {},
   "outputs": [],
   "source": [
    "def _float_feature(value):\n",
    "    \"\"\"Returns a float_list from a float / double.\"\"\"\n",
    "    return tf.train.Feature(float_list=tf.train.FloatList(value=[value]))\n",
    "\n",
    "def _int64_feature(value):\n",
    "    \"\"\"Returns an int64_list from a bool / enum / int / uint.\"\"\"\n",
    "    return tf.train.Feature(int64_list=tf.train.Int64List(value=[value]))"
   ]
  },
  {
   "cell_type": "code",
   "execution_count": 330,
   "metadata": {},
   "outputs": [],
   "source": [
    "def create_example(example):\n",
    "    \n",
    "    feature = {\n",
    "        'clicks': _int64_feature(example['clicks']),\n",
    "        'region': _int64_feature(example['Region']),\n",
    "        'city': _int64_feature(example['City']),\n",
    "        'adslotwidth': _int64_feature(example['Ad slot width']),\n",
    "        'adslotheight': _int64_feature(example['Ad slot height']),\n",
    "        'timestampyear': _int64_feature(example['TimestampYear']),\n",
    "        'timestampmonth': _int64_feature(example['TimestampMonth']),\n",
    "        'timestampweek': _int64_feature(example['TimestampWeek']),\n",
    "        'timestampday': _int64_feature(example['TimestampDay']),\n",
    "        'timestampdayofweek': _int64_feature(example['TimestampDayofweek']),\n",
    "        'timestampdayofyear': _int64_feature(example['TimestampDayofyear']),\n",
    "        'timestampis_month_end': _int64_feature(example['TimestampIs_month_end']),\n",
    "        'timestampis_month_start': _int64_feature(example['TimestampIs_month_start']),\n",
    "        'timestampis_quarter_end': _int64_feature(example['TimestampIs_quarter_end']),\n",
    "        'timestampis_quarter_start': _int64_feature(example['TimestampIs_quarter_start']),\n",
    "        'timestampis_year_end': _int64_feature(example['TimestampIs_year_end']),\n",
    "        'timestampis_year_start': _int64_feature(example['TimestampIs_year_start']),\n",
    "        'timestamphour': _int64_feature(example['TimestampHour']),\n",
    "        'timestampminute': _int64_feature(example['TimestampMinute']),\n",
    "        'timestampsecond': _int64_feature(example['TimestampSecond']),\n",
    "        '10006': _int64_feature(example['10006']),\n",
    "        '10024': _int64_feature(example['10024']),\n",
    "        '10031': _int64_feature(example['10031']),\n",
    "        '10048': _int64_feature(example['10048']),\n",
    "        '10052': _int64_feature(example['10052']),\n",
    "        '10057': _int64_feature(example['10057']),\n",
    "        '10059': _int64_feature(example['10059']),\n",
    "        '10063': _int64_feature(example['10063']),\n",
    "        '10067': _int64_feature(example['10067']),\n",
    "        '10074': _int64_feature(example['10074']),\n",
    "        '10075': _int64_feature(example['10075']),\n",
    "        '10076': _int64_feature(example['10076']),\n",
    "        '10077': _int64_feature(example['10077']),\n",
    "        '10079': _int64_feature(example['10079']),\n",
    "        '10083': _int64_feature(example['10083']),\n",
    "        '10093': _int64_feature(example['10093']),\n",
    "        '10102': _int64_feature(example['10102']),\n",
    "        '10110': _int64_feature(example['10110']),\n",
    "        '10111': _int64_feature(example['10111']),\n",
    "        '10684': _int64_feature(example['10684']),\n",
    "        '11092': _int64_feature(example['11092']),\n",
    "        '11278': _int64_feature(example['11278']),\n",
    "        '11379': _int64_feature(example['11379']),\n",
    "        '11423': _int64_feature(example['11423']),\n",
    "        '11512': _int64_feature(example['11512']),\n",
    "        '11576': _int64_feature(example['11576']),\n",
    "        '11632': _int64_feature(example['11632']),\n",
    "        '11680': _int64_feature(example['11680']),\n",
    "        '11724': _int64_feature(example['11724']),\n",
    "        '11944': _int64_feature(example['11944']),\n",
    "        '13042': _int64_feature(example['13042']),\n",
    "        '13403': _int64_feature(example['13403']),\n",
    "        '13496': _int64_feature(example['13496']),\n",
    "        '13678': _int64_feature(example['13678']),\n",
    "        '13776': _int64_feature(example['13776']),\n",
    "        '13800': _int64_feature(example['13800']),\n",
    "        '13866': _int64_feature(example['13866']),\n",
    "        '13874': _int64_feature(example['13874']),\n",
    "        '14273': _int64_feature(example['14273']),\n",
    "        '16593': _int64_feature(example['16593']),\n",
    "        '16617': _int64_feature(example['16617']),\n",
    "        '16661': _int64_feature(example['16661']),\n",
    "        '16706': _int64_feature(example['16706']),\n",
    "        'ip1': _int64_feature(example['ip1']),\n",
    "        'ip2': _int64_feature(example['ip2']),\n",
    "        'ip3': _int64_feature(example['ip3']),\n",
    "        'adex_1': _int64_feature(example['adex_1']),\n",
    "        'adex_2': _int64_feature(example['adex_2']),\n",
    "        'adex_3': _int64_feature(example['adex_3']),\n",
    "        'advis_0': _int64_feature(example['advis_0']),\n",
    "        'advis_1': _int64_feature(example['advis_1']),\n",
    "        'advis_2': _int64_feature(example['advis_2']),\n",
    "        'advis_255': _int64_feature(example['advis_255']),\n",
    "        'adfmt_0': _int64_feature(example['adfmt_0']),\n",
    "        'adfmt_1': _int64_feature(example['adfmt_1']),\n",
    "        'adfmt_5': _int64_feature(example['adfmt_5']),\n",
    "    }\n",
    "    \n",
    "    return tf.train.Example(features=tf.train.Features(feature=feature))\n"
   ]
  },
  {
   "cell_type": "markdown",
   "metadata": {},
   "source": [
    "#### Convert Training Data to TFRecords"
   ]
  },
  {
   "cell_type": "code",
   "execution_count": 335,
   "metadata": {},
   "outputs": [],
   "source": [
    "%%time\n",
    "\n",
    "num_tfrecords = 30\n",
    "split_df = np.array_split(train,num_tfrecords)\n",
    "options=tf.io.TFRecordOptions(compression_type='ZLIB')\n",
    "\n",
    "for i,temp_df in enumerate(split_df):\n",
    "    print(f'Writing TF Record {i}')\n",
    "    with tf.io.TFRecordWriter(f'./data/tfrecords/train/train_{i}-{num_tfrecords}.tfrec',options=options) as writer:\n",
    "        for q,r in temp_df.iterrows():\n",
    "            example = create_example(r)\n",
    "            writer.write(example.SerializeToString())\n",
    "            \n",
    "print(f'A total of {num_tfrecords} TFRecord files were created.')\n",
    "print(f'Each file contains {len(split_df[0])} records')"
   ]
  },
  {
   "cell_type": "code",
   "execution_count": 337,
   "metadata": {},
   "outputs": [],
   "source": [
    "!ls ./data/tfrecords/train -lh"
   ]
  },
  {
   "cell_type": "code",
   "execution_count": 334,
   "metadata": {},
   "outputs": [],
   "source": [
    "%%time\n",
    "\n",
    "num_tfrecords = 3\n",
    "split_df = np.array_split(test,num_tfrecords)\n",
    "options=tf.io.TFRecordOptions(compression_type='ZLIB')\n",
    "\n",
    "for i,temp_df in enumerate(split_df):\n",
    "    print(f'Writing TF Record {i}')\n",
    "    with tf.io.TFRecordWriter(f'./data/tfrecords/test/test_{i}-{num_tfrecords}.tfrec',options=options) as writer:\n",
    "        for q,r in temp_df.iterrows():\n",
    "            example = create_example(r)\n",
    "            writer.write(example.SerializeToString())\n",
    "            \n",
    "print(f'A total of {num_tfrecords} TFRecord files were created.')\n",
    "print(f'Each file contains {len(split_df[0])} records')"
   ]
  },
  {
   "cell_type": "code",
   "execution_count": 336,
   "metadata": {},
   "outputs": [],
   "source": [
    "!ls ./data/tfrecords/test -lh"
   ]
  },
  {
   "cell_type": "code",
   "execution_count": 227,
   "metadata": {},
   "outputs": [],
   "source": [
    "def decoder(example):\n",
    "    feature_description = {\n",
    "        'clicks': tf.io.FixedLenFeature([], tf.int64),\n",
    "        'region': tf.io.FixedLenFeature([], tf.int64),\n",
    "        'city': tf.io.FixedLenFeature([], tf.int64),\n",
    "        'adslotwidth': tf.io.FixedLenFeature([], tf.int64),\n",
    "        'adslotheight': tf.io.FixedLenFeature([], tf.int64),\n",
    "        'timestampyear': tf.io.FixedLenFeature([], tf.int64),\n",
    "        'timestampmonth': tf.io.FixedLenFeature([], tf.int64),\n",
    "        'timestampweek': tf.io.FixedLenFeature([], tf.int64),\n",
    "        'timestampday': tf.io.FixedLenFeature([], tf.int64),\n",
    "        'timestampdayofweek': tf.io.FixedLenFeature([], tf.int64),\n",
    "        'timestampdayofyear': tf.io.FixedLenFeature([], tf.int64),\n",
    "        'timestampis_month_end': tf.io.FixedLenFeature([], tf.int64),\n",
    "        'timestampis_month_start': tf.io.FixedLenFeature([], tf.int64),\n",
    "        'timestampis_quarter_end': tf.io.FixedLenFeature([], tf.int64),\n",
    "        'timestampis_quarter_start': tf.io.FixedLenFeature([], tf.int64),\n",
    "        'timestampis_year_end': tf.io.FixedLenFeature([], tf.int64),\n",
    "        'timestampis_year_start': tf.io.FixedLenFeature([], tf.int64),\n",
    "        'timestamphour': tf.io.FixedLenFeature([], tf.int64),\n",
    "        'timestampminute': tf.io.FixedLenFeature([], tf.int64),\n",
    "        'timestampsecond': tf.io.FixedLenFeature([], tf.int64),\n",
    "        '10006': tf.io.FixedLenFeature([], tf.int64),\n",
    "        '10024': tf.io.FixedLenFeature([], tf.int64),\n",
    "        '10031': tf.io.FixedLenFeature([], tf.int64),\n",
    "        '10048': tf.io.FixedLenFeature([], tf.int64),\n",
    "        '10052': tf.io.FixedLenFeature([], tf.int64),\n",
    "        '10057': tf.io.FixedLenFeature([], tf.int64),\n",
    "        '10059': tf.io.FixedLenFeature([], tf.int64),\n",
    "        '10063': tf.io.FixedLenFeature([], tf.int64),\n",
    "        '10067': tf.io.FixedLenFeature([], tf.int64),\n",
    "        '10074': tf.io.FixedLenFeature([], tf.int64),\n",
    "        '10075': tf.io.FixedLenFeature([], tf.int64),\n",
    "        '10076': tf.io.FixedLenFeature([], tf.int64),\n",
    "        '10077': tf.io.FixedLenFeature([], tf.int64),\n",
    "        '10079': tf.io.FixedLenFeature([], tf.int64),\n",
    "        '10083': tf.io.FixedLenFeature([], tf.int64),\n",
    "        '10093': tf.io.FixedLenFeature([], tf.int64),\n",
    "        '10102': tf.io.FixedLenFeature([], tf.int64),\n",
    "        '10110': tf.io.FixedLenFeature([], tf.int64),\n",
    "        '10111': tf.io.FixedLenFeature([], tf.int64),\n",
    "        '10684': tf.io.FixedLenFeature([], tf.int64),\n",
    "        '11092': tf.io.FixedLenFeature([], tf.int64),\n",
    "        '11278': tf.io.FixedLenFeature([], tf.int64),\n",
    "        '11379': tf.io.FixedLenFeature([], tf.int64),\n",
    "        '11423': tf.io.FixedLenFeature([], tf.int64),\n",
    "        '11512': tf.io.FixedLenFeature([], tf.int64),\n",
    "        '11576': tf.io.FixedLenFeature([], tf.int64),\n",
    "        '11632': tf.io.FixedLenFeature([], tf.int64),\n",
    "        '11680': tf.io.FixedLenFeature([], tf.int64),\n",
    "        '11724': tf.io.FixedLenFeature([], tf.int64),\n",
    "        '11944': tf.io.FixedLenFeature([], tf.int64),\n",
    "        '13042': tf.io.FixedLenFeature([], tf.int64),\n",
    "        '13403': tf.io.FixedLenFeature([], tf.int64),\n",
    "        '13496': tf.io.FixedLenFeature([], tf.int64),\n",
    "        '13678': tf.io.FixedLenFeature([], tf.int64),\n",
    "        '13776': tf.io.FixedLenFeature([], tf.int64),\n",
    "        '13800': tf.io.FixedLenFeature([], tf.int64),\n",
    "        '13866': tf.io.FixedLenFeature([], tf.int64),\n",
    "        '13874': tf.io.FixedLenFeature([], tf.int64),\n",
    "        '14273': tf.io.FixedLenFeature([], tf.int64),\n",
    "        '16593': tf.io.FixedLenFeature([], tf.int64),\n",
    "        '16617': tf.io.FixedLenFeature([], tf.int64),\n",
    "        '16661': tf.io.FixedLenFeature([], tf.int64),\n",
    "        '16706': tf.io.FixedLenFeature([], tf.int64),\n",
    "        'ip1': tf.io.FixedLenFeature([], tf.int64),\n",
    "        'ip2': tf.io.FixedLenFeature([], tf.int64),\n",
    "        'ip3': tf.io.FixedLenFeature([], tf.int64),\n",
    "        'adex_1': tf.io.FixedLenFeature([], tf.int64),\n",
    "        'adex_2': tf.io.FixedLenFeature([], tf.int64),\n",
    "        'adex_3': tf.io.FixedLenFeature([], tf.int64),\n",
    "        'advis_0': tf.io.FixedLenFeature([], tf.int64),\n",
    "        'advis_1': tf.io.FixedLenFeature([], tf.int64),\n",
    "        'advis_2': tf.io.FixedLenFeature([], tf.int64),\n",
    "        'advis_255': tf.io.FixedLenFeature([], tf.int64),\n",
    "        'adfmt_0': tf.io.FixedLenFeature([], tf.int64),\n",
    "        'adfmt_1': tf.io.FixedLenFeature([], tf.int64),\n",
    "        'adfmt_5': tf.io.FixedLenFeature([], tf.int64),\n",
    "    }\n",
    "    example = tf.io.parse_single_example(example, feature_description)\n",
    "    return example"
   ]
  },
  {
   "cell_type": "code",
   "execution_count": 238,
   "metadata": {},
   "outputs": [],
   "source": [
    "def prep(features):\n",
    "    label = features.pop('clicks')\n",
    "    return tf.stack([features[i] for i in features]), label"
   ]
  },
  {
   "cell_type": "code",
   "execution_count": 106,
   "metadata": {},
   "outputs": [],
   "source": [
    "def load_data(data_dir):\n",
    "    AUTOTUNE = tf.data.experimental.AUTOTUNE\n",
    "    filenames = tf.io.gfile.glob(f'{data_dir}/*.tfrec')\n",
    "    dataset = (\n",
    "        tf.data.TFRecordDataset(filenames, num_parallel_reads=AUTOTUNE, compression_type='ZLIB')\n",
    "        .map(decoder, num_parallel_calls=AUTOTUNE)\n",
    "        .map(prep, num_parallel_calls=AUTOTUNE)\n",
    "        .shuffle(args.batch_size * 10, seed=args.seed)\n",
    "        .batch(args.batch_size)\n",
    "        .prefetch(AUTOTUNE)\n",
    "    )\n",
    "\n",
    "    logger.info('Completed loading and preprocessing data.')\n",
    "    return dataset"
   ]
  },
  {
   "cell_type": "code",
   "execution_count": 60,
   "metadata": {},
   "outputs": [],
   "source": [
    "def get_dataset(filenames, batch_size):\n",
    "    ignore_order = tf.data.Options()\n",
    "    ignore_order.experimental_deterministic = False  # disable order, increase speed\n",
    "    dataset = (\n",
    "        tf.data.TFRecordDataset(filenames, num_parallel_reads=AUTOTUNE)\n",
    "        .with_options(ignore_order)\n",
    "        .map(decoder, num_parallel_calls=AUTOTUNE)\n",
    "        .shuffle(batch_size * 10)\n",
    "        .batch(batch_size)\n",
    "        .prefetch(AUTOTUNE)\n",
    "    )\n",
    "    \n",
    "    return dataset"
   ]
  },
  {
   "cell_type": "markdown",
   "metadata": {},
   "source": [
    "## convert to parquet"
   ]
  },
  {
   "cell_type": "code",
   "execution_count": 400,
   "metadata": {},
   "outputs": [],
   "source": [
    "import boto3"
   ]
  },
  {
   "cell_type": "markdown",
   "metadata": {},
   "source": [
    "#### TRAIN DATA"
   ]
  },
  {
   "cell_type": "code",
   "execution_count": 408,
   "metadata": {},
   "outputs": [],
   "source": [
    "%%time\n",
    "ath = boto3.client('athena')\n",
    "# create the table with raw data\n",
    "with open('train_data.ddl') as ddl:\n",
    "    ath.start_query_execution(\n",
    "        QueryString=ddl.read(),\n",
    "        ResultConfiguration={'OutputLocation': 's3://sagemaker-us-east-1-431615879134/ipenyou-xgboost/data/queries/train/'})"
   ]
  },
  {
   "cell_type": "code",
   "execution_count": 409,
   "metadata": {},
   "outputs": [],
   "source": [
    "%%time\n",
    "# convert to parquet\n",
    "with open('parquet_train.ddl') as ddl:\n",
    "    ath.start_query_execution(\n",
    "        QueryString=ddl.read(),\n",
    "        ResultConfiguration={'OutputLocation': 's3://sagemaker-us-east-1-431615879134/ipenyou-xgboost/data/queries/train/'})"
   ]
  },
  {
   "cell_type": "markdown",
   "metadata": {},
   "source": [
    "#### TEST DATA"
   ]
  },
  {
   "cell_type": "code",
   "execution_count": 406,
   "metadata": {},
   "outputs": [],
   "source": [
    "%%time\n",
    "ath = boto3.client('athena')\n",
    "# create the table with raw data\n",
    "with open('test_data.ddl') as ddl:\n",
    "    ath.start_query_execution(\n",
    "        QueryString=ddl.read(),\n",
    "        ResultConfiguration={'OutputLocation': 's3://sagemaker-us-east-1-431615879134/ipinyou-tf/queries/'})"
   ]
  },
  {
   "cell_type": "code",
   "execution_count": 407,
   "metadata": {},
   "outputs": [],
   "source": [
    "%%time\n",
    "# convert to parquet\n",
    "with open('parquet_test.ddl') as ddl:\n",
    "    ath.start_query_execution(\n",
    "        QueryString=ddl.read(),\n",
    "        ResultConfiguration={'OutputLocation': 's3://sagemaker-us-east-1-431615879134/ipinyou-tf/queries/'})"
   ]
  }
 ],
 "metadata": {
  "availableInstances": [
   {
    "_defaultOrder": 0,
    "_isFastLaunch": true,
    "category": "General purpose",
    "gpuNum": 0,
    "hideHardwareSpecs": false,
    "memoryGiB": 4,
    "name": "ml.t3.medium",
    "vcpuNum": 2
   },
   {
    "_defaultOrder": 1,
    "_isFastLaunch": false,
    "category": "General purpose",
    "gpuNum": 0,
    "hideHardwareSpecs": false,
    "memoryGiB": 8,
    "name": "ml.t3.large",
    "vcpuNum": 2
   },
   {
    "_defaultOrder": 2,
    "_isFastLaunch": false,
    "category": "General purpose",
    "gpuNum": 0,
    "hideHardwareSpecs": false,
    "memoryGiB": 16,
    "name": "ml.t3.xlarge",
    "vcpuNum": 4
   },
   {
    "_defaultOrder": 3,
    "_isFastLaunch": false,
    "category": "General purpose",
    "gpuNum": 0,
    "hideHardwareSpecs": false,
    "memoryGiB": 32,
    "name": "ml.t3.2xlarge",
    "vcpuNum": 8
   },
   {
    "_defaultOrder": 4,
    "_isFastLaunch": true,
    "category": "General purpose",
    "gpuNum": 0,
    "hideHardwareSpecs": false,
    "memoryGiB": 8,
    "name": "ml.m5.large",
    "vcpuNum": 2
   },
   {
    "_defaultOrder": 5,
    "_isFastLaunch": false,
    "category": "General purpose",
    "gpuNum": 0,
    "hideHardwareSpecs": false,
    "memoryGiB": 16,
    "name": "ml.m5.xlarge",
    "vcpuNum": 4
   },
   {
    "_defaultOrder": 6,
    "_isFastLaunch": false,
    "category": "General purpose",
    "gpuNum": 0,
    "hideHardwareSpecs": false,
    "memoryGiB": 32,
    "name": "ml.m5.2xlarge",
    "vcpuNum": 8
   },
   {
    "_defaultOrder": 7,
    "_isFastLaunch": false,
    "category": "General purpose",
    "gpuNum": 0,
    "hideHardwareSpecs": false,
    "memoryGiB": 64,
    "name": "ml.m5.4xlarge",
    "vcpuNum": 16
   },
   {
    "_defaultOrder": 8,
    "_isFastLaunch": false,
    "category": "General purpose",
    "gpuNum": 0,
    "hideHardwareSpecs": false,
    "memoryGiB": 128,
    "name": "ml.m5.8xlarge",
    "vcpuNum": 32
   },
   {
    "_defaultOrder": 9,
    "_isFastLaunch": false,
    "category": "General purpose",
    "gpuNum": 0,
    "hideHardwareSpecs": false,
    "memoryGiB": 192,
    "name": "ml.m5.12xlarge",
    "vcpuNum": 48
   },
   {
    "_defaultOrder": 10,
    "_isFastLaunch": false,
    "category": "General purpose",
    "gpuNum": 0,
    "hideHardwareSpecs": false,
    "memoryGiB": 256,
    "name": "ml.m5.16xlarge",
    "vcpuNum": 64
   },
   {
    "_defaultOrder": 11,
    "_isFastLaunch": false,
    "category": "General purpose",
    "gpuNum": 0,
    "hideHardwareSpecs": false,
    "memoryGiB": 384,
    "name": "ml.m5.24xlarge",
    "vcpuNum": 96
   },
   {
    "_defaultOrder": 12,
    "_isFastLaunch": false,
    "category": "General purpose",
    "gpuNum": 0,
    "hideHardwareSpecs": false,
    "memoryGiB": 8,
    "name": "ml.m5d.large",
    "vcpuNum": 2
   },
   {
    "_defaultOrder": 13,
    "_isFastLaunch": false,
    "category": "General purpose",
    "gpuNum": 0,
    "hideHardwareSpecs": false,
    "memoryGiB": 16,
    "name": "ml.m5d.xlarge",
    "vcpuNum": 4
   },
   {
    "_defaultOrder": 14,
    "_isFastLaunch": false,
    "category": "General purpose",
    "gpuNum": 0,
    "hideHardwareSpecs": false,
    "memoryGiB": 32,
    "name": "ml.m5d.2xlarge",
    "vcpuNum": 8
   },
   {
    "_defaultOrder": 15,
    "_isFastLaunch": false,
    "category": "General purpose",
    "gpuNum": 0,
    "hideHardwareSpecs": false,
    "memoryGiB": 64,
    "name": "ml.m5d.4xlarge",
    "vcpuNum": 16
   },
   {
    "_defaultOrder": 16,
    "_isFastLaunch": false,
    "category": "General purpose",
    "gpuNum": 0,
    "hideHardwareSpecs": false,
    "memoryGiB": 128,
    "name": "ml.m5d.8xlarge",
    "vcpuNum": 32
   },
   {
    "_defaultOrder": 17,
    "_isFastLaunch": false,
    "category": "General purpose",
    "gpuNum": 0,
    "hideHardwareSpecs": false,
    "memoryGiB": 192,
    "name": "ml.m5d.12xlarge",
    "vcpuNum": 48
   },
   {
    "_defaultOrder": 18,
    "_isFastLaunch": false,
    "category": "General purpose",
    "gpuNum": 0,
    "hideHardwareSpecs": false,
    "memoryGiB": 256,
    "name": "ml.m5d.16xlarge",
    "vcpuNum": 64
   },
   {
    "_defaultOrder": 19,
    "_isFastLaunch": false,
    "category": "General purpose",
    "gpuNum": 0,
    "hideHardwareSpecs": false,
    "memoryGiB": 384,
    "name": "ml.m5d.24xlarge",
    "vcpuNum": 96
   },
   {
    "_defaultOrder": 20,
    "_isFastLaunch": false,
    "category": "General purpose",
    "gpuNum": 0,
    "hideHardwareSpecs": true,
    "memoryGiB": 0,
    "name": "ml.geospatial.interactive",
    "supportedImageNames": [
     "sagemaker-geospatial-v1-0"
    ],
    "vcpuNum": 0
   },
   {
    "_defaultOrder": 21,
    "_isFastLaunch": true,
    "category": "Compute optimized",
    "gpuNum": 0,
    "hideHardwareSpecs": false,
    "memoryGiB": 4,
    "name": "ml.c5.large",
    "vcpuNum": 2
   },
   {
    "_defaultOrder": 22,
    "_isFastLaunch": false,
    "category": "Compute optimized",
    "gpuNum": 0,
    "hideHardwareSpecs": false,
    "memoryGiB": 8,
    "name": "ml.c5.xlarge",
    "vcpuNum": 4
   },
   {
    "_defaultOrder": 23,
    "_isFastLaunch": false,
    "category": "Compute optimized",
    "gpuNum": 0,
    "hideHardwareSpecs": false,
    "memoryGiB": 16,
    "name": "ml.c5.2xlarge",
    "vcpuNum": 8
   },
   {
    "_defaultOrder": 24,
    "_isFastLaunch": false,
    "category": "Compute optimized",
    "gpuNum": 0,
    "hideHardwareSpecs": false,
    "memoryGiB": 32,
    "name": "ml.c5.4xlarge",
    "vcpuNum": 16
   },
   {
    "_defaultOrder": 25,
    "_isFastLaunch": false,
    "category": "Compute optimized",
    "gpuNum": 0,
    "hideHardwareSpecs": false,
    "memoryGiB": 72,
    "name": "ml.c5.9xlarge",
    "vcpuNum": 36
   },
   {
    "_defaultOrder": 26,
    "_isFastLaunch": false,
    "category": "Compute optimized",
    "gpuNum": 0,
    "hideHardwareSpecs": false,
    "memoryGiB": 96,
    "name": "ml.c5.12xlarge",
    "vcpuNum": 48
   },
   {
    "_defaultOrder": 27,
    "_isFastLaunch": false,
    "category": "Compute optimized",
    "gpuNum": 0,
    "hideHardwareSpecs": false,
    "memoryGiB": 144,
    "name": "ml.c5.18xlarge",
    "vcpuNum": 72
   },
   {
    "_defaultOrder": 28,
    "_isFastLaunch": false,
    "category": "Compute optimized",
    "gpuNum": 0,
    "hideHardwareSpecs": false,
    "memoryGiB": 192,
    "name": "ml.c5.24xlarge",
    "vcpuNum": 96
   },
   {
    "_defaultOrder": 29,
    "_isFastLaunch": true,
    "category": "Accelerated computing",
    "gpuNum": 1,
    "hideHardwareSpecs": false,
    "memoryGiB": 16,
    "name": "ml.g4dn.xlarge",
    "vcpuNum": 4
   },
   {
    "_defaultOrder": 30,
    "_isFastLaunch": false,
    "category": "Accelerated computing",
    "gpuNum": 1,
    "hideHardwareSpecs": false,
    "memoryGiB": 32,
    "name": "ml.g4dn.2xlarge",
    "vcpuNum": 8
   },
   {
    "_defaultOrder": 31,
    "_isFastLaunch": false,
    "category": "Accelerated computing",
    "gpuNum": 1,
    "hideHardwareSpecs": false,
    "memoryGiB": 64,
    "name": "ml.g4dn.4xlarge",
    "vcpuNum": 16
   },
   {
    "_defaultOrder": 32,
    "_isFastLaunch": false,
    "category": "Accelerated computing",
    "gpuNum": 1,
    "hideHardwareSpecs": false,
    "memoryGiB": 128,
    "name": "ml.g4dn.8xlarge",
    "vcpuNum": 32
   },
   {
    "_defaultOrder": 33,
    "_isFastLaunch": false,
    "category": "Accelerated computing",
    "gpuNum": 4,
    "hideHardwareSpecs": false,
    "memoryGiB": 192,
    "name": "ml.g4dn.12xlarge",
    "vcpuNum": 48
   },
   {
    "_defaultOrder": 34,
    "_isFastLaunch": false,
    "category": "Accelerated computing",
    "gpuNum": 1,
    "hideHardwareSpecs": false,
    "memoryGiB": 256,
    "name": "ml.g4dn.16xlarge",
    "vcpuNum": 64
   },
   {
    "_defaultOrder": 35,
    "_isFastLaunch": false,
    "category": "Accelerated computing",
    "gpuNum": 1,
    "hideHardwareSpecs": false,
    "memoryGiB": 61,
    "name": "ml.p3.2xlarge",
    "vcpuNum": 8
   },
   {
    "_defaultOrder": 36,
    "_isFastLaunch": false,
    "category": "Accelerated computing",
    "gpuNum": 4,
    "hideHardwareSpecs": false,
    "memoryGiB": 244,
    "name": "ml.p3.8xlarge",
    "vcpuNum": 32
   },
   {
    "_defaultOrder": 37,
    "_isFastLaunch": false,
    "category": "Accelerated computing",
    "gpuNum": 8,
    "hideHardwareSpecs": false,
    "memoryGiB": 488,
    "name": "ml.p3.16xlarge",
    "vcpuNum": 64
   },
   {
    "_defaultOrder": 38,
    "_isFastLaunch": false,
    "category": "Accelerated computing",
    "gpuNum": 8,
    "hideHardwareSpecs": false,
    "memoryGiB": 768,
    "name": "ml.p3dn.24xlarge",
    "vcpuNum": 96
   },
   {
    "_defaultOrder": 39,
    "_isFastLaunch": false,
    "category": "Memory Optimized",
    "gpuNum": 0,
    "hideHardwareSpecs": false,
    "memoryGiB": 16,
    "name": "ml.r5.large",
    "vcpuNum": 2
   },
   {
    "_defaultOrder": 40,
    "_isFastLaunch": false,
    "category": "Memory Optimized",
    "gpuNum": 0,
    "hideHardwareSpecs": false,
    "memoryGiB": 32,
    "name": "ml.r5.xlarge",
    "vcpuNum": 4
   },
   {
    "_defaultOrder": 41,
    "_isFastLaunch": false,
    "category": "Memory Optimized",
    "gpuNum": 0,
    "hideHardwareSpecs": false,
    "memoryGiB": 64,
    "name": "ml.r5.2xlarge",
    "vcpuNum": 8
   },
   {
    "_defaultOrder": 42,
    "_isFastLaunch": false,
    "category": "Memory Optimized",
    "gpuNum": 0,
    "hideHardwareSpecs": false,
    "memoryGiB": 128,
    "name": "ml.r5.4xlarge",
    "vcpuNum": 16
   },
   {
    "_defaultOrder": 43,
    "_isFastLaunch": false,
    "category": "Memory Optimized",
    "gpuNum": 0,
    "hideHardwareSpecs": false,
    "memoryGiB": 256,
    "name": "ml.r5.8xlarge",
    "vcpuNum": 32
   },
   {
    "_defaultOrder": 44,
    "_isFastLaunch": false,
    "category": "Memory Optimized",
    "gpuNum": 0,
    "hideHardwareSpecs": false,
    "memoryGiB": 384,
    "name": "ml.r5.12xlarge",
    "vcpuNum": 48
   },
   {
    "_defaultOrder": 45,
    "_isFastLaunch": false,
    "category": "Memory Optimized",
    "gpuNum": 0,
    "hideHardwareSpecs": false,
    "memoryGiB": 512,
    "name": "ml.r5.16xlarge",
    "vcpuNum": 64
   },
   {
    "_defaultOrder": 46,
    "_isFastLaunch": false,
    "category": "Memory Optimized",
    "gpuNum": 0,
    "hideHardwareSpecs": false,
    "memoryGiB": 768,
    "name": "ml.r5.24xlarge",
    "vcpuNum": 96
   },
   {
    "_defaultOrder": 47,
    "_isFastLaunch": false,
    "category": "Accelerated computing",
    "gpuNum": 1,
    "hideHardwareSpecs": false,
    "memoryGiB": 16,
    "name": "ml.g5.xlarge",
    "vcpuNum": 4
   },
   {
    "_defaultOrder": 48,
    "_isFastLaunch": false,
    "category": "Accelerated computing",
    "gpuNum": 1,
    "hideHardwareSpecs": false,
    "memoryGiB": 32,
    "name": "ml.g5.2xlarge",
    "vcpuNum": 8
   },
   {
    "_defaultOrder": 49,
    "_isFastLaunch": false,
    "category": "Accelerated computing",
    "gpuNum": 1,
    "hideHardwareSpecs": false,
    "memoryGiB": 64,
    "name": "ml.g5.4xlarge",
    "vcpuNum": 16
   },
   {
    "_defaultOrder": 50,
    "_isFastLaunch": false,
    "category": "Accelerated computing",
    "gpuNum": 1,
    "hideHardwareSpecs": false,
    "memoryGiB": 128,
    "name": "ml.g5.8xlarge",
    "vcpuNum": 32
   },
   {
    "_defaultOrder": 51,
    "_isFastLaunch": false,
    "category": "Accelerated computing",
    "gpuNum": 1,
    "hideHardwareSpecs": false,
    "memoryGiB": 256,
    "name": "ml.g5.16xlarge",
    "vcpuNum": 64
   },
   {
    "_defaultOrder": 52,
    "_isFastLaunch": false,
    "category": "Accelerated computing",
    "gpuNum": 4,
    "hideHardwareSpecs": false,
    "memoryGiB": 192,
    "name": "ml.g5.12xlarge",
    "vcpuNum": 48
   },
   {
    "_defaultOrder": 53,
    "_isFastLaunch": false,
    "category": "Accelerated computing",
    "gpuNum": 4,
    "hideHardwareSpecs": false,
    "memoryGiB": 384,
    "name": "ml.g5.24xlarge",
    "vcpuNum": 96
   },
   {
    "_defaultOrder": 54,
    "_isFastLaunch": false,
    "category": "Accelerated computing",
    "gpuNum": 8,
    "hideHardwareSpecs": false,
    "memoryGiB": 768,
    "name": "ml.g5.48xlarge",
    "vcpuNum": 192
   },
   {
    "_defaultOrder": 55,
    "_isFastLaunch": false,
    "category": "Accelerated computing",
    "gpuNum": 8,
    "hideHardwareSpecs": false,
    "memoryGiB": 1152,
    "name": "ml.p4d.24xlarge",
    "vcpuNum": 96
   },
   {
    "_defaultOrder": 56,
    "_isFastLaunch": false,
    "category": "Accelerated computing",
    "gpuNum": 8,
    "hideHardwareSpecs": false,
    "memoryGiB": 1152,
    "name": "ml.p4de.24xlarge",
    "vcpuNum": 96
   }
  ],
  "kernelspec": {
   "display_name": "Python 3 (Data Science)",
   "language": "python",
   "name": "python3__SAGEMAKER_INTERNAL__arn:aws:sagemaker:us-east-1:081325390199:image/datascience-1.0"
  },
  "language_info": {
   "codemirror_mode": {
    "name": "ipython",
    "version": 3
   },
   "file_extension": ".py",
   "mimetype": "text/x-python",
   "name": "python",
   "nbconvert_exporter": "python",
   "pygments_lexer": "ipython3",
   "version": "3.7.10"
  }
 },
 "nbformat": 4,
 "nbformat_minor": 4
}
