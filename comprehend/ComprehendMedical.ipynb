{
 "cells": [
  {
   "cell_type": "code",
   "execution_count": 1,
   "metadata": {},
   "outputs": [],
   "source": [
    "# imports\n",
    "import boto3"
   ]
  },
  {
   "cell_type": "code",
   "execution_count": 10,
   "metadata": {},
   "outputs": [],
   "source": [
    "# Instantiate Boto3 SDK:\n",
    "client = boto3.client('comprehendmedical')"
   ]
  },
  {
   "cell_type": "code",
   "execution_count": 17,
   "metadata": {},
   "outputs": [
    {
     "name": "stdout",
     "output_type": "stream",
     "text": [
      "﻿\"Pt is 87 yo woman, highschool teacher with past medical history that includes\n",
      "   - status post cardiac catheterization in April 2019.\",She presents today with palpitations and chest pressure.,\"HPI : Sleeping trouble on present dosage of Clonidine. Severe Rash  on face and leg, slightly itchy  \",\"Meds : Vyvanse 50 mgs po at breakfast daily, \",            Clonidine 0.2 mgs -- 1 and 1 / 2 tabs po qhs ,\"HEENT : Boggy inferior turbinates, No oropharyngeal lesion \",Lungs : clear ,Heart : Regular rhythm ,Skin :  Mild erythematous eruption to hairline ,,Follow-up as scheduled\n",
      "\"Patient was a 38 year old male, arrived at the clinc with cold like syptms, no previous medical issues\",He states his feet have ached since he ran a marathon in december,,patient stated he was taking over the counter medication,,,,,,,\n"
     ]
    }
   ],
   "source": [
    "# read the file (CSV or TXT)\n",
    "#file_name = 'comp_medical_txt.txt'\n",
    "file_name = 'comp_medical_csv.csv'\n",
    "\n",
    "with open(file_name,encoding='utf-8') as f:\n",
    "    read_data = f.read()\n",
    "    \n",
    "print(read_data)"
   ]
  },
  {
   "cell_type": "code",
   "execution_count": 18,
   "metadata": {},
   "outputs": [
    {
     "name": "stdout",
     "output_type": "stream",
     "text": [
      "[{'Id': 32, 'BeginOffset': 8, 'EndOffset': 10, 'Score': 0.9972032308578491, 'Text': '87', 'Category': 'PROTECTED_HEALTH_INFORMATION', 'Type': 'AGE', 'Traits': []}, {'Id': 33, 'BeginOffset': 32, 'EndOffset': 39, 'Score': 0.2583288550376892, 'Text': 'teacher', 'Category': 'PROTECTED_HEALTH_INFORMATION', 'Type': 'PROFESSION', 'Traits': []}, {'Id': 37, 'BeginOffset': 85, 'EndOffset': 96, 'Score': 0.9886054396629333, 'Text': 'status post', 'Category': 'TIME_EXPRESSION', 'Type': 'TIME_TO_PROCEDURE_NAME', 'Traits': [], 'Attributes': [{'Type': 'PROCEDURE_NAME', 'Score': 0.8864812254905701, 'RelationshipScore': 0.9981934428215027, 'RelationshipType': 'OVERLAP', 'Id': 36, 'BeginOffset': 97, 'EndOffset': 120, 'Text': 'cardiac catheterization', 'Category': 'TEST_TREATMENT_PROCEDURE', 'Traits': []}]}, {'Id': 36, 'BeginOffset': 97, 'EndOffset': 120, 'Score': 0.8864812254905701, 'Text': 'cardiac catheterization', 'Category': 'TEST_TREATMENT_PROCEDURE', 'Type': 'PROCEDURE_NAME', 'Traits': []}, {'Id': 34, 'BeginOffset': 124, 'EndOffset': 135, 'Score': 0.9998680353164673, 'Text': 'April 2019.', 'Category': 'PROTECTED_HEALTH_INFORMATION', 'Type': 'DATE', 'Traits': []}, {'Id': 38, 'BeginOffset': 124, 'EndOffset': 135, 'Score': 0.9636760354042053, 'Text': 'April 2019.', 'Category': 'TIME_EXPRESSION', 'Type': 'TIME_TO_PROCEDURE_NAME', 'Traits': [], 'Attributes': [{'Type': 'PROCEDURE_NAME', 'Score': 0.8864812254905701, 'RelationshipScore': 0.987613320350647, 'RelationshipType': 'OVERLAP', 'Id': 36, 'BeginOffset': 97, 'EndOffset': 120, 'Text': 'cardiac catheterization', 'Category': 'TEST_TREATMENT_PROCEDURE', 'Traits': []}]}, {'Id': 39, 'BeginOffset': 150, 'EndOffset': 155, 'Score': 0.9996635913848877, 'Text': 'today', 'Category': 'TIME_EXPRESSION', 'Type': 'TIME_TO_DX_NAME', 'Traits': [], 'Attributes': [{'Type': 'DX_NAME', 'Score': 0.8430367112159729, 'RelationshipScore': 0.8476678133010864, 'RelationshipType': 'OVERLAP', 'Id': 22, 'BeginOffset': 178, 'EndOffset': 192, 'Text': 'chest pressure', 'Category': 'MEDICAL_CONDITION', 'Traits': [{'Name': 'SYMPTOM', 'Score': 0.897185206413269}]}]}, {'Id': 39, 'BeginOffset': 150, 'EndOffset': 155, 'Score': 0.9996635913848877, 'Text': 'today', 'Category': 'TIME_EXPRESSION', 'Type': 'TIME_TO_DX_NAME', 'Traits': [], 'Attributes': [{'Type': 'DX_NAME', 'Score': 0.9691763520240784, 'RelationshipScore': 0.7939181327819824, 'RelationshipType': 'OVERLAP', 'Id': 21, 'BeginOffset': 161, 'EndOffset': 173, 'Text': 'palpitations', 'Category': 'MEDICAL_CONDITION', 'Traits': [{'Name': 'SYMPTOM', 'Score': 0.749585747718811}]}]}, {'Id': 21, 'BeginOffset': 161, 'EndOffset': 173, 'Score': 0.9691763520240784, 'Text': 'palpitations', 'Category': 'MEDICAL_CONDITION', 'Type': 'DX_NAME', 'Traits': [{'Name': 'SYMPTOM', 'Score': 0.749585747718811}]}, {'Id': 0, 'BeginOffset': 178, 'EndOffset': 183, 'Score': 0.9598998427391052, 'Text': 'chest', 'Category': 'ANATOMY', 'Type': 'SYSTEM_ORGAN_SITE', 'Traits': []}, {'Id': 22, 'BeginOffset': 178, 'EndOffset': 192, 'Score': 0.8430367112159729, 'Text': 'chest pressure', 'Category': 'MEDICAL_CONDITION', 'Type': 'DX_NAME', 'Traits': [{'Name': 'SYMPTOM', 'Score': 0.897185206413269}]}, {'Id': 23, 'BeginOffset': 201, 'EndOffset': 217, 'Score': 0.8810610771179199, 'Text': 'Sleeping trouble', 'Category': 'MEDICAL_CONDITION', 'Type': 'DX_NAME', 'Traits': [{'Name': 'SYMPTOM', 'Score': 0.7448225617408752}]}, {'Id': 11, 'BeginOffset': 239, 'EndOffset': 248, 'Score': 0.9944306015968323, 'Text': 'Clonidine', 'Category': 'MEDICATION', 'Type': 'GENERIC_NAME', 'Traits': []}, {'Id': 24, 'BeginOffset': 257, 'EndOffset': 261, 'Score': 0.9958838820457458, 'Text': 'Rash', 'Category': 'MEDICAL_CONDITION', 'Type': 'DX_NAME', 'Traits': [{'Name': 'SYMPTOM', 'Score': 0.8316210508346558}], 'Attributes': [{'Type': 'SYSTEM_ORGAN_SITE', 'Score': 0.9924120306968689, 'RelationshipScore': 0.9173058867454529, 'RelationshipType': 'SYSTEM_ORGAN_SITE', 'Id': 1, 'BeginOffset': 266, 'EndOffset': 270, 'Text': 'face', 'Category': 'ANATOMY', 'Traits': []}, {'Type': 'SYSTEM_ORGAN_SITE', 'Score': 0.9958652257919312, 'RelationshipScore': 0.9791356921195984, 'RelationshipType': 'SYSTEM_ORGAN_SITE', 'Id': 2, 'BeginOffset': 275, 'EndOffset': 278, 'Text': 'leg', 'Category': 'ANATOMY', 'Traits': []}]}, {'Id': 1, 'BeginOffset': 266, 'EndOffset': 270, 'Score': 0.9924120306968689, 'Text': 'face', 'Category': 'ANATOMY', 'Type': 'SYSTEM_ORGAN_SITE', 'Traits': []}, {'Id': 2, 'BeginOffset': 275, 'EndOffset': 278, 'Score': 0.9958652257919312, 'Text': 'leg', 'Category': 'ANATOMY', 'Type': 'SYSTEM_ORGAN_SITE', 'Traits': []}, {'Id': 25, 'BeginOffset': 289, 'EndOffset': 294, 'Score': 0.8300652503967285, 'Text': 'itchy', 'Category': 'MEDICAL_CONDITION', 'Type': 'DX_NAME', 'Traits': [{'Name': 'SYMPTOM', 'Score': 0.6399030089378357}], 'Attributes': [{'Type': 'SYSTEM_ORGAN_SITE', 'Score': 0.9924120306968689, 'RelationshipScore': 0.5828500390052795, 'RelationshipType': 'SYSTEM_ORGAN_SITE', 'Id': 1, 'BeginOffset': 266, 'EndOffset': 270, 'Text': 'face', 'Category': 'ANATOMY', 'Traits': []}, {'Type': 'SYSTEM_ORGAN_SITE', 'Score': 0.9958652257919312, 'RelationshipScore': 0.6176241636276245, 'RelationshipType': 'SYSTEM_ORGAN_SITE', 'Id': 2, 'BeginOffset': 275, 'EndOffset': 278, 'Text': 'leg', 'Category': 'ANATOMY', 'Traits': []}]}, {'Id': 12, 'BeginOffset': 306, 'EndOffset': 313, 'Score': 0.9995747208595276, 'Text': 'Vyvanse', 'Category': 'MEDICATION', 'Type': 'BRAND_NAME', 'Traits': [], 'Attributes': [{'Type': 'DOSAGE', 'Score': 0.9936012625694275, 'RelationshipScore': 0.9998431205749512, 'RelationshipType': 'DOSAGE', 'Id': 13, 'BeginOffset': 314, 'EndOffset': 320, 'Text': '50 mgs', 'Category': 'MEDICATION', 'Traits': []}, {'Type': 'ROUTE_OR_MODE', 'Score': 0.9996639490127563, 'RelationshipScore': 0.9995025396347046, 'RelationshipType': 'ROUTE_OR_MODE', 'Id': 14, 'BeginOffset': 321, 'EndOffset': 323, 'Text': 'po', 'Category': 'MEDICATION', 'Traits': []}, {'Type': 'FREQUENCY', 'Score': 0.9847217202186584, 'RelationshipScore': 0.9999788999557495, 'RelationshipType': 'FREQUENCY', 'Id': 15, 'BeginOffset': 324, 'EndOffset': 342, 'Text': 'at breakfast daily', 'Category': 'MEDICATION', 'Traits': []}]}, {'Id': 16, 'BeginOffset': 358, 'EndOffset': 367, 'Score': 0.9980320334434509, 'Text': 'Clonidine', 'Category': 'MEDICATION', 'Type': 'GENERIC_NAME', 'Traits': [], 'Attributes': [{'Type': 'STRENGTH', 'Score': 0.7157334685325623, 'RelationshipScore': 0.999991774559021, 'RelationshipType': 'STRENGTH', 'Id': 17, 'BeginOffset': 368, 'EndOffset': 375, 'Text': '0.2 mgs', 'Category': 'MEDICATION', 'Traits': []}, {'Type': 'DOSAGE', 'Score': 0.7730098962783813, 'RelationshipScore': 0.9999914169311523, 'RelationshipType': 'DOSAGE', 'Id': 18, 'BeginOffset': 379, 'EndOffset': 395, 'Text': '1 and 1 / 2 tabs', 'Category': 'MEDICATION', 'Traits': []}, {'Type': 'ROUTE_OR_MODE', 'Score': 0.9968613386154175, 'RelationshipScore': 0.9999865293502808, 'RelationshipType': 'ROUTE_OR_MODE', 'Id': 19, 'BeginOffset': 396, 'EndOffset': 398, 'Text': 'po', 'Category': 'MEDICATION', 'Traits': []}, {'Type': 'FREQUENCY', 'Score': 0.9935240745544434, 'RelationshipScore': 0.999988317489624, 'RelationshipType': 'FREQUENCY', 'Id': 20, 'BeginOffset': 399, 'EndOffset': 402, 'Text': 'qhs', 'Category': 'MEDICATION', 'Traits': []}]}, {'Id': 3, 'BeginOffset': 405, 'EndOffset': 410, 'Score': 0.9822762608528137, 'Text': 'HEENT', 'Category': 'ANATOMY', 'Type': 'SYSTEM_ORGAN_SITE', 'Traits': []}, {'Id': 26, 'BeginOffset': 413, 'EndOffset': 438, 'Score': 0.8235827684402466, 'Text': 'Boggy inferior turbinates', 'Category': 'MEDICAL_CONDITION', 'Type': 'DX_NAME', 'Traits': [{'Name': 'SIGN', 'Score': 0.9011250138282776}], 'Attributes': [{'Type': 'SYSTEM_ORGAN_SITE', 'Score': 0.9822762608528137, 'RelationshipScore': 0.9989011287689209, 'RelationshipType': 'SYSTEM_ORGAN_SITE', 'Id': 3, 'BeginOffset': 405, 'EndOffset': 410, 'Text': 'HEENT', 'Category': 'ANATOMY', 'Traits': []}, {'Type': 'DIRECTION', 'Score': 0.8659605979919434, 'RelationshipScore': 0.8955364227294922, 'RelationshipType': 'DIRECTION', 'Id': 4, 'BeginOffset': 419, 'EndOffset': 427, 'Text': 'inferior', 'Category': 'ANATOMY', 'Traits': []}]}, {'Id': 5, 'BeginOffset': 428, 'EndOffset': 438, 'Score': 0.5975245833396912, 'Text': 'turbinates', 'Category': 'ANATOMY', 'Type': 'SYSTEM_ORGAN_SITE', 'Traits': []}, {'Id': 27, 'BeginOffset': 443, 'EndOffset': 463, 'Score': 0.9177946448326111, 'Text': 'oropharyngeal lesion', 'Category': 'MEDICAL_CONDITION', 'Type': 'DX_NAME', 'Traits': [{'Name': 'SIGN', 'Score': 0.9422442317008972}, {'Name': 'NEGATION', 'Score': 0.9501230716705322}], 'Attributes': [{'Type': 'SYSTEM_ORGAN_SITE', 'Score': 0.9822762608528137, 'RelationshipScore': 0.9993495345115662, 'RelationshipType': 'SYSTEM_ORGAN_SITE', 'Id': 3, 'BeginOffset': 405, 'EndOffset': 410, 'Text': 'HEENT', 'Category': 'ANATOMY', 'Traits': []}]}, {'Id': 6, 'BeginOffset': 466, 'EndOffset': 471, 'Score': 0.9986138343811035, 'Text': 'Lungs', 'Category': 'ANATOMY', 'Type': 'SYSTEM_ORGAN_SITE', 'Traits': []}, {'Id': 28, 'BeginOffset': 474, 'EndOffset': 479, 'Score': 0.8500982522964478, 'Text': 'clear', 'Category': 'MEDICAL_CONDITION', 'Type': 'DX_NAME', 'Traits': [{'Name': 'SIGN', 'Score': 0.8710736036300659}], 'Attributes': [{'Type': 'SYSTEM_ORGAN_SITE', 'Score': 0.9822762608528137, 'RelationshipScore': 0.9957147240638733, 'RelationshipType': 'SYSTEM_ORGAN_SITE', 'Id': 3, 'BeginOffset': 405, 'EndOffset': 410, 'Text': 'HEENT', 'Category': 'ANATOMY', 'Traits': []}, {'Type': 'SYSTEM_ORGAN_SITE', 'Score': 0.9986138343811035, 'RelationshipScore': 0.8217189908027649, 'RelationshipType': 'SYSTEM_ORGAN_SITE', 'Id': 6, 'BeginOffset': 466, 'EndOffset': 471, 'Text': 'Lungs', 'Category': 'ANATOMY', 'Traits': []}]}, {'Id': 7, 'BeginOffset': 481, 'EndOffset': 486, 'Score': 0.9974955916404724, 'Text': 'Heart', 'Category': 'ANATOMY', 'Type': 'SYSTEM_ORGAN_SITE', 'Traits': []}, {'Id': 29, 'BeginOffset': 489, 'EndOffset': 503, 'Score': 0.9084727168083191, 'Text': 'Regular rhythm', 'Category': 'MEDICAL_CONDITION', 'Type': 'DX_NAME', 'Traits': [{'Name': 'SIGN', 'Score': 0.913704514503479}], 'Attributes': [{'Type': 'SYSTEM_ORGAN_SITE', 'Score': 0.9822762608528137, 'RelationshipScore': 0.8963509798049927, 'RelationshipType': 'SYSTEM_ORGAN_SITE', 'Id': 3, 'BeginOffset': 405, 'EndOffset': 410, 'Text': 'HEENT', 'Category': 'ANATOMY', 'Traits': []}, {'Type': 'SYSTEM_ORGAN_SITE', 'Score': 0.9986138343811035, 'RelationshipScore': 0.5285891890525818, 'RelationshipType': 'SYSTEM_ORGAN_SITE', 'Id': 6, 'BeginOffset': 466, 'EndOffset': 471, 'Text': 'Lungs', 'Category': 'ANATOMY', 'Traits': []}, {'Type': 'SYSTEM_ORGAN_SITE', 'Score': 0.9974955916404724, 'RelationshipScore': 0.877039909362793, 'RelationshipType': 'SYSTEM_ORGAN_SITE', 'Id': 7, 'BeginOffset': 481, 'EndOffset': 486, 'Text': 'Heart', 'Category': 'ANATOMY', 'Traits': []}]}, {'Id': 8, 'BeginOffset': 505, 'EndOffset': 509, 'Score': 0.9969804883003235, 'Text': 'Skin', 'Category': 'ANATOMY', 'Type': 'SYSTEM_ORGAN_SITE', 'Traits': []}, {'Id': 30, 'BeginOffset': 518, 'EndOffset': 539, 'Score': 0.808557391166687, 'Text': 'erythematous eruption', 'Category': 'MEDICAL_CONDITION', 'Type': 'DX_NAME', 'Traits': [{'Name': 'SIGN', 'Score': 0.7312107682228088}], 'Attributes': [{'Type': 'SYSTEM_ORGAN_SITE', 'Score': 0.9822762608528137, 'RelationshipScore': 0.6145505309104919, 'RelationshipType': 'SYSTEM_ORGAN_SITE', 'Id': 3, 'BeginOffset': 405, 'EndOffset': 410, 'Text': 'HEENT', 'Category': 'ANATOMY', 'Traits': []}, {'Type': 'SYSTEM_ORGAN_SITE', 'Score': 0.9969804883003235, 'RelationshipScore': 0.9078207612037659, 'RelationshipType': 'SYSTEM_ORGAN_SITE', 'Id': 8, 'BeginOffset': 505, 'EndOffset': 509, 'Text': 'Skin', 'Category': 'ANATOMY', 'Traits': []}, {'Type': 'SYSTEM_ORGAN_SITE', 'Score': 0.57772296667099, 'RelationshipScore': 0.9998582601547241, 'RelationshipType': 'SYSTEM_ORGAN_SITE', 'Id': 9, 'BeginOffset': 543, 'EndOffset': 551, 'Text': 'hairline', 'Category': 'ANATOMY', 'Traits': []}]}, {'Id': 9, 'BeginOffset': 543, 'EndOffset': 551, 'Score': 0.57772296667099, 'Text': 'hairline', 'Category': 'ANATOMY', 'Type': 'SYSTEM_ORGAN_SITE', 'Traits': []}, {'Id': 35, 'BeginOffset': 592, 'EndOffset': 594, 'Score': 0.9999245405197144, 'Text': '38', 'Category': 'PROTECTED_HEALTH_INFORMATION', 'Type': 'AGE', 'Traits': []}, {'Id': 31, 'BeginOffset': 636, 'EndOffset': 652, 'Score': 0.6826989054679871, 'Text': 'cold like syptms', 'Category': 'MEDICAL_CONDITION', 'Type': 'DX_NAME', 'Traits': [{'Name': 'SIGN', 'Score': 0.5540435314178467}, {'Name': 'SYMPTOM', 'Score': 0.5609950423240662}], 'Attributes': [{'Type': 'SYSTEM_ORGAN_SITE', 'Score': 0.9969804883003235, 'RelationshipScore': 0.7401914596557617, 'RelationshipType': 'SYSTEM_ORGAN_SITE', 'Id': 8, 'BeginOffset': 505, 'EndOffset': 509, 'Text': 'Skin', 'Category': 'ANATOMY', 'Traits': []}]}, {'Id': 10, 'BeginOffset': 696, 'EndOffset': 700, 'Score': 0.8911823630332947, 'Text': 'feet', 'Category': 'ANATOMY', 'Type': 'SYSTEM_ORGAN_SITE', 'Traits': []}]\n"
     ]
    }
   ],
   "source": [
    "# call comprehend medical sync\n",
    "response = client.detect_entities_v2(\n",
    "    Text=read_data\n",
    ")\n",
    "\n",
    "print(response['Entities'])"
   ]
  },
  {
   "cell_type": "code",
   "execution_count": 20,
   "metadata": {},
   "outputs": [
    {
     "name": "stdout",
     "output_type": "stream",
     "text": [
      "87 - PROTECTED_HEALTH_INFORMATION - AGE\n",
      "teacher - PROTECTED_HEALTH_INFORMATION - PROFESSION\n",
      "status post - TIME_EXPRESSION - TIME_TO_PROCEDURE_NAME\n",
      "cardiac catheterization - TEST_TREATMENT_PROCEDURE - PROCEDURE_NAME\n",
      "April 2019. - PROTECTED_HEALTH_INFORMATION - DATE\n",
      "April 2019. - TIME_EXPRESSION - TIME_TO_PROCEDURE_NAME\n",
      "today - TIME_EXPRESSION - TIME_TO_DX_NAME\n",
      "today - TIME_EXPRESSION - TIME_TO_DX_NAME\n",
      "palpitations - MEDICAL_CONDITION - DX_NAME\n",
      "chest - ANATOMY - SYSTEM_ORGAN_SITE\n",
      "chest pressure - MEDICAL_CONDITION - DX_NAME\n",
      "Sleeping trouble - MEDICAL_CONDITION - DX_NAME\n",
      "Clonidine - MEDICATION - GENERIC_NAME\n",
      "Rash - MEDICAL_CONDITION - DX_NAME\n",
      "face - ANATOMY - SYSTEM_ORGAN_SITE\n",
      "leg - ANATOMY - SYSTEM_ORGAN_SITE\n",
      "itchy - MEDICAL_CONDITION - DX_NAME\n",
      "Vyvanse - MEDICATION - BRAND_NAME\n",
      "Clonidine - MEDICATION - GENERIC_NAME\n",
      "HEENT - ANATOMY - SYSTEM_ORGAN_SITE\n",
      "Boggy inferior turbinates - MEDICAL_CONDITION - DX_NAME\n",
      "turbinates - ANATOMY - SYSTEM_ORGAN_SITE\n",
      "oropharyngeal lesion - MEDICAL_CONDITION - DX_NAME\n",
      "Lungs - ANATOMY - SYSTEM_ORGAN_SITE\n",
      "clear - MEDICAL_CONDITION - DX_NAME\n",
      "Heart - ANATOMY - SYSTEM_ORGAN_SITE\n",
      "Regular rhythm - MEDICAL_CONDITION - DX_NAME\n",
      "Skin - ANATOMY - SYSTEM_ORGAN_SITE\n",
      "erythematous eruption - MEDICAL_CONDITION - DX_NAME\n",
      "hairline - ANATOMY - SYSTEM_ORGAN_SITE\n",
      "38 - PROTECTED_HEALTH_INFORMATION - AGE\n",
      "cold like syptms - MEDICAL_CONDITION - DX_NAME\n",
      "feet - ANATOMY - SYSTEM_ORGAN_SITE\n"
     ]
    }
   ],
   "source": [
    "for e in response['Entities']:\n",
    "    print(e['Text'],'-',e['Category'],'-',e['Type'])"
   ]
  }
 ],
 "metadata": {
  "kernelspec": {
   "display_name": "conda_python3",
   "language": "python",
   "name": "conda_python3"
  },
  "language_info": {
   "codemirror_mode": {
    "name": "ipython",
    "version": 3
   },
   "file_extension": ".py",
   "mimetype": "text/x-python",
   "name": "python",
   "nbconvert_exporter": "python",
   "pygments_lexer": "ipython3",
   "version": "3.6.10"
  }
 },
 "nbformat": 4,
 "nbformat_minor": 4
}
