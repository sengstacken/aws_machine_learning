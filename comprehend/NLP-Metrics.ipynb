{
 "cells": [
  {
   "cell_type": "markdown",
   "metadata": {},
   "source": [
    "# NLP Metrics\n",
    "\n",
    "This notebook provides an overview of common evaluation metrics used for Natural Language Processing (NLP).  These metrics can be used for both optimization objective function or objective comparison between algorithms.\n",
    "\n",
    "Aaron Sengstacken - 7.7.2020"
   ]
  },
  {
   "cell_type": "markdown",
   "metadata": {},
   "source": [
    "## Word Error Rate (WER)\n",
    "\n",
    "The Word Error Rate is one way to measure performance of an ASR. It compares a reference text to a hypothesis text and is defined like this:\n",
    "\n",
    "\\begin{equation*}\n",
    "WER = \\frac{(S+D+I)}{N}\n",
    "\\end{equation*}\n",
    "\n",
    "where\n",
    "\n",
    "- S is the number of substitutions\n",
    "- D is the number of deletions\n",
    "- I is the number of insertions and\n",
    "- N is the number of words in the reference\n",
    "\n",
    "Many times the accuracy of speech recognition systems is evaluated using the word accuracy (WAcc).  Word accuracy is defined as:\n",
    "\n",
    "\\begin{equation*}\n",
    "WAcc = 1 - WER\n",
    "\\end{equation*}\n",
    "\n",
    "Note that WER can be greater than 1.0 (values closer to zero indicate better performance), and therefore WAcc can be less than 0.0.\n"
   ]
  },
  {
   "cell_type": "code",
   "execution_count": null,
   "metadata": {},
   "outputs": [],
   "source": []
  },
  {
   "cell_type": "code",
   "execution_count": null,
   "metadata": {},
   "outputs": [],
   "source": []
  },
  {
   "cell_type": "markdown",
   "metadata": {},
   "source": [
    "## Bilingual Evaluation Understudy (BLEU)"
   ]
  },
  {
   "cell_type": "code",
   "execution_count": null,
   "metadata": {},
   "outputs": [],
   "source": []
  },
  {
   "cell_type": "code",
   "execution_count": null,
   "metadata": {},
   "outputs": [],
   "source": []
  }
 ],
 "metadata": {
  "kernelspec": {
   "display_name": "conda_python3",
   "language": "python",
   "name": "conda_python3"
  },
  "language_info": {
   "codemirror_mode": {
    "name": "ipython",
    "version": 3
   },
   "file_extension": ".py",
   "mimetype": "text/x-python",
   "name": "python",
   "nbconvert_exporter": "python",
   "pygments_lexer": "ipython3",
   "version": "3.6.10"
  }
 },
 "nbformat": 4,
 "nbformat_minor": 4
}
