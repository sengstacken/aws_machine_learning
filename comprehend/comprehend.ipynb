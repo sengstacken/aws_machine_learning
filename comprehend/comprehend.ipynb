{
 "cells": [
  {
   "cell_type": "code",
   "execution_count": 1,
   "metadata": {},
   "outputs": [],
   "source": [
    "import boto3\n",
    "import json"
   ]
  },
  {
   "cell_type": "code",
   "execution_count": 2,
   "metadata": {},
   "outputs": [],
   "source": [
    "text = \"One night - it was on the twentieth of March, 1888 — I was returning from a journey to a patient (for I had now returned to civil practice), when my way led me through Baker Street. As I passed the well-remembered door, which must always be associated in my mind with my wooing, and with the dark incidents of the Study in Scarlet, I was seized with a keen desire to see Holmes again, and to know how he was employing his extraordinary powers. His rooms were brilliantly lit, and, even as I looked up, I saw his tall, spare figure pass twice in a dark silhouette against the blind. He was pacing the room swiftly, eagerly, with his head sunk upon his chest and his hands clasped behind him. To me, who knew his every mood and habit, his attitude and manner told their own story. He was at work again. He had risen out of his drug-created dreams and was hot upon the scent of some new problem. I rang the bell and was shown up to the chamber which had formerly been in part my own.\""
   ]
  },
  {
   "cell_type": "code",
   "execution_count": 3,
   "metadata": {},
   "outputs": [
    {
     "output_type": "execute_result",
     "data": {
      "text/plain": "&#39;One night - it was on the twentieth of March, 1888 — I was returning from a journey to a patient (for I had now returned to civil practice), when my way led me through Baker Street. As I passed the well-remembered door, which must always be associated in my mind with my wooing, and with the dark incidents of the Study in Scarlet, I was seized with a keen desire to see Holmes again, and to know how he was employing his extraordinary powers. His rooms were brilliantly lit, and, even as I looked up, I saw his tall, spare figure pass twice in a dark silhouette against the blind. He was pacing the room swiftly, eagerly, with his head sunk upon his chest and his hands clasped behind him. To me, who knew his every mood and habit, his attitude and manner told their own story. He was at work again. He had risen out of his drug-created dreams and was hot upon the scent of some new problem. I rang the bell and was shown up to the chamber which had formerly been in part my own.&#39;"
     },
     "metadata": {},
     "execution_count": 3
    }
   ],
   "source": [
    "text"
   ]
  },
  {
   "cell_type": "code",
   "execution_count": 4,
   "metadata": {},
   "outputs": [],
   "source": [
    "comprehend = boto3.client(service_name='comprehend', region_name='us-east-1')"
   ]
  },
  {
   "cell_type": "code",
   "execution_count": 5,
   "metadata": {
    "tags": []
   },
   "outputs": [
    {
     "output_type": "stream",
     "name": "stdout",
     "text": "Calling DetectKeyPhrases\n{\n    &quot;KeyPhrases&quot;: [\n        {\n            &quot;BeginOffset&quot;: 0,\n            &quot;EndOffset&quot;: 9,\n            &quot;Score&quot;: 0.9895740747451782,\n            &quot;Text&quot;: &quot;One night&quot;\n        },\n        {\n            &quot;BeginOffset&quot;: 22,\n            &quot;EndOffset&quot;: 35,\n            &quot;Score&quot;: 0.995837390422821,\n            &quot;Text&quot;: &quot;the twentieth&quot;\n        },\n        {\n            &quot;BeginOffset&quot;: 39,\n            &quot;EndOffset&quot;: 44,\n            &quot;Score&quot;: 0.9970229268074036,\n            &quot;Text&quot;: &quot;March&quot;\n        },\n        {\n            &quot;BeginOffset&quot;: 46,\n            &quot;EndOffset&quot;: 50,\n            &quot;Score&quot;: 0.9311864376068115,\n            &quot;Text&quot;: &quot;1888&quot;\n        },\n        {\n            &quot;BeginOffset&quot;: 74,\n            &quot;EndOffset&quot;: 83,\n            &quot;Score&quot;: 0.9996240735054016,\n            &quot;Text&quot;: &quot;a journey&quot;\n        },\n        {\n            &quot;BeginOffset&quot;: 87,\n            &quot;EndOffset&quot;: 96,\n            &quot;Score&quot;: 0.9998805522918701,\n            &quot;Text&quot;: &quot;a patient&quot;\n        },\n        {\n            &quot;BeginOffset&quot;: 124,\n            &quot;EndOffset&quot;: 138,\n            &quot;Score&quot;: 0.9999938011169434,\n            &quot;Text&quot;: &quot;civil practice&quot;\n        },\n        {\n            &quot;BeginOffset&quot;: 146,\n            &quot;EndOffset&quot;: 152,\n            &quot;Score&quot;: 0.9999794960021973,\n            &quot;Text&quot;: &quot;my way&quot;\n        },\n        {\n            &quot;BeginOffset&quot;: 168,\n            &quot;EndOffset&quot;: 180,\n            &quot;Score&quot;: 0.999998927116394,\n            &quot;Text&quot;: &quot;Baker Street&quot;\n        },\n        {\n            &quot;BeginOffset&quot;: 194,\n            &quot;EndOffset&quot;: 218,\n            &quot;Score&quot;: 0.9999962449073792,\n            &quot;Text&quot;: &quot;the well-remembered door&quot;\n        },\n        {\n            &quot;BeginOffset&quot;: 255,\n            &quot;EndOffset&quot;: 262,\n            &quot;Score&quot;: 0.9999999403953552,\n            &quot;Text&quot;: &quot;my mind&quot;\n        },\n        {\n            &quot;BeginOffset&quot;: 268,\n            &quot;EndOffset&quot;: 277,\n            &quot;Score&quot;: 0.9999992251396179,\n            &quot;Text&quot;: &quot;my wooing&quot;\n        },\n        {\n            &quot;BeginOffset&quot;: 288,\n            &quot;EndOffset&quot;: 306,\n            &quot;Score&quot;: 0.999988853931427,\n            &quot;Text&quot;: &quot;the dark incidents&quot;\n        },\n        {\n            &quot;BeginOffset&quot;: 310,\n            &quot;EndOffset&quot;: 319,\n            &quot;Score&quot;: 0.9999997615814209,\n            &quot;Text&quot;: &quot;the Study&quot;\n        },\n        {\n            &quot;BeginOffset&quot;: 323,\n            &quot;EndOffset&quot;: 330,\n            &quot;Score&quot;: 0.9999998807907104,\n            &quot;Text&quot;: &quot;Scarlet&quot;\n        },\n        {\n            &quot;BeginOffset&quot;: 350,\n            &quot;EndOffset&quot;: 363,\n            &quot;Score&quot;: 0.9999996423721313,\n            &quot;Text&quot;: &quot;a keen desire&quot;\n        },\n        {\n            &quot;BeginOffset&quot;: 371,\n            &quot;EndOffset&quot;: 377,\n            &quot;Score&quot;: 0.9999996423721313,\n            &quot;Text&quot;: &quot;Holmes&quot;\n        },\n        {\n            &quot;BeginOffset&quot;: 418,\n            &quot;EndOffset&quot;: 442,\n            &quot;Score&quot;: 0.9999851584434509,\n            &quot;Text&quot;: &quot;his extraordinary powers&quot;\n        },\n        {\n            &quot;BeginOffset&quot;: 444,\n            &quot;EndOffset&quot;: 453,\n            &quot;Score&quot;: 0.9999900460243225,\n            &quot;Text&quot;: &quot;His rooms&quot;\n        },\n        {\n            &quot;BeginOffset&quot;: 508,\n            &quot;EndOffset&quot;: 530,\n            &quot;Score&quot;: 0.9999983310699463,\n            &quot;Text&quot;: &quot;his tall, spare figure&quot;\n        },\n        {\n            &quot;BeginOffset&quot;: 545,\n            &quot;EndOffset&quot;: 562,\n            &quot;Score&quot;: 0.999999463558197,\n            &quot;Text&quot;: &quot;a dark silhouette&quot;\n        },\n        {\n            &quot;BeginOffset&quot;: 571,\n            &quot;EndOffset&quot;: 580,\n            &quot;Score&quot;: 0.9999936819076538,\n            &quot;Text&quot;: &quot;the blind&quot;\n        },\n        {\n            &quot;BeginOffset&quot;: 596,\n            &quot;EndOffset&quot;: 604,\n            &quot;Score&quot;: 0.9999963641166687,\n            &quot;Text&quot;: &quot;the room&quot;\n        },\n        {\n            &quot;BeginOffset&quot;: 628,\n            &quot;EndOffset&quot;: 636,\n            &quot;Score&quot;: 1.0,\n            &quot;Text&quot;: &quot;his head&quot;\n        },\n        {\n            &quot;BeginOffset&quot;: 647,\n            &quot;EndOffset&quot;: 656,\n            &quot;Score&quot;: 1.0,\n            &quot;Text&quot;: &quot;his chest&quot;\n        },\n        {\n            &quot;BeginOffset&quot;: 661,\n            &quot;EndOffset&quot;: 670,\n            &quot;Score&quot;: 0.9999999403953552,\n            &quot;Text&quot;: &quot;his hands&quot;\n        },\n        {\n            &quot;BeginOffset&quot;: 707,\n            &quot;EndOffset&quot;: 731,\n            &quot;Score&quot;: 0.8574599623680115,\n            &quot;Text&quot;: &quot;his every mood and habit&quot;\n        },\n        {\n            &quot;BeginOffset&quot;: 733,\n            &quot;EndOffset&quot;: 756,\n            &quot;Score&quot;: 0.8263581991195679,\n            &quot;Text&quot;: &quot;his attitude and manner&quot;\n        },\n        {\n            &quot;BeginOffset&quot;: 762,\n            &quot;EndOffset&quot;: 777,\n            &quot;Score&quot;: 0.9999980330467224,\n            &quot;Text&quot;: &quot;their own story&quot;\n        },\n        {\n            &quot;BeginOffset&quot;: 789,\n            &quot;EndOffset&quot;: 793,\n            &quot;Score&quot;: 0.8914857506752014,\n            &quot;Text&quot;: &quot;work&quot;\n        },\n        {\n            &quot;BeginOffset&quot;: 821,\n            &quot;EndOffset&quot;: 844,\n            &quot;Score&quot;: 0.999995768070221,\n            &quot;Text&quot;: &quot;his drug-created dreams&quot;\n        },\n        {\n            &quot;BeginOffset&quot;: 862,\n            &quot;EndOffset&quot;: 871,\n            &quot;Score&quot;: 1.0,\n            &quot;Text&quot;: &quot;the scent&quot;\n        },\n        {\n            &quot;BeginOffset&quot;: 875,\n            &quot;EndOffset&quot;: 891,\n            &quot;Score&quot;: 0.9999999403953552,\n            &quot;Text&quot;: &quot;some new problem&quot;\n        },\n        {\n            &quot;BeginOffset&quot;: 900,\n            &quot;EndOffset&quot;: 908,\n            &quot;Score&quot;: 1.0,\n            &quot;Text&quot;: &quot;the bell&quot;\n        },\n        {\n            &quot;BeginOffset&quot;: 929,\n            &quot;EndOffset&quot;: 940,\n            &quot;Score&quot;: 0.9999998211860657,\n            &quot;Text&quot;: &quot;the chamber&quot;\n        },\n        {\n            &quot;BeginOffset&quot;: 968,\n            &quot;EndOffset&quot;: 972,\n            &quot;Score&quot;: 0.9955360889434814,\n            &quot;Text&quot;: &quot;part&quot;\n        },\n        {\n            &quot;BeginOffset&quot;: 973,\n            &quot;EndOffset&quot;: 979,\n            &quot;Score&quot;: 0.9985383749008179,\n            &quot;Text&quot;: &quot;my own&quot;\n        }\n    ],\n    &quot;ResponseMetadata&quot;: {\n        &quot;HTTPHeaders&quot;: {\n            &quot;content-length&quot;: &quot;3070&quot;,\n            &quot;content-type&quot;: &quot;application/x-amz-json-1.1&quot;,\n            &quot;date&quot;: &quot;Thu, 01 Oct 2020 18:50:31 GMT&quot;,\n            &quot;x-amzn-requestid&quot;: &quot;f82d9efa-f355-4513-963d-f73ed55ef287&quot;\n        },\n        &quot;HTTPStatusCode&quot;: 200,\n        &quot;RequestId&quot;: &quot;f82d9efa-f355-4513-963d-f73ed55ef287&quot;,\n        &quot;RetryAttempts&quot;: 0\n    }\n}\nEnd of DetectKeyPhrases\n\n"
    }
   ],
   "source": [
    "print('Calling DetectKeyPhrases')\n",
    "print(json.dumps(comprehend.detect_key_phrases(Text=text, LanguageCode='en'), sort_keys=True, indent=4))\n",
    "print('End of DetectKeyPhrases\\n')"
   ]
  },
  {
   "cell_type": "code",
   "execution_count": 6,
   "metadata": {
    "tags": []
   },
   "outputs": [
    {
     "output_type": "stream",
     "name": "stdout",
     "text": "Calling DetectEntities\n{\n    &quot;Entities&quot;: [\n        {\n            &quot;BeginOffset&quot;: 0,\n            &quot;EndOffset&quot;: 9,\n            &quot;Score&quot;: 0.8600246906280518,\n            &quot;Text&quot;: &quot;One night&quot;,\n            &quot;Type&quot;: &quot;QUANTITY&quot;\n        },\n        {\n            &quot;BeginOffset&quot;: 26,\n            &quot;EndOffset&quot;: 50,\n            &quot;Score&quot;: 0.9491320848464966,\n            &quot;Text&quot;: &quot;twentieth of March, 1888&quot;,\n            &quot;Type&quot;: &quot;DATE&quot;\n        },\n        {\n            &quot;BeginOffset&quot;: 168,\n            &quot;EndOffset&quot;: 180,\n            &quot;Score&quot;: 0.9984593391418457,\n            &quot;Text&quot;: &quot;Baker Street&quot;,\n            &quot;Type&quot;: &quot;LOCATION&quot;\n        },\n        {\n            &quot;BeginOffset&quot;: 323,\n            &quot;EndOffset&quot;: 330,\n            &quot;Score&quot;: 0.4429871141910553,\n            &quot;Text&quot;: &quot;Scarlet&quot;,\n            &quot;Type&quot;: &quot;LOCATION&quot;\n        },\n        {\n            &quot;BeginOffset&quot;: 371,\n            &quot;EndOffset&quot;: 377,\n            &quot;Score&quot;: 0.9792003631591797,\n            &quot;Text&quot;: &quot;Holmes&quot;,\n            &quot;Type&quot;: &quot;PERSON&quot;\n        },\n        {\n            &quot;BeginOffset&quot;: 536,\n            &quot;EndOffset&quot;: 541,\n            &quot;Score&quot;: 0.8938644528388977,\n            &quot;Text&quot;: &quot;twice&quot;,\n            &quot;Type&quot;: &quot;QUANTITY&quot;\n        }\n    ],\n    &quot;ResponseMetadata&quot;: {\n        &quot;HTTPHeaders&quot;: {\n            &quot;content-length&quot;: &quot;611&quot;,\n            &quot;content-type&quot;: &quot;application/x-amz-json-1.1&quot;,\n            &quot;date&quot;: &quot;Thu, 01 Oct 2020 18:50:39 GMT&quot;,\n            &quot;x-amzn-requestid&quot;: &quot;db76b522-8f59-4868-9468-c31730ac4919&quot;\n        },\n        &quot;HTTPStatusCode&quot;: 200,\n        &quot;RequestId&quot;: &quot;db76b522-8f59-4868-9468-c31730ac4919&quot;,\n        &quot;RetryAttempts&quot;: 0\n    }\n}\nEnd of DetectEntities\n\n"
    }
   ],
   "source": [
    "print('Calling DetectEntities')\n",
    "print(json.dumps(comprehend.detect_entities(Text=text, LanguageCode='en'), sort_keys=True, indent=4))\n",
    "print('End of DetectEntities\\n')"
   ]
  },
  {
   "cell_type": "code",
   "execution_count": 7,
   "metadata": {
    "tags": []
   },
   "outputs": [
    {
     "output_type": "stream",
     "name": "stdout",
     "text": "Calling DetectSentiment\n{\n    &quot;ResponseMetadata&quot;: {\n        &quot;HTTPHeaders&quot;: {\n            &quot;content-length&quot;: &quot;164&quot;,\n            &quot;content-type&quot;: &quot;application/x-amz-json-1.1&quot;,\n            &quot;date&quot;: &quot;Thu, 01 Oct 2020 18:50:42 GMT&quot;,\n            &quot;x-amzn-requestid&quot;: &quot;9feb055d-2d42-4b8a-8db9-783be67e455c&quot;\n        },\n        &quot;HTTPStatusCode&quot;: 200,\n        &quot;RequestId&quot;: &quot;9feb055d-2d42-4b8a-8db9-783be67e455c&quot;,\n        &quot;RetryAttempts&quot;: 0\n    },\n    &quot;Sentiment&quot;: &quot;POSITIVE&quot;,\n    &quot;SentimentScore&quot;: {\n        &quot;Mixed&quot;: 5.124988547322573e-06,\n        &quot;Negative&quot;: 0.0005744137451983988,\n        &quot;Neutral&quot;: 0.08524458110332489,\n        &quot;Positive&quot;: 0.9141759276390076\n    }\n}\nEnd of DetectSentiment\n\n"
    }
   ],
   "source": [
    "print('Calling DetectSentiment')\n",
    "print(json.dumps(comprehend.detect_sentiment(Text=text, LanguageCode='en'), sort_keys=True, indent=4))\n",
    "print('End of DetectSentiment\\n')"
   ]
  }
 ],
 "metadata": {
  "kernelspec": {
   "name": "Python 3.7.7 64-bit ('ml': conda)",
   "display_name": "Python 3.7.7 64-bit ('ml': conda)",
   "metadata": {
    "interpreter": {
     "hash": "a46a7326da725c74d0abad1997cb2210958481e119d745833634a7937449cffa"
    }
   }
  },
  "language_info": {
   "codemirror_mode": {
    "name": "ipython",
    "version": 3
   },
   "file_extension": ".py",
   "mimetype": "text/x-python",
   "name": "python",
   "nbconvert_exporter": "python",
   "pygments_lexer": "ipython3",
   "version": "3.7.7-final"
  }
 },
 "nbformat": 4,
 "nbformat_minor": 2
}