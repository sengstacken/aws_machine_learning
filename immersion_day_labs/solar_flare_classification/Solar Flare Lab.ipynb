{
 "cells": [
  {
   "cell_type": "markdown",
   "metadata": {},
   "source": [
    "# Solar Flare Object Detection Lab Setup\n",
    "\n",
    "Before we begin the lab, we just need to copy some additional files. Run the following cell to copy in the lab requirements."
   ]
  },
  {
   "cell_type": "code",
   "execution_count": 7,
   "metadata": {},
   "outputs": [],
   "source": [
    "%%sh\n",
    "\n",
    "mkdir -p flare\n",
    "aws s3 sync s3://reinvent18-builders/flare-workshop/immersion_content/ ./flare/"
   ]
  },
  {
   "cell_type": "markdown",
   "metadata": {},
   "source": [
    "## Head over to the training lab\n",
    "\n",
    "Click the following link to navigate to the model training notebook.\n",
    "\n",
    "[Solar Flare Object Detection Training Notebook](./flare/Flare-Detection_Training.ipynb)\n",
    "\n",
    "If the link does not work, you can manually navigate to the flare directory and open the 'Flare-Detection-Training.ipynb' notebook."
   ]
  },
  {
   "cell_type": "code",
   "execution_count": null,
   "metadata": {},
   "outputs": [],
   "source": []
  }
 ],
 "metadata": {
  "kernelspec": {
   "display_name": "conda_python3",
   "language": "python",
   "name": "conda_python3"
  },
  "language_info": {
   "codemirror_mode": {
    "name": "ipython",
    "version": 3
   },
   "file_extension": ".py",
   "mimetype": "text/x-python",
   "name": "python",
   "nbconvert_exporter": "python",
   "pygments_lexer": "ipython3",
   "version": "3.6.10"
  }
 },
 "nbformat": 4,
 "nbformat_minor": 4
}