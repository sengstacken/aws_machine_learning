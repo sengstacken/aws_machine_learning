{
 "cells": [
  {
   "cell_type": "markdown",
   "metadata": {},
   "source": [
    "# Problem:  Predicting remaining useful life for Turbofan engines \n",
    "\n",
    "### Introduction\n",
    "\n",
    "In many real life situations, you will encounter where you do not have labeled data and still you need to detect anomalous activites. This technique walks you through how to learn features, build a model using unlabeled dataset.  We will start by converting to problem from an unsupervised learning problem to a supervised learning problem.\n",
    "\n",
    "The data for this notebook comes from a well known NASA competition in 2008. The dataset was generated via simulation using C-MAPSS. Four different sets simulated under different combinations of operational conditions and fault modes. Recording several sensor channels to characterize fault evolution. The data set was provided by the Prognostics CoE at NASA Ames.  We will use this dataset to learn the behavior of a normal engine.  \n",
    "\n",
    "### Background\n",
    "\n",
    "<img src=\"https://aws-machine-learning-immersion-day.s3.amazonaws.com/resources/engine_failure.gif\" width=\"600\" align=\"center\">\n",
    "<p style=\"text-align: center;\">fan blade containment failure test</p>\n",
    "\n",
    "\n",
    "Predictive maintenance is important for safety systems and systems where unexpected maintenace and downtime impacts the business objectives.  A turbofan engine is both a safety system and one where unexpected downtime impacts the operation of the airline.  \n",
    "\n",
    "For predictive maintenance there are typically 3 approaches, it depends on how much you know about the failures and systems: \n",
    "1. Similarity - Use this approach if your data captures degridation from the healthy state to the failed state.  \n",
    "2. Survival - Use this approach when you only have data from the failure event.\n",
    "3. Degradation - Use this approach when you want the operation of the machine to operate above some limit threshold.\n",
    "\n",
    "### Contact\n",
    "\n",
    "* Aaron Sengstacken\n",
    "* awsaaron@amazon.com\n",
    "\n",
    "### References\n",
    "* [Predictive Maintenance - wikipedia](https://en.wikipedia.org/wiki/Predictive_maintenance)\n",
    "* A. Saxena and K. Goebel (2008). \"Turbofan Engine Degradation Simulation Data Set\", NASA Ames Prognostics Data Repository (http://ti.arc.nasa.gov/project/prognostic-data-repository), NASA Ames Research Center, Moffett Field, CA\n",
    "* https://ti.arc.nasa.gov/tech/dash/groups/pcoe/prognostic-data-repository/\n"
   ]
  },
  {
   "cell_type": "code",
   "execution_count": 1,
   "metadata": {},
   "outputs": [
    {
     "name": "stderr",
     "output_type": "stream",
     "text": [
      "Using TensorFlow backend.\n"
     ]
    }
   ],
   "source": [
    "# Import Libraries\n",
    "%matplotlib inline\n",
    "\n",
    "# general python\n",
    "import pandas as pd\n",
    "import numpy as np\n",
    "import matplotlib.pyplot as plt\n",
    "from datetime import datetime\n",
    "import io\n",
    "import os\n",
    "\n",
    "# sklearn\n",
    "from sklearn.metrics import f1_score\n",
    "from sklearn.preprocessing import MinMaxScaler, RobustScaler, StandardScaler\n",
    "from sklearn.model_selection import train_test_split\n",
    "from sklearn.metrics import classification_report\n",
    "from sklearn.metrics import precision_score,accuracy_score\n",
    "from sklearn.metrics import confusion_matrix, precision_recall_curve,cohen_kappa_score\n",
    "from sklearn.metrics import (confusion_matrix, precision_recall_curve, auc,\n",
    "                             roc_curve, recall_score, classification_report, f1_score,\n",
    "                             precision_recall_fscore_support)\n",
    "\n",
    "# aws\n",
    "import boto3\n",
    "import sagemaker\n",
    "from sagemaker import KMeans\n",
    "from sagemaker import get_execution_role\n",
    "import sagemaker.amazon.common as smac\n",
    "from sagemaker.tensorflow import TensorFlow\n",
    "\n",
    "# tensorflow\n",
    "import tensorflow as tf\n",
    "import keras\n",
    "from keras import backend as K\n",
    "from keras.models import Sequential\n",
    "from keras.layers import Dense, Dropout, Activation, Input\n",
    "from keras.models import Model\n",
    "\n",
    "RANDOM_SEED = 1234 #used to help randomly select the data points\n",
    "np.random.seed(RANDOM_SEED)\n",
    "tf.random.set_seed(RANDOM_SEED)"
   ]
  },
  {
   "cell_type": "markdown",
   "metadata": {},
   "source": [
    "# Data\n",
    "\n",
    "The data for this notebook comes from a well known NASA competition in 2008.  The dataset was generated via simulation using C-MAPSS. Four different sets simulated under different combinations of operational conditions and fault modes. Recording several sensor channels to characterize fault evolution. The data set was provided by the Prognostics CoE at NASA Ames.\n",
    "\n",
    "The dataset consists of multiple multivariate time series. Each data set is further divided into training and test subsets. Each time series is from a different engine i.e., the data can be considered to be from a fleet of engines of the same type. Each engine starts with different degrees of initial wear and manufacturing variation which is unknown to the user. This wear and variation is considered normal, i.e., it is not considered a fault condition. There are three operational settings that have a substantial effect on engine performance. These settings are also included in the data. The data is contaminated with sensor noise.\n",
    "\n",
    "The engine is operating normally at the start of each time series, and develops a fault at some point during the series. In the training set, the fault grows in magnitude until system failure. In the test set, the time series ends some time prior to system failure. The objective of the competition is to predict the number of remaining operational cycles before failure in the test set, i.e., the number of operational cycles after the last cycle that the engine will continue to operate. Also provided a vector of true Remaining Useful Life (RUL) values for the test data."
   ]
  },
  {
   "cell_type": "markdown",
   "metadata": {},
   "source": [
    "### Load Data"
   ]
  },
  {
   "cell_type": "code",
   "execution_count": 3,
   "metadata": {},
   "outputs": [
    {
     "name": "stdout",
     "output_type": "stream",
     "text": [
      "--2021-01-28 19:17:32--  https://ti.arc.nasa.gov/c/6/\n",
      "Resolving ti.arc.nasa.gov (ti.arc.nasa.gov)... 128.102.105.66, 2001:4d0:6311:2227:14b6:372b:2078:2a94\n",
      "Connecting to ti.arc.nasa.gov (ti.arc.nasa.gov)|128.102.105.66|:443... connected.\n",
      "HTTP request sent, awaiting response... 302 FOUND\n",
      "Location: https://ti.arc.nasa.gov/m/project/prognostic-repository/CMAPSSData.zip [following]\n",
      "--2021-01-28 19:17:33--  https://ti.arc.nasa.gov/m/project/prognostic-repository/CMAPSSData.zip\n",
      "Reusing existing connection to ti.arc.nasa.gov:443.\n",
      "HTTP request sent, awaiting response... 200 OK\n",
      "Length: 12425978 (12M) [application/zip]\n",
      "Saving to: ‘CMAPSSData.zip’\n",
      "\n",
      "CMAPSSData.zip      100%[===================>]  11.85M  9.57MB/s    in 1.2s    \n",
      "\n",
      "2021-01-28 19:17:34 (9.57 MB/s) - ‘CMAPSSData.zip’ saved [12425978/12425978]\n",
      "\n"
     ]
    }
   ],
   "source": [
    "# download data from URL\n",
    "!wget https://ti.arc.nasa.gov/c/6/ -O CMAPSSData.zip"
   ]
  },
  {
   "cell_type": "code",
   "execution_count": 5,
   "metadata": {},
   "outputs": [
    {
     "name": "stdout",
     "output_type": "stream",
     "text": [
      "Archive:  CMAPSSData.zip\n",
      "  inflating: Damage Propagation Modeling.pdf  \n",
      "  inflating: readme.txt              \n",
      "  inflating: RUL_FD001.txt           \n",
      "  inflating: RUL_FD002.txt           \n",
      "  inflating: RUL_FD003.txt           \n",
      "  inflating: RUL_FD004.txt           \n",
      "  inflating: test_FD001.txt          \n",
      "  inflating: test_FD002.txt          \n",
      "  inflating: test_FD003.txt          \n",
      "  inflating: test_FD004.txt          \n",
      "  inflating: train_FD001.txt         \n",
      "  inflating: train_FD002.txt         \n",
      "  inflating: train_FD003.txt         \n",
      "  inflating: train_FD004.txt         \n"
     ]
    }
   ],
   "source": [
    "# unpack zip file\n",
    "!unzip -o CMAPSSData.zip"
   ]
  },
  {
   "cell_type": "code",
   "execution_count": 6,
   "metadata": {},
   "outputs": [
    {
     "name": "stdout",
     "output_type": "stream",
     "text": [
      "default_s3_bucket: s3://sagemaker-us-east-1-431615879134\n"
     ]
    }
   ],
   "source": [
    "role = get_execution_role()\n",
    "session = sagemaker.session.Session()\n",
    "bucket_name = session.default_bucket()\n",
    "bucket = 's3://{}'.format(session.default_bucket())\n",
    "print('default_s3_bucket: {}'.format(bucket))"
   ]
  },
  {
   "cell_type": "markdown",
   "metadata": {},
   "source": [
    "The datasets don't contain any headers so we'll have to manually define those"
   ]
  },
  {
   "cell_type": "code",
   "execution_count": 7,
   "metadata": {},
   "outputs": [],
   "source": [
    "cols=[\"unit\",\"cycle\",\"op1\",\"op2\",\"op3\",\"sensor1\",\"sensor2\",\"sensor3\",\"sensor4\",\"sensor5\",\"sensor6\",\"sensor7\",\"sensor8\",\"sensor9\",\"sensor10\",\"sensor11\",\"sensor12\",\"sensor13\",\"sensor14\",\"sensor15\",\"sensor16\",\"sensor17\",\"sensor18\",\"sensor19\",\"sensor20\",\"sensor21\",\"sensor22\",\"sensor23\"]"
   ]
  },
  {
   "cell_type": "code",
   "execution_count": 8,
   "metadata": {},
   "outputs": [],
   "source": [
    "train_df = pd.read_csv('train_FD001.txt',sep=' ',header=None,names=cols)\n",
    "rul_df = pd.read_csv('RUL_FD001.txt',header=None,names=['rul'])"
   ]
  },
  {
   "cell_type": "code",
   "execution_count": 9,
   "metadata": {},
   "outputs": [
    {
     "name": "stdout",
     "output_type": "stream",
     "text": [
      "Training Data\n"
     ]
    },
    {
     "data": {
      "text/html": [
       "<div>\n",
       "<style scoped>\n",
       "    .dataframe tbody tr th:only-of-type {\n",
       "        vertical-align: middle;\n",
       "    }\n",
       "\n",
       "    .dataframe tbody tr th {\n",
       "        vertical-align: top;\n",
       "    }\n",
       "\n",
       "    .dataframe thead th {\n",
       "        text-align: right;\n",
       "    }\n",
       "</style>\n",
       "<table border=\"1\" class=\"dataframe\">\n",
       "  <thead>\n",
       "    <tr style=\"text-align: right;\">\n",
       "      <th></th>\n",
       "      <th>unit</th>\n",
       "      <th>cycle</th>\n",
       "      <th>op1</th>\n",
       "      <th>op2</th>\n",
       "      <th>op3</th>\n",
       "      <th>sensor1</th>\n",
       "      <th>sensor2</th>\n",
       "      <th>sensor3</th>\n",
       "      <th>sensor4</th>\n",
       "      <th>sensor5</th>\n",
       "      <th>...</th>\n",
       "      <th>sensor14</th>\n",
       "      <th>sensor15</th>\n",
       "      <th>sensor16</th>\n",
       "      <th>sensor17</th>\n",
       "      <th>sensor18</th>\n",
       "      <th>sensor19</th>\n",
       "      <th>sensor20</th>\n",
       "      <th>sensor21</th>\n",
       "      <th>sensor22</th>\n",
       "      <th>sensor23</th>\n",
       "    </tr>\n",
       "  </thead>\n",
       "  <tbody>\n",
       "    <tr>\n",
       "      <th>0</th>\n",
       "      <td>1</td>\n",
       "      <td>1</td>\n",
       "      <td>-0.0007</td>\n",
       "      <td>-0.0004</td>\n",
       "      <td>100.0</td>\n",
       "      <td>518.67</td>\n",
       "      <td>641.82</td>\n",
       "      <td>1589.70</td>\n",
       "      <td>1400.60</td>\n",
       "      <td>14.62</td>\n",
       "      <td>...</td>\n",
       "      <td>8138.62</td>\n",
       "      <td>8.4195</td>\n",
       "      <td>0.03</td>\n",
       "      <td>392</td>\n",
       "      <td>2388</td>\n",
       "      <td>100.0</td>\n",
       "      <td>39.06</td>\n",
       "      <td>23.4190</td>\n",
       "      <td>NaN</td>\n",
       "      <td>NaN</td>\n",
       "    </tr>\n",
       "    <tr>\n",
       "      <th>1</th>\n",
       "      <td>1</td>\n",
       "      <td>2</td>\n",
       "      <td>0.0019</td>\n",
       "      <td>-0.0003</td>\n",
       "      <td>100.0</td>\n",
       "      <td>518.67</td>\n",
       "      <td>642.15</td>\n",
       "      <td>1591.82</td>\n",
       "      <td>1403.14</td>\n",
       "      <td>14.62</td>\n",
       "      <td>...</td>\n",
       "      <td>8131.49</td>\n",
       "      <td>8.4318</td>\n",
       "      <td>0.03</td>\n",
       "      <td>392</td>\n",
       "      <td>2388</td>\n",
       "      <td>100.0</td>\n",
       "      <td>39.00</td>\n",
       "      <td>23.4236</td>\n",
       "      <td>NaN</td>\n",
       "      <td>NaN</td>\n",
       "    </tr>\n",
       "    <tr>\n",
       "      <th>2</th>\n",
       "      <td>1</td>\n",
       "      <td>3</td>\n",
       "      <td>-0.0043</td>\n",
       "      <td>0.0003</td>\n",
       "      <td>100.0</td>\n",
       "      <td>518.67</td>\n",
       "      <td>642.35</td>\n",
       "      <td>1587.99</td>\n",
       "      <td>1404.20</td>\n",
       "      <td>14.62</td>\n",
       "      <td>...</td>\n",
       "      <td>8133.23</td>\n",
       "      <td>8.4178</td>\n",
       "      <td>0.03</td>\n",
       "      <td>390</td>\n",
       "      <td>2388</td>\n",
       "      <td>100.0</td>\n",
       "      <td>38.95</td>\n",
       "      <td>23.3442</td>\n",
       "      <td>NaN</td>\n",
       "      <td>NaN</td>\n",
       "    </tr>\n",
       "    <tr>\n",
       "      <th>3</th>\n",
       "      <td>1</td>\n",
       "      <td>4</td>\n",
       "      <td>0.0007</td>\n",
       "      <td>0.0000</td>\n",
       "      <td>100.0</td>\n",
       "      <td>518.67</td>\n",
       "      <td>642.35</td>\n",
       "      <td>1582.79</td>\n",
       "      <td>1401.87</td>\n",
       "      <td>14.62</td>\n",
       "      <td>...</td>\n",
       "      <td>8133.83</td>\n",
       "      <td>8.3682</td>\n",
       "      <td>0.03</td>\n",
       "      <td>392</td>\n",
       "      <td>2388</td>\n",
       "      <td>100.0</td>\n",
       "      <td>38.88</td>\n",
       "      <td>23.3739</td>\n",
       "      <td>NaN</td>\n",
       "      <td>NaN</td>\n",
       "    </tr>\n",
       "    <tr>\n",
       "      <th>4</th>\n",
       "      <td>1</td>\n",
       "      <td>5</td>\n",
       "      <td>-0.0019</td>\n",
       "      <td>-0.0002</td>\n",
       "      <td>100.0</td>\n",
       "      <td>518.67</td>\n",
       "      <td>642.37</td>\n",
       "      <td>1582.85</td>\n",
       "      <td>1406.22</td>\n",
       "      <td>14.62</td>\n",
       "      <td>...</td>\n",
       "      <td>8133.80</td>\n",
       "      <td>8.4294</td>\n",
       "      <td>0.03</td>\n",
       "      <td>393</td>\n",
       "      <td>2388</td>\n",
       "      <td>100.0</td>\n",
       "      <td>38.90</td>\n",
       "      <td>23.4044</td>\n",
       "      <td>NaN</td>\n",
       "      <td>NaN</td>\n",
       "    </tr>\n",
       "  </tbody>\n",
       "</table>\n",
       "<p>5 rows × 28 columns</p>\n",
       "</div>"
      ],
      "text/plain": [
       "   unit  cycle     op1     op2    op3  sensor1  sensor2  sensor3  sensor4  \\\n",
       "0     1      1 -0.0007 -0.0004  100.0   518.67   641.82  1589.70  1400.60   \n",
       "1     1      2  0.0019 -0.0003  100.0   518.67   642.15  1591.82  1403.14   \n",
       "2     1      3 -0.0043  0.0003  100.0   518.67   642.35  1587.99  1404.20   \n",
       "3     1      4  0.0007  0.0000  100.0   518.67   642.35  1582.79  1401.87   \n",
       "4     1      5 -0.0019 -0.0002  100.0   518.67   642.37  1582.85  1406.22   \n",
       "\n",
       "   sensor5  ...  sensor14  sensor15  sensor16  sensor17  sensor18  sensor19  \\\n",
       "0    14.62  ...   8138.62    8.4195      0.03       392      2388     100.0   \n",
       "1    14.62  ...   8131.49    8.4318      0.03       392      2388     100.0   \n",
       "2    14.62  ...   8133.23    8.4178      0.03       390      2388     100.0   \n",
       "3    14.62  ...   8133.83    8.3682      0.03       392      2388     100.0   \n",
       "4    14.62  ...   8133.80    8.4294      0.03       393      2388     100.0   \n",
       "\n",
       "   sensor20  sensor21  sensor22  sensor23  \n",
       "0     39.06   23.4190       NaN       NaN  \n",
       "1     39.00   23.4236       NaN       NaN  \n",
       "2     38.95   23.3442       NaN       NaN  \n",
       "3     38.88   23.3739       NaN       NaN  \n",
       "4     38.90   23.4044       NaN       NaN  \n",
       "\n",
       "[5 rows x 28 columns]"
      ]
     },
     "metadata": {},
     "output_type": "display_data"
    },
    {
     "name": "stdout",
     "output_type": "stream",
     "text": [
      "Remaining Useful Life Data\n"
     ]
    },
    {
     "data": {
      "text/html": [
       "<div>\n",
       "<style scoped>\n",
       "    .dataframe tbody tr th:only-of-type {\n",
       "        vertical-align: middle;\n",
       "    }\n",
       "\n",
       "    .dataframe tbody tr th {\n",
       "        vertical-align: top;\n",
       "    }\n",
       "\n",
       "    .dataframe thead th {\n",
       "        text-align: right;\n",
       "    }\n",
       "</style>\n",
       "<table border=\"1\" class=\"dataframe\">\n",
       "  <thead>\n",
       "    <tr style=\"text-align: right;\">\n",
       "      <th></th>\n",
       "      <th>rul</th>\n",
       "    </tr>\n",
       "  </thead>\n",
       "  <tbody>\n",
       "    <tr>\n",
       "      <th>0</th>\n",
       "      <td>112</td>\n",
       "    </tr>\n",
       "    <tr>\n",
       "      <th>1</th>\n",
       "      <td>98</td>\n",
       "    </tr>\n",
       "    <tr>\n",
       "      <th>2</th>\n",
       "      <td>69</td>\n",
       "    </tr>\n",
       "    <tr>\n",
       "      <th>3</th>\n",
       "      <td>82</td>\n",
       "    </tr>\n",
       "    <tr>\n",
       "      <th>4</th>\n",
       "      <td>91</td>\n",
       "    </tr>\n",
       "  </tbody>\n",
       "</table>\n",
       "</div>"
      ],
      "text/plain": [
       "   rul\n",
       "0  112\n",
       "1   98\n",
       "2   69\n",
       "3   82\n",
       "4   91"
      ]
     },
     "metadata": {},
     "output_type": "display_data"
    }
   ],
   "source": [
    "print('Training Data')\n",
    "display(train_df.head())\n",
    "print('Remaining Useful Life Data')\n",
    "display(rul_df.head())"
   ]
  },
  {
   "cell_type": "code",
   "execution_count": 10,
   "metadata": {},
   "outputs": [
    {
     "name": "stdout",
     "output_type": "stream",
     "text": [
      "Training Data\n",
      "(20631, 28)\n",
      "Remaining Useful Life Data\n",
      "(100, 1)\n"
     ]
    }
   ],
   "source": [
    "print('Training Data')\n",
    "print(train_df.shape)\n",
    "print('Remaining Useful Life Data')\n",
    "print(rul_df.shape)"
   ]
  },
  {
   "cell_type": "code",
   "execution_count": 11,
   "metadata": {},
   "outputs": [],
   "source": [
    "train_df['remaining_cycles']=train_df.groupby('unit')['cycle'].transform(max)-train_df['cycle']"
   ]
  },
  {
   "cell_type": "code",
   "execution_count": 12,
   "metadata": {},
   "outputs": [
    {
     "name": "stdout",
     "output_type": "stream",
     "text": [
      "<class 'pandas.core.frame.DataFrame'>\n",
      "RangeIndex: 20631 entries, 0 to 20630\n",
      "Data columns (total 29 columns):\n",
      " #   Column            Non-Null Count  Dtype  \n",
      "---  ------            --------------  -----  \n",
      " 0   unit              20631 non-null  int64  \n",
      " 1   cycle             20631 non-null  int64  \n",
      " 2   op1               20631 non-null  float64\n",
      " 3   op2               20631 non-null  float64\n",
      " 4   op3               20631 non-null  float64\n",
      " 5   sensor1           20631 non-null  float64\n",
      " 6   sensor2           20631 non-null  float64\n",
      " 7   sensor3           20631 non-null  float64\n",
      " 8   sensor4           20631 non-null  float64\n",
      " 9   sensor5           20631 non-null  float64\n",
      " 10  sensor6           20631 non-null  float64\n",
      " 11  sensor7           20631 non-null  float64\n",
      " 12  sensor8           20631 non-null  float64\n",
      " 13  sensor9           20631 non-null  float64\n",
      " 14  sensor10          20631 non-null  float64\n",
      " 15  sensor11          20631 non-null  float64\n",
      " 16  sensor12          20631 non-null  float64\n",
      " 17  sensor13          20631 non-null  float64\n",
      " 18  sensor14          20631 non-null  float64\n",
      " 19  sensor15          20631 non-null  float64\n",
      " 20  sensor16          20631 non-null  float64\n",
      " 21  sensor17          20631 non-null  int64  \n",
      " 22  sensor18          20631 non-null  int64  \n",
      " 23  sensor19          20631 non-null  float64\n",
      " 24  sensor20          20631 non-null  float64\n",
      " 25  sensor21          20631 non-null  float64\n",
      " 26  sensor22          0 non-null      float64\n",
      " 27  sensor23          0 non-null      float64\n",
      " 28  remaining_cycles  20631 non-null  int64  \n",
      "dtypes: float64(24), int64(5)\n",
      "memory usage: 4.6 MB\n"
     ]
    }
   ],
   "source": [
    "train_df.info()"
   ]
  },
  {
   "cell_type": "markdown",
   "metadata": {},
   "source": [
    "**Take Away:** Data was loaded successfully, we have some null values in the last two sensors that we'll need to address"
   ]
  },
  {
   "cell_type": "markdown",
   "metadata": {},
   "source": [
    "### Data Exploration and Preparation"
   ]
  },
  {
   "cell_type": "markdown",
   "metadata": {},
   "source": [
    "**Questions:**\n",
    "\n",
    "1. How many engines are in the dataset?\n",
    "2. How long was each engine run?\n",
    "3. What is the distribution of total cycles on each engine?\n",
    "4. What are the operational settings for the engines and how do they vary?"
   ]
  },
  {
   "cell_type": "code",
   "execution_count": 13,
   "metadata": {},
   "outputs": [
    {
     "data": {
      "text/plain": [
       "array([  1,   2,   3,   4,   5,   6,   7,   8,   9,  10,  11,  12,  13,\n",
       "        14,  15,  16,  17,  18,  19,  20,  21,  22,  23,  24,  25,  26,\n",
       "        27,  28,  29,  30,  31,  32,  33,  34,  35,  36,  37,  38,  39,\n",
       "        40,  41,  42,  43,  44,  45,  46,  47,  48,  49,  50,  51,  52,\n",
       "        53,  54,  55,  56,  57,  58,  59,  60,  61,  62,  63,  64,  65,\n",
       "        66,  67,  68,  69,  70,  71,  72,  73,  74,  75,  76,  77,  78,\n",
       "        79,  80,  81,  82,  83,  84,  85,  86,  87,  88,  89,  90,  91,\n",
       "        92,  93,  94,  95,  96,  97,  98,  99, 100])"
      ]
     },
     "execution_count": 13,
     "metadata": {},
     "output_type": "execute_result"
    }
   ],
   "source": [
    "# Question 1 - How many engines are in the dataset?\n",
    "train_df['unit'].unique()"
   ]
  },
  {
   "cell_type": "code",
   "execution_count": 14,
   "metadata": {},
   "outputs": [],
   "source": [
    "# Question 2 - How long was each engine run for?\n",
    "max_cycles = train_df.groupby('unit')['cycle'].max()"
   ]
  },
  {
   "cell_type": "code",
   "execution_count": 15,
   "metadata": {},
   "outputs": [
    {
     "data": {
      "text/plain": [
       "(0, 101)"
      ]
     },
     "execution_count": 15,
     "metadata": {},
     "output_type": "execute_result"
    },
    {
     "data": {
      "image/png": "[encoded data removed]",
      "text/plain": [
       "<Figure size 1440x720 with 1 Axes>"
      ]
     },
     "metadata": {
      "needs_background": "light"
     },
     "output_type": "display_data"
    }
   ],
   "source": [
    "fig,ax = plt.subplots(figsize=(20,10))\n",
    "plt.bar(max_cycles.index,max_cycles.values)\n",
    "plt.xlabel('Engine Unit #')\n",
    "plt.ylabel('Max Cycles')\n",
    "plt.title('Total Cycles Per Engine')\n",
    "plt.xlim((0,101))"
   ]
  },
  {
   "cell_type": "code",
   "execution_count": 16,
   "metadata": {},
   "outputs": [
    {
     "data": {
      "text/plain": [
       "Text(0, 0.5, 'Count')"
      ]
     },
     "execution_count": 16,
     "metadata": {},
     "output_type": "execute_result"
    },
    {
     "data": {
      "image/png": "[encoded data removed]",
      "text/plain": [
       "<Figure size 720x720 with 1 Axes>"
      ]
     },
     "metadata": {
      "needs_background": "light"
     },
     "output_type": "display_data"
    }
   ],
   "source": [
    "# Question 3 - What is the distribution of cycles across engines?\n",
    "fig,ax = plt.subplots(figsize=(10,10))\n",
    "plt.hist(max_cycles.values,bins=20)\n",
    "plt.title('Histogram of Max Cycles')\n",
    "plt.xlabel('Number of Cycles')\n",
    "plt.ylabel('Count')"
   ]
  },
  {
   "cell_type": "code",
   "execution_count": 17,
   "metadata": {},
   "outputs": [
    {
     "data": {
      "text/plain": [
       "count    100.000000\n",
       "mean     206.310000\n",
       "std       46.342749\n",
       "min      128.000000\n",
       "25%      177.000000\n",
       "50%      199.000000\n",
       "75%      229.250000\n",
       "max      362.000000\n",
       "Name: cycle, dtype: float64"
      ]
     },
     "execution_count": 17,
     "metadata": {},
     "output_type": "execute_result"
    }
   ],
   "source": [
    "max_cycles.describe()"
   ]
  },
  {
   "cell_type": "code",
   "execution_count": 18,
   "metadata": {},
   "outputs": [
    {
     "data": {
      "text/plain": [
       "count    20631.000000\n",
       "mean        -0.000009\n",
       "std          0.002187\n",
       "min         -0.008700\n",
       "25%         -0.001500\n",
       "50%          0.000000\n",
       "75%          0.001500\n",
       "max          0.008700\n",
       "Name: op1, dtype: float64"
      ]
     },
     "execution_count": 18,
     "metadata": {},
     "output_type": "execute_result"
    },
    {
     "data": {
      "image/png": "[encoded data removed]",
      "text/plain": [
       "<Figure size 720x720 with 1 Axes>"
      ]
     },
     "metadata": {
      "needs_background": "light"
     },
     "output_type": "display_data"
    }
   ],
   "source": [
    "#Question 4. What are the operational settings for the engines and how do they vary?\n",
    "fig,ax = plt.subplots(figsize=(10,10))\n",
    "plt.hist(train_df['op1'].values,bins=30)\n",
    "plt.title('Histogram of Op Setting #1')\n",
    "plt.xlabel('Op Setting #1')\n",
    "plt.ylabel('Count')\n",
    "train_df['op1'].describe()"
   ]
  },
  {
   "cell_type": "code",
   "execution_count": 19,
   "metadata": {},
   "outputs": [
    {
     "data": {
      "text/plain": [
       "count    20631.000000\n",
       "mean         0.000002\n",
       "std          0.000293\n",
       "min         -0.000600\n",
       "25%         -0.000200\n",
       "50%          0.000000\n",
       "75%          0.000300\n",
       "max          0.000600\n",
       "Name: op2, dtype: float64"
      ]
     },
     "execution_count": 19,
     "metadata": {},
     "output_type": "execute_result"
    },
    {
     "data": {
      "image/png": "[encoded data removed]",
      "text/plain": [
       "<Figure size 720x720 with 1 Axes>"
      ]
     },
     "metadata": {
      "needs_background": "light"
     },
     "output_type": "display_data"
    }
   ],
   "source": [
    "fig,ax = plt.subplots(figsize=(10,10))\n",
    "plt.hist(train_df['op2'].values,bins=30)\n",
    "plt.title('Histogram of Op Setting #2')\n",
    "plt.xlabel('Op Setting #2')\n",
    "plt.ylabel('Count')\n",
    "train_df['op2'].describe()"
   ]
  },
  {
   "cell_type": "code",
   "execution_count": 20,
   "metadata": {},
   "outputs": [
    {
     "data": {
      "text/plain": [
       "count    20631.0\n",
       "mean       100.0\n",
       "std          0.0\n",
       "min        100.0\n",
       "25%        100.0\n",
       "50%        100.0\n",
       "75%        100.0\n",
       "max        100.0\n",
       "Name: op3, dtype: float64"
      ]
     },
     "execution_count": 20,
     "metadata": {},
     "output_type": "execute_result"
    },
    {
     "data": {
      "image/png": "[encoded data removed]",
      "text/plain": [
       "<Figure size 720x720 with 1 Axes>"
      ]
     },
     "metadata": {
      "needs_background": "light"
     },
     "output_type": "display_data"
    }
   ],
   "source": [
    "fig,ax = plt.subplots(figsize=(10,10))\n",
    "plt.hist(train_df['op3'].values,bins=30)\n",
    "plt.title('Histogram of Op Setting #3')\n",
    "plt.xlabel('Op Setting #3')\n",
    "plt.ylabel('Count')\n",
    "train_df['op3'].describe()"
   ]
  },
  {
   "cell_type": "markdown",
   "metadata": {},
   "source": [
    "**Take Away** The Op3 setting is constant for all data in the dataset, suggest removal"
   ]
  },
  {
   "cell_type": "code",
   "execution_count": 23,
   "metadata": {},
   "outputs": [
    {
     "data": {
      "image/png": "[encoded data removed]",
      "text/plain": [
       "<Figure size 1440x1440 with 30 Axes>"
      ]
     },
     "metadata": {
      "needs_background": "light"
     },
     "output_type": "display_data"
    }
   ],
   "source": [
    "train_df.hist(figsize=(20,20),bins=25);"
   ]
  },
  {
   "cell_type": "code",
   "execution_count": 24,
   "metadata": {},
   "outputs": [
    {
     "data": {
      "text/html": [
       "<div>\n",
       "<style scoped>\n",
       "    .dataframe tbody tr th:only-of-type {\n",
       "        vertical-align: middle;\n",
       "    }\n",
       "\n",
       "    .dataframe tbody tr th {\n",
       "        vertical-align: top;\n",
       "    }\n",
       "\n",
       "    .dataframe thead th {\n",
       "        text-align: right;\n",
       "    }\n",
       "</style>\n",
       "<table border=\"1\" class=\"dataframe\">\n",
       "  <thead>\n",
       "    <tr style=\"text-align: right;\">\n",
       "      <th></th>\n",
       "      <th>count</th>\n",
       "      <th>mean</th>\n",
       "      <th>std</th>\n",
       "      <th>min</th>\n",
       "      <th>25%</th>\n",
       "      <th>50%</th>\n",
       "      <th>75%</th>\n",
       "      <th>max</th>\n",
       "    </tr>\n",
       "  </thead>\n",
       "  <tbody>\n",
       "    <tr>\n",
       "      <th>unit</th>\n",
       "      <td>20631.0</td>\n",
       "      <td>51.506568</td>\n",
       "      <td>2.922763e+01</td>\n",
       "      <td>1.0000</td>\n",
       "      <td>26.0000</td>\n",
       "      <td>52.0000</td>\n",
       "      <td>77.0000</td>\n",
       "      <td>100.0000</td>\n",
       "    </tr>\n",
       "    <tr>\n",
       "      <th>cycle</th>\n",
       "      <td>20631.0</td>\n",
       "      <td>108.807862</td>\n",
       "      <td>6.888099e+01</td>\n",
       "      <td>1.0000</td>\n",
       "      <td>52.0000</td>\n",
       "      <td>104.0000</td>\n",
       "      <td>156.0000</td>\n",
       "      <td>362.0000</td>\n",
       "    </tr>\n",
       "    <tr>\n",
       "      <th>op1</th>\n",
       "      <td>20631.0</td>\n",
       "      <td>-0.000009</td>\n",
       "      <td>2.187313e-03</td>\n",
       "      <td>-0.0087</td>\n",
       "      <td>-0.0015</td>\n",
       "      <td>0.0000</td>\n",
       "      <td>0.0015</td>\n",
       "      <td>0.0087</td>\n",
       "    </tr>\n",
       "    <tr>\n",
       "      <th>op2</th>\n",
       "      <td>20631.0</td>\n",
       "      <td>0.000002</td>\n",
       "      <td>2.930621e-04</td>\n",
       "      <td>-0.0006</td>\n",
       "      <td>-0.0002</td>\n",
       "      <td>0.0000</td>\n",
       "      <td>0.0003</td>\n",
       "      <td>0.0006</td>\n",
       "    </tr>\n",
       "    <tr>\n",
       "      <th>op3</th>\n",
       "      <td>20631.0</td>\n",
       "      <td>100.000000</td>\n",
       "      <td>0.000000e+00</td>\n",
       "      <td>100.0000</td>\n",
       "      <td>100.0000</td>\n",
       "      <td>100.0000</td>\n",
       "      <td>100.0000</td>\n",
       "      <td>100.0000</td>\n",
       "    </tr>\n",
       "    <tr>\n",
       "      <th>sensor1</th>\n",
       "      <td>20631.0</td>\n",
       "      <td>518.670000</td>\n",
       "      <td>6.537152e-11</td>\n",
       "      <td>518.6700</td>\n",
       "      <td>518.6700</td>\n",
       "      <td>518.6700</td>\n",
       "      <td>518.6700</td>\n",
       "      <td>518.6700</td>\n",
       "    </tr>\n",
       "    <tr>\n",
       "      <th>sensor2</th>\n",
       "      <td>20631.0</td>\n",
       "      <td>642.680934</td>\n",
       "      <td>5.000533e-01</td>\n",
       "      <td>641.2100</td>\n",
       "      <td>642.3250</td>\n",
       "      <td>642.6400</td>\n",
       "      <td>643.0000</td>\n",
       "      <td>644.5300</td>\n",
       "    </tr>\n",
       "    <tr>\n",
       "      <th>sensor3</th>\n",
       "      <td>20631.0</td>\n",
       "      <td>1590.523119</td>\n",
       "      <td>6.131150e+00</td>\n",
       "      <td>1571.0400</td>\n",
       "      <td>1586.2600</td>\n",
       "      <td>1590.1000</td>\n",
       "      <td>1594.3800</td>\n",
       "      <td>1616.9100</td>\n",
       "    </tr>\n",
       "    <tr>\n",
       "      <th>sensor4</th>\n",
       "      <td>20631.0</td>\n",
       "      <td>1408.933782</td>\n",
       "      <td>9.000605e+00</td>\n",
       "      <td>1382.2500</td>\n",
       "      <td>1402.3600</td>\n",
       "      <td>1408.0400</td>\n",
       "      <td>1414.5550</td>\n",
       "      <td>1441.4900</td>\n",
       "    </tr>\n",
       "    <tr>\n",
       "      <th>sensor5</th>\n",
       "      <td>20631.0</td>\n",
       "      <td>14.620000</td>\n",
       "      <td>3.394700e-12</td>\n",
       "      <td>14.6200</td>\n",
       "      <td>14.6200</td>\n",
       "      <td>14.6200</td>\n",
       "      <td>14.6200</td>\n",
       "      <td>14.6200</td>\n",
       "    </tr>\n",
       "    <tr>\n",
       "      <th>sensor6</th>\n",
       "      <td>20631.0</td>\n",
       "      <td>21.609803</td>\n",
       "      <td>1.388985e-03</td>\n",
       "      <td>21.6000</td>\n",
       "      <td>21.6100</td>\n",
       "      <td>21.6100</td>\n",
       "      <td>21.6100</td>\n",
       "      <td>21.6100</td>\n",
       "    </tr>\n",
       "    <tr>\n",
       "      <th>sensor7</th>\n",
       "      <td>20631.0</td>\n",
       "      <td>553.367711</td>\n",
       "      <td>8.850923e-01</td>\n",
       "      <td>549.8500</td>\n",
       "      <td>552.8100</td>\n",
       "      <td>553.4400</td>\n",
       "      <td>554.0100</td>\n",
       "      <td>556.0600</td>\n",
       "    </tr>\n",
       "    <tr>\n",
       "      <th>sensor8</th>\n",
       "      <td>20631.0</td>\n",
       "      <td>2388.096652</td>\n",
       "      <td>7.098548e-02</td>\n",
       "      <td>2387.9000</td>\n",
       "      <td>2388.0500</td>\n",
       "      <td>2388.0900</td>\n",
       "      <td>2388.1400</td>\n",
       "      <td>2388.5600</td>\n",
       "    </tr>\n",
       "    <tr>\n",
       "      <th>sensor9</th>\n",
       "      <td>20631.0</td>\n",
       "      <td>9065.242941</td>\n",
       "      <td>2.208288e+01</td>\n",
       "      <td>9021.7300</td>\n",
       "      <td>9053.1000</td>\n",
       "      <td>9060.6600</td>\n",
       "      <td>9069.4200</td>\n",
       "      <td>9244.5900</td>\n",
       "    </tr>\n",
       "    <tr>\n",
       "      <th>sensor10</th>\n",
       "      <td>20631.0</td>\n",
       "      <td>1.300000</td>\n",
       "      <td>4.660829e-13</td>\n",
       "      <td>1.3000</td>\n",
       "      <td>1.3000</td>\n",
       "      <td>1.3000</td>\n",
       "      <td>1.3000</td>\n",
       "      <td>1.3000</td>\n",
       "    </tr>\n",
       "    <tr>\n",
       "      <th>sensor11</th>\n",
       "      <td>20631.0</td>\n",
       "      <td>47.541168</td>\n",
       "      <td>2.670874e-01</td>\n",
       "      <td>46.8500</td>\n",
       "      <td>47.3500</td>\n",
       "      <td>47.5100</td>\n",
       "      <td>47.7000</td>\n",
       "      <td>48.5300</td>\n",
       "    </tr>\n",
       "    <tr>\n",
       "      <th>sensor12</th>\n",
       "      <td>20631.0</td>\n",
       "      <td>521.413470</td>\n",
       "      <td>7.375534e-01</td>\n",
       "      <td>518.6900</td>\n",
       "      <td>520.9600</td>\n",
       "      <td>521.4800</td>\n",
       "      <td>521.9500</td>\n",
       "      <td>523.3800</td>\n",
       "    </tr>\n",
       "    <tr>\n",
       "      <th>sensor13</th>\n",
       "      <td>20631.0</td>\n",
       "      <td>2388.096152</td>\n",
       "      <td>7.191892e-02</td>\n",
       "      <td>2387.8800</td>\n",
       "      <td>2388.0400</td>\n",
       "      <td>2388.0900</td>\n",
       "      <td>2388.1400</td>\n",
       "      <td>2388.5600</td>\n",
       "    </tr>\n",
       "    <tr>\n",
       "      <th>sensor14</th>\n",
       "      <td>20631.0</td>\n",
       "      <td>8143.752722</td>\n",
       "      <td>1.907618e+01</td>\n",
       "      <td>8099.9400</td>\n",
       "      <td>8133.2450</td>\n",
       "      <td>8140.5400</td>\n",
       "      <td>8148.3100</td>\n",
       "      <td>8293.7200</td>\n",
       "    </tr>\n",
       "    <tr>\n",
       "      <th>sensor15</th>\n",
       "      <td>20631.0</td>\n",
       "      <td>8.442146</td>\n",
       "      <td>3.750504e-02</td>\n",
       "      <td>8.3249</td>\n",
       "      <td>8.4149</td>\n",
       "      <td>8.4389</td>\n",
       "      <td>8.4656</td>\n",
       "      <td>8.5848</td>\n",
       "    </tr>\n",
       "    <tr>\n",
       "      <th>sensor16</th>\n",
       "      <td>20631.0</td>\n",
       "      <td>0.030000</td>\n",
       "      <td>1.556432e-14</td>\n",
       "      <td>0.0300</td>\n",
       "      <td>0.0300</td>\n",
       "      <td>0.0300</td>\n",
       "      <td>0.0300</td>\n",
       "      <td>0.0300</td>\n",
       "    </tr>\n",
       "    <tr>\n",
       "      <th>sensor17</th>\n",
       "      <td>20631.0</td>\n",
       "      <td>393.210654</td>\n",
       "      <td>1.548763e+00</td>\n",
       "      <td>388.0000</td>\n",
       "      <td>392.0000</td>\n",
       "      <td>393.0000</td>\n",
       "      <td>394.0000</td>\n",
       "      <td>400.0000</td>\n",
       "    </tr>\n",
       "    <tr>\n",
       "      <th>sensor18</th>\n",
       "      <td>20631.0</td>\n",
       "      <td>2388.000000</td>\n",
       "      <td>0.000000e+00</td>\n",
       "      <td>2388.0000</td>\n",
       "      <td>2388.0000</td>\n",
       "      <td>2388.0000</td>\n",
       "      <td>2388.0000</td>\n",
       "      <td>2388.0000</td>\n",
       "    </tr>\n",
       "    <tr>\n",
       "      <th>sensor19</th>\n",
       "      <td>20631.0</td>\n",
       "      <td>100.000000</td>\n",
       "      <td>0.000000e+00</td>\n",
       "      <td>100.0000</td>\n",
       "      <td>100.0000</td>\n",
       "      <td>100.0000</td>\n",
       "      <td>100.0000</td>\n",
       "      <td>100.0000</td>\n",
       "    </tr>\n",
       "    <tr>\n",
       "      <th>sensor20</th>\n",
       "      <td>20631.0</td>\n",
       "      <td>38.816271</td>\n",
       "      <td>1.807464e-01</td>\n",
       "      <td>38.1400</td>\n",
       "      <td>38.7000</td>\n",
       "      <td>38.8300</td>\n",
       "      <td>38.9500</td>\n",
       "      <td>39.4300</td>\n",
       "    </tr>\n",
       "    <tr>\n",
       "      <th>sensor21</th>\n",
       "      <td>20631.0</td>\n",
       "      <td>23.289705</td>\n",
       "      <td>1.082509e-01</td>\n",
       "      <td>22.8942</td>\n",
       "      <td>23.2218</td>\n",
       "      <td>23.2979</td>\n",
       "      <td>23.3668</td>\n",
       "      <td>23.6184</td>\n",
       "    </tr>\n",
       "    <tr>\n",
       "      <th>sensor22</th>\n",
       "      <td>0.0</td>\n",
       "      <td>NaN</td>\n",
       "      <td>NaN</td>\n",
       "      <td>NaN</td>\n",
       "      <td>NaN</td>\n",
       "      <td>NaN</td>\n",
       "      <td>NaN</td>\n",
       "      <td>NaN</td>\n",
       "    </tr>\n",
       "    <tr>\n",
       "      <th>sensor23</th>\n",
       "      <td>0.0</td>\n",
       "      <td>NaN</td>\n",
       "      <td>NaN</td>\n",
       "      <td>NaN</td>\n",
       "      <td>NaN</td>\n",
       "      <td>NaN</td>\n",
       "      <td>NaN</td>\n",
       "      <td>NaN</td>\n",
       "    </tr>\n",
       "    <tr>\n",
       "      <th>remaining_cycles</th>\n",
       "      <td>20631.0</td>\n",
       "      <td>107.807862</td>\n",
       "      <td>6.888099e+01</td>\n",
       "      <td>0.0000</td>\n",
       "      <td>51.0000</td>\n",
       "      <td>103.0000</td>\n",
       "      <td>155.0000</td>\n",
       "      <td>361.0000</td>\n",
       "    </tr>\n",
       "  </tbody>\n",
       "</table>\n",
       "</div>"
      ],
      "text/plain": [
       "                    count         mean           std        min        25%  \\\n",
       "unit              20631.0    51.506568  2.922763e+01     1.0000    26.0000   \n",
       "cycle             20631.0   108.807862  6.888099e+01     1.0000    52.0000   \n",
       "op1               20631.0    -0.000009  2.187313e-03    -0.0087    -0.0015   \n",
       "op2               20631.0     0.000002  2.930621e-04    -0.0006    -0.0002   \n",
       "op3               20631.0   100.000000  0.000000e+00   100.0000   100.0000   \n",
       "sensor1           20631.0   518.670000  6.537152e-11   518.6700   518.6700   \n",
       "sensor2           20631.0   642.680934  5.000533e-01   641.2100   642.3250   \n",
       "sensor3           20631.0  1590.523119  6.131150e+00  1571.0400  1586.2600   \n",
       "sensor4           20631.0  1408.933782  9.000605e+00  1382.2500  1402.3600   \n",
       "sensor5           20631.0    14.620000  3.394700e-12    14.6200    14.6200   \n",
       "sensor6           20631.0    21.609803  1.388985e-03    21.6000    21.6100   \n",
       "sensor7           20631.0   553.367711  8.850923e-01   549.8500   552.8100   \n",
       "sensor8           20631.0  2388.096652  7.098548e-02  2387.9000  2388.0500   \n",
       "sensor9           20631.0  9065.242941  2.208288e+01  9021.7300  9053.1000   \n",
       "sensor10          20631.0     1.300000  4.660829e-13     1.3000     1.3000   \n",
       "sensor11          20631.0    47.541168  2.670874e-01    46.8500    47.3500   \n",
       "sensor12          20631.0   521.413470  7.375534e-01   518.6900   520.9600   \n",
       "sensor13          20631.0  2388.096152  7.191892e-02  2387.8800  2388.0400   \n",
       "sensor14          20631.0  8143.752722  1.907618e+01  8099.9400  8133.2450   \n",
       "sensor15          20631.0     8.442146  3.750504e-02     8.3249     8.4149   \n",
       "sensor16          20631.0     0.030000  1.556432e-14     0.0300     0.0300   \n",
       "sensor17          20631.0   393.210654  1.548763e+00   388.0000   392.0000   \n",
       "sensor18          20631.0  2388.000000  0.000000e+00  2388.0000  2388.0000   \n",
       "sensor19          20631.0   100.000000  0.000000e+00   100.0000   100.0000   \n",
       "sensor20          20631.0    38.816271  1.807464e-01    38.1400    38.7000   \n",
       "sensor21          20631.0    23.289705  1.082509e-01    22.8942    23.2218   \n",
       "sensor22              0.0          NaN           NaN        NaN        NaN   \n",
       "sensor23              0.0          NaN           NaN        NaN        NaN   \n",
       "remaining_cycles  20631.0   107.807862  6.888099e+01     0.0000    51.0000   \n",
       "\n",
       "                        50%        75%        max  \n",
       "unit                52.0000    77.0000   100.0000  \n",
       "cycle              104.0000   156.0000   362.0000  \n",
       "op1                  0.0000     0.0015     0.0087  \n",
       "op2                  0.0000     0.0003     0.0006  \n",
       "op3                100.0000   100.0000   100.0000  \n",
       "sensor1            518.6700   518.6700   518.6700  \n",
       "sensor2            642.6400   643.0000   644.5300  \n",
       "sensor3           1590.1000  1594.3800  1616.9100  \n",
       "sensor4           1408.0400  1414.5550  1441.4900  \n",
       "sensor5             14.6200    14.6200    14.6200  \n",
       "sensor6             21.6100    21.6100    21.6100  \n",
       "sensor7            553.4400   554.0100   556.0600  \n",
       "sensor8           2388.0900  2388.1400  2388.5600  \n",
       "sensor9           9060.6600  9069.4200  9244.5900  \n",
       "sensor10             1.3000     1.3000     1.3000  \n",
       "sensor11            47.5100    47.7000    48.5300  \n",
       "sensor12           521.4800   521.9500   523.3800  \n",
       "sensor13          2388.0900  2388.1400  2388.5600  \n",
       "sensor14          8140.5400  8148.3100  8293.7200  \n",
       "sensor15             8.4389     8.4656     8.5848  \n",
       "sensor16             0.0300     0.0300     0.0300  \n",
       "sensor17           393.0000   394.0000   400.0000  \n",
       "sensor18          2388.0000  2388.0000  2388.0000  \n",
       "sensor19           100.0000   100.0000   100.0000  \n",
       "sensor20            38.8300    38.9500    39.4300  \n",
       "sensor21            23.2979    23.3668    23.6184  \n",
       "sensor22                NaN        NaN        NaN  \n",
       "sensor23                NaN        NaN        NaN  \n",
       "remaining_cycles   103.0000   155.0000   361.0000  "
      ]
     },
     "execution_count": 24,
     "metadata": {},
     "output_type": "execute_result"
    }
   ],
   "source": [
    "train_df.describe().T"
   ]
  },
  {
   "cell_type": "markdown",
   "metadata": {},
   "source": [
    "**Take Away** \n",
    "1. Sensor 1, 5, 6, 10, 16, 18, 19, Op3 have constant values across the dataset, suggest removal.  \n",
    "2. Sensor 22, 23 are missing, suggest removal\n",
    "\n",
    "Note:  Unit and Cycle histograms are not informative since they contain the engine number and cycle (recall from above that max cycle per engine was useful)"
   ]
  },
  {
   "cell_type": "code",
   "execution_count": 25,
   "metadata": {},
   "outputs": [],
   "source": [
    "drop_cols = ['unit','cycle','op3','sensor1','sensor5','sensor6','sensor10','sensor16','sensor18','sensor19','sensor22','sensor23']"
   ]
  },
  {
   "cell_type": "code",
   "execution_count": 26,
   "metadata": {},
   "outputs": [],
   "source": [
    "train_df.drop(drop_cols,axis=1,inplace=True)"
   ]
  },
  {
   "cell_type": "markdown",
   "metadata": {},
   "source": [
    "#### Prepare Target Variable\n",
    "\n",
    "For this task we want to predict that the engine is near failure, before it fails.  To do that we will convert the cycle count column to remaining cycles.  Next, we will add an additonal column that is a binary variable when the engine has X remaining cycles left.  X can be defined by the user.  In this example we will use 40 remaining cycles as the "
   ]
  },
  {
   "cell_type": "code",
   "execution_count": 61,
   "metadata": {},
   "outputs": [],
   "source": [
    "cycle_limit = 40\n",
    "train_df['failed'] = train_df['remaining_cycles'].apply(lambda x: 1 if x <= cycle_limit else 0)"
   ]
  },
  {
   "cell_type": "code",
   "execution_count": 62,
   "metadata": {},
   "outputs": [
    {
     "name": "stdout",
     "output_type": "stream",
     "text": [
      "Total number of failed cases in training dataset:  4100\n",
      "Fraction of total in training dataset:  0.19873006640492463\n"
     ]
    }
   ],
   "source": [
    "print('Total number of failed cases in training dataset:  '+str(train_df['failed'].sum()))\n",
    "print('Fraction of total in training dataset:  '+str(train_df['failed'].sum()/train_df['failed'].count()))"
   ]
  },
  {
   "cell_type": "markdown",
   "metadata": {},
   "source": [
    "#### Missing Values"
   ]
  },
  {
   "cell_type": "code",
   "execution_count": 63,
   "metadata": {},
   "outputs": [
    {
     "data": {
      "text/plain": [
       "False"
      ]
     },
     "execution_count": 63,
     "metadata": {},
     "output_type": "execute_result"
    }
   ],
   "source": [
    "train_df.isnull().values.any()"
   ]
  },
  {
   "cell_type": "code",
   "execution_count": 64,
   "metadata": {},
   "outputs": [
    {
     "name": "stdout",
     "output_type": "stream",
     "text": [
      "Training Dataset Shape: (20631, 18)\n"
     ]
    }
   ],
   "source": [
    "print('Training Dataset Shape:', train_df.shape)"
   ]
  },
  {
   "cell_type": "code",
   "execution_count": 65,
   "metadata": {},
   "outputs": [
    {
     "data": {
      "text/html": [
       "<div>\n",
       "<style scoped>\n",
       "    .dataframe tbody tr th:only-of-type {\n",
       "        vertical-align: middle;\n",
       "    }\n",
       "\n",
       "    .dataframe tbody tr th {\n",
       "        vertical-align: top;\n",
       "    }\n",
       "\n",
       "    .dataframe thead th {\n",
       "        text-align: right;\n",
       "    }\n",
       "</style>\n",
       "<table border=\"1\" class=\"dataframe\">\n",
       "  <thead>\n",
       "    <tr style=\"text-align: right;\">\n",
       "      <th></th>\n",
       "      <th>op1</th>\n",
       "      <th>op2</th>\n",
       "      <th>sensor2</th>\n",
       "      <th>sensor3</th>\n",
       "      <th>sensor4</th>\n",
       "      <th>sensor7</th>\n",
       "      <th>sensor8</th>\n",
       "      <th>sensor9</th>\n",
       "      <th>sensor11</th>\n",
       "      <th>sensor12</th>\n",
       "      <th>sensor13</th>\n",
       "      <th>sensor14</th>\n",
       "      <th>sensor15</th>\n",
       "      <th>sensor17</th>\n",
       "      <th>sensor20</th>\n",
       "      <th>sensor21</th>\n",
       "      <th>remaining_cycles</th>\n",
       "      <th>failed</th>\n",
       "    </tr>\n",
       "  </thead>\n",
       "  <tbody>\n",
       "    <tr>\n",
       "      <th>0</th>\n",
       "      <td>0.0019</td>\n",
       "      <td>0.0002</td>\n",
       "      <td>642.58</td>\n",
       "      <td>1586.81</td>\n",
       "      <td>1397.25</td>\n",
       "      <td>553.96</td>\n",
       "      <td>2388.07</td>\n",
       "      <td>9066.89</td>\n",
       "      <td>47.22</td>\n",
       "      <td>522.35</td>\n",
       "      <td>2388.00</td>\n",
       "      <td>8140.88</td>\n",
       "      <td>8.4223</td>\n",
       "      <td>393</td>\n",
       "      <td>38.96</td>\n",
       "      <td>23.3780</td>\n",
       "      <td>169</td>\n",
       "      <td>0</td>\n",
       "    </tr>\n",
       "    <tr>\n",
       "      <th>1</th>\n",
       "      <td>0.0001</td>\n",
       "      <td>0.0001</td>\n",
       "      <td>643.20</td>\n",
       "      <td>1591.64</td>\n",
       "      <td>1410.92</td>\n",
       "      <td>552.21</td>\n",
       "      <td>2388.19</td>\n",
       "      <td>9055.31</td>\n",
       "      <td>47.74</td>\n",
       "      <td>520.48</td>\n",
       "      <td>2388.15</td>\n",
       "      <td>8137.26</td>\n",
       "      <td>8.4588</td>\n",
       "      <td>393</td>\n",
       "      <td>38.70</td>\n",
       "      <td>23.1894</td>\n",
       "      <td>112</td>\n",
       "      <td>0</td>\n",
       "    </tr>\n",
       "    <tr>\n",
       "      <th>2</th>\n",
       "      <td>-0.0032</td>\n",
       "      <td>0.0004</td>\n",
       "      <td>642.12</td>\n",
       "      <td>1587.96</td>\n",
       "      <td>1394.48</td>\n",
       "      <td>554.26</td>\n",
       "      <td>2388.01</td>\n",
       "      <td>9060.24</td>\n",
       "      <td>47.31</td>\n",
       "      <td>522.53</td>\n",
       "      <td>2388.03</td>\n",
       "      <td>8151.48</td>\n",
       "      <td>8.4488</td>\n",
       "      <td>393</td>\n",
       "      <td>38.96</td>\n",
       "      <td>23.3425</td>\n",
       "      <td>151</td>\n",
       "      <td>0</td>\n",
       "    </tr>\n",
       "    <tr>\n",
       "      <th>3</th>\n",
       "      <td>-0.0001</td>\n",
       "      <td>-0.0003</td>\n",
       "      <td>642.60</td>\n",
       "      <td>1590.32</td>\n",
       "      <td>1410.63</td>\n",
       "      <td>553.04</td>\n",
       "      <td>2388.11</td>\n",
       "      <td>9058.24</td>\n",
       "      <td>47.40</td>\n",
       "      <td>521.58</td>\n",
       "      <td>2388.09</td>\n",
       "      <td>8139.22</td>\n",
       "      <td>8.4359</td>\n",
       "      <td>394</td>\n",
       "      <td>38.89</td>\n",
       "      <td>23.3002</td>\n",
       "      <td>89</td>\n",
       "      <td>0</td>\n",
       "    </tr>\n",
       "    <tr>\n",
       "      <th>4</th>\n",
       "      <td>0.0003</td>\n",
       "      <td>-0.0002</td>\n",
       "      <td>642.71</td>\n",
       "      <td>1593.85</td>\n",
       "      <td>1409.66</td>\n",
       "      <td>552.72</td>\n",
       "      <td>2388.12</td>\n",
       "      <td>9061.56</td>\n",
       "      <td>47.64</td>\n",
       "      <td>521.37</td>\n",
       "      <td>2388.06</td>\n",
       "      <td>8141.76</td>\n",
       "      <td>8.4357</td>\n",
       "      <td>394</td>\n",
       "      <td>38.71</td>\n",
       "      <td>23.1922</td>\n",
       "      <td>87</td>\n",
       "      <td>0</td>\n",
       "    </tr>\n",
       "  </tbody>\n",
       "</table>\n",
       "</div>"
      ],
      "text/plain": [
       "      op1     op2  sensor2  sensor3  sensor4  sensor7  sensor8  sensor9  \\\n",
       "0  0.0019  0.0002   642.58  1586.81  1397.25   553.96  2388.07  9066.89   \n",
       "1  0.0001  0.0001   643.20  1591.64  1410.92   552.21  2388.19  9055.31   \n",
       "2 -0.0032  0.0004   642.12  1587.96  1394.48   554.26  2388.01  9060.24   \n",
       "3 -0.0001 -0.0003   642.60  1590.32  1410.63   553.04  2388.11  9058.24   \n",
       "4  0.0003 -0.0002   642.71  1593.85  1409.66   552.72  2388.12  9061.56   \n",
       "\n",
       "   sensor11  sensor12  sensor13  sensor14  sensor15  sensor17  sensor20  \\\n",
       "0     47.22    522.35   2388.00   8140.88    8.4223       393     38.96   \n",
       "1     47.74    520.48   2388.15   8137.26    8.4588       393     38.70   \n",
       "2     47.31    522.53   2388.03   8151.48    8.4488       393     38.96   \n",
       "3     47.40    521.58   2388.09   8139.22    8.4359       394     38.89   \n",
       "4     47.64    521.37   2388.06   8141.76    8.4357       394     38.71   \n",
       "\n",
       "   sensor21  remaining_cycles  failed  \n",
       "0   23.3780               169       0  \n",
       "1   23.1894               112       0  \n",
       "2   23.3425               151       0  \n",
       "3   23.3002                89       0  \n",
       "4   23.1922                87       0  "
      ]
     },
     "execution_count": 65,
     "metadata": {},
     "output_type": "execute_result"
    }
   ],
   "source": [
    "train_df.head()"
   ]
  },
  {
   "cell_type": "markdown",
   "metadata": {},
   "source": [
    "#### Save off the datasets"
   ]
  },
  {
   "cell_type": "code",
   "execution_count": 66,
   "metadata": {},
   "outputs": [],
   "source": [
    "train_df.to_csv('cleaned_train.csv',index=False)"
   ]
  },
  {
   "cell_type": "markdown",
   "metadata": {},
   "source": [
    "#### OPTIONAL - Load the saved datasets"
   ]
  },
  {
   "cell_type": "code",
   "execution_count": 67,
   "metadata": {},
   "outputs": [],
   "source": [
    "train_df = pd.read_csv('cleaned_train.csv')"
   ]
  },
  {
   "cell_type": "markdown",
   "metadata": {},
   "source": [
    "#### Shuffle / Randomize"
   ]
  },
  {
   "cell_type": "code",
   "execution_count": 68,
   "metadata": {},
   "outputs": [],
   "source": [
    "train_df = train_df.sample(frac=1,random_state=RANDOM_SEED).reset_index(drop=True)"
   ]
  },
  {
   "cell_type": "markdown",
   "metadata": {},
   "source": [
    "#### Select only non-failed rows and drop other columns"
   ]
  },
  {
   "cell_type": "code",
   "execution_count": 69,
   "metadata": {},
   "outputs": [],
   "source": [
    "train_x = train_df.loc[train_df['failed'] == 0]\n",
    "train_x = train_x.drop(['failed','remaining_cycles'], axis=1)"
   ]
  },
  {
   "cell_type": "code",
   "execution_count": 70,
   "metadata": {},
   "outputs": [
    {
     "data": {
      "text/html": [
       "<div>\n",
       "<style scoped>\n",
       "    .dataframe tbody tr th:only-of-type {\n",
       "        vertical-align: middle;\n",
       "    }\n",
       "\n",
       "    .dataframe tbody tr th {\n",
       "        vertical-align: top;\n",
       "    }\n",
       "\n",
       "    .dataframe thead th {\n",
       "        text-align: right;\n",
       "    }\n",
       "</style>\n",
       "<table border=\"1\" class=\"dataframe\">\n",
       "  <thead>\n",
       "    <tr style=\"text-align: right;\">\n",
       "      <th></th>\n",
       "      <th>op1</th>\n",
       "      <th>op2</th>\n",
       "      <th>sensor2</th>\n",
       "      <th>sensor3</th>\n",
       "      <th>sensor4</th>\n",
       "      <th>sensor7</th>\n",
       "      <th>sensor8</th>\n",
       "      <th>sensor9</th>\n",
       "      <th>sensor11</th>\n",
       "      <th>sensor12</th>\n",
       "      <th>sensor13</th>\n",
       "      <th>sensor14</th>\n",
       "      <th>sensor15</th>\n",
       "      <th>sensor17</th>\n",
       "      <th>sensor20</th>\n",
       "      <th>sensor21</th>\n",
       "    </tr>\n",
       "  </thead>\n",
       "  <tbody>\n",
       "    <tr>\n",
       "      <th>0</th>\n",
       "      <td>-0.0038</td>\n",
       "      <td>-0.0005</td>\n",
       "      <td>642.62</td>\n",
       "      <td>1593.51</td>\n",
       "      <td>1410.15</td>\n",
       "      <td>553.41</td>\n",
       "      <td>2388.04</td>\n",
       "      <td>9067.71</td>\n",
       "      <td>47.47</td>\n",
       "      <td>521.97</td>\n",
       "      <td>2388.07</td>\n",
       "      <td>8153.14</td>\n",
       "      <td>8.4286</td>\n",
       "      <td>393</td>\n",
       "      <td>38.86</td>\n",
       "      <td>23.3528</td>\n",
       "    </tr>\n",
       "    <tr>\n",
       "      <th>1</th>\n",
       "      <td>-0.0029</td>\n",
       "      <td>-0.0004</td>\n",
       "      <td>642.29</td>\n",
       "      <td>1589.45</td>\n",
       "      <td>1399.39</td>\n",
       "      <td>554.32</td>\n",
       "      <td>2388.06</td>\n",
       "      <td>9057.61</td>\n",
       "      <td>47.40</td>\n",
       "      <td>521.90</td>\n",
       "      <td>2388.01</td>\n",
       "      <td>8142.27</td>\n",
       "      <td>8.4399</td>\n",
       "      <td>392</td>\n",
       "      <td>38.85</td>\n",
       "      <td>23.3294</td>\n",
       "    </tr>\n",
       "    <tr>\n",
       "      <th>2</th>\n",
       "      <td>0.0023</td>\n",
       "      <td>0.0003</td>\n",
       "      <td>642.73</td>\n",
       "      <td>1585.04</td>\n",
       "      <td>1409.85</td>\n",
       "      <td>553.99</td>\n",
       "      <td>2388.04</td>\n",
       "      <td>9066.22</td>\n",
       "      <td>47.42</td>\n",
       "      <td>521.59</td>\n",
       "      <td>2388.09</td>\n",
       "      <td>8144.49</td>\n",
       "      <td>8.4151</td>\n",
       "      <td>392</td>\n",
       "      <td>39.19</td>\n",
       "      <td>23.3992</td>\n",
       "    </tr>\n",
       "    <tr>\n",
       "      <th>3</th>\n",
       "      <td>0.0020</td>\n",
       "      <td>0.0001</td>\n",
       "      <td>642.84</td>\n",
       "      <td>1587.37</td>\n",
       "      <td>1403.40</td>\n",
       "      <td>553.55</td>\n",
       "      <td>2388.12</td>\n",
       "      <td>9065.87</td>\n",
       "      <td>47.59</td>\n",
       "      <td>521.10</td>\n",
       "      <td>2388.07</td>\n",
       "      <td>8143.06</td>\n",
       "      <td>8.4479</td>\n",
       "      <td>392</td>\n",
       "      <td>38.79</td>\n",
       "      <td>23.3209</td>\n",
       "    </tr>\n",
       "    <tr>\n",
       "      <th>4</th>\n",
       "      <td>0.0012</td>\n",
       "      <td>-0.0001</td>\n",
       "      <td>642.70</td>\n",
       "      <td>1590.64</td>\n",
       "      <td>1400.06</td>\n",
       "      <td>553.23</td>\n",
       "      <td>2388.06</td>\n",
       "      <td>9049.68</td>\n",
       "      <td>47.48</td>\n",
       "      <td>521.19</td>\n",
       "      <td>2388.12</td>\n",
       "      <td>8124.27</td>\n",
       "      <td>8.4403</td>\n",
       "      <td>392</td>\n",
       "      <td>38.86</td>\n",
       "      <td>23.2026</td>\n",
       "    </tr>\n",
       "  </tbody>\n",
       "</table>\n",
       "</div>"
      ],
      "text/plain": [
       "      op1     op2  sensor2  sensor3  sensor4  sensor7  sensor8  sensor9  \\\n",
       "0 -0.0038 -0.0005   642.62  1593.51  1410.15   553.41  2388.04  9067.71   \n",
       "1 -0.0029 -0.0004   642.29  1589.45  1399.39   554.32  2388.06  9057.61   \n",
       "2  0.0023  0.0003   642.73  1585.04  1409.85   553.99  2388.04  9066.22   \n",
       "3  0.0020  0.0001   642.84  1587.37  1403.40   553.55  2388.12  9065.87   \n",
       "4  0.0012 -0.0001   642.70  1590.64  1400.06   553.23  2388.06  9049.68   \n",
       "\n",
       "   sensor11  sensor12  sensor13  sensor14  sensor15  sensor17  sensor20  \\\n",
       "0     47.47    521.97   2388.07   8153.14    8.4286       393     38.86   \n",
       "1     47.40    521.90   2388.01   8142.27    8.4399       392     38.85   \n",
       "2     47.42    521.59   2388.09   8144.49    8.4151       392     39.19   \n",
       "3     47.59    521.10   2388.07   8143.06    8.4479       392     38.79   \n",
       "4     47.48    521.19   2388.12   8124.27    8.4403       392     38.86   \n",
       "\n",
       "   sensor21  \n",
       "0   23.3528  \n",
       "1   23.3294  \n",
       "2   23.3992  \n",
       "3   23.3209  \n",
       "4   23.2026  "
      ]
     },
     "execution_count": 70,
     "metadata": {},
     "output_type": "execute_result"
    }
   ],
   "source": [
    "train_x.head()"
   ]
  },
  {
   "cell_type": "markdown",
   "metadata": {},
   "source": [
    "#### Split Dataset"
   ]
  },
  {
   "cell_type": "code",
   "execution_count": 71,
   "metadata": {},
   "outputs": [],
   "source": [
    "# 80% for the training set and 20% for testing set\n",
    "TEST_PCT = 0.2 # 20% of the data\n",
    "train_x, val_x = train_test_split(train_x, test_size=TEST_PCT, random_state=RANDOM_SEED)"
   ]
  },
  {
   "cell_type": "markdown",
   "metadata": {},
   "source": [
    "#### Scale Data\n",
    "\n",
    "IMPORTANT! - You must apply the same scaling from the training dataset to the testing / validation dataset"
   ]
  },
  {
   "cell_type": "code",
   "execution_count": 125,
   "metadata": {},
   "outputs": [],
   "source": [
    "scaler = MinMaxScaler()\n",
    "scaler = RobustScaler()"
   ]
  },
  {
   "cell_type": "code",
   "execution_count": 126,
   "metadata": {},
   "outputs": [
    {
     "data": {
      "text/plain": [
       "RobustScaler(copy=True, quantile_range=(25.0, 75.0), with_centering=True,\n",
       "             with_scaling=True)"
      ]
     },
     "execution_count": 126,
     "metadata": {},
     "output_type": "execute_result"
    }
   ],
   "source": [
    "scaler.fit(train_x)"
   ]
  },
  {
   "cell_type": "code",
   "execution_count": 127,
   "metadata": {},
   "outputs": [],
   "source": [
    "train = scaler.transform(train_x)\n",
    "val = scaler.transform(val_x)"
   ]
  },
  {
   "cell_type": "markdown",
   "metadata": {},
   "source": [
    "#### Save and Upload Data"
   ]
  },
  {
   "cell_type": "code",
   "execution_count": 128,
   "metadata": {
    "scrolled": true
   },
   "outputs": [],
   "source": [
    "os.makedirs(\"./data\", exist_ok = True)\n",
    "\n",
    "# save\n",
    "with open('./data/val.npy', 'wb') as f: np.save(f, val)\n",
    "with open('./data/train.npy', 'wb') as f: np.save(f, train)"
   ]
  },
  {
   "cell_type": "code",
   "execution_count": 129,
   "metadata": {},
   "outputs": [],
   "source": [
    "# load\n",
    "with open('./data/val.npy', 'rb') as f: val = np.load(f)\n",
    "with open('./data/train.npy', 'rb') as f: train = np.load(f)"
   ]
  },
  {
   "cell_type": "code",
   "execution_count": 130,
   "metadata": {},
   "outputs": [
    {
     "name": "stdout",
     "output_type": "stream",
     "text": [
      "s3://sagemaker-us-east-1-431615879134/turbofan-RUL-AE/training/train.npy\n",
      "s3://sagemaker-us-east-1-431615879134/turbofan-RUL-AE/validation/val.npy\n"
     ]
    }
   ],
   "source": [
    "prefix = 'turbofan-RUL-AE'\n",
    "\n",
    "training_input_path   = sess.upload_data('data/train.npy', key_prefix=prefix+'/training')\n",
    "validation_input_path = sess.upload_data('data/val.npy', key_prefix=prefix+'/validation')\n",
    "\n",
    "print(training_input_path)\n",
    "print(validation_input_path)"
   ]
  },
  {
   "cell_type": "markdown",
   "metadata": {},
   "source": [
    "# Model Training"
   ]
  },
  {
   "cell_type": "markdown",
   "metadata": {},
   "source": [
    "AutoEncoders are special kind of neural networks, where your input is 'x' and you have your output as 'x' as well. What this really means is that we are trying to learn a function, where the input and output are the same.\n",
    "\n",
    "AutoEncoders are special kind of neural networks, where your input is 'x' and you have your output as 'x' as well. What this really means is that we are trying to learn a function, where the input and output are the same.\n",
    "\n",
    "The function f(x), that we are going to learn is approximately equal to x \n",
    "\n",
    "![](Autoencoder_structure.png)\n",
    "\n",
    "Few things to note. \n",
    "\n",
    "- We are reducing the number of nodes, which will force network to learn the features from the dataset. Intuition being that this \"code\" is a set of abstracted features which represents or creates a fingerprint for \"failures\" or a \"non-failure\" activitiy.\n",
    "- Since we are starting with the input 'x', reducing into a abstracted features and then reconstructing back the 'x' means we really don't need a labeled dataset. \n",
    "- The \"code\" is intutively a representation of abstracted features. \n",
    "\n",
    "For our engine dataset, we are going to get all the non-failed data and will try to re-create the same. During this process the network should try to learn a unique representation of what's a non-failed activity. Once the model is trained with whats 'normal' that means anything which does not match this normal representation can be declared as abnormal. \n",
    "\n",
    "For inference, we are going to give both failed and non-failed data to the model. Model prediction will give us the  reconstruction error. This is where we set the threshold which let's domain expert define what tolerance is ok consider normal and when to declare as abnormal data. "
   ]
  },
  {
   "cell_type": "code",
   "execution_count": 268,
   "metadata": {},
   "outputs": [
    {
     "name": "stdout",
     "output_type": "stream",
     "text": [
      "\u001b[34mimport\u001b[39;49;00m \u001b[04m\u001b[36margparse\u001b[39;49;00m, \u001b[04m\u001b[36mos\u001b[39;49;00m\n",
      "\u001b[34mimport\u001b[39;49;00m \u001b[04m\u001b[36mnumpy\u001b[39;49;00m \u001b[34mas\u001b[39;49;00m \u001b[04m\u001b[36mnp\u001b[39;49;00m\n",
      "\n",
      "\u001b[34mimport\u001b[39;49;00m \u001b[04m\u001b[36mtensorflow\u001b[39;49;00m \u001b[34mas\u001b[39;49;00m \u001b[04m\u001b[36mtf\u001b[39;49;00m\n",
      "\u001b[34mimport\u001b[39;49;00m \u001b[04m\u001b[36mkeras\u001b[39;49;00m\n",
      "\u001b[34mfrom\u001b[39;49;00m \u001b[04m\u001b[36mkeras\u001b[39;49;00m \u001b[34mimport\u001b[39;49;00m backend \u001b[34mas\u001b[39;49;00m K\n",
      "\u001b[34mfrom\u001b[39;49;00m \u001b[04m\u001b[36mkeras\u001b[39;49;00m\u001b[04m\u001b[36m.\u001b[39;49;00m\u001b[04m\u001b[36mmodels\u001b[39;49;00m \u001b[34mimport\u001b[39;49;00m Model\n",
      "\u001b[34mfrom\u001b[39;49;00m \u001b[04m\u001b[36mkeras\u001b[39;49;00m\u001b[04m\u001b[36m.\u001b[39;49;00m\u001b[04m\u001b[36mlayers\u001b[39;49;00m \u001b[34mimport\u001b[39;49;00m Dense, Dropout, Input\n",
      "\u001b[34mfrom\u001b[39;49;00m \u001b[04m\u001b[36mkeras\u001b[39;49;00m \u001b[34mimport\u001b[39;49;00m regularizers\n",
      "\u001b[34mfrom\u001b[39;49;00m \u001b[04m\u001b[36mkeras\u001b[39;49;00m\u001b[04m\u001b[36m.\u001b[39;49;00m\u001b[04m\u001b[36moptimizers\u001b[39;49;00m \u001b[34mimport\u001b[39;49;00m Adam\n",
      "\u001b[34mfrom\u001b[39;49;00m \u001b[04m\u001b[36mkeras\u001b[39;49;00m\u001b[04m\u001b[36m.\u001b[39;49;00m\u001b[04m\u001b[36mutils\u001b[39;49;00m \u001b[34mimport\u001b[39;49;00m multi_gpu_model\n",
      "\n",
      "\u001b[34mif\u001b[39;49;00m \u001b[31m__name__\u001b[39;49;00m == \u001b[33m'\u001b[39;49;00m\u001b[33m__main__\u001b[39;49;00m\u001b[33m'\u001b[39;49;00m:\n",
      "        \n",
      "    \u001b[37m## INPUT ARGUMENTS\u001b[39;49;00m\n",
      "    parser = argparse.ArgumentParser()\n",
      "    parser.add_argument(\u001b[33m'\u001b[39;49;00m\u001b[33m--epochs\u001b[39;49;00m\u001b[33m'\u001b[39;49;00m, \u001b[36mtype\u001b[39;49;00m=\u001b[36mint\u001b[39;49;00m, default=\u001b[34m30\u001b[39;49;00m)\n",
      "    parser.add_argument(\u001b[33m'\u001b[39;49;00m\u001b[33m--learning-rate\u001b[39;49;00m\u001b[33m'\u001b[39;49;00m, \u001b[36mtype\u001b[39;49;00m=\u001b[36mfloat\u001b[39;49;00m, default=\u001b[34m0.001\u001b[39;49;00m)\n",
      "    parser.add_argument(\u001b[33m'\u001b[39;49;00m\u001b[33m--batch-size\u001b[39;49;00m\u001b[33m'\u001b[39;49;00m, \u001b[36mtype\u001b[39;49;00m=\u001b[36mint\u001b[39;49;00m, default=\u001b[34m128\u001b[39;49;00m)\n",
      "    parser.add_argument(\u001b[33m'\u001b[39;49;00m\u001b[33m--gpu-count\u001b[39;49;00m\u001b[33m'\u001b[39;49;00m, \u001b[36mtype\u001b[39;49;00m=\u001b[36mint\u001b[39;49;00m, default=os.environ[\u001b[33m'\u001b[39;49;00m\u001b[33mSM_NUM_GPUS\u001b[39;49;00m\u001b[33m'\u001b[39;49;00m])\n",
      "    parser.add_argument(\u001b[33m'\u001b[39;49;00m\u001b[33m--model-dir\u001b[39;49;00m\u001b[33m'\u001b[39;49;00m, \u001b[36mtype\u001b[39;49;00m=\u001b[36mstr\u001b[39;49;00m, default=os.environ[\u001b[33m'\u001b[39;49;00m\u001b[33mSM_MODEL_DIR\u001b[39;49;00m\u001b[33m'\u001b[39;49;00m])\n",
      "    parser.add_argument(\u001b[33m'\u001b[39;49;00m\u001b[33m--training\u001b[39;49;00m\u001b[33m'\u001b[39;49;00m, \u001b[36mtype\u001b[39;49;00m=\u001b[36mstr\u001b[39;49;00m, default=os.environ[\u001b[33m'\u001b[39;49;00m\u001b[33mSM_CHANNEL_TRAINING\u001b[39;49;00m\u001b[33m'\u001b[39;49;00m])\n",
      "    parser.add_argument(\u001b[33m'\u001b[39;49;00m\u001b[33m--validation\u001b[39;49;00m\u001b[33m'\u001b[39;49;00m, \u001b[36mtype\u001b[39;49;00m=\u001b[36mstr\u001b[39;49;00m, default=os.environ[\u001b[33m'\u001b[39;49;00m\u001b[33mSM_CHANNEL_VALIDATION\u001b[39;49;00m\u001b[33m'\u001b[39;49;00m])\n",
      "    \n",
      "    args, _ = parser.parse_known_args()\n",
      "    \n",
      "    epochs     = args.epochs\n",
      "    lr         = args.learning_rate\n",
      "    batch_size = args.batch_size\n",
      "    gpu_count  = args.gpu_count\n",
      "    model_dir  = args.model_dir\n",
      "    training_dir   = args.training\n",
      "    validation_dir = args.validation\n",
      "    \n",
      "    \u001b[37m## DATA LOADING\u001b[39;49;00m\n",
      "    x_train = np.load(os.path.join(training_dir, \u001b[33m'\u001b[39;49;00m\u001b[33mtrain.npy\u001b[39;49;00m\u001b[33m'\u001b[39;49;00m))\n",
      "    x_val  = np.load(os.path.join(validation_dir, \u001b[33m'\u001b[39;49;00m\u001b[33mval.npy\u001b[39;49;00m\u001b[33m'\u001b[39;49;00m))\n",
      "    \n",
      "    \u001b[36mprint\u001b[39;49;00m(\u001b[33m'\u001b[39;49;00m\u001b[33mx_train shape:\u001b[39;49;00m\u001b[33m'\u001b[39;49;00m, x_train.shape)\n",
      "    \u001b[36mprint\u001b[39;49;00m(x_train.shape[\u001b[34m0\u001b[39;49;00m], \u001b[33m'\u001b[39;49;00m\u001b[33mtrain samples\u001b[39;49;00m\u001b[33m'\u001b[39;49;00m)\n",
      "    \u001b[36mprint\u001b[39;49;00m(x_val.shape[\u001b[34m0\u001b[39;49;00m], \u001b[33m'\u001b[39;49;00m\u001b[33mtest samples\u001b[39;49;00m\u001b[33m'\u001b[39;49;00m)\n",
      "    \n",
      "    \u001b[37m## MODEL ARCHITECTURE\u001b[39;49;00m\n",
      "    input_dim = x_train.shape[\u001b[34m1\u001b[39;49;00m]\n",
      "    encoding_dim = \u001b[36mint\u001b[39;49;00m(input_dim / \u001b[34m2\u001b[39;49;00m) - \u001b[34m1\u001b[39;49;00m\n",
      "    hidden_dim = \u001b[36mint\u001b[39;49;00m(encoding_dim / \u001b[34m2\u001b[39;49;00m)\n",
      "\n",
      "    input_layer = Input(shape=(input_dim, ))\n",
      "    \n",
      "    \n",
      "    encoder = Dense(encoding_dim, activation=\u001b[33m\"\u001b[39;49;00m\u001b[33mrelu\u001b[39;49;00m\u001b[33m\"\u001b[39;49;00m)(input_layer)\u001b[37m#activity_regularizer=regularizers.l1(lr))(input_layer)\u001b[39;49;00m\n",
      "    encoder = Dense(hidden_dim, activation=\u001b[33m\"\u001b[39;49;00m\u001b[33mrelu\u001b[39;49;00m\u001b[33m\"\u001b[39;49;00m)(encoder)\n",
      "    decoder = Dense(encoding_dim, activation=\u001b[33m'\u001b[39;49;00m\u001b[33mrelu\u001b[39;49;00m\u001b[33m'\u001b[39;49;00m)(encoder)\n",
      "    decoder = Dense(input_dim, activation=\u001b[33m'\u001b[39;49;00m\u001b[33mrelu\u001b[39;49;00m\u001b[33m'\u001b[39;49;00m)(decoder)\n",
      "    autoencoder = Model(inputs=input_layer, outputs=decoder)\n",
      "\n",
      "    autoencoder.compile(optimizer=\u001b[33m'\u001b[39;49;00m\u001b[33madam\u001b[39;49;00m\u001b[33m'\u001b[39;49;00m, loss=\u001b[33m'\u001b[39;49;00m\u001b[33mmean_squared_error\u001b[39;49;00m\u001b[33m'\u001b[39;49;00m)\n",
      "\n",
      "    \u001b[36mprint\u001b[39;49;00m(autoencoder.summary())\n",
      "\n",
      "    \u001b[34mif\u001b[39;49;00m gpu_count > \u001b[34m1\u001b[39;49;00m:\n",
      "        autoencoder = multi_gpu_model(autoencoder, gpus=gpu_count)\n",
      "\n",
      "    autoencoder.compile(optimizer=Adam(lr=lr), loss=\u001b[33m'\u001b[39;49;00m\u001b[33mmean_squared_error\u001b[39;49;00m\u001b[33m'\u001b[39;49;00m)\n",
      "    \n",
      "    \u001b[37m## MODEL TRAINING\u001b[39;49;00m\n",
      "    history = autoencoder.fit(x_train, x_train,\n",
      "                    epochs=epochs,\n",
      "                    batch_size=batch_size,\n",
      "                    shuffle=\u001b[34mTrue\u001b[39;49;00m,\n",
      "                    validation_data=(x_val,x_val),\n",
      "                    verbose=\u001b[34m1\u001b[39;49;00m).history\n",
      "    \n",
      "    score = autoencoder.evaluate(x_val, x_val, verbose=\u001b[34m0\u001b[39;49;00m)\n",
      "    \u001b[36mprint\u001b[39;49;00m(\u001b[33m'\u001b[39;49;00m\u001b[33mValidation loss    :\u001b[39;49;00m\u001b[33m'\u001b[39;49;00m, score)\n",
      "    \n",
      "    \u001b[37m## MODEL SAVING - save Keras model for Tensorflow Serving\u001b[39;49;00m\n",
      "    sess = K.get_session()\n",
      "    tf.saved_model.simple_save(\n",
      "        sess,\n",
      "        os.path.join(model_dir, \u001b[33m'\u001b[39;49;00m\u001b[33mmodel/1\u001b[39;49;00m\u001b[33m'\u001b[39;49;00m),\n",
      "        inputs={\u001b[33m'\u001b[39;49;00m\u001b[33minputs\u001b[39;49;00m\u001b[33m'\u001b[39;49;00m: autoencoder.input},\n",
      "        outputs={t.name: t \u001b[34mfor\u001b[39;49;00m t \u001b[35min\u001b[39;49;00m autoencoder.outputs})\n"
     ]
    }
   ],
   "source": [
    "!pygmentize turbofan_autoencoder_keras_tf.py"
   ]
  },
  {
   "cell_type": "markdown",
   "metadata": {},
   "source": [
    "## Train with Tensorflow on the notebook instance (aka 'local mode')"
   ]
  },
  {
   "cell_type": "code",
   "execution_count": 111,
   "metadata": {},
   "outputs": [],
   "source": [
    "tf_estimator = TensorFlow(entry_point='turbofan_autoencoder_keras_tf.py', \n",
    "                          role=role,\n",
    "                          instance_count=1, \n",
    "                          instance_type='local',\n",
    "                          framework_version='1.12', \n",
    "                          py_version='py3',\n",
    "                          script_mode=True,\n",
    "                          hyperparameters={'epochs': 2}\n",
    "                         )"
   ]
  },
  {
   "cell_type": "code",
   "execution_count": 80,
   "metadata": {
    "collapsed": true,
    "jupyter": {
     "outputs_hidden": true
    }
   },
   "outputs": [
    {
     "name": "stdout",
     "output_type": "stream",
     "text": [
      "Creating tmp0ptsrrcd_algo-1-6rple_1 ... \n",
      "\u001b[1BAttaching to tmp0ptsrrcd_algo-1-6rple_12mdone\u001b[0m\n",
      "\u001b[36malgo-1-6rple_1  |\u001b[0m 2021-01-28 20:21:09,221 sagemaker-containers INFO     Imported framework sagemaker_tensorflow_container.training\n",
      "\u001b[36malgo-1-6rple_1  |\u001b[0m 2021-01-28 20:21:09,226 sagemaker-containers INFO     No GPUs detected (normal if no gpus installed)\n",
      "\u001b[36malgo-1-6rple_1  |\u001b[0m 2021-01-28 20:21:09,409 sagemaker-containers INFO     No GPUs detected (normal if no gpus installed)\n",
      "\u001b[36malgo-1-6rple_1  |\u001b[0m 2021-01-28 20:21:09,423 sagemaker-containers INFO     No GPUs detected (normal if no gpus installed)\n",
      "\u001b[36malgo-1-6rple_1  |\u001b[0m 2021-01-28 20:21:09,434 sagemaker-containers INFO     Invoking user script\n",
      "\u001b[36malgo-1-6rple_1  |\u001b[0m \n",
      "\u001b[36malgo-1-6rple_1  |\u001b[0m Training Env:\n",
      "\u001b[36malgo-1-6rple_1  |\u001b[0m \n",
      "\u001b[36malgo-1-6rple_1  |\u001b[0m {\n",
      "\u001b[36malgo-1-6rple_1  |\u001b[0m     \"additional_framework_parameters\": {},\n",
      "\u001b[36malgo-1-6rple_1  |\u001b[0m     \"channel_input_dirs\": {\n",
      "\u001b[36malgo-1-6rple_1  |\u001b[0m         \"training\": \"/opt/ml/input/data/training\",\n",
      "\u001b[36malgo-1-6rple_1  |\u001b[0m         \"validation\": \"/opt/ml/input/data/validation\"\n",
      "\u001b[36malgo-1-6rple_1  |\u001b[0m     },\n",
      "\u001b[36malgo-1-6rple_1  |\u001b[0m     \"current_host\": \"algo-1-6rple\",\n",
      "\u001b[36malgo-1-6rple_1  |\u001b[0m     \"framework_module\": \"sagemaker_tensorflow_container.training:main\",\n",
      "\u001b[36malgo-1-6rple_1  |\u001b[0m     \"hosts\": [\n",
      "\u001b[36malgo-1-6rple_1  |\u001b[0m         \"algo-1-6rple\"\n",
      "\u001b[36malgo-1-6rple_1  |\u001b[0m     ],\n",
      "\u001b[36malgo-1-6rple_1  |\u001b[0m     \"hyperparameters\": {\n",
      "\u001b[36malgo-1-6rple_1  |\u001b[0m         \"epochs\": 2,\n",
      "\u001b[36malgo-1-6rple_1  |\u001b[0m         \"model_dir\": \"s3://sagemaker-us-east-1-431615879134/sagemaker-tensorflow-scriptmode-2021-01-28-20-21-04-744/model\"\n",
      "\u001b[36malgo-1-6rple_1  |\u001b[0m     },\n",
      "\u001b[36malgo-1-6rple_1  |\u001b[0m     \"input_config_dir\": \"/opt/ml/input/config\",\n",
      "\u001b[36malgo-1-6rple_1  |\u001b[0m     \"input_data_config\": {\n",
      "\u001b[36malgo-1-6rple_1  |\u001b[0m         \"training\": {\n",
      "\u001b[36malgo-1-6rple_1  |\u001b[0m             \"TrainingInputMode\": \"File\"\n",
      "\u001b[36malgo-1-6rple_1  |\u001b[0m         },\n",
      "\u001b[36malgo-1-6rple_1  |\u001b[0m         \"validation\": {\n",
      "\u001b[36malgo-1-6rple_1  |\u001b[0m             \"TrainingInputMode\": \"File\"\n",
      "\u001b[36malgo-1-6rple_1  |\u001b[0m         }\n",
      "\u001b[36malgo-1-6rple_1  |\u001b[0m     },\n",
      "\u001b[36malgo-1-6rple_1  |\u001b[0m     \"input_dir\": \"/opt/ml/input\",\n",
      "\u001b[36malgo-1-6rple_1  |\u001b[0m     \"is_master\": true,\n",
      "\u001b[36malgo-1-6rple_1  |\u001b[0m     \"job_name\": \"sagemaker-tensorflow-scriptmode-2021-01-28-20-21-04-744\",\n",
      "\u001b[36malgo-1-6rple_1  |\u001b[0m     \"log_level\": 20,\n",
      "\u001b[36malgo-1-6rple_1  |\u001b[0m     \"master_hostname\": \"algo-1-6rple\",\n",
      "\u001b[36malgo-1-6rple_1  |\u001b[0m     \"model_dir\": \"/opt/ml/model\",\n",
      "\u001b[36malgo-1-6rple_1  |\u001b[0m     \"module_dir\": \"s3://sagemaker-us-east-1-431615879134/sagemaker-tensorflow-scriptmode-2021-01-28-20-21-04-744/source/sourcedir.tar.gz\",\n",
      "\u001b[36malgo-1-6rple_1  |\u001b[0m     \"module_name\": \"turbofan_autoencoder_keras_tf\",\n",
      "\u001b[36malgo-1-6rple_1  |\u001b[0m     \"network_interface_name\": \"eth0\",\n",
      "\u001b[36malgo-1-6rple_1  |\u001b[0m     \"num_cpus\": 8,\n",
      "\u001b[36malgo-1-6rple_1  |\u001b[0m     \"num_gpus\": 0,\n",
      "\u001b[36malgo-1-6rple_1  |\u001b[0m     \"output_data_dir\": \"/opt/ml/output/data\",\n",
      "\u001b[36malgo-1-6rple_1  |\u001b[0m     \"output_dir\": \"/opt/ml/output\",\n",
      "\u001b[36malgo-1-6rple_1  |\u001b[0m     \"output_intermediate_dir\": \"/opt/ml/output/intermediate\",\n",
      "\u001b[36malgo-1-6rple_1  |\u001b[0m     \"resource_config\": {\n",
      "\u001b[36malgo-1-6rple_1  |\u001b[0m         \"current_host\": \"algo-1-6rple\",\n",
      "\u001b[36malgo-1-6rple_1  |\u001b[0m         \"hosts\": [\n",
      "\u001b[36malgo-1-6rple_1  |\u001b[0m             \"algo-1-6rple\"\n",
      "\u001b[36malgo-1-6rple_1  |\u001b[0m         ]\n",
      "\u001b[36malgo-1-6rple_1  |\u001b[0m     },\n",
      "\u001b[36malgo-1-6rple_1  |\u001b[0m     \"user_entry_point\": \"turbofan_autoencoder_keras_tf.py\"\n",
      "\u001b[36malgo-1-6rple_1  |\u001b[0m }\n",
      "\u001b[36malgo-1-6rple_1  |\u001b[0m \n",
      "\u001b[36malgo-1-6rple_1  |\u001b[0m Environment variables:\n",
      "\u001b[36malgo-1-6rple_1  |\u001b[0m \n",
      "\u001b[36malgo-1-6rple_1  |\u001b[0m SM_HOSTS=[\"algo-1-6rple\"]\n",
      "\u001b[36malgo-1-6rple_1  |\u001b[0m SM_NETWORK_INTERFACE_NAME=eth0\n",
      "\u001b[36malgo-1-6rple_1  |\u001b[0m SM_HPS={\"epochs\":2,\"model_dir\":\"s3://sagemaker-us-east-1-431615879134/sagemaker-tensorflow-scriptmode-2021-01-28-20-21-04-744/model\"}\n",
      "\u001b[36malgo-1-6rple_1  |\u001b[0m SM_USER_ENTRY_POINT=turbofan_autoencoder_keras_tf.py\n",
      "\u001b[36malgo-1-6rple_1  |\u001b[0m SM_FRAMEWORK_PARAMS={}\n",
      "\u001b[36malgo-1-6rple_1  |\u001b[0m SM_RESOURCE_CONFIG={\"current_host\":\"algo-1-6rple\",\"hosts\":[\"algo-1-6rple\"]}\n",
      "\u001b[36malgo-1-6rple_1  |\u001b[0m SM_INPUT_DATA_CONFIG={\"training\":{\"TrainingInputMode\":\"File\"},\"validation\":{\"TrainingInputMode\":\"File\"}}\n",
      "\u001b[36malgo-1-6rple_1  |\u001b[0m SM_OUTPUT_DATA_DIR=/opt/ml/output/data\n",
      "\u001b[36malgo-1-6rple_1  |\u001b[0m SM_CHANNELS=[\"training\",\"validation\"]\n",
      "\u001b[36malgo-1-6rple_1  |\u001b[0m SM_CURRENT_HOST=algo-1-6rple\n",
      "\u001b[36malgo-1-6rple_1  |\u001b[0m SM_MODULE_NAME=turbofan_autoencoder_keras_tf\n",
      "\u001b[36malgo-1-6rple_1  |\u001b[0m SM_LOG_LEVEL=20\n",
      "\u001b[36malgo-1-6rple_1  |\u001b[0m SM_FRAMEWORK_MODULE=sagemaker_tensorflow_container.training:main\n",
      "\u001b[36malgo-1-6rple_1  |\u001b[0m SM_INPUT_DIR=/opt/ml/input\n",
      "\u001b[36malgo-1-6rple_1  |\u001b[0m SM_INPUT_CONFIG_DIR=/opt/ml/input/config\n",
      "\u001b[36malgo-1-6rple_1  |\u001b[0m SM_OUTPUT_DIR=/opt/ml/output\n",
      "\u001b[36malgo-1-6rple_1  |\u001b[0m SM_NUM_CPUS=8\n",
      "\u001b[36malgo-1-6rple_1  |\u001b[0m SM_NUM_GPUS=0\n",
      "\u001b[36malgo-1-6rple_1  |\u001b[0m SM_MODEL_DIR=/opt/ml/model\n",
      "\u001b[36malgo-1-6rple_1  |\u001b[0m SM_MODULE_DIR=s3://sagemaker-us-east-1-431615879134/sagemaker-tensorflow-scriptmode-2021-01-28-20-21-04-744/source/sourcedir.tar.gz\n",
      "\u001b[36malgo-1-6rple_1  |\u001b[0m SM_TRAINING_ENV={\"additional_framework_parameters\":{},\"channel_input_dirs\":{\"training\":\"/opt/ml/input/data/training\",\"validation\":\"/opt/ml/input/data/validation\"},\"current_host\":\"algo-1-6rple\",\"framework_module\":\"sagemaker_tensorflow_container.training:main\",\"hosts\":[\"algo-1-6rple\"],\"hyperparameters\":{\"epochs\":2,\"model_dir\":\"s3://sagemaker-us-east-1-431615879134/sagemaker-tensorflow-scriptmode-2021-01-28-20-21-04-744/model\"},\"input_config_dir\":\"/opt/ml/input/config\",\"input_data_config\":{\"training\":{\"TrainingInputMode\":\"File\"},\"validation\":{\"TrainingInputMode\":\"File\"}},\"input_dir\":\"/opt/ml/input\",\"is_master\":true,\"job_name\":\"sagemaker-tensorflow-scriptmode-2021-01-28-20-21-04-744\",\"log_level\":20,\"master_hostname\":\"algo-1-6rple\",\"model_dir\":\"/opt/ml/model\",\"module_dir\":\"s3://sagemaker-us-east-1-431615879134/sagemaker-tensorflow-scriptmode-2021-01-28-20-21-04-744/source/sourcedir.tar.gz\",\"module_name\":\"turbofan_autoencoder_keras_tf\",\"network_interface_name\":\"eth0\",\"num_cpus\":8,\"num_gpus\":0,\"output_data_dir\":\"/opt/ml/output/data\",\"output_dir\":\"/opt/ml/output\",\"output_intermediate_dir\":\"/opt/ml/output/intermediate\",\"resource_config\":{\"current_host\":\"algo-1-6rple\",\"hosts\":[\"algo-1-6rple\"]},\"user_entry_point\":\"turbofan_autoencoder_keras_tf.py\"}\n",
      "\u001b[36malgo-1-6rple_1  |\u001b[0m SM_USER_ARGS=[\"--epochs\",\"2\",\"--model_dir\",\"s3://sagemaker-us-east-1-431615879134/sagemaker-tensorflow-scriptmode-2021-01-28-20-21-04-744/model\"]\n",
      "\u001b[36malgo-1-6rple_1  |\u001b[0m SM_OUTPUT_INTERMEDIATE_DIR=/opt/ml/output/intermediate\n",
      "\u001b[36malgo-1-6rple_1  |\u001b[0m SM_CHANNEL_TRAINING=/opt/ml/input/data/training\n",
      "\u001b[36malgo-1-6rple_1  |\u001b[0m SM_CHANNEL_VALIDATION=/opt/ml/input/data/validation\n",
      "\u001b[36malgo-1-6rple_1  |\u001b[0m SM_HP_EPOCHS=2\n",
      "\u001b[36malgo-1-6rple_1  |\u001b[0m SM_HP_MODEL_DIR=s3://sagemaker-us-east-1-431615879134/sagemaker-tensorflow-scriptmode-2021-01-28-20-21-04-744/model\n",
      "\u001b[36malgo-1-6rple_1  |\u001b[0m PYTHONPATH=/opt/ml/code:/usr/local/bin:/usr/lib/python36.zip:/usr/lib/python3.6:/usr/lib/python3.6/lib-dynload:/usr/local/lib/python3.6/dist-packages:/usr/lib/python3/dist-packages\n",
      "\u001b[36malgo-1-6rple_1  |\u001b[0m \n",
      "\u001b[36malgo-1-6rple_1  |\u001b[0m Invoking script with the following command:\n",
      "\u001b[36malgo-1-6rple_1  |\u001b[0m \n",
      "\u001b[36malgo-1-6rple_1  |\u001b[0m /usr/bin/python turbofan_autoencoder_keras_tf.py --epochs 2 --model_dir s3://sagemaker-us-east-1-431615879134/sagemaker-tensorflow-scriptmode-2021-01-28-20-21-04-744/model\n",
      "\u001b[36malgo-1-6rple_1  |\u001b[0m \n",
      "\u001b[36malgo-1-6rple_1  |\u001b[0m \n",
      "\u001b[36malgo-1-6rple_1  |\u001b[0m Using TensorFlow backend.\n",
      "\u001b[36malgo-1-6rple_1  |\u001b[0m x_train shape: (13224, 16)\n",
      "\u001b[36malgo-1-6rple_1  |\u001b[0m 13224 train samples\n",
      "\u001b[36malgo-1-6rple_1  |\u001b[0m 3307 test samples\n",
      "\u001b[36malgo-1-6rple_1  |\u001b[0m _________________________________________________________________\n",
      "\u001b[36malgo-1-6rple_1  |\u001b[0m Layer (type)                 Output Shape              Param #   \n",
      "\u001b[36malgo-1-6rple_1  |\u001b[0m =================================================================\n",
      "\u001b[36malgo-1-6rple_1  |\u001b[0m input_1 (InputLayer)         (None, 16)                0         \n",
      "\u001b[36malgo-1-6rple_1  |\u001b[0m _________________________________________________________________\n",
      "\u001b[36malgo-1-6rple_1  |\u001b[0m dense_1 (Dense)              (None, 7)                 119       \n",
      "\u001b[36malgo-1-6rple_1  |\u001b[0m _________________________________________________________________\n",
      "\u001b[36malgo-1-6rple_1  |\u001b[0m dense_2 (Dense)              (None, 7)                 56        \n",
      "\u001b[36malgo-1-6rple_1  |\u001b[0m _________________________________________________________________\n",
      "\u001b[36malgo-1-6rple_1  |\u001b[0m dense_3 (Dense)              (None, 3)                 24        \n",
      "\u001b[36malgo-1-6rple_1  |\u001b[0m _________________________________________________________________\n",
      "\u001b[36malgo-1-6rple_1  |\u001b[0m dense_4 (Dense)              (None, 7)                 28        \n",
      "\u001b[36malgo-1-6rple_1  |\u001b[0m _________________________________________________________________\n",
      "\u001b[36malgo-1-6rple_1  |\u001b[0m dense_5 (Dense)              (None, 7)                 56        \n",
      "\u001b[36malgo-1-6rple_1  |\u001b[0m _________________________________________________________________\n",
      "\u001b[36malgo-1-6rple_1  |\u001b[0m dense_6 (Dense)              (None, 16)                128       \n",
      "\u001b[36malgo-1-6rple_1  |\u001b[0m =================================================================\n",
      "\u001b[36malgo-1-6rple_1  |\u001b[0m Total params: 411\n",
      "\u001b[36malgo-1-6rple_1  |\u001b[0m Trainable params: 411\n",
      "\u001b[36malgo-1-6rple_1  |\u001b[0m Non-trainable params: 0\n",
      "\u001b[36malgo-1-6rple_1  |\u001b[0m _________________________________________________________________\n",
      "\u001b[36malgo-1-6rple_1  |\u001b[0m None\n",
      "\u001b[36malgo-1-6rple_1  |\u001b[0m Train on 13224 samples, validate on 3307 samples\n",
      "\u001b[36malgo-1-6rple_1  |\u001b[0m Epoch 1/2\n",
      "13224/13224 [==============================] - 1s 94us/step - loss: 0.9667 - val_loss: 0.8839\n",
      "\u001b[36malgo-1-6rple_1  |\u001b[0m Epoch 2/2\n",
      "13224/13224 [==============================] - 0s 22us/step - loss: 0.7716 - val_loss: 0.6765\n",
      "\u001b[36malgo-1-6rple_1  |\u001b[0m Validation loss    : 0.6764921380884524\n",
      "\u001b[36malgo-1-6rple_1  |\u001b[0m WARNING:tensorflow:From /usr/local/lib/python3.6/dist-packages/tensorflow/python/saved_model/simple_save.py:85: calling SavedModelBuilder.add_meta_graph_and_variables (from tensorflow.python.saved_model.builder_impl) with legacy_init_op is deprecated and will be removed in a future version.\n",
      "\u001b[36malgo-1-6rple_1  |\u001b[0m Instructions for updating:\n",
      "\u001b[36malgo-1-6rple_1  |\u001b[0m Pass your op to the equivalent parameter main_op instead.\n",
      "\u001b[36malgo-1-6rple_1  |\u001b[0m 2021-01-28 20:21:13,055 sagemaker-containers INFO     Reporting training SUCCESS\n",
      "\u001b[36mtmp0ptsrrcd_algo-1-6rple_1 exited with code 0\n",
      "\u001b[0mAborting on container exit...\n",
      "===== Job Complete =====\n"
     ]
    }
   ],
   "source": [
    "tf_estimator.fit({'training': training_input_path, 'validation': validation_input_path})"
   ]
  },
  {
   "cell_type": "markdown",
   "metadata": {},
   "source": [
    "## Train with Tensorflow on a GPU instance"
   ]
  },
  {
   "cell_type": "code",
   "execution_count": 271,
   "metadata": {},
   "outputs": [],
   "source": [
    "tf_estimator = TensorFlow(entry_point='turbofan_autoencoder_keras_tf.py', \n",
    "                          role=role,\n",
    "                          instance_count=1, \n",
    "                          instance_type='ml.m5.xlarge',\n",
    "                          framework_version='1.12', \n",
    "                          py_version='py3',\n",
    "                          script_mode=True,\n",
    "                          hyperparameters={\n",
    "                              'epochs': 50,\n",
    "                              'batch-size': 128,\n",
    "                              'learning-rate': 0.001}\n",
    "                         )"
   ]
  },
  {
   "cell_type": "code",
   "execution_count": 272,
   "metadata": {},
   "outputs": [
    {
     "name": "stdout",
     "output_type": "stream",
     "text": [
      "2021-01-28 22:05:09 Starting - Starting the training job...\n",
      "2021-01-28 22:05:32 Starting - Launching requested ML instancesProfilerReport-1611871508: InProgress\n",
      "......\n",
      "2021-01-28 22:06:33 Starting - Preparing the instances for training...\n",
      "2021-01-28 22:06:59 Downloading - Downloading input data...\n",
      "2021-01-28 22:07:34 Training - Training image download completed. Training in progress.\u001b[34m2021-01-28 22:07:27,950 sagemaker-containers INFO     Imported framework sagemaker_tensorflow_container.training\u001b[0m\n",
      "\u001b[34m2021-01-28 22:07:27,956 sagemaker-containers INFO     No GPUs detected (normal if no gpus installed)\u001b[0m\n",
      "\u001b[34m2021-01-28 22:07:56,543 sagemaker-containers INFO     No GPUs detected (normal if no gpus installed)\u001b[0m\n",
      "\u001b[34m2021-01-28 22:07:56,558 sagemaker-containers INFO     No GPUs detected (normal if no gpus installed)\u001b[0m\n",
      "\u001b[34m2021-01-28 22:07:56,568 sagemaker-containers INFO     Invoking user script\n",
      "\u001b[0m\n",
      "\u001b[34mTraining Env:\n",
      "\u001b[0m\n",
      "\u001b[34m{\n",
      "    \"additional_framework_parameters\": {},\n",
      "    \"channel_input_dirs\": {\n",
      "        \"training\": \"/opt/ml/input/data/training\",\n",
      "        \"validation\": \"/opt/ml/input/data/validation\"\n",
      "    },\n",
      "    \"current_host\": \"algo-1\",\n",
      "    \"framework_module\": \"sagemaker_tensorflow_container.training:main\",\n",
      "    \"hosts\": [\n",
      "        \"algo-1\"\n",
      "    ],\n",
      "    \"hyperparameters\": {\n",
      "        \"batch-size\": 128,\n",
      "        \"learning-rate\": 0.001,\n",
      "        \"model_dir\": \"s3://sagemaker-us-east-1-431615879134/sagemaker-tensorflow-scriptmode-2021-01-28-22-05-08-188/model\",\n",
      "        \"epochs\": 50\n",
      "    },\n",
      "    \"input_config_dir\": \"/opt/ml/input/config\",\n",
      "    \"input_data_config\": {\n",
      "        \"training\": {\n",
      "            \"TrainingInputMode\": \"File\",\n",
      "            \"S3DistributionType\": \"FullyReplicated\",\n",
      "            \"RecordWrapperType\": \"None\"\n",
      "        },\n",
      "        \"validation\": {\n",
      "            \"TrainingInputMode\": \"File\",\n",
      "            \"S3DistributionType\": \"FullyReplicated\",\n",
      "            \"RecordWrapperType\": \"None\"\n",
      "        }\n",
      "    },\n",
      "    \"input_dir\": \"/opt/ml/input\",\n",
      "    \"is_master\": true,\n",
      "    \"job_name\": \"sagemaker-tensorflow-scriptmode-2021-01-28-22-05-08-188\",\n",
      "    \"log_level\": 20,\n",
      "    \"master_hostname\": \"algo-1\",\n",
      "    \"model_dir\": \"/opt/ml/model\",\n",
      "    \"module_dir\": \"s3://sagemaker-us-east-1-431615879134/sagemaker-tensorflow-scriptmode-2021-01-28-22-05-08-188/source/sourcedir.tar.gz\",\n",
      "    \"module_name\": \"turbofan_autoencoder_keras_tf\",\n",
      "    \"network_interface_name\": \"eth0\",\n",
      "    \"num_cpus\": 4,\n",
      "    \"num_gpus\": 0,\n",
      "    \"output_data_dir\": \"/opt/ml/output/data\",\n",
      "    \"output_dir\": \"/opt/ml/output\",\n",
      "    \"output_intermediate_dir\": \"/opt/ml/output/intermediate\",\n",
      "    \"resource_config\": {\n",
      "        \"current_host\": \"algo-1\",\n",
      "        \"hosts\": [\n",
      "            \"algo-1\"\n",
      "        ],\n",
      "        \"network_interface_name\": \"eth0\"\n",
      "    },\n",
      "    \"user_entry_point\": \"turbofan_autoencoder_keras_tf.py\"\u001b[0m\n",
      "\u001b[34m}\n",
      "\u001b[0m\n",
      "\u001b[34mEnvironment variables:\n",
      "\u001b[0m\n",
      "\u001b[34mSM_HOSTS=[\"algo-1\"]\u001b[0m\n",
      "\u001b[34mSM_NETWORK_INTERFACE_NAME=eth0\u001b[0m\n",
      "\u001b[34mSM_HPS={\"batch-size\":128,\"epochs\":50,\"learning-rate\":0.001,\"model_dir\":\"s3://sagemaker-us-east-1-431615879134/sagemaker-tensorflow-scriptmode-2021-01-28-22-05-08-188/model\"}\u001b[0m\n",
      "\u001b[34mSM_USER_ENTRY_POINT=turbofan_autoencoder_keras_tf.py\u001b[0m\n",
      "\u001b[34mSM_FRAMEWORK_PARAMS={}\u001b[0m\n",
      "\u001b[34mSM_RESOURCE_CONFIG={\"current_host\":\"algo-1\",\"hosts\":[\"algo-1\"],\"network_interface_name\":\"eth0\"}\u001b[0m\n",
      "\u001b[34mSM_INPUT_DATA_CONFIG={\"training\":{\"RecordWrapperType\":\"None\",\"S3DistributionType\":\"FullyReplicated\",\"TrainingInputMode\":\"File\"},\"validation\":{\"RecordWrapperType\":\"None\",\"S3DistributionType\":\"FullyReplicated\",\"TrainingInputMode\":\"File\"}}\u001b[0m\n",
      "\u001b[34mSM_OUTPUT_DATA_DIR=/opt/ml/output/data\u001b[0m\n",
      "\u001b[34mSM_CHANNELS=[\"training\",\"validation\"]\u001b[0m\n",
      "\u001b[34mSM_CURRENT_HOST=algo-1\u001b[0m\n",
      "\u001b[34mSM_MODULE_NAME=turbofan_autoencoder_keras_tf\u001b[0m\n",
      "\u001b[34mSM_LOG_LEVEL=20\u001b[0m\n",
      "\u001b[34mSM_FRAMEWORK_MODULE=sagemaker_tensorflow_container.training:main\u001b[0m\n",
      "\u001b[34mSM_INPUT_DIR=/opt/ml/input\u001b[0m\n",
      "\u001b[34mSM_INPUT_CONFIG_DIR=/opt/ml/input/config\u001b[0m\n",
      "\u001b[34mSM_OUTPUT_DIR=/opt/ml/output\u001b[0m\n",
      "\u001b[34mSM_NUM_CPUS=4\u001b[0m\n",
      "\u001b[34mSM_NUM_GPUS=0\u001b[0m\n",
      "\u001b[34mSM_MODEL_DIR=/opt/ml/model\u001b[0m\n",
      "\u001b[34mSM_MODULE_DIR=s3://sagemaker-us-east-1-431615879134/sagemaker-tensorflow-scriptmode-2021-01-28-22-05-08-188/source/sourcedir.tar.gz\u001b[0m\n",
      "\u001b[34mSM_TRAINING_ENV={\"additional_framework_parameters\":{},\"channel_input_dirs\":{\"training\":\"/opt/ml/input/data/training\",\"validation\":\"/opt/ml/input/data/validation\"},\"current_host\":\"algo-1\",\"framework_module\":\"sagemaker_tensorflow_container.training:main\",\"hosts\":[\"algo-1\"],\"hyperparameters\":{\"batch-size\":128,\"epochs\":50,\"learning-rate\":0.001,\"model_dir\":\"s3://sagemaker-us-east-1-431615879134/sagemaker-tensorflow-scriptmode-2021-01-28-22-05-08-188/model\"},\"input_config_dir\":\"/opt/ml/input/config\",\"input_data_config\":{\"training\":{\"RecordWrapperType\":\"None\",\"S3DistributionType\":\"FullyReplicated\",\"TrainingInputMode\":\"File\"},\"validation\":{\"RecordWrapperType\":\"None\",\"S3DistributionType\":\"FullyReplicated\",\"TrainingInputMode\":\"File\"}},\"input_dir\":\"/opt/ml/input\",\"is_master\":true,\"job_name\":\"sagemaker-tensorflow-scriptmode-2021-01-28-22-05-08-188\",\"log_level\":20,\"master_hostname\":\"algo-1\",\"model_dir\":\"/opt/ml/model\",\"module_dir\":\"s3://sagemaker-us-east-1-431615879134/sagemaker-tensorflow-scriptmode-2021-01-28-22-05-08-188/source/sourcedir.tar.gz\",\"module_name\":\"turbofan_autoencoder_keras_tf\",\"network_interface_name\":\"eth0\",\"num_cpus\":4,\"num_gpus\":0,\"output_data_dir\":\"/opt/ml/output/data\",\"output_dir\":\"/opt/ml/output\",\"output_intermediate_dir\":\"/opt/ml/output/intermediate\",\"resource_config\":{\"current_host\":\"algo-1\",\"hosts\":[\"algo-1\"],\"network_interface_name\":\"eth0\"},\"user_entry_point\":\"turbofan_autoencoder_keras_tf.py\"}\u001b[0m\n",
      "\u001b[34mSM_USER_ARGS=[\"--batch-size\",\"128\",\"--epochs\",\"50\",\"--learning-rate\",\"0.001\",\"--model_dir\",\"s3://sagemaker-us-east-1-431615879134/sagemaker-tensorflow-scriptmode-2021-01-28-22-05-08-188/model\"]\u001b[0m\n",
      "\u001b[34mSM_OUTPUT_INTERMEDIATE_DIR=/opt/ml/output/intermediate\u001b[0m\n",
      "\u001b[34mSM_CHANNEL_TRAINING=/opt/ml/input/data/training\u001b[0m\n",
      "\u001b[34mSM_CHANNEL_VALIDATION=/opt/ml/input/data/validation\u001b[0m\n",
      "\u001b[34mSM_HP_BATCH-SIZE=128\u001b[0m\n",
      "\u001b[34mSM_HP_LEARNING-RATE=0.001\u001b[0m\n",
      "\u001b[34mSM_HP_MODEL_DIR=s3://sagemaker-us-east-1-431615879134/sagemaker-tensorflow-scriptmode-2021-01-28-22-05-08-188/model\u001b[0m\n",
      "\u001b[34mSM_HP_EPOCHS=50\u001b[0m\n",
      "\u001b[34mPYTHONPATH=/opt/ml/code:/usr/local/bin:/usr/lib/python36.zip:/usr/lib/python3.6:/usr/lib/python3.6/lib-dynload:/usr/local/lib/python3.6/dist-packages:/usr/lib/python3/dist-packages\n",
      "\u001b[0m\n",
      "\u001b[34mInvoking script with the following command:\n",
      "\u001b[0m\n",
      "\u001b[34m/usr/bin/python turbofan_autoencoder_keras_tf.py --batch-size 128 --epochs 50 --learning-rate 0.001 --model_dir s3://sagemaker-us-east-1-431615879134/sagemaker-tensorflow-scriptmode-2021-01-28-22-05-08-188/model\n",
      "\n",
      "\u001b[0m\n",
      "\u001b[34mUsing TensorFlow backend.\u001b[0m\n",
      "\u001b[34mx_train shape: (13224, 16)\u001b[0m\n",
      "\u001b[34m13224 train samples\u001b[0m\n",
      "\u001b[34m3307 test samples\u001b[0m\n",
      "\u001b[34m_________________________________________________________________\u001b[0m\n",
      "\u001b[34mLayer (type)                 Output Shape              Param #   \u001b[0m\n",
      "\u001b[34m=================================================================\u001b[0m\n",
      "\u001b[34minput_1 (InputLayer)         (None, 16)                0         \u001b[0m\n",
      "\u001b[34m_________________________________________________________________\u001b[0m\n",
      "\u001b[34mdense_1 (Dense)              (None, 7)                 119       \u001b[0m\n",
      "\u001b[34m_________________________________________________________________\u001b[0m\n",
      "\u001b[34mdense_2 (Dense)              (None, 3)                 24        \u001b[0m\n",
      "\u001b[34m_________________________________________________________________\u001b[0m\n",
      "\u001b[34mdense_3 (Dense)              (None, 7)                 28        \u001b[0m\n",
      "\u001b[34m_________________________________________________________________\u001b[0m\n",
      "\u001b[34mdense_4 (Dense)              (None, 16)                128       \u001b[0m\n",
      "\u001b[34m=================================================================\u001b[0m\n",
      "\u001b[34mTotal params: 299\u001b[0m\n",
      "\u001b[34mTrainable params: 299\u001b[0m\n",
      "\u001b[34mNon-trainable params: 0\u001b[0m\n",
      "\u001b[34m_________________________________________________________________\u001b[0m\n",
      "\u001b[34mNone\u001b[0m\n",
      "\u001b[34mTrain on 13224 samples, validate on 3307 samples\u001b[0m\n",
      "\u001b[34mEpoch 1/50\u001b[0m\n",
      "\u001b[34m  128/13224 [..............................] - ETA: 1:15 - loss: 0.5113\n",
      " 2944/13224 [=====>........................] - ETA: 2s - loss: 0.5172  \n",
      " 5888/13224 [============>.................] - ETA: 1s - loss: 0.5072\n",
      " 8704/13224 [==================>...........] - ETA: 0s - loss: 0.5087\u001b[0m\n",
      "\u001b[34m11776/13224 [=========================>....] - ETA: 0s - loss: 0.5049\u001b[0m\n",
      "\u001b[34m13224/13224 [==============================] - 1s 80us/step - loss: 0.5055 - val_loss: 0.4955\u001b[0m\n",
      "\u001b[34mEpoch 2/50\u001b[0m\n",
      "\u001b[34m  128/13224 [..............................] - ETA: 0s - loss: 0.4991\n",
      " 3072/13224 [=====>........................] - ETA: 0s - loss: 0.4882\n",
      " 6144/13224 [============>.................] - ETA: 0s - loss: 0.4807\n",
      " 9088/13224 [===================>..........] - ETA: 0s - loss: 0.4762\u001b[0m\n",
      "\u001b[34m12032/13224 [==========================>...] - ETA: 0s - loss: 0.4761\u001b[0m\n",
      "\u001b[34m13224/13224 [==============================] - 0s 19us/step - loss: 0.4751 - val_loss: 0.4638\u001b[0m\n",
      "\u001b[34mEpoch 3/50\n",
      "\n",
      "  128/13224 [..............................] - ETA: 0s - loss: 0.4840\n",
      " 3072/13224 [=====>........................] - ETA: 0s - loss: 0.4611\n",
      " 6016/13224 [============>.................] - ETA: 0s - loss: 0.4585\n",
      " 8832/13224 [===================>..........] - ETA: 0s - loss: 0.4529\u001b[0m\n",
      "\u001b[34m11648/13224 [=========================>....] - ETA: 0s - loss: 0.4478\u001b[0m\n",
      "\u001b[34m13224/13224 [==============================] - 0s 19us/step - loss: 0.4437 - val_loss: 0.4244\u001b[0m\n",
      "\u001b[34mEpoch 4/50\n",
      "\n",
      "  128/13224 [..............................] - ETA: 0s - loss: 0.4356\n",
      " 2816/13224 [=====>........................] - ETA: 0s - loss: 0.4171\n",
      " 5760/13224 [============>.................] - ETA: 0s - loss: 0.4135\n",
      " 8704/13224 [==================>...........] - ETA: 0s - loss: 0.4143\u001b[0m\n",
      "\u001b[34m11008/13224 [=======================>......] - ETA: 0s - loss: 0.4140\u001b[0m\n",
      "\u001b[34m13224/13224 [==============================] - 0s 20us/step - loss: 0.4113 - val_loss: 0.4043\u001b[0m\n",
      "\u001b[34mEpoch 5/50\n",
      "\n",
      "  128/13224 [..............................] - ETA: 0s - loss: 0.3890\n",
      " 2432/13224 [====>.........................] - ETA: 0s - loss: 0.3936\n",
      " 3968/13224 [========>.....................] - ETA: 0s - loss: 0.3972\n",
      " 4736/13224 [=========>....................] - ETA: 0s - loss: 0.3959\u001b[0m\n",
      "\u001b[34m 7680/13224 [================>.............] - ETA: 0s - loss: 0.3979\u001b[0m\n",
      "\u001b[34m10368/13224 [======================>.......] - ETA: 0s - loss: 0.3980\u001b[0m\n",
      "\u001b[34m13056/13224 [============================>.] - ETA: 0s - loss: 0.3982\u001b[0m\n",
      "\u001b[34m13224/13224 [==============================] - 0s 27us/step - loss: 0.3982 - val_loss: 0.3963\u001b[0m\n",
      "\u001b[34mEpoch 6/50\n",
      "\n",
      "  128/13224 [..............................] - ETA: 0s - loss: 0.4507\n",
      " 3072/13224 [=====>........................] - ETA: 0s - loss: 0.3960\n",
      " 6016/13224 [============>.................] - ETA: 0s - loss: 0.3953\n",
      " 8960/13224 [===================>..........] - ETA: 0s - loss: 0.3959\u001b[0m\n",
      "\u001b[34m12032/13224 [==========================>...] - ETA: 0s - loss: 0.3930\u001b[0m\n",
      "\u001b[34m13224/13224 [==============================] - 0s 19us/step - loss: 0.3922 - val_loss: 0.3924\u001b[0m\n",
      "\u001b[34mEpoch 7/50\n",
      "\n",
      "  128/13224 [..............................] - ETA: 0s - loss: 0.3836\n",
      " 3072/13224 [=====>........................] - ETA: 0s - loss: 0.3954\n",
      " 6016/13224 [============>.................] - ETA: 0s - loss: 0.3888\n",
      " 9088/13224 [===================>..........] - ETA: 0s - loss: 0.3881\u001b[0m\n",
      "\u001b[34m12160/13224 [==========================>...] - ETA: 0s - loss: 0.3890\u001b[0m\n",
      "\u001b[34m13224/13224 [==============================] - 0s 18us/step - loss: 0.3890 - val_loss: 0.3895\u001b[0m\n",
      "\u001b[34mEpoch 8/50\n",
      "\n",
      "  128/13224 [..............................] - ETA: 0s - loss: 0.3848\n",
      " 3200/13224 [======>.......................] - ETA: 0s - loss: 0.3895\n",
      " 5632/13224 [===========>..................] - ETA: 0s - loss: 0.3895\n",
      " 8576/13224 [==================>...........] - ETA: 0s - loss: 0.3870\u001b[0m\n",
      "\u001b[34m11520/13224 [=========================>....] - ETA: 0s - loss: 0.3869\u001b[0m\n",
      "\u001b[34m13224/13224 [==============================] - 0s 20us/step - loss: 0.3863 - val_loss: 0.3868\u001b[0m\n",
      "\u001b[34mEpoch 9/50\n",
      "\n",
      "  128/13224 [..............................] - ETA: 0s - loss: 0.3746\n",
      " 3072/13224 [=====>........................] - ETA: 0s - loss: 0.3869\u001b[0m\n",
      "\u001b[34m 3840/13224 [=======>......................] - ETA: 0s - loss: 0.3862\n",
      " 4736/13224 [=========>....................] - ETA: 0s - loss: 0.3837\n",
      " 5504/13224 [===========>..................] - ETA: 0s - loss: 0.3840\n",
      " 5760/13224 [============>.................] - ETA: 0s - loss: 0.3845\n",
      " 6272/13224 [=============>................] - ETA: 0s - loss: 0.3843\n",
      " 6912/13224 [==============>...............] - ETA: 0s - loss: 0.3848\n",
      " 8576/13224 [==================>...........] - ETA: 0s - loss: 0.3859\u001b[0m\n",
      "\u001b[34m11776/13224 [=========================>....] - ETA: 0s - loss: 0.3852\u001b[0m\n",
      "\u001b[34m13224/13224 [==============================] - 1s 47us/step - loss: 0.3839 - val_loss: 0.3844\u001b[0m\n",
      "\u001b[34mEpoch 10/50\n",
      "\n",
      "  128/13224 [..............................] - ETA: 0s - loss: 0.3768\n",
      " 3200/13224 [======>.......................] - ETA: 0s - loss: 0.3809\n",
      " 5888/13224 [============>.................] - ETA: 0s - loss: 0.3817\n",
      " 8832/13224 [===================>..........] - ETA: 0s - loss: 0.3810\u001b[0m\n",
      "\u001b[34m11776/13224 [=========================>....] - ETA: 0s - loss: 0.3816\u001b[0m\n",
      "\u001b[34m13224/13224 [==============================] - 0s 20us/step - loss: 0.3820 - val_loss: 0.3826\u001b[0m\n",
      "\u001b[34mEpoch 11/50\n",
      "\n",
      "  128/13224 [..............................] - ETA: 0s - loss: 0.3667\n",
      " 3072/13224 [=====>........................] - ETA: 0s - loss: 0.3771\n",
      " 6016/13224 [============>.................] - ETA: 0s - loss: 0.3818\n",
      " 8704/13224 [==================>...........] - ETA: 0s - loss: 0.3816\u001b[0m\n",
      "\u001b[34m11776/13224 [=========================>....] - ETA: 0s - loss: 0.3807\u001b[0m\n",
      "\u001b[34m13224/13224 [==============================] - 0s 19us/step - loss: 0.3805 - val_loss: 0.3811\u001b[0m\n",
      "\u001b[34mEpoch 12/50\n",
      "\u001b[0m\n",
      "\u001b[34m  128/13224 [..............................] - ETA: 0s - loss: 0.3822\n",
      " 3072/13224 [=====>........................] - ETA: 0s - loss: 0.3751\n",
      " 6016/13224 [============>.................] - ETA: 0s - loss: 0.3767\n",
      " 8960/13224 [===================>..........] - ETA: 0s - loss: 0.3771\u001b[0m\n",
      "\u001b[34m11776/13224 [=========================>....] - ETA: 0s - loss: 0.3789\u001b[0m\n",
      "\u001b[34m13224/13224 [==============================] - 0s 19us/step - loss: 0.3791 - val_loss: 0.3798\u001b[0m\n",
      "\u001b[34mEpoch 13/50\n",
      "\n",
      "  128/13224 [..............................] - ETA: 0s - loss: 0.3575\n",
      " 2944/13224 [=====>........................] - ETA: 0s - loss: 0.3788\n",
      " 6016/13224 [============>.................] - ETA: 0s - loss: 0.3821\n",
      " 8960/13224 [===================>..........] - ETA: 0s - loss: 0.3781\u001b[0m\n",
      "\u001b[34m11648/13224 [=========================>....] - ETA: 0s - loss: 0.3784\u001b[0m\n",
      "\u001b[34m13224/13224 [==============================] - 0s 20us/step - loss: 0.3778 - val_loss: 0.3782\u001b[0m\n",
      "\u001b[34mEpoch 14/50\n",
      "\n",
      "  128/13224 [..............................] - ETA: 0s - loss: 0.3493\n",
      " 3072/13224 [=====>........................] - ETA: 0s - loss: 0.3799\n",
      " 6016/13224 [============>.................] - ETA: 0s - loss: 0.3754\n",
      " 8704/13224 [==================>...........] - ETA: 0s - loss: 0.3749\u001b[0m\n",
      "\u001b[34m11136/13224 [========================>.....] - ETA: 0s - loss: 0.3767\u001b[0m\n",
      "\u001b[34m13224/13224 [==============================] - 0s 20us/step - loss: 0.3762 - val_loss: 0.3765\u001b[0m\n",
      "\u001b[34mEpoch 15/50\n",
      "\n",
      "  128/13224 [..............................] - ETA: 0s - loss: 0.3631\n",
      " 3200/13224 [======>.......................] - ETA: 0s - loss: 0.3705\n",
      " 6272/13224 [=============>................] - ETA: 0s - loss: 0.3751\n",
      " 9344/13224 [====================>.........] - ETA: 0s - loss: 0.3736\u001b[0m\n",
      "\u001b[34m12416/13224 [===========================>..] - ETA: 0s - loss: 0.3742\u001b[0m\n",
      "\u001b[34m13224/13224 [==============================] - 0s 18us/step - loss: 0.3741 - val_loss: 0.3743\u001b[0m\n",
      "\u001b[34mEpoch 16/50\n",
      "\u001b[0m\n",
      "\u001b[34m  128/13224 [..............................] - ETA: 0s - loss: 0.3763\n",
      " 3072/13224 [=====>........................] - ETA: 0s - loss: 0.3692\n",
      " 6016/13224 [============>.................] - ETA: 0s - loss: 0.3683\n",
      " 9088/13224 [===================>..........] - ETA: 0s - loss: 0.3691\u001b[0m\n",
      "\u001b[34m12160/13224 [==========================>...] - ETA: 0s - loss: 0.3706\u001b[0m\n",
      "\u001b[34m13224/13224 [==============================] - 0s 18us/step - loss: 0.3717 - val_loss: 0.3720\u001b[0m\n",
      "\u001b[34mEpoch 17/50\n",
      "\n",
      "  128/13224 [..............................] - ETA: 0s - loss: 0.3700\n",
      " 3200/13224 [======>.......................] - ETA: 0s - loss: 0.3676\n",
      " 6272/13224 [=============>................] - ETA: 0s - loss: 0.3687\n",
      " 9344/13224 [====================>.........] - ETA: 0s - loss: 0.3679\u001b[0m\n",
      "\u001b[34m11264/13224 [========================>.....] - ETA: 0s - loss: 0.3687\u001b[0m\n",
      "\u001b[34m12416/13224 [===========================>..] - ETA: 0s - loss: 0.3697\u001b[0m\n",
      "\u001b[34m13224/13224 [==============================] - 0s 29us/step - loss: 0.3693 - val_loss: 0.3700\u001b[0m\n",
      "\u001b[34mEpoch 18/50\n",
      "\n",
      "  128/13224 [..............................] - ETA: 0s - loss: 0.3719\n",
      " 1152/13224 [=>............................] - ETA: 0s - loss: 0.3723\n",
      " 2816/13224 [=====>........................] - ETA: 0s - loss: 0.3701\n",
      " 3584/13224 [=======>......................] - ETA: 0s - loss: 0.3686\n",
      " 4352/13224 [========>.....................] - ETA: 0s - loss: 0.3703\n",
      " 5120/13224 [==========>...................] - ETA: 0s - loss: 0.3690\n",
      " 6272/13224 [=============>................] - ETA: 0s - loss: 0.3705\u001b[0m\n",
      "\u001b[34m 7040/13224 [==============>...............] - ETA: 0s - loss: 0.3713\n",
      " 8064/13224 [=================>............] - ETA: 0s - loss: 0.3706\n",
      " 8960/13224 [===================>..........] - ETA: 0s - loss: 0.3694\n",
      " 9600/13224 [====================>.........] - ETA: 0s - loss: 0.3692\u001b[0m\n",
      "\u001b[34m10496/13224 [======================>.......] - ETA: 0s - loss: 0.3692\u001b[0m\n",
      "\u001b[34m11904/13224 [==========================>...] - ETA: 0s - loss: 0.3679\u001b[0m\n",
      "\u001b[34m13224/13224 [==============================] - 1s 54us/step - loss: 0.3675 - val_loss: 0.3686\u001b[0m\n",
      "\u001b[34mEpoch 19/50\n",
      "\n",
      "  128/13224 [..............................] - ETA: 0s - loss: 0.3633\n",
      " 3072/13224 [=====>........................] - ETA: 0s - loss: 0.3683\n",
      " 5760/13224 [============>.................] - ETA: 0s - loss: 0.3683\n",
      " 8832/13224 [===================>..........] - ETA: 0s - loss: 0.3666\u001b[0m\n",
      "\u001b[34m11776/13224 [=========================>....] - ETA: 0s - loss: 0.3652\u001b[0m\n",
      "\u001b[34m13224/13224 [==============================] - 0s 19us/step - loss: 0.3663 - val_loss: 0.3676\u001b[0m\n",
      "\u001b[34mEpoch 20/50\n",
      "\n",
      "  128/13224 [..............................] - ETA: 0s - loss: 0.3630\n",
      " 3072/13224 [=====>........................] - ETA: 0s - loss: 0.3620\n",
      " 6016/13224 [============>.................] - ETA: 0s - loss: 0.3627\n",
      " 7040/13224 [==============>...............] - ETA: 0s - loss: 0.3630\n",
      " 7680/13224 [================>.............] - ETA: 0s - loss: 0.3635\n",
      " 8064/13224 [=================>............] - ETA: 0s - loss: 0.3637\n",
      " 8576/13224 [==================>...........] - ETA: 0s - loss: 0.3636\u001b[0m\n",
      "\u001b[34m 9216/13224 [===================>..........] - ETA: 0s - loss: 0.3636\n",
      " 9856/13224 [=====================>........] - ETA: 0s - loss: 0.3641\u001b[0m\n",
      "\u001b[34m10624/13224 [=======================>......] - ETA: 0s - loss: 0.3642\u001b[0m\n",
      "\u001b[34m11264/13224 [========================>.....] - ETA: 0s - loss: 0.3648\u001b[0m\n",
      "\u001b[34m12928/13224 [============================>.] - ETA: 0s - loss: 0.3656\u001b[0m\n",
      "\u001b[34m13224/13224 [==============================] - 1s 66us/step - loss: 0.3655 - val_loss: 0.3669\u001b[0m\n",
      "\u001b[34mEpoch 21/50\n",
      "\n",
      "  128/13224 [..............................] - ETA: 1s - loss: 0.3676\n",
      "  640/13224 [>.............................] - ETA: 1s - loss: 0.3699\n",
      " 1152/13224 [=>............................] - ETA: 1s - loss: 0.3670\n",
      " 2048/13224 [===>..........................] - ETA: 1s - loss: 0.3682\n",
      " 2816/13224 [=====>........................] - ETA: 0s - loss: 0.3729\n",
      " 3328/13224 [======>.......................] - ETA: 0s - loss: 0.3714\n",
      " 3840/13224 [=======>......................] - ETA: 0s - loss: 0.3692\n",
      " 4480/13224 [=========>....................] - ETA: 0s - loss: 0.3679\n",
      " 5504/13224 [===========>..................] - ETA: 0s - loss: 0.3659\u001b[0m\n",
      "\u001b[34m 6784/13224 [==============>...............] - ETA: 0s - loss: 0.3668\n",
      " 7808/13224 [================>.............] - ETA: 0s - loss: 0.3670\n",
      " 9088/13224 [===================>..........] - ETA: 0s - loss: 0.3659\u001b[0m\n",
      "\u001b[34m10496/13224 [======================>.......] - ETA: 0s - loss: 0.3661\u001b[0m\n",
      "\u001b[34m11648/13224 [=========================>....] - ETA: 0s - loss: 0.3659\u001b[0m\n",
      "\u001b[34m12928/13224 [============================>.] - ETA: 0s - loss: 0.3656\u001b[0m\n",
      "\u001b[34m13224/13224 [==============================] - 1s 71us/step - loss: 0.3650 - val_loss: 0.3664\u001b[0m\n",
      "\u001b[34mEpoch 22/50\n",
      "\n",
      "  128/13224 [..............................] - ETA: 3s - loss: 0.3596\n",
      "  640/13224 [>.............................] - ETA: 1s - loss: 0.3687\n",
      " 1280/13224 [=>............................] - ETA: 1s - loss: 0.3694\n",
      " 3968/13224 [========>.....................] - ETA: 0s - loss: 0.3658\n",
      " 6912/13224 [==============>...............] - ETA: 0s - loss: 0.3665\n",
      " 9600/13224 [====================>.........] - ETA: 0s - loss: 0.3653\u001b[0m\n",
      "\u001b[34m12032/13224 [==========================>...] - ETA: 0s - loss: 0.3658\u001b[0m\n",
      "\u001b[34m13224/13224 [==============================] - 0s 30us/step - loss: 0.3646 - val_loss: 0.3661\u001b[0m\n",
      "\u001b[34mEpoch 23/50\n",
      "\n",
      "  128/13224 [..............................] - ETA: 0s - loss: 0.3780\n",
      " 2816/13224 [=====>........................] - ETA: 0s - loss: 0.3694\n",
      " 4992/13224 [==========>...................] - ETA: 0s - loss: 0.3681\n",
      " 7936/13224 [=================>............] - ETA: 0s - loss: 0.3639\u001b[0m\n",
      "\u001b[34m11008/13224 [=======================>......] - ETA: 0s - loss: 0.3640\u001b[0m\n",
      "\u001b[34m13224/13224 [==============================] - 0s 21us/step - loss: 0.3643 - val_loss: 0.3658\u001b[0m\n",
      "\u001b[34mEpoch 24/50\n",
      "\n",
      "  128/13224 [..............................] - ETA: 0s - loss: 0.3505\n",
      " 3072/13224 [=====>........................] - ETA: 0s - loss: 0.3664\n",
      " 6016/13224 [============>.................] - ETA: 0s - loss: 0.3660\n",
      " 8832/13224 [===================>..........] - ETA: 0s - loss: 0.3646\u001b[0m\n",
      "\u001b[34m11904/13224 [==========================>...] - ETA: 0s - loss: 0.3640\u001b[0m\n",
      "\u001b[34m13224/13224 [==============================] - 0s 19us/step - loss: 0.3640 - val_loss: 0.3656\u001b[0m\n",
      "\u001b[34mEpoch 25/50\n",
      "\n",
      "  128/13224 [..............................] - ETA: 0s - loss: 0.4034\n",
      " 3200/13224 [======>.......................] - ETA: 0s - loss: 0.3637\n",
      " 5632/13224 [===========>..................] - ETA: 0s - loss: 0.3642\n",
      " 8704/13224 [==================>...........] - ETA: 0s - loss: 0.3643\u001b[0m\n",
      "\u001b[34m11648/13224 [=========================>....] - ETA: 0s - loss: 0.3644\u001b[0m\n",
      "\u001b[34m13224/13224 [==============================] - 0s 19us/step - loss: 0.3638 - val_loss: 0.3655\u001b[0m\n",
      "\u001b[34mEpoch 26/50\n",
      "\n",
      "  128/13224 [..............................] - ETA: 0s - loss: 0.4066\n",
      " 3200/13224 [======>.......................] - ETA: 0s - loss: 0.3614\n",
      " 6144/13224 [============>.................] - ETA: 0s - loss: 0.3612\n",
      " 9088/13224 [===================>..........] - ETA: 0s - loss: 0.3635\u001b[0m\n",
      "\u001b[34m11520/13224 [=========================>....] - ETA: 0s - loss: 0.3630\u001b[0m\n",
      "\u001b[34m13224/13224 [==============================] - 0s 20us/step - loss: 0.3636 - val_loss: 0.3652\u001b[0m\n",
      "\u001b[34mEpoch 27/50\n",
      "\n",
      "  128/13224 [..............................] - ETA: 0s - loss: 0.3209\n",
      " 3200/13224 [======>.......................] - ETA: 0s - loss: 0.3619\n",
      " 6272/13224 [=============>................] - ETA: 0s - loss: 0.3634\u001b[0m\n",
      "\u001b[34m 9216/13224 [===================>..........] - ETA: 0s - loss: 0.3638\u001b[0m\n",
      "\u001b[34m12160/13224 [==========================>...] - ETA: 0s - loss: 0.3626\u001b[0m\n",
      "\u001b[34m13224/13224 [==============================] - 0s 19us/step - loss: 0.3635 - val_loss: 0.3650\u001b[0m\n",
      "\u001b[34mEpoch 28/50\n",
      "\n",
      "  128/13224 [..............................] - ETA: 0s - loss: 0.3865\n",
      " 3072/13224 [=====>........................] - ETA: 0s - loss: 0.3652\n",
      " 6016/13224 [============>.................] - ETA: 0s - loss: 0.3644\n",
      " 9088/13224 [===================>..........] - ETA: 0s - loss: 0.3654\u001b[0m\n",
      "\u001b[34m12032/13224 [==========================>...] - ETA: 0s - loss: 0.3639\u001b[0m\n",
      "\u001b[34m13224/13224 [==============================] - 0s 19us/step - loss: 0.3632 - val_loss: 0.3648\u001b[0m\n",
      "\u001b[34mEpoch 29/50\n",
      "\n",
      "  128/13224 [..............................] - ETA: 0s - loss: 0.3583\n",
      " 3072/13224 [=====>........................] - ETA: 0s - loss: 0.3653\n",
      " 6016/13224 [============>.................] - ETA: 0s - loss: 0.3644\n",
      " 9088/13224 [===================>..........] - ETA: 0s - loss: 0.3640\u001b[0m\n",
      "\u001b[34m12160/13224 [==========================>...] - ETA: 0s - loss: 0.3635\u001b[0m\n",
      "\u001b[34m13224/13224 [==============================] - 0s 18us/step - loss: 0.3631 - val_loss: 0.3647\u001b[0m\n",
      "\u001b[34mEpoch 30/50\n",
      "\n",
      "  128/13224 [..............................] - ETA: 0s - loss: 0.3569\n",
      " 3200/13224 [======>.......................] - ETA: 0s - loss: 0.3626\n",
      " 6144/13224 [============>.................] - ETA: 0s - loss: 0.3632\n",
      " 9088/13224 [===================>..........] - ETA: 0s - loss: 0.3628\u001b[0m\n",
      "\u001b[34m11520/13224 [=========================>....] - ETA: 0s - loss: 0.3630\u001b[0m\n",
      "\u001b[34m13224/13224 [==============================] - 0s 19us/step - loss: 0.3630 - val_loss: 0.3646\u001b[0m\n",
      "\u001b[34mEpoch 31/50\n",
      "\n",
      "  128/13224 [..............................] - ETA: 0s - loss: 0.3799\n",
      " 3200/13224 [======>.......................] - ETA: 0s - loss: 0.3676\n",
      " 6144/13224 [============>.................] - ETA: 0s - loss: 0.3647\u001b[0m\n",
      "\u001b[34m 9088/13224 [===================>..........] - ETA: 0s - loss: 0.3634\u001b[0m\n",
      "\u001b[34m12032/13224 [==========================>...] - ETA: 0s - loss: 0.3628\u001b[0m\n",
      "\u001b[34m13224/13224 [==============================] - 0s 19us/step - loss: 0.3629 - val_loss: 0.3645\u001b[0m\n",
      "\u001b[34mEpoch 32/50\n",
      "\n",
      "  128/13224 [..............................] - ETA: 0s - loss: 0.3712\n",
      " 3072/13224 [=====>........................] - ETA: 0s - loss: 0.3595\n",
      " 6144/13224 [============>.................] - ETA: 0s - loss: 0.3608\n",
      " 9088/13224 [===================>..........] - ETA: 0s - loss: 0.3624\u001b[0m\n",
      "\u001b[34m12032/13224 [==========================>...] - ETA: 0s - loss: 0.3626\u001b[0m\n",
      "\u001b[34m13224/13224 [==============================] - 0s 19us/step - loss: 0.3628 - val_loss: 0.3644\u001b[0m\n",
      "\u001b[34mEpoch 33/50\n",
      "\n",
      "  128/13224 [..............................] - ETA: 0s - loss: 0.3451\n",
      " 3328/13224 [======>.......................] - ETA: 0s - loss: 0.3645\n",
      " 6016/13224 [============>.................] - ETA: 0s - loss: 0.3640\n",
      " 8960/13224 [===================>..........] - ETA: 0s - loss: 0.3620\u001b[0m\n",
      "\u001b[34m11904/13224 [==========================>...] - ETA: 0s - loss: 0.3618\u001b[0m\n",
      "\u001b[34m13224/13224 [==============================] - 0s 19us/step - loss: 0.3627 - val_loss: 0.3643\u001b[0m\n",
      "\u001b[34mEpoch 34/50\n",
      "\n",
      "  128/13224 [..............................] - ETA: 0s - loss: 0.3456\n",
      " 3200/13224 [======>.......................] - ETA: 0s - loss: 0.3609\n",
      " 6272/13224 [=============>................] - ETA: 0s - loss: 0.3652\n",
      " 9344/13224 [====================>.........] - ETA: 0s - loss: 0.3625\u001b[0m\n",
      "\u001b[34m11776/13224 [=========================>....] - ETA: 0s - loss: 0.3624\u001b[0m\n",
      "\u001b[34m13224/13224 [==============================] - 0s 19us/step - loss: 0.3625 - val_loss: 0.3642\u001b[0m\n",
      "\u001b[34mEpoch 35/50\n",
      "\n",
      "  128/13224 [..............................] - ETA: 0s - loss: 0.3283\n",
      " 3200/13224 [======>.......................] - ETA: 0s - loss: 0.3620\n",
      " 6272/13224 [=============>................] - ETA: 0s - loss: 0.3625\u001b[0m\n",
      "\u001b[34m 9216/13224 [===================>..........] - ETA: 0s - loss: 0.3623\u001b[0m\n",
      "\u001b[34m12160/13224 [==========================>...] - ETA: 0s - loss: 0.3629\u001b[0m\n",
      "\u001b[34m13224/13224 [==============================] - 0s 19us/step - loss: 0.3624 - val_loss: 0.3641\u001b[0m\n",
      "\u001b[34mEpoch 36/50\n",
      "\n",
      "  128/13224 [..............................] - ETA: 0s - loss: 0.3600\n",
      " 3072/13224 [=====>........................] - ETA: 0s - loss: 0.3647\n",
      " 5888/13224 [============>.................] - ETA: 0s - loss: 0.3610\n",
      " 8960/13224 [===================>..........] - ETA: 0s - loss: 0.3617\u001b[0m\n",
      "\u001b[34m11904/13224 [==========================>...] - ETA: 0s - loss: 0.3626\u001b[0m\n",
      "\u001b[34m13224/13224 [==============================] - 0s 19us/step - loss: 0.3624 - val_loss: 0.3641\u001b[0m\n",
      "\u001b[34mEpoch 37/50\n",
      "\n",
      "  128/13224 [..............................] - ETA: 0s - loss: 0.3835\n",
      " 3200/13224 [======>.......................] - ETA: 0s - loss: 0.3626\n",
      " 6144/13224 [============>.................] - ETA: 0s - loss: 0.3615\n",
      " 9088/13224 [===================>..........] - ETA: 0s - loss: 0.3619\u001b[0m\n",
      "\u001b[34m12032/13224 [==========================>...] - ETA: 0s - loss: 0.3629\u001b[0m\n",
      "\u001b[34m13224/13224 [==============================] - 0s 19us/step - loss: 0.3623 - val_loss: 0.3640\u001b[0m\n",
      "\u001b[34mEpoch 38/50\n",
      "\n",
      "  128/13224 [..............................] - ETA: 0s - loss: 0.3720\n",
      " 3200/13224 [======>.......................] - ETA: 0s - loss: 0.3587\n",
      " 6272/13224 [=============>................] - ETA: 0s - loss: 0.3574\n",
      " 9344/13224 [====================>.........] - ETA: 0s - loss: 0.3603\u001b[0m\n",
      "\u001b[34m11264/13224 [========================>.....] - ETA: 0s - loss: 0.3613\u001b[0m\n",
      "\u001b[34m13224/13224 [==============================] - 0s 20us/step - loss: 0.3622 - val_loss: 0.3639\u001b[0m\n",
      "\u001b[34mEpoch 39/50\n",
      "\n",
      "  128/13224 [..............................] - ETA: 0s - loss: 0.3559\n",
      " 3072/13224 [=====>........................] - ETA: 0s - loss: 0.3599\n",
      " 6016/13224 [============>.................] - ETA: 0s - loss: 0.3588\n",
      " 8960/13224 [===================>..........] - ETA: 0s - loss: 0.3592\u001b[0m\n",
      "\u001b[34m12032/13224 [==========================>...] - ETA: 0s - loss: 0.3619\u001b[0m\n",
      "\u001b[34m13224/13224 [==============================] - 0s 18us/step - loss: 0.3622 - val_loss: 0.3638\u001b[0m\n",
      "\u001b[34mEpoch 40/50\n",
      "\n",
      "  128/13224 [..............................] - ETA: 0s - loss: 0.3531\n",
      " 3072/13224 [=====>........................] - ETA: 0s - loss: 0.3626\n",
      " 6144/13224 [============>.................] - ETA: 0s - loss: 0.3607\n",
      " 9216/13224 [===================>..........] - ETA: 0s - loss: 0.3624\u001b[0m\n",
      "\u001b[34m12288/13224 [==========================>...] - ETA: 0s - loss: 0.3618\u001b[0m\n",
      "\u001b[34m13224/13224 [==============================] - 0s 18us/step - loss: 0.3620 - val_loss: 0.3639\u001b[0m\n",
      "\u001b[34mEpoch 41/50\n",
      "\n",
      "  128/13224 [..............................] - ETA: 0s - loss: 0.4008\n",
      " 3200/13224 [======>.......................] - ETA: 0s - loss: 0.3660\n",
      " 6144/13224 [============>.................] - ETA: 0s - loss: 0.3635\n",
      " 9088/13224 [===================>..........] - ETA: 0s - loss: 0.3635\u001b[0m\n",
      "\u001b[34m12160/13224 [==========================>...] - ETA: 0s - loss: 0.3626\u001b[0m\n",
      "\u001b[34m13224/13224 [==============================] - 0s 19us/step - loss: 0.3620 - val_loss: 0.3637\u001b[0m\n",
      "\u001b[34mEpoch 42/50\n",
      "\n",
      "  128/13224 [..............................] - ETA: 0s - loss: 0.4024\n",
      " 2176/13224 [===>..........................] - ETA: 0s - loss: 0.3624\n",
      " 4352/13224 [========>.....................] - ETA: 0s - loss: 0.3589\n",
      " 7296/13224 [===============>..............] - ETA: 0s - loss: 0.3624\n",
      " 9984/13224 [=====================>........] - ETA: 0s - loss: 0.3628\u001b[0m\n",
      "\u001b[34m13056/13224 [============================>.] - ETA: 0s - loss: 0.3619\u001b[0m\n",
      "\u001b[34m13224/13224 [==============================] - 0s 22us/step - loss: 0.3619 - val_loss: 0.3636\u001b[0m\n",
      "\u001b[34mEpoch 43/50\n",
      "\n",
      "  128/13224 [..............................] - ETA: 0s - loss: 0.3787\n",
      " 3072/13224 [=====>........................] - ETA: 0s - loss: 0.3626\n",
      " 6016/13224 [============>.................] - ETA: 0s - loss: 0.3615\u001b[0m\n",
      "\u001b[34m 9088/13224 [===================>..........] - ETA: 0s - loss: 0.3645\u001b[0m\n",
      "\u001b[34m12160/13224 [==========================>...] - ETA: 0s - loss: 0.3621\u001b[0m\n",
      "\u001b[34m13224/13224 [==============================] - 0s 18us/step - loss: 0.3618 - val_loss: 0.3636\u001b[0m\n",
      "\u001b[34mEpoch 44/50\n",
      "\n",
      "  128/13224 [..............................] - ETA: 0s - loss: 0.3564\n",
      " 3200/13224 [======>.......................] - ETA: 0s - loss: 0.3643\n",
      " 6016/13224 [============>.................] - ETA: 0s - loss: 0.3629\n",
      " 8960/13224 [===================>..........] - ETA: 0s - loss: 0.3623\u001b[0m\n",
      "\u001b[34m12032/13224 [==========================>...] - ETA: 0s - loss: 0.3623\u001b[0m\n",
      "\u001b[34m13224/13224 [==============================] - 0s 19us/step - loss: 0.3617 - val_loss: 0.3635\u001b[0m\n",
      "\u001b[34mEpoch 45/50\n",
      "\n",
      "  128/13224 [..............................] - ETA: 0s - loss: 0.3047\n",
      " 3072/13224 [=====>........................] - ETA: 0s - loss: 0.3673\n",
      " 5760/13224 [============>.................] - ETA: 0s - loss: 0.3613\n",
      " 8320/13224 [=================>............] - ETA: 0s - loss: 0.3637\u001b[0m\n",
      "\u001b[34m11264/13224 [========================>.....] - ETA: 0s - loss: 0.3613\u001b[0m\n",
      "\u001b[34m13224/13224 [==============================] - 0s 19us/step - loss: 0.3617 - val_loss: 0.3634\u001b[0m\n",
      "\u001b[34mEpoch 46/50\n",
      "\n",
      "  128/13224 [..............................] - ETA: 0s - loss: 0.3478\n",
      " 3200/13224 [======>.......................] - ETA: 0s - loss: 0.3596\n",
      " 6144/13224 [============>.................] - ETA: 0s - loss: 0.3613\n",
      " 9088/13224 [===================>..........] - ETA: 0s - loss: 0.3628\u001b[0m\n",
      "\u001b[34m11392/13224 [========================>.....] - ETA: 0s - loss: 0.3618\u001b[0m\n",
      "\u001b[34m13224/13224 [==============================] - 0s 20us/step - loss: 0.3616 - val_loss: 0.3633\u001b[0m\n",
      "\u001b[34mEpoch 47/50\n",
      "\n",
      "  128/13224 [..............................] - ETA: 0s - loss: 0.3290\n",
      " 3072/13224 [=====>........................] - ETA: 0s - loss: 0.3594\n",
      " 6144/13224 [============>.................] - ETA: 0s - loss: 0.3610\u001b[0m\n",
      "\u001b[34m 9088/13224 [===================>..........] - ETA: 0s - loss: 0.3614\u001b[0m\n",
      "\u001b[34m11904/13224 [==========================>...] - ETA: 0s - loss: 0.3612\u001b[0m\n",
      "\u001b[34m13224/13224 [==============================] - 0s 19us/step - loss: 0.3615 - val_loss: 0.3633\u001b[0m\n",
      "\u001b[34mEpoch 48/50\n",
      "\n",
      "  128/13224 [..............................] - ETA: 0s - loss: 0.3751\n",
      " 3072/13224 [=====>........................] - ETA: 0s - loss: 0.3643\n",
      " 6016/13224 [============>.................] - ETA: 0s - loss: 0.3640\n",
      " 8960/13224 [===================>..........] - ETA: 0s - loss: 0.3619\u001b[0m\n",
      "\u001b[34m11904/13224 [==========================>...] - ETA: 0s - loss: 0.3615\u001b[0m\n",
      "\u001b[34m13224/13224 [==============================] - 0s 19us/step - loss: 0.3614 - val_loss: 0.3632\u001b[0m\n",
      "\u001b[34mEpoch 49/50\n",
      "\n",
      "  128/13224 [..............................] - ETA: 0s - loss: 0.3913\n",
      " 3200/13224 [======>.......................] - ETA: 0s - loss: 0.3612\n",
      " 6144/13224 [============>.................] - ETA: 0s - loss: 0.3625\n",
      " 9088/13224 [===================>..........] - ETA: 0s - loss: 0.3600\u001b[0m\n",
      "\u001b[34m12160/13224 [==========================>...] - ETA: 0s - loss: 0.3605\u001b[0m\n",
      "\u001b[34m13224/13224 [==============================] - 0s 19us/step - loss: 0.3613 - val_loss: 0.3631\u001b[0m\n",
      "\u001b[34mEpoch 50/50\n",
      "\n",
      "  128/13224 [..............................] - ETA: 0s - loss: 0.3703\n",
      " 3072/13224 [=====>........................] - ETA: 0s - loss: 0.3571\n",
      " 6144/13224 [============>.................] - ETA: 0s - loss: 0.3597\n",
      " 9088/13224 [===================>..........] - ETA: 0s - loss: 0.3590\u001b[0m\n",
      "\u001b[34m11648/13224 [=========================>....] - ETA: 0s - loss: 0.3601\u001b[0m\n",
      "\u001b[34m13224/13224 [==============================] - 0s 19us/step - loss: 0.3613 - val_loss: 0.3631\u001b[0m\n",
      "\u001b[34mValidation loss    : 0.36305536866404337\u001b[0m\n",
      "\u001b[34mWARNING:tensorflow:From /usr/local/lib/python3.6/dist-packages/tensorflow/python/saved_model/simple_save.py:85: calling SavedModelBuilder.add_meta_graph_and_variables (from tensorflow.python.saved_model.builder_impl) with legacy_init_op is deprecated and will be removed in a future version.\u001b[0m\n",
      "\u001b[34mInstructions for updating:\u001b[0m\n",
      "\u001b[34mPass your op to the equivalent parameter main_op instead.\u001b[0m\n",
      "\u001b[34m2021-01-28 22:08:14,548 sagemaker-containers INFO     Reporting training SUCCESS\u001b[0m\n",
      "\n",
      "2021-01-28 22:08:35 Uploading - Uploading generated training model\n",
      "2021-01-28 22:08:35 Completed - Training job completed\n",
      "Training seconds: 85\n",
      "Billable seconds: 85\n"
     ]
    }
   ],
   "source": [
    "tf_estimator.fit({'training': training_input_path, 'validation': validation_input_path})"
   ]
  },
  {
   "cell_type": "markdown",
   "metadata": {},
   "source": [
    "### Model Training Performance"
   ]
  },
  {
   "cell_type": "markdown",
   "metadata": {},
   "source": [
    "#### Training Evaluation"
   ]
  },
  {
   "cell_type": "code",
   "execution_count": 273,
   "metadata": {},
   "outputs": [],
   "source": [
    "# plot validation and training progress\n",
    "client = boto3.client('logs')\n",
    "BASE_LOG_NAME = '/aws/sagemaker/TrainingJobs'\n",
    "\n",
    "def plot_log(model):\n",
    "    logs = client.describe_log_streams(logGroupName=BASE_LOG_NAME, logStreamNamePrefix=model._current_job_name)\n",
    "    cw_log = client.get_log_events(logGroupName=BASE_LOG_NAME, logStreamName=logs['logStreams'][0]['logStreamName'])\n",
    "\n",
    "    val = []\n",
    "    train = []\n",
    "    iteration = []\n",
    "    count = 0\n",
    "    for e in cw_log['events']:\n",
    "        msg = e['message']\n",
    "        if '/step' in msg:\n",
    "            msg = msg.split(' ')\n",
    "            #print(msg)\n",
    "            train.append(float(msg[-4]))\n",
    "            val.append(float(msg[-1]))\n",
    "            iteration.append(count)\n",
    "            count+=1\n",
    "\n",
    "    fig, ax = plt.subplots(figsize=(15,10))\n",
    "    plt.xlabel('Epoch')\n",
    "    plt.ylabel('Error')\n",
    "    train_plot,   = ax.plot(iteration,   train,   label='train')\n",
    "    val_plot,   = ax.plot(iteration,   val,   label='validation')\n",
    "    plt.legend(handles=[train_plot,val_plot])\n",
    "    plt.grid()\n",
    "    plt.show()"
   ]
  },
  {
   "cell_type": "code",
   "execution_count": 274,
   "metadata": {},
   "outputs": [
    {
     "data": {
      "image/png": "[encoded data removed]",
      "text/plain": [
       "<Figure size 1080x720 with 1 Axes>"
      ]
     },
     "metadata": {
      "needs_background": "light"
     },
     "output_type": "display_data"
    }
   ],
   "source": [
    "plot_log(tf_estimator)"
   ]
  },
  {
   "cell_type": "markdown",
   "metadata": {},
   "source": [
    "# Deploy"
   ]
  },
  {
   "cell_type": "markdown",
   "metadata": {},
   "source": [
    "### Deploy the trained model with Elastic Inference and Data Capture\n",
    "\n",
    "Pricing for SageMaker by region is found [here](https://aws.amazon.com/sagemaker/pricing/)"
   ]
  },
  {
   "cell_type": "code",
   "execution_count": 275,
   "metadata": {},
   "outputs": [
    {
     "name": "stderr",
     "output_type": "stream",
     "text": [
      "update_endpoint is a no-op in sagemaker>=2.\n",
      "See: https://sagemaker.readthedocs.io/en/stable/v2.html for details.\n"
     ]
    },
    {
     "name": "stdout",
     "output_type": "stream",
     "text": [
      "s3://sagemaker-us-east-1-431615879134/turbofan-RUL-AE/monitoring/datacapture\n",
      "-------------!CPU times: user 217 ms, sys: 9.67 ms, total: 226 ms\n",
      "Wall time: 6min 32s\n"
     ]
    }
   ],
   "source": [
    "%%time\n",
    "\n",
    "import time\n",
    "from sagemaker.model_monitor import DataCaptureConfig\n",
    "\n",
    "tf_endpoint_name = 'turbo-fan-RUL-AE-'+time.strftime(\"%Y-%m-%d-%H-%M-%S\", time.gmtime())\n",
    "s3_capture_upload_path = 's3://{}/{}/monitoring/datacapture'.format(bucket_name, prefix)\n",
    "print(s3_capture_upload_path)\n",
    "\n",
    "#predictor = tf_estimator.deploy(initial_instance_count=1,\n",
    "#                                   instance_type='ml.p2.xlarge')      # $1.125/hour in us-east-1\n",
    "\n",
    "predictor = tf_estimator.deploy(initial_instance_count=1,\n",
    "                         instance_type='ml.c5.large',        # $0.119/hour in us-east-1\n",
    "                         accelerator_type='ml.eia1.medium',  # + $0.168/hour in us-east-1\n",
    "                         endpoint_name=tf_endpoint_name,     # = 67% discount!\n",
    "                         data_capture_config=DataCaptureConfig(\n",
    "                                enable_capture=True,\n",
    "                                sampling_percentage=100,\n",
    "                                destination_s3_uri=s3_capture_upload_path))"
   ]
  },
  {
   "cell_type": "markdown",
   "metadata": {},
   "source": [
    "### OPTIONAL - Connect to deployed endpoint"
   ]
  },
  {
   "cell_type": "code",
   "execution_count": null,
   "metadata": {},
   "outputs": [],
   "source": [
    "# How do you connect to an already deployed endpoint\n",
    "end_point_name = 'ENDPOINT-NAME'\n",
    "predictor = sagemaker.tensorflow.model.TensorFlowPredictor(end_point_name,sagemaker_session=sess)"
   ]
  },
  {
   "cell_type": "markdown",
   "metadata": {},
   "source": [
    "# Predict"
   ]
  },
  {
   "cell_type": "markdown",
   "metadata": {},
   "source": [
    "We are going to calculate the mean squared error between predicted and the expected values. This will be our reconstruction error"
   ]
  },
  {
   "cell_type": "code",
   "execution_count": 276,
   "metadata": {},
   "outputs": [
    {
     "name": "stdout",
     "output_type": "stream",
     "text": [
      "{'predictions': [[0.0896591, 0.0, 0.0, 0.0, 0.613879, 0.0, 0.493838, 0.0318632, 0.0, 0.0, 0.497426, 0.0, 0.748817, 0.320855, 0.0, 0.0]]}\n",
      "{'predictions': [[1.07161, 0.0, 0.0, 0.0, 0.616567, 0.0, 0.619245, 0.0, 0.0, 0.0, 0.592024, 0.0, 0.789263, 0.307001, 0.0, 0.0]]}\n"
     ]
    }
   ],
   "source": [
    "# single predictions\n",
    "test1 = np.array([ 0.23181664, -1.031415  ,  0.0200345 ,  0.49338209,  1.00451033,\n",
    "       -1.45819216,  0.0041503 ,  0.03854353,  0.54958493, -0.95076123,\n",
    "        0.16660914, -0.18772613,  0.64182997,  0.67217714, -0.82575155,\n",
    "       -0.16161417])\n",
    "\n",
    "result = predictor.predict(test1)\n",
    "print(result)\n",
    "\n",
    "test2 = np.array([ 1.05574627,  1.35571432, -0.57110458,  0.74633819,  0.67483162,\n",
    "       -0.51925459,  0.77610555, -0.76845284, -0.2522413 , -0.04313786,\n",
    "        0.31915843, -0.43000929,  0.683185  ,  0.67217714,  0.20974389,\n",
    "        0.09380091])\n",
    "\n",
    "result = predictor.predict(test2)\n",
    "print(result)"
   ]
  },
  {
   "cell_type": "markdown",
   "metadata": {},
   "source": [
    "Now let's list the data capture files stored in S3. You should expect to see different files from different time periods organized based on the hour in which the invocation occurred.\n",
    "\n",
    "**Note that the delivery of capture data to Amazon S3 can require a couple of minutes so next cell might error. If this happens, please retry after a minute.**"
   ]
  },
  {
   "cell_type": "code",
   "execution_count": 279,
   "metadata": {},
   "outputs": [
    {
     "ename": "TypeError",
     "evalue": "'NoneType' object is not iterable",
     "output_type": "error",
     "traceback": [
      "\u001b[0;31m---------------------------------------------------------------------------\u001b[0m",
      "\u001b[0;31mTypeError\u001b[0m                                 Traceback (most recent call last)",
      "\u001b[0;32m<ipython-input-279-fc875926c080>\u001b[0m in \u001b[0;36m<module>\u001b[0;34m\u001b[0m\n\u001b[1;32m      3\u001b[0m \u001b[0;34m\u001b[0m\u001b[0m\n\u001b[1;32m      4\u001b[0m \u001b[0mresult\u001b[0m \u001b[0;34m=\u001b[0m \u001b[0ms3_client\u001b[0m\u001b[0;34m.\u001b[0m\u001b[0mlist_objects\u001b[0m\u001b[0;34m(\u001b[0m\u001b[0mBucket\u001b[0m\u001b[0;34m=\u001b[0m\u001b[0mbucket_name\u001b[0m\u001b[0;34m,\u001b[0m \u001b[0mPrefix\u001b[0m\u001b[0;34m=\u001b[0m\u001b[0mcurrent_endpoint_capture_prefix\u001b[0m\u001b[0;34m)\u001b[0m\u001b[0;34m\u001b[0m\u001b[0;34m\u001b[0m\u001b[0m\n\u001b[0;32m----> 5\u001b[0;31m \u001b[0mcapture_files\u001b[0m \u001b[0;34m=\u001b[0m \u001b[0;34m[\u001b[0m\u001b[0;34m's3://{0}/{1}'\u001b[0m\u001b[0;34m.\u001b[0m\u001b[0mformat\u001b[0m\u001b[0;34m(\u001b[0m\u001b[0mbucket_name\u001b[0m\u001b[0;34m,\u001b[0m \u001b[0mcapture_file\u001b[0m\u001b[0;34m.\u001b[0m\u001b[0mget\u001b[0m\u001b[0;34m(\u001b[0m\u001b[0;34m\"Key\"\u001b[0m\u001b[0;34m)\u001b[0m\u001b[0;34m)\u001b[0m \u001b[0;32mfor\u001b[0m \u001b[0mcapture_file\u001b[0m \u001b[0;32min\u001b[0m \u001b[0mresult\u001b[0m\u001b[0;34m.\u001b[0m\u001b[0mget\u001b[0m\u001b[0;34m(\u001b[0m\u001b[0;34m'Contents'\u001b[0m\u001b[0;34m)\u001b[0m\u001b[0;34m]\u001b[0m\u001b[0;34m\u001b[0m\u001b[0;34m\u001b[0m\u001b[0m\n\u001b[0m\u001b[1;32m      6\u001b[0m \u001b[0;34m\u001b[0m\u001b[0m\n\u001b[1;32m      7\u001b[0m \u001b[0mprint\u001b[0m\u001b[0;34m(\u001b[0m\u001b[0;34m\"Capture Files: \"\u001b[0m\u001b[0;34m)\u001b[0m\u001b[0;34m\u001b[0m\u001b[0;34m\u001b[0m\u001b[0m\n",
      "\u001b[0;31mTypeError\u001b[0m: 'NoneType' object is not iterable"
     ]
    }
   ],
   "source": [
    "s3_client = boto3.Session().client('s3')\n",
    "current_endpoint_capture_prefix = '{}/monitoring/datacapture/{}'.format(prefix, tf_endpoint_name)\n",
    "\n",
    "result = s3_client.list_objects(Bucket=bucket_name, Prefix=current_endpoint_capture_prefix)\n",
    "capture_files = ['s3://{0}/{1}'.format(bucket_name, capture_file.get(\"Key\")) for capture_file in result.get('Contents')]\n",
    "\n",
    "print(\"Capture Files: \")\n",
    "print(\"\\n \".join(capture_files))"
   ]
  },
  {
   "cell_type": "markdown",
   "metadata": {},
   "source": [
    "We can also read the contents of one of these files and see how capture records are organized in JSON lines format."
   ]
  },
  {
   "cell_type": "code",
   "execution_count": 280,
   "metadata": {},
   "outputs": [
    {
     "name": "stdout",
     "output_type": "stream",
     "text": [
      "download: s3://sagemaker-us-east-1-431615879134/turbofan-RUL-AE/monitoring/datacapture/turbo-fan-RUL-AE-2021-01-28-20-03-50/AllTraffic/2021/01/28/20/11-33-222-ca890ac8-e727-47d6-a23f-a605371aa131.jsonl to datacapture/captured_data_example.jsonl\n",
      "{\n",
      "  \"captureData\": {\n",
      "    \"endpointInput\": {\n",
      "      \"observedContentType\": \"application/json\",\n",
      "      \"mode\": \"INPUT\",\n",
      "      \"data\": \"[0.23181664, -1.031415, 0.0200345, 0.49338209, 1.00451033, -1.45819216, 0.0041503, 0.03854353, 0.54958493, -0.95076123, 0.16660914, -0.18772613, 0.64182997, 0.67217714, -0.82575155, -0.16161417]\",\n",
      "      \"encoding\": \"JSON\"\n",
      "    },\n",
      "    \"endpointOutput\": {\n",
      "      \"observedContentType\": \"application/json\",\n",
      "      \"mode\": \"OUTPUT\",\n",
      "      \"data\": \"{\\n    \\\"predictions\\\": [[-0.254027, -0.669781, 0.512843, 0.537859, 0.587814, -0.615441, 0.623188, 0.107272, 0.667016, -0.694629, 0.635556, -0.000644535, 0.561718, 0.463547, -0.555277, -0.592368]\\n    ]\\n}\",\n",
      "      \"encoding\": \"JSON\"\n",
      "    }\n",
      "  },\n",
      "  \"eventMetadata\": {\n",
      "    \"eventId\": \"82a62bc8-05e2-4138-a202-4703d23a60d7\",\n",
      "    \"inferenceTime\": \"2021-01-28T20:11:33Z\"\n",
      "  },\n",
      "  \"eventVersion\": \"0\"\n",
      "}\n"
     ]
    }
   ],
   "source": [
    "!aws s3 cp {capture_files[0]} datacapture/captured_data_example.jsonl\n",
    "\n",
    "import json\n",
    "with open (\"datacapture/captured_data_example.jsonl\", \"r\") as myfile:\n",
    "    data=myfile.read()\n",
    "\n",
    "print(json.dumps(json.loads(data.split('\\n')[0]), indent=2))"
   ]
  },
  {
   "cell_type": "markdown",
   "metadata": {},
   "source": [
    "For each inference request, we get input data, output data and some metadata like the inference time captured and saved.\n"
   ]
  },
  {
   "cell_type": "markdown",
   "metadata": {},
   "source": [
    "#### Reconstruction error without failure"
   ]
  },
  {
   "cell_type": "code",
   "execution_count": 281,
   "metadata": {},
   "outputs": [],
   "source": [
    "# run the validation data through the trained model\n",
    "y_pred_val = predictor.predict(val)['predictions']\n",
    "mse = np.mean(np.power(val - y_pred_val, 2), axis=1)"
   ]
  },
  {
   "cell_type": "code",
   "execution_count": 282,
   "metadata": {},
   "outputs": [
    {
     "data": {
      "text/html": [
       "<div>\n",
       "<style scoped>\n",
       "    .dataframe tbody tr th:only-of-type {\n",
       "        vertical-align: middle;\n",
       "    }\n",
       "\n",
       "    .dataframe tbody tr th {\n",
       "        vertical-align: top;\n",
       "    }\n",
       "\n",
       "    .dataframe thead th {\n",
       "        text-align: right;\n",
       "    }\n",
       "</style>\n",
       "<table border=\"1\" class=\"dataframe\">\n",
       "  <thead>\n",
       "    <tr style=\"text-align: right;\">\n",
       "      <th></th>\n",
       "      <th>reconstruction_error</th>\n",
       "      <th>true_class</th>\n",
       "    </tr>\n",
       "  </thead>\n",
       "  <tbody>\n",
       "    <tr>\n",
       "      <th>count</th>\n",
       "      <td>3307.000000</td>\n",
       "      <td>3307.0</td>\n",
       "    </tr>\n",
       "    <tr>\n",
       "      <th>mean</th>\n",
       "      <td>0.363055</td>\n",
       "      <td>0.0</td>\n",
       "    </tr>\n",
       "    <tr>\n",
       "      <th>std</th>\n",
       "      <td>0.207950</td>\n",
       "      <td>0.0</td>\n",
       "    </tr>\n",
       "    <tr>\n",
       "      <th>min</th>\n",
       "      <td>0.038049</td>\n",
       "      <td>0.0</td>\n",
       "    </tr>\n",
       "    <tr>\n",
       "      <th>50%</th>\n",
       "      <td>0.313674</td>\n",
       "      <td>0.0</td>\n",
       "    </tr>\n",
       "    <tr>\n",
       "      <th>90%</th>\n",
       "      <td>0.645925</td>\n",
       "      <td>0.0</td>\n",
       "    </tr>\n",
       "    <tr>\n",
       "      <th>95%</th>\n",
       "      <td>0.778551</td>\n",
       "      <td>0.0</td>\n",
       "    </tr>\n",
       "    <tr>\n",
       "      <th>99%</th>\n",
       "      <td>1.002748</td>\n",
       "      <td>0.0</td>\n",
       "    </tr>\n",
       "    <tr>\n",
       "      <th>99.9%</th>\n",
       "      <td>1.376157</td>\n",
       "      <td>0.0</td>\n",
       "    </tr>\n",
       "    <tr>\n",
       "      <th>99.99%</th>\n",
       "      <td>1.642833</td>\n",
       "      <td>0.0</td>\n",
       "    </tr>\n",
       "    <tr>\n",
       "      <th>max</th>\n",
       "      <td>1.751422</td>\n",
       "      <td>0.0</td>\n",
       "    </tr>\n",
       "  </tbody>\n",
       "</table>\n",
       "</div>"
      ],
      "text/plain": [
       "        reconstruction_error  true_class\n",
       "count            3307.000000      3307.0\n",
       "mean                0.363055         0.0\n",
       "std                 0.207950         0.0\n",
       "min                 0.038049         0.0\n",
       "50%                 0.313674         0.0\n",
       "90%                 0.645925         0.0\n",
       "95%                 0.778551         0.0\n",
       "99%                 1.002748         0.0\n",
       "99.9%               1.376157         0.0\n",
       "99.99%              1.642833         0.0\n",
       "max                 1.751422         0.0"
      ]
     },
     "execution_count": 282,
     "metadata": {},
     "output_type": "execute_result"
    }
   ],
   "source": [
    "error_df_val = pd.DataFrame({'reconstruction_error': mse,'true_class': np.zeros(len(mse))})\n",
    "error_df_val.describe(percentiles=[.50,.90,.95,.99,.999,.9999])"
   ]
  },
  {
   "cell_type": "markdown",
   "metadata": {},
   "source": [
    "#### Reconstruction error with failure"
   ]
  },
  {
   "cell_type": "code",
   "execution_count": 283,
   "metadata": {},
   "outputs": [],
   "source": [
    "# run the failed examples through the trained model\n",
    "train_fail = train_df.loc[train_df['failed'] == 1]\n",
    "train_fail = train_fail.drop(['failed','remaining_cycles'], axis=1)\n",
    "train_fail_scaled = scaler.transform(train_fail)"
   ]
  },
  {
   "cell_type": "code",
   "execution_count": 284,
   "metadata": {},
   "outputs": [
    {
     "data": {
      "text/html": [
       "<div>\n",
       "<style scoped>\n",
       "    .dataframe tbody tr th:only-of-type {\n",
       "        vertical-align: middle;\n",
       "    }\n",
       "\n",
       "    .dataframe tbody tr th {\n",
       "        vertical-align: top;\n",
       "    }\n",
       "\n",
       "    .dataframe thead th {\n",
       "        text-align: right;\n",
       "    }\n",
       "</style>\n",
       "<table border=\"1\" class=\"dataframe\">\n",
       "  <thead>\n",
       "    <tr style=\"text-align: right;\">\n",
       "      <th></th>\n",
       "      <th>reconstruction_error</th>\n",
       "      <th>true_class</th>\n",
       "    </tr>\n",
       "  </thead>\n",
       "  <tbody>\n",
       "    <tr>\n",
       "      <th>count</th>\n",
       "      <td>4100.000000</td>\n",
       "      <td>4100.0</td>\n",
       "    </tr>\n",
       "    <tr>\n",
       "      <th>mean</th>\n",
       "      <td>1.195429</td>\n",
       "      <td>1.0</td>\n",
       "    </tr>\n",
       "    <tr>\n",
       "      <th>std</th>\n",
       "      <td>0.674773</td>\n",
       "      <td>0.0</td>\n",
       "    </tr>\n",
       "    <tr>\n",
       "      <th>min</th>\n",
       "      <td>0.090120</td>\n",
       "      <td>1.0</td>\n",
       "    </tr>\n",
       "    <tr>\n",
       "      <th>50%</th>\n",
       "      <td>1.082593</td>\n",
       "      <td>1.0</td>\n",
       "    </tr>\n",
       "    <tr>\n",
       "      <th>90%</th>\n",
       "      <td>2.142667</td>\n",
       "      <td>1.0</td>\n",
       "    </tr>\n",
       "    <tr>\n",
       "      <th>95%</th>\n",
       "      <td>2.432150</td>\n",
       "      <td>1.0</td>\n",
       "    </tr>\n",
       "    <tr>\n",
       "      <th>99%</th>\n",
       "      <td>2.940895</td>\n",
       "      <td>1.0</td>\n",
       "    </tr>\n",
       "    <tr>\n",
       "      <th>99.9%</th>\n",
       "      <td>4.161656</td>\n",
       "      <td>1.0</td>\n",
       "    </tr>\n",
       "    <tr>\n",
       "      <th>99.99%</th>\n",
       "      <td>5.804956</td>\n",
       "      <td>1.0</td>\n",
       "    </tr>\n",
       "    <tr>\n",
       "      <th>max</th>\n",
       "      <td>5.819186</td>\n",
       "      <td>1.0</td>\n",
       "    </tr>\n",
       "  </tbody>\n",
       "</table>\n",
       "</div>"
      ],
      "text/plain": [
       "        reconstruction_error  true_class\n",
       "count            4100.000000      4100.0\n",
       "mean                1.195429         1.0\n",
       "std                 0.674773         0.0\n",
       "min                 0.090120         1.0\n",
       "50%                 1.082593         1.0\n",
       "90%                 2.142667         1.0\n",
       "95%                 2.432150         1.0\n",
       "99%                 2.940895         1.0\n",
       "99.9%               4.161656         1.0\n",
       "99.99%              5.804956         1.0\n",
       "max                 5.819186         1.0"
      ]
     },
     "execution_count": 284,
     "metadata": {},
     "output_type": "execute_result"
    }
   ],
   "source": [
    "y_pred = predictor.predict(train_fail_scaled)['predictions']\n",
    "mse = np.mean(np.power(train_fail_scaled - y_pred, 2), axis=1)\n",
    "\n",
    "error_df_val_fail = pd.DataFrame({'reconstruction_error': mse,'true_class': np.ones(len(mse))})\n",
    "error_df_val_fail.describe(percentiles=[.50,.90,.95,.99,.999,.9999])"
   ]
  },
  {
   "cell_type": "code",
   "execution_count": 285,
   "metadata": {},
   "outputs": [],
   "source": [
    "val_df = pd.concat([error_df_val,error_df_val_fail],ignore_index=True,axis=0)"
   ]
  },
  {
   "cell_type": "code",
   "execution_count": 286,
   "metadata": {},
   "outputs": [
    {
     "data": {
      "text/plain": [
       "Text(0, 0.5, 'normalized count')"
      ]
     },
     "execution_count": 286,
     "metadata": {},
     "output_type": "execute_result"
    },
    {
     "data": {
      "image/png": "[encoded data removed]",
      "text/plain": [
       "<Figure size 1080x720 with 1 Axes>"
      ]
     },
     "metadata": {
      "needs_background": "light"
     },
     "output_type": "display_data"
    }
   ],
   "source": [
    "fig = plt.figure(figsize=(15,10))\n",
    "ax = fig.add_subplot(111)\n",
    "_ = ax.hist(val_df[val_df['true_class']==0]['reconstruction_error'].values, bins=100, range=(0,15),density=True,color='blue',edgecolor='black',alpha=0.5,label='normal')\n",
    "_ = ax.hist(val_df[val_df['true_class']==1]['reconstruction_error'], bins=100, range=(0,15),density=True,color='red',edgecolor='black',alpha=0.5,label='failed')\n",
    "plt.legend()\n",
    "plt.xlabel('reconstruction error, MSE')\n",
    "plt.ylabel('normalized count')"
   ]
  },
  {
   "cell_type": "markdown",
   "metadata": {},
   "source": [
    "### Evaluation"
   ]
  },
  {
   "cell_type": "code",
   "execution_count": 287,
   "metadata": {},
   "outputs": [
    {
     "data": {
      "image/png": "[encoded data removed]",
      "text/plain": [
       "<Figure size 432x288 with 1 Axes>"
      ]
     },
     "metadata": {
      "needs_background": "light"
     },
     "output_type": "display_data"
    }
   ],
   "source": [
    "fpr, tpr, thresholds = roc_curve(val_df.true_class, val_df.reconstruction_error)\n",
    "roc_auc = auc(fpr, tpr)\n",
    "\n",
    "plt.title('Receiver Operating Characteristic')\n",
    "plt.plot(fpr, tpr, label='AUC = %0.4f'% roc_auc)\n",
    "plt.legend(loc='lower right')\n",
    "plt.plot([0,1],[0,1],'r--')\n",
    "plt.xlim([-0.001, 1])\n",
    "plt.ylim([0, 1.001])\n",
    "plt.ylabel('True Positive Rate')\n",
    "plt.xlabel('False Positive Rate')\n",
    "plt.show();"
   ]
  },
  {
   "cell_type": "code",
   "execution_count": 288,
   "metadata": {},
   "outputs": [
    {
     "data": {
      "image/png": "[encoded data removed]",
      "text/plain": [
       "<Figure size 432x288 with 1 Axes>"
      ]
     },
     "metadata": {
      "needs_background": "light"
     },
     "output_type": "display_data"
    }
   ],
   "source": [
    "precision, recall, th = precision_recall_curve(val_df.true_class, val_df.reconstruction_error)\n",
    "plt.plot(recall, precision, 'b', label='Precision-Recall curve')\n",
    "plt.title('Recall vs Precision')\n",
    "plt.xlabel('Recall')\n",
    "plt.ylabel('Precision')\n",
    "plt.show()"
   ]
  },
  {
   "cell_type": "code",
   "execution_count": 289,
   "metadata": {},
   "outputs": [
    {
     "data": {
      "image/png": "[encoded data removed]",
      "text/plain": [
       "<Figure size 432x288 with 1 Axes>"
      ]
     },
     "metadata": {
      "needs_background": "light"
     },
     "output_type": "display_data"
    }
   ],
   "source": [
    "plt.plot(th, precision[1:], 'b', label='Threshold-Precision curve')\n",
    "plt.title('Precision for different threshold values')\n",
    "plt.xlabel('Threshold')\n",
    "plt.ylabel('Precision')\n",
    "plt.show()"
   ]
  },
  {
   "cell_type": "code",
   "execution_count": 290,
   "metadata": {},
   "outputs": [
    {
     "data": {
      "image/png": "[encoded data removed]",
      "text/plain": [
       "<Figure size 432x288 with 1 Axes>"
      ]
     },
     "metadata": {
      "needs_background": "light"
     },
     "output_type": "display_data"
    }
   ],
   "source": [
    "plt.plot(th, recall[1:], 'b', label='Threshold-Recall curve')\n",
    "plt.title('Recall for different threshold values')\n",
    "plt.xlabel('Reconstruction error')\n",
    "plt.ylabel('Recall')\n",
    "plt.show()"
   ]
  },
  {
   "cell_type": "code",
   "execution_count": 291,
   "metadata": {},
   "outputs": [],
   "source": [
    "threshold = 0.9"
   ]
  },
  {
   "cell_type": "code",
   "execution_count": 292,
   "metadata": {},
   "outputs": [
    {
     "data": {
      "image/png": "[encoded data removed]",
      "text/plain": [
       "<Figure size 1080x720 with 1 Axes>"
      ]
     },
     "metadata": {
      "needs_background": "light"
     },
     "output_type": "display_data"
    }
   ],
   "source": [
    "groups = val_df.groupby('true_class')\n",
    "fig, ax = plt.subplots(figsize=(15,10))\n",
    "\n",
    "for name, group in groups:\n",
    "    ax.plot(group.index, group.reconstruction_error, marker='o', ms=3.5, linestyle='',\n",
    "            label= \"Fail\" if name == 1 else \"Normal\")\n",
    "ax.hlines(threshold, ax.get_xlim()[0], ax.get_xlim()[1], colors=\"r\", zorder=100, label='Threshold')\n",
    "ax.legend()\n",
    "plt.title(\"Reconstruction error for different classes\")\n",
    "plt.ylabel(\"Reconstruction error\")\n",
    "plt.xlabel(\"Data point index\")\n",
    "plt.show();"
   ]
  },
  {
   "cell_type": "code",
   "execution_count": 293,
   "metadata": {},
   "outputs": [],
   "source": [
    "# apply threshold to positive probabilities to create labels\n",
    "def to_labels(pos_probs, threshold):\n",
    "    return (pos_probs >= threshold).astype('int')"
   ]
  },
  {
   "cell_type": "code",
   "execution_count": 294,
   "metadata": {},
   "outputs": [
    {
     "name": "stdout",
     "output_type": "stream",
     "text": [
      "Threshold=0.522, F-Score=0.84298\n"
     ]
    }
   ],
   "source": [
    "# define thresholds\n",
    "thresholds = np.arange(0, 2, 0.001)\n",
    "# evaluate each threshold\n",
    "scores = [f1_score(val_df['true_class'], to_labels(val_df.reconstruction_error, t)) for t in thresholds]\n",
    "# get best threshold\n",
    "ix = np.argmax(scores)\n",
    "print('Threshold=%.3f, F-Score=%.5f' % (thresholds[ix], scores[ix]))"
   ]
  },
  {
   "cell_type": "code",
   "execution_count": 295,
   "metadata": {},
   "outputs": [
    {
     "data": {
      "text/html": [
       "<div>\n",
       "<style scoped>\n",
       "    .dataframe tbody tr th:only-of-type {\n",
       "        vertical-align: middle;\n",
       "    }\n",
       "\n",
       "    .dataframe tbody tr th {\n",
       "        vertical-align: top;\n",
       "    }\n",
       "\n",
       "    .dataframe thead th {\n",
       "        text-align: right;\n",
       "    }\n",
       "</style>\n",
       "<table border=\"1\" class=\"dataframe\">\n",
       "  <thead>\n",
       "    <tr style=\"text-align: right;\">\n",
       "      <th>predictions</th>\n",
       "      <th>0</th>\n",
       "      <th>1</th>\n",
       "    </tr>\n",
       "    <tr>\n",
       "      <th>actuals</th>\n",
       "      <th></th>\n",
       "      <th></th>\n",
       "    </tr>\n",
       "  </thead>\n",
       "  <tbody>\n",
       "    <tr>\n",
       "      <th>0.0</th>\n",
       "      <td>2680</td>\n",
       "      <td>627</td>\n",
       "    </tr>\n",
       "    <tr>\n",
       "      <th>1.0</th>\n",
       "      <td>656</td>\n",
       "      <td>3444</td>\n",
       "    </tr>\n",
       "  </tbody>\n",
       "</table>\n",
       "</div>"
      ],
      "text/plain": [
       "predictions     0     1\n",
       "actuals                \n",
       "0.0          2680   627\n",
       "1.0           656  3444"
      ]
     },
     "execution_count": 295,
     "metadata": {},
     "output_type": "execute_result"
    }
   ],
   "source": [
    "t = 0.522\n",
    "pd.crosstab(index=val_df['true_class'], columns=to_labels(val_df.reconstruction_error,t), rownames=['actuals'], colnames=['predictions'])"
   ]
  },
  {
   "cell_type": "code",
   "execution_count": 297,
   "metadata": {},
   "outputs": [
    {
     "data": {
      "image/png": "[encoded data removed]",
      "text/plain": [
       "<Figure size 1080x720 with 2 Axes>"
      ]
     },
     "metadata": {
      "needs_background": "light"
     },
     "output_type": "display_data"
    }
   ],
   "source": [
    "import matplotlib.pyplot as plt\n",
    "import seaborn as sns\n",
    "from sklearn.metrics import confusion_matrix\n",
    "from IPython.display import display, clear_output\n",
    "\n",
    "class_list = ['normal','fail']\n",
    "fig, ax = plt.subplots(figsize=(15,10))\n",
    "cm = confusion_matrix(val_df['true_class'],to_labels(val_df.reconstruction_error,t))\n",
    "normalized_cm = cm.astype('float') / cm.sum(axis=1)[:, np.newaxis]\n",
    "sns.heatmap(normalized_cm, ax=ax, annot=cm, fmt='',xticklabels=class_list,yticklabels=class_list)\n",
    "plt.xlabel('Predicted')\n",
    "plt.ylabel('Actual')\n",
    "plt.title('Confustion Matrix')\n",
    "plt.show()"
   ]
  },
  {
   "cell_type": "markdown",
   "metadata": {},
   "source": [
    "# Clean Up\n",
    "\n",
    "If you are done with this notebook, please run the cell below.  This will remove the hosted endpoint you created and avoid any charges from a stray instance being left on."
   ]
  },
  {
   "cell_type": "code",
   "execution_count": null,
   "metadata": {},
   "outputs": [],
   "source": [
    "predictor.delete_endpoint()"
   ]
  }
 ],
 "metadata": {
  "instance_type": "ml.t3.medium",
  "kernelspec": {
   "display_name": "conda_tensorflow2_p36",
   "language": "python",
   "name": "conda_tensorflow2_p36"
  },
  "language_info": {
   "codemirror_mode": {
    "name": "ipython",
    "version": 3
   },
   "file_extension": ".py",
   "mimetype": "text/x-python",
   "name": "python",
   "nbconvert_exporter": "python",
   "pygments_lexer": "ipython3",
   "version": "3.6.10"
  },
  "toc-showmarkdowntxt": false
 },
 "nbformat": 4,
 "nbformat_minor": 4
}
