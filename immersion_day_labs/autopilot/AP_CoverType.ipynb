{
 "cells": [
  {
   "cell_type": "markdown",
   "metadata": {},
   "source": [
    "# Amazon SageMaker Autopilot\n",
    "\n",
    "This notebook provides an overview of how to use Amazon SageMaker Autopilot.  Amazon SageMaker Autopilot automatically trains and tunes the best machine learning models for classification or regression, based on your data while allowing to maintain full control and visibility. \n",
    "\n",
    "For this example we'll use a tabular dataset for classification.  This dataset containes observations from the Roosevelt National Forest in Colorado.  Predicting forest cover type from cartographic variables only (no remotely sensed data). The actual forest cover type for a given observation (30 x 30 meter cell) was determined from US Forest Service (USFS) Region 2 Resource Information System (RIS) data. Independent variables were derived from data originally obtained from US Geological Survey (USGS) and USFS data. Data is in raw form (not scaled) and contains binary (0 or 1) columns of data for qualitative independent variables (wilderness areas and soil types). \n",
    "\n",
    "The classification task is - given attributes of the land, can you predict the forest cover type?\n",
    "\n"
   ]
  },
  {
   "source": [
    "## Overview\n",
    "Import Python libraries and set up SageMaker."
   ],
   "cell_type": "markdown",
   "metadata": {}
  },
  {
   "cell_type": "code",
   "execution_count": 1,
   "metadata": {},
   "outputs": [],
   "source": [
    "# imports\n",
    "import numpy as np\n",
    "import matplotlib.pyplot as plt\n",
    "import pandas as pd\n",
    "import boto3\n",
    "import sagemaker"
   ]
  },
  {
   "cell_type": "code",
   "execution_count": 3,
   "metadata": {
    "tags": []
   },
   "outputs": [],
   "source": [
    "sess = sagemaker.Session()\n",
    "bucket = sess.default_bucket()\n",
    "prefix = 'autopilot_demo_cover'\n",
    "region = boto3.Session().region_name\n",
    "#role = sagemaker.get_execution_role()\n",
    "role = 'arn:aws:iam::431615879134:role/sagemaker-test-role'\n",
    "sm = boto3.Session().client(service_name='sagemaker',region_name=region)\n",
    "sm_rt = boto3.Session().client('runtime.sagemaker', region_name=region)"
   ]
  },
  {
   "cell_type": "markdown",
   "metadata": {},
   "source": [
    "# Data\n"
   ]
  },
  {
   "cell_type": "markdown",
   "metadata": {},
   "source": [
    "## Read and Explore Data"
   ]
  },
  {
   "cell_type": "code",
   "execution_count": 6,
   "metadata": {},
   "outputs": [],
   "source": [
    "df = pd.read_csv('/root/ap/data/covtype.csv')"
   ]
  },
  {
   "cell_type": "code",
   "execution_count": 7,
   "metadata": {},
   "outputs": [
    {
     "data": {
      "text/html": [
       "<div>\n",
       "<style scoped>\n",
       "    .dataframe tbody tr th:only-of-type {\n",
       "        vertical-align: middle;\n",
       "    }\n",
       "\n",
       "    .dataframe tbody tr th {\n",
       "        vertical-align: top;\n",
       "    }\n",
       "\n",
       "    .dataframe thead th {\n",
       "        text-align: right;\n",
       "    }\n",
       "</style>\n",
       "<table border=\"1\" class=\"dataframe\">\n",
       "  <thead>\n",
       "    <tr style=\"text-align: right;\">\n",
       "      <th></th>\n",
       "      <th>Elevation</th>\n",
       "      <th>Aspect</th>\n",
       "      <th>Slope</th>\n",
       "      <th>Horizontal_Distance_To_Hydrology</th>\n",
       "      <th>Vertical_Distance_To_Hydrology</th>\n",
       "      <th>Horizontal_Distance_To_Roadways</th>\n",
       "      <th>Hillshade_9am</th>\n",
       "      <th>Hillshade_Noon</th>\n",
       "      <th>Hillshade_3pm</th>\n",
       "      <th>Horizontal_Distance_To_Fire_Points</th>\n",
       "      <th>...</th>\n",
       "      <th>Soil_Type32</th>\n",
       "      <th>Soil_Type33</th>\n",
       "      <th>Soil_Type34</th>\n",
       "      <th>Soil_Type35</th>\n",
       "      <th>Soil_Type36</th>\n",
       "      <th>Soil_Type37</th>\n",
       "      <th>Soil_Type38</th>\n",
       "      <th>Soil_Type39</th>\n",
       "      <th>Soil_Type40</th>\n",
       "      <th>Cover_Type</th>\n",
       "    </tr>\n",
       "  </thead>\n",
       "  <tbody>\n",
       "    <tr>\n",
       "      <th>0</th>\n",
       "      <td>2596</td>\n",
       "      <td>51</td>\n",
       "      <td>3</td>\n",
       "      <td>258</td>\n",
       "      <td>0</td>\n",
       "      <td>510</td>\n",
       "      <td>221</td>\n",
       "      <td>232</td>\n",
       "      <td>148</td>\n",
       "      <td>6279</td>\n",
       "      <td>...</td>\n",
       "      <td>0</td>\n",
       "      <td>0</td>\n",
       "      <td>0</td>\n",
       "      <td>0</td>\n",
       "      <td>0</td>\n",
       "      <td>0</td>\n",
       "      <td>0</td>\n",
       "      <td>0</td>\n",
       "      <td>0</td>\n",
       "      <td>5</td>\n",
       "    </tr>\n",
       "    <tr>\n",
       "      <th>1</th>\n",
       "      <td>2590</td>\n",
       "      <td>56</td>\n",
       "      <td>2</td>\n",
       "      <td>212</td>\n",
       "      <td>-6</td>\n",
       "      <td>390</td>\n",
       "      <td>220</td>\n",
       "      <td>235</td>\n",
       "      <td>151</td>\n",
       "      <td>6225</td>\n",
       "      <td>...</td>\n",
       "      <td>0</td>\n",
       "      <td>0</td>\n",
       "      <td>0</td>\n",
       "      <td>0</td>\n",
       "      <td>0</td>\n",
       "      <td>0</td>\n",
       "      <td>0</td>\n",
       "      <td>0</td>\n",
       "      <td>0</td>\n",
       "      <td>5</td>\n",
       "    </tr>\n",
       "    <tr>\n",
       "      <th>2</th>\n",
       "      <td>2804</td>\n",
       "      <td>139</td>\n",
       "      <td>9</td>\n",
       "      <td>268</td>\n",
       "      <td>65</td>\n",
       "      <td>3180</td>\n",
       "      <td>234</td>\n",
       "      <td>238</td>\n",
       "      <td>135</td>\n",
       "      <td>6121</td>\n",
       "      <td>...</td>\n",
       "      <td>0</td>\n",
       "      <td>0</td>\n",
       "      <td>0</td>\n",
       "      <td>0</td>\n",
       "      <td>0</td>\n",
       "      <td>0</td>\n",
       "      <td>0</td>\n",
       "      <td>0</td>\n",
       "      <td>0</td>\n",
       "      <td>2</td>\n",
       "    </tr>\n",
       "    <tr>\n",
       "      <th>3</th>\n",
       "      <td>2785</td>\n",
       "      <td>155</td>\n",
       "      <td>18</td>\n",
       "      <td>242</td>\n",
       "      <td>118</td>\n",
       "      <td>3090</td>\n",
       "      <td>238</td>\n",
       "      <td>238</td>\n",
       "      <td>122</td>\n",
       "      <td>6211</td>\n",
       "      <td>...</td>\n",
       "      <td>0</td>\n",
       "      <td>0</td>\n",
       "      <td>0</td>\n",
       "      <td>0</td>\n",
       "      <td>0</td>\n",
       "      <td>0</td>\n",
       "      <td>0</td>\n",
       "      <td>0</td>\n",
       "      <td>0</td>\n",
       "      <td>2</td>\n",
       "    </tr>\n",
       "    <tr>\n",
       "      <th>4</th>\n",
       "      <td>2595</td>\n",
       "      <td>45</td>\n",
       "      <td>2</td>\n",
       "      <td>153</td>\n",
       "      <td>-1</td>\n",
       "      <td>391</td>\n",
       "      <td>220</td>\n",
       "      <td>234</td>\n",
       "      <td>150</td>\n",
       "      <td>6172</td>\n",
       "      <td>...</td>\n",
       "      <td>0</td>\n",
       "      <td>0</td>\n",
       "      <td>0</td>\n",
       "      <td>0</td>\n",
       "      <td>0</td>\n",
       "      <td>0</td>\n",
       "      <td>0</td>\n",
       "      <td>0</td>\n",
       "      <td>0</td>\n",
       "      <td>5</td>\n",
       "    </tr>\n",
       "  </tbody>\n",
       "</table>\n",
       "<p>5 rows × 55 columns</p>\n",
       "</div>"
      ],
      "text/plain": [
       "   Elevation  Aspect  Slope  Horizontal_Distance_To_Hydrology  \\\n",
       "0       2596      51      3                               258   \n",
       "1       2590      56      2                               212   \n",
       "2       2804     139      9                               268   \n",
       "3       2785     155     18                               242   \n",
       "4       2595      45      2                               153   \n",
       "\n",
       "   Vertical_Distance_To_Hydrology  Horizontal_Distance_To_Roadways  \\\n",
       "0                               0                              510   \n",
       "1                              -6                              390   \n",
       "2                              65                             3180   \n",
       "3                             118                             3090   \n",
       "4                              -1                              391   \n",
       "\n",
       "   Hillshade_9am  Hillshade_Noon  Hillshade_3pm  \\\n",
       "0            221             232            148   \n",
       "1            220             235            151   \n",
       "2            234             238            135   \n",
       "3            238             238            122   \n",
       "4            220             234            150   \n",
       "\n",
       "   Horizontal_Distance_To_Fire_Points  ...  Soil_Type32  Soil_Type33  \\\n",
       "0                                6279  ...            0            0   \n",
       "1                                6225  ...            0            0   \n",
       "2                                6121  ...            0            0   \n",
       "3                                6211  ...            0            0   \n",
       "4                                6172  ...            0            0   \n",
       "\n",
       "   Soil_Type34  Soil_Type35  Soil_Type36  Soil_Type37  Soil_Type38  \\\n",
       "0            0            0            0            0            0   \n",
       "1            0            0            0            0            0   \n",
       "2            0            0            0            0            0   \n",
       "3            0            0            0            0            0   \n",
       "4            0            0            0            0            0   \n",
       "\n",
       "   Soil_Type39  Soil_Type40  Cover_Type  \n",
       "0            0            0           5  \n",
       "1            0            0           5  \n",
       "2            0            0           2  \n",
       "3            0            0           2  \n",
       "4            0            0           5  \n",
       "\n",
       "[5 rows x 55 columns]"
      ]
     },
     "execution_count": 7,
     "metadata": {},
     "output_type": "execute_result"
    }
   ],
   "source": [
    "df.head()"
   ]
  },
  {
   "cell_type": "code",
   "execution_count": 41,
   "metadata": {},
   "outputs": [
    {
     "name": "stdout",
     "output_type": "stream",
     "text": [
      "<class 'pandas.core.frame.DataFrame'>\n",
      "RangeIndex: 581012 entries, 0 to 581011\n",
      "Data columns (total 55 columns):\n",
      " #   Column                              Non-Null Count   Dtype\n",
      "---  ------                              --------------   -----\n",
      " 0   Elevation                           581012 non-null  int64\n",
      " 1   Aspect                              581012 non-null  int64\n",
      " 2   Slope                               581012 non-null  int64\n",
      " 3   Horizontal_Distance_To_Hydrology    581012 non-null  int64\n",
      " 4   Vertical_Distance_To_Hydrology      581012 non-null  int64\n",
      " 5   Horizontal_Distance_To_Roadways     581012 non-null  int64\n",
      " 6   Hillshade_9am                       581012 non-null  int64\n",
      " 7   Hillshade_Noon                      581012 non-null  int64\n",
      " 8   Hillshade_3pm                       581012 non-null  int64\n",
      " 9   Horizontal_Distance_To_Fire_Points  581012 non-null  int64\n",
      " 10  Wilderness_Area1                    581012 non-null  int64\n",
      " 11  Wilderness_Area2                    581012 non-null  int64\n",
      " 12  Wilderness_Area3                    581012 non-null  int64\n",
      " 13  Wilderness_Area4                    581012 non-null  int64\n",
      " 14  Soil_Type1                          581012 non-null  int64\n",
      " 15  Soil_Type2                          581012 non-null  int64\n",
      " 16  Soil_Type3                          581012 non-null  int64\n",
      " 17  Soil_Type4                          581012 non-null  int64\n",
      " 18  Soil_Type5                          581012 non-null  int64\n",
      " 19  Soil_Type6                          581012 non-null  int64\n",
      " 20  Soil_Type7                          581012 non-null  int64\n",
      " 21  Soil_Type8                          581012 non-null  int64\n",
      " 22  Soil_Type9                          581012 non-null  int64\n",
      " 23  Soil_Type10                         581012 non-null  int64\n",
      " 24  Soil_Type11                         581012 non-null  int64\n",
      " 25  Soil_Type12                         581012 non-null  int64\n",
      " 26  Soil_Type13                         581012 non-null  int64\n",
      " 27  Soil_Type14                         581012 non-null  int64\n",
      " 28  Soil_Type15                         581012 non-null  int64\n",
      " 29  Soil_Type16                         581012 non-null  int64\n",
      " 30  Soil_Type17                         581012 non-null  int64\n",
      " 31  Soil_Type18                         581012 non-null  int64\n",
      " 32  Soil_Type19                         581012 non-null  int64\n",
      " 33  Soil_Type20                         581012 non-null  int64\n",
      " 34  Soil_Type21                         581012 non-null  int64\n",
      " 35  Soil_Type22                         581012 non-null  int64\n",
      " 36  Soil_Type23                         581012 non-null  int64\n",
      " 37  Soil_Type24                         581012 non-null  int64\n",
      " 38  Soil_Type25                         581012 non-null  int64\n",
      " 39  Soil_Type26                         581012 non-null  int64\n",
      " 40  Soil_Type27                         581012 non-null  int64\n",
      " 41  Soil_Type28                         581012 non-null  int64\n",
      " 42  Soil_Type29                         581012 non-null  int64\n",
      " 43  Soil_Type30                         581012 non-null  int64\n",
      " 44  Soil_Type31                         581012 non-null  int64\n",
      " 45  Soil_Type32                         581012 non-null  int64\n",
      " 46  Soil_Type33                         581012 non-null  int64\n",
      " 47  Soil_Type34                         581012 non-null  int64\n",
      " 48  Soil_Type35                         581012 non-null  int64\n",
      " 49  Soil_Type36                         581012 non-null  int64\n",
      " 50  Soil_Type37                         581012 non-null  int64\n",
      " 51  Soil_Type38                         581012 non-null  int64\n",
      " 52  Soil_Type39                         581012 non-null  int64\n",
      " 53  Soil_Type40                         581012 non-null  int64\n",
      " 54  Cover_Type                          581012 non-null  int64\n",
      "dtypes: int64(55)\n",
      "memory usage: 243.8 MB\n"
     ]
    }
   ],
   "source": [
    "df.info()"
   ]
  },
  {
   "cell_type": "code",
   "execution_count": 8,
   "metadata": {},
   "outputs": [
    {
     "data": {
      "text/plain": [
       "Text(0, 0.5, 'Relative Frequency')"
      ]
     },
     "execution_count": 8,
     "metadata": {},
     "output_type": "execute_result"
    },
    {
     "data": {
      "image/png": "[encoded data removed]",
      "text/plain": [
       "<Figure size 1080x360 with 1 Axes>"
      ]
     },
     "metadata": {
      "needs_background": "light"
     },
     "output_type": "display_data"
    }
   ],
   "source": [
    "df['Cover_Type'].value_counts(normalize=True,sort=False).plot(kind='bar',figsize=(15,5))\n",
    "plt.xlabel('Cover Type Class')\n",
    "plt.ylabel('Relative Frequency')"
   ]
  },
  {
   "cell_type": "markdown",
   "metadata": {},
   "source": [
    "# Autopilot"
   ]
  },
  {
   "cell_type": "code",
   "execution_count": 16,
   "metadata": {},
   "outputs": [],
   "source": [
    "# keep a bit of data for testing...\n",
    "np.random.seed(1234)\n",
    "train_data, test_data, _ = np.split(df.sample(frac=1, random_state=1234),[int(0.95 * len(df)),int(len(df))])\n",
    "\n",
    "# Save to CSV files\n",
    "train_data.to_csv('/root/ap/data/automl-train.csv', index=False, header=True, sep=',') # Need to keep column names\n",
    "test_data.to_csv('/root/ap/data/automl-test.csv', index=False, header=True, sep=',')"
   ]
  },
  {
   "cell_type": "code",
   "execution_count": 10,
   "metadata": {},
   "outputs": [
    {
     "data": {
      "text/plain": [
       "'s3://sagemaker-us-east-1-626825435328/autopilot_demo_cover/input/automl-train.csv'"
      ]
     },
     "execution_count": 10,
     "metadata": {},
     "output_type": "execute_result"
    }
   ],
   "source": [
    "# csv's must be comma sep\n",
    "sess.upload_data(path=\"/root/ap/data/automl-train.csv\", key_prefix=prefix+\"/input\")"
   ]
  },
  {
   "cell_type": "markdown",
   "metadata": {},
   "source": [
    "to set up the autopilot job we need the following:\n",
    "\n",
    "* dataset in s3\n",
    "* name of the target variable\n",
    "* IAM role\n"
   ]
  },
  {
   "cell_type": "code",
   "execution_count": 13,
   "metadata": {},
   "outputs": [],
   "source": [
    "job_config = {\n",
    "    'CompletionCriteria': {\n",
    "      'MaxRuntimePerTrainingJobInSeconds': 600,  # a single canidate job duration \n",
    "      # 'MaxCandidates': 10,\n",
    "      'MaxAutoMLJobRuntimeInSeconds': 3600  # one hour limit for the entire job\n",
    "    },\n",
    "}\n",
    "\n",
    "input_data_config = [{\n",
    "      'DataSource': {\n",
    "        'S3DataSource': {\n",
    "          'S3DataType': 'S3Prefix',\n",
    "          'S3Uri': 's3://{}/{}/input'.format(bucket,prefix)\n",
    "        }\n",
    "      },\n",
    "      'TargetAttributeName': 'Cover_Type'  # the column we want to predict\n",
    "    }\n",
    "]\n",
    "\n",
    "output_data_config = { 'S3OutputPath': 's3://{}/{}/output'.format(bucket,prefix) }\n",
    "\n",
    "# Optional parameters\n",
    "problem_type = 'MulticlassClassification'\n",
    "job_objective = { 'MetricName': 'F1macro' }"
   ]
  },
  {
   "cell_type": "code",
   "execution_count": 14,
   "metadata": {},
   "outputs": [
    {
     "name": "stdout",
     "output_type": "stream",
     "text": [
      "AutoMLJobName: automl-covertype-26-18-52-53\n"
     ]
    },
    {
     "data": {
      "text/plain": [
       "{'AutoMLJobArn': 'arn:aws:sagemaker:us-east-1:626825435328:automl-job/automl-covertype-26-18-52-53',\n",
       " 'ResponseMetadata': {'RequestId': 'ec20594a-d65e-45ea-9b06-3ebcd5f199fb',\n",
       "  'HTTPStatusCode': 200,\n",
       "  'HTTPHeaders': {'x-amzn-requestid': 'ec20594a-d65e-45ea-9b06-3ebcd5f199fb',\n",
       "   'content-type': 'application/x-amz-json-1.1',\n",
       "   'content-length': '99',\n",
       "   'date': 'Sat, 26 Sep 2020 18:52:55 GMT'},\n",
       "  'RetryAttempts': 0}}"
      ]
     },
     "execution_count": 14,
     "metadata": {},
     "output_type": "execute_result"
    }
   ],
   "source": [
    "from time import gmtime, strftime, sleep\n",
    "timestamp_suffix = strftime('%d-%H-%M-%S', gmtime())\n",
    "\n",
    "auto_ml_job_name = 'automl-covertype-' + timestamp_suffix\n",
    "print('AutoMLJobName: ' + auto_ml_job_name)\n",
    "\n",
    "sm.create_auto_ml_job(AutoMLJobName=auto_ml_job_name,\n",
    "                      InputDataConfig=input_data_config,\n",
    "                      OutputDataConfig=output_data_config,\n",
    "                      AutoMLJobConfig=job_config,\n",
    "                      AutoMLJobObjective=job_objective,\n",
    "                      ProblemType=problem_type,\n",
    "                      RoleArn=role)"
   ]
  },
  {
   "cell_type": "markdown",
   "metadata": {},
   "source": [
    "## Tracking the progress of the Amazon SageMaker AutoPilot job\n",
    "\n",
    "SageMaker AutoPilot job consists of four high-level steps : \n",
    "* Data Preprocessing, where the dataset is split into train and validation sets.\n",
    "* Recommending Pipelines, where the dataset is analyzed and SageMaker AutoPilot comes up with a list of ML pipelines that should be tried out on the dataset.\n",
    "* Automatic Feature Engineering, where SageMaker AutoPilot performs feature transformation on individual features of the dataset as well as at an aggregate level.\n",
    "* ML pipeline selection and hyperparameter tuning, where the top performing pipeline is selected along with the optimal hyperparameters for the training algorithm (the last stage of the pipeline). \n",
    "\n",
    "As you can guess, several of these steps are powered by **Amazon SageMaker Processing**."
   ]
  },
  {
   "cell_type": "code",
   "execution_count": 21,
   "metadata": {},
   "outputs": [
    {
     "name": "stdout",
     "output_type": "stream",
     "text": [
      "Completed\n",
      "CPU times: user 15.7 ms, sys: 3 µs, total: 15.7 ms\n",
      "Wall time: 91.9 ms\n"
     ]
    }
   ],
   "source": [
    " %%time\n",
    "job_run_status = sm.describe_auto_ml_job(AutoMLJobName=auto_ml_job_name)['AutoMLJobStatus']\n",
    "\n",
    "print(job_run_status)\n",
    "\n",
    "while job_run_status not in ('Failed', 'Completed', 'Stopped'):\n",
    "    describe_response = sm.describe_auto_ml_job(AutoMLJobName=auto_ml_job_name)\n",
    "    job_run_status = describe_response['AutoMLJobStatus']\n",
    "    \n",
    "    print (describe_response['AutoMLJobStatus'] + \" - \" + describe_response['AutoMLJobSecondaryStatus'])\n",
    "    sleep(60)"
   ]
  },
  {
   "cell_type": "markdown",
   "metadata": {},
   "source": [
    "## Fetch the auto-generated notebooks\n",
    "\n",
    "(you can stop the above cell once Analyzing dat\n",
    "Once the 'AnalyzingData' step is complete, SageMaker AutoPilot generates two notebooks: \n",
    "* Data exploration\n",
    "* Candidate definition."
   ]
  },
  {
   "cell_type": "code",
   "execution_count": 22,
   "metadata": {},
   "outputs": [
    {
     "name": "stdout",
     "output_type": "stream",
     "text": [
      "s3://sagemaker-us-east-1-626825435328/autopilot_demo_cover/output/automl-covertype-26-18-52-53/sagemaker-automl-candidates/pr-1-72e2ab6624db4265a1ebdb5e38a041634ed11cfa49204b44a14582ced1/notebooks/SageMakerAutopilotCandidateDefinitionNotebook.ipynb\n",
      "s3://sagemaker-us-east-1-626825435328/autopilot_demo_cover/output/automl-covertype-26-18-52-53/sagemaker-automl-candidates/pr-1-72e2ab6624db4265a1ebdb5e38a041634ed11cfa49204b44a14582ced1/notebooks/SageMakerAutopilotDataExplorationNotebook.ipynb\n"
     ]
    }
   ],
   "source": [
    "job = sm.describe_auto_ml_job(AutoMLJobName=auto_ml_job_name)\n",
    "job_candidate_notebook = job['AutoMLJobArtifacts']['CandidateDefinitionNotebookLocation']\n",
    "job_data_notebook = job['AutoMLJobArtifacts']['DataExplorationNotebookLocation']\n",
    "\n",
    "print(job_candidate_notebook)\n",
    "print(job_data_notebook)"
   ]
  },
  {
   "cell_type": "code",
   "execution_count": 23,
   "metadata": {},
   "outputs": [
    {
     "name": "stdout",
     "output_type": "stream",
     "text": [
      "download: s3://sagemaker-us-east-1-626825435328/autopilot_demo_cover/output/automl-covertype-26-18-52-53/sagemaker-automl-candidates/pr-1-72e2ab6624db4265a1ebdb5e38a041634ed11cfa49204b44a14582ced1/notebooks/SageMakerAutopilotCandidateDefinitionNotebook.ipynb to ap/SageMakerAutopilotCandidateDefinitionNotebook.ipynb\n",
      "download: s3://sagemaker-us-east-1-626825435328/autopilot_demo_cover/output/automl-covertype-26-18-52-53/sagemaker-automl-candidates/pr-1-72e2ab6624db4265a1ebdb5e38a041634ed11cfa49204b44a14582ced1/notebooks/SageMakerAutopilotDataExplorationNotebook.ipynb to ap/SageMakerAutopilotDataExplorationNotebook.ipynb\n"
     ]
    }
   ],
   "source": [
    "# %%sh -s $job_candidate_notebook $job_data_notebook\n",
    "!aws s3 cp {job_candidate_notebook} /root/ap/\n",
    "!aws s3 cp {job_data_notebook} /root/ap/"
   ]
  },
  {
   "cell_type": "markdown",
   "metadata": {},
   "source": [
    "Lets go look at these notebooks that were autogenerated for us"
   ]
  },
  {
   "cell_type": "markdown",
   "metadata": {},
   "source": [
    "## Inspecting the SageMaker Autopilot job with Amazon SageMaker Experiments\n",
    "Once the 'ModelTuning' step starts, we can use the SageMaker Experiments SDK to list and view all jobs. Data is stored in a pandas dataframe, which makes it easy to filter it, compare it to other experiments, etc."
   ]
  },
  {
   "cell_type": "code",
   "execution_count": 24,
   "metadata": {},
   "outputs": [
    {
     "data": {
      "text/html": [
       "<div>\n",
       "<style scoped>\n",
       "    .dataframe tbody tr th:only-of-type {\n",
       "        vertical-align: middle;\n",
       "    }\n",
       "\n",
       "    .dataframe tbody tr th {\n",
       "        vertical-align: top;\n",
       "    }\n",
       "\n",
       "    .dataframe thead th {\n",
       "        text-align: right;\n",
       "    }\n",
       "</style>\n",
       "<table border=\"1\" class=\"dataframe\">\n",
       "  <thead>\n",
       "    <tr style=\"text-align: right;\">\n",
       "      <th></th>\n",
       "      <th>TrialComponentName</th>\n",
       "      <th>DisplayName</th>\n",
       "      <th>SourceArn</th>\n",
       "      <th>SageMaker.ImageUri</th>\n",
       "      <th>SageMaker.InstanceCount</th>\n",
       "      <th>SageMaker.InstanceType</th>\n",
       "      <th>SageMaker.VolumeSizeInGB</th>\n",
       "      <th>_tuning_objective_metric</th>\n",
       "      <th>alpha</th>\n",
       "      <th>colsample_bytree</th>\n",
       "      <th>...</th>\n",
       "      <th>code - MediaType</th>\n",
       "      <th>code - Value</th>\n",
       "      <th>input_channel_mode</th>\n",
       "      <th>job_name</th>\n",
       "      <th>label_col</th>\n",
       "      <th>max_dataset_size</th>\n",
       "      <th>SageMaker.ImageUri - MediaType</th>\n",
       "      <th>SageMaker.ImageUri - Value</th>\n",
       "      <th>ds - MediaType</th>\n",
       "      <th>ds - Value</th>\n",
       "    </tr>\n",
       "  </thead>\n",
       "  <tbody>\n",
       "    <tr>\n",
       "      <th>0</th>\n",
       "      <td>tuning-job-1-e08c960e01984b4492-056-ef5e6a61-a...</td>\n",
       "      <td>tuning-job-1-e08c960e01984b4492-056-ef5e6a61-a...</td>\n",
       "      <td>arn:aws:sagemaker:us-east-1:626825435328:train...</td>\n",
       "      <td>683313688378.dkr.ecr.us-east-1.amazonaws.com/s...</td>\n",
       "      <td>1.0</td>\n",
       "      <td>ml.m5.4xlarge</td>\n",
       "      <td>50.0</td>\n",
       "      <td>validation:f1</td>\n",
       "      <td>0.004397</td>\n",
       "      <td>0.383481</td>\n",
       "      <td>...</td>\n",
       "      <td>NaN</td>\n",
       "      <td>NaN</td>\n",
       "      <td>NaN</td>\n",
       "      <td>NaN</td>\n",
       "      <td>NaN</td>\n",
       "      <td>NaN</td>\n",
       "      <td>NaN</td>\n",
       "      <td>NaN</td>\n",
       "      <td>NaN</td>\n",
       "      <td>NaN</td>\n",
       "    </tr>\n",
       "    <tr>\n",
       "      <th>1</th>\n",
       "      <td>tuning-job-1-e08c960e01984b4492-062-a481d3aa-a...</td>\n",
       "      <td>tuning-job-1-e08c960e01984b4492-062-a481d3aa-a...</td>\n",
       "      <td>arn:aws:sagemaker:us-east-1:626825435328:train...</td>\n",
       "      <td>683313688378.dkr.ecr.us-east-1.amazonaws.com/s...</td>\n",
       "      <td>1.0</td>\n",
       "      <td>ml.m5.4xlarge</td>\n",
       "      <td>50.0</td>\n",
       "      <td>validation:f1</td>\n",
       "      <td>0.003573</td>\n",
       "      <td>0.815086</td>\n",
       "      <td>...</td>\n",
       "      <td>NaN</td>\n",
       "      <td>NaN</td>\n",
       "      <td>NaN</td>\n",
       "      <td>NaN</td>\n",
       "      <td>NaN</td>\n",
       "      <td>NaN</td>\n",
       "      <td>NaN</td>\n",
       "      <td>NaN</td>\n",
       "      <td>NaN</td>\n",
       "      <td>NaN</td>\n",
       "    </tr>\n",
       "    <tr>\n",
       "      <th>2</th>\n",
       "      <td>tuning-job-1-e08c960e01984b4492-052-3ab9cfdc-a...</td>\n",
       "      <td>tuning-job-1-e08c960e01984b4492-052-3ab9cfdc-a...</td>\n",
       "      <td>arn:aws:sagemaker:us-east-1:626825435328:train...</td>\n",
       "      <td>683313688378.dkr.ecr.us-east-1.amazonaws.com/s...</td>\n",
       "      <td>1.0</td>\n",
       "      <td>ml.m5.4xlarge</td>\n",
       "      <td>50.0</td>\n",
       "      <td>validation:f1</td>\n",
       "      <td>0.000017</td>\n",
       "      <td>0.753552</td>\n",
       "      <td>...</td>\n",
       "      <td>NaN</td>\n",
       "      <td>NaN</td>\n",
       "      <td>NaN</td>\n",
       "      <td>NaN</td>\n",
       "      <td>NaN</td>\n",
       "      <td>NaN</td>\n",
       "      <td>NaN</td>\n",
       "      <td>NaN</td>\n",
       "      <td>NaN</td>\n",
       "      <td>NaN</td>\n",
       "    </tr>\n",
       "    <tr>\n",
       "      <th>3</th>\n",
       "      <td>tuning-job-1-e08c960e01984b4492-050-bf4a1ede-a...</td>\n",
       "      <td>tuning-job-1-e08c960e01984b4492-050-bf4a1ede-a...</td>\n",
       "      <td>arn:aws:sagemaker:us-east-1:626825435328:train...</td>\n",
       "      <td>683313688378.dkr.ecr.us-east-1.amazonaws.com/s...</td>\n",
       "      <td>1.0</td>\n",
       "      <td>ml.m5.4xlarge</td>\n",
       "      <td>50.0</td>\n",
       "      <td>validation:f1</td>\n",
       "      <td>1.354001</td>\n",
       "      <td>0.319729</td>\n",
       "      <td>...</td>\n",
       "      <td>NaN</td>\n",
       "      <td>NaN</td>\n",
       "      <td>NaN</td>\n",
       "      <td>NaN</td>\n",
       "      <td>NaN</td>\n",
       "      <td>NaN</td>\n",
       "      <td>NaN</td>\n",
       "      <td>NaN</td>\n",
       "      <td>NaN</td>\n",
       "      <td>NaN</td>\n",
       "    </tr>\n",
       "    <tr>\n",
       "      <th>4</th>\n",
       "      <td>tuning-job-1-e08c960e01984b4492-049-6a12120e-a...</td>\n",
       "      <td>tuning-job-1-e08c960e01984b4492-049-6a12120e-a...</td>\n",
       "      <td>arn:aws:sagemaker:us-east-1:626825435328:train...</td>\n",
       "      <td>683313688378.dkr.ecr.us-east-1.amazonaws.com/s...</td>\n",
       "      <td>1.0</td>\n",
       "      <td>ml.m5.4xlarge</td>\n",
       "      <td>50.0</td>\n",
       "      <td>validation:f1</td>\n",
       "      <td>0.000005</td>\n",
       "      <td>0.750449</td>\n",
       "      <td>...</td>\n",
       "      <td>NaN</td>\n",
       "      <td>NaN</td>\n",
       "      <td>NaN</td>\n",
       "      <td>NaN</td>\n",
       "      <td>NaN</td>\n",
       "      <td>NaN</td>\n",
       "      <td>NaN</td>\n",
       "      <td>NaN</td>\n",
       "      <td>NaN</td>\n",
       "      <td>NaN</td>\n",
       "    </tr>\n",
       "    <tr>\n",
       "      <th>...</th>\n",
       "      <td>...</td>\n",
       "      <td>...</td>\n",
       "      <td>...</td>\n",
       "      <td>...</td>\n",
       "      <td>...</td>\n",
       "      <td>...</td>\n",
       "      <td>...</td>\n",
       "      <td>...</td>\n",
       "      <td>...</td>\n",
       "      <td>...</td>\n",
       "      <td>...</td>\n",
       "      <td>...</td>\n",
       "      <td>...</td>\n",
       "      <td>...</td>\n",
       "      <td>...</td>\n",
       "      <td>...</td>\n",
       "      <td>...</td>\n",
       "      <td>...</td>\n",
       "      <td>...</td>\n",
       "      <td>...</td>\n",
       "      <td>...</td>\n",
       "    </tr>\n",
       "    <tr>\n",
       "      <th>78</th>\n",
       "      <td>automl-cov-dpp7-1-6da5e6d1edd8414b88605823884f...</td>\n",
       "      <td>automl-cov-dpp7-1-6da5e6d1edd8414b88605823884f...</td>\n",
       "      <td>arn:aws:sagemaker:us-east-1:626825435328:train...</td>\n",
       "      <td>683313688378.dkr.ecr.us-east-1.amazonaws.com/s...</td>\n",
       "      <td>1.0</td>\n",
       "      <td>ml.m5.4xlarge</td>\n",
       "      <td>50.0</td>\n",
       "      <td>NaN</td>\n",
       "      <td>NaN</td>\n",
       "      <td>NaN</td>\n",
       "      <td>...</td>\n",
       "      <td>application/x-code</td>\n",
       "      <td>s3://sagemaker-us-east-1-626825435328/autopilo...</td>\n",
       "      <td>NaN</td>\n",
       "      <td>NaN</td>\n",
       "      <td>NaN</td>\n",
       "      <td>NaN</td>\n",
       "      <td>NaN</td>\n",
       "      <td>NaN</td>\n",
       "      <td>NaN</td>\n",
       "      <td>NaN</td>\n",
       "    </tr>\n",
       "    <tr>\n",
       "      <th>79</th>\n",
       "      <td>automl-cov-dpp5-1-ce77a54edfb646408e71a96aa425...</td>\n",
       "      <td>automl-cov-dpp5-1-ce77a54edfb646408e71a96aa425...</td>\n",
       "      <td>arn:aws:sagemaker:us-east-1:626825435328:train...</td>\n",
       "      <td>683313688378.dkr.ecr.us-east-1.amazonaws.com/s...</td>\n",
       "      <td>1.0</td>\n",
       "      <td>ml.m5.4xlarge</td>\n",
       "      <td>50.0</td>\n",
       "      <td>NaN</td>\n",
       "      <td>NaN</td>\n",
       "      <td>NaN</td>\n",
       "      <td>...</td>\n",
       "      <td>application/x-code</td>\n",
       "      <td>s3://sagemaker-us-east-1-626825435328/autopilo...</td>\n",
       "      <td>NaN</td>\n",
       "      <td>NaN</td>\n",
       "      <td>NaN</td>\n",
       "      <td>NaN</td>\n",
       "      <td>NaN</td>\n",
       "      <td>NaN</td>\n",
       "      <td>NaN</td>\n",
       "      <td>NaN</td>\n",
       "    </tr>\n",
       "    <tr>\n",
       "      <th>80</th>\n",
       "      <td>automl-cov-dpp2-1-156edf68dd7247348b75141035b1...</td>\n",
       "      <td>automl-cov-dpp2-1-156edf68dd7247348b75141035b1...</td>\n",
       "      <td>arn:aws:sagemaker:us-east-1:626825435328:train...</td>\n",
       "      <td>683313688378.dkr.ecr.us-east-1.amazonaws.com/s...</td>\n",
       "      <td>1.0</td>\n",
       "      <td>ml.m5.4xlarge</td>\n",
       "      <td>50.0</td>\n",
       "      <td>NaN</td>\n",
       "      <td>NaN</td>\n",
       "      <td>NaN</td>\n",
       "      <td>...</td>\n",
       "      <td>application/x-code</td>\n",
       "      <td>s3://sagemaker-us-east-1-626825435328/autopilo...</td>\n",
       "      <td>NaN</td>\n",
       "      <td>NaN</td>\n",
       "      <td>NaN</td>\n",
       "      <td>NaN</td>\n",
       "      <td>NaN</td>\n",
       "      <td>NaN</td>\n",
       "      <td>NaN</td>\n",
       "      <td>NaN</td>\n",
       "    </tr>\n",
       "    <tr>\n",
       "      <th>81</th>\n",
       "      <td>automl-cov-dpp9-1-d6acbb9699764e98b27cba18501a...</td>\n",
       "      <td>automl-cov-dpp9-1-d6acbb9699764e98b27cba18501a...</td>\n",
       "      <td>arn:aws:sagemaker:us-east-1:626825435328:train...</td>\n",
       "      <td>683313688378.dkr.ecr.us-east-1.amazonaws.com/s...</td>\n",
       "      <td>1.0</td>\n",
       "      <td>ml.m5.4xlarge</td>\n",
       "      <td>50.0</td>\n",
       "      <td>NaN</td>\n",
       "      <td>NaN</td>\n",
       "      <td>NaN</td>\n",
       "      <td>...</td>\n",
       "      <td>application/x-code</td>\n",
       "      <td>s3://sagemaker-us-east-1-626825435328/autopilo...</td>\n",
       "      <td>NaN</td>\n",
       "      <td>NaN</td>\n",
       "      <td>NaN</td>\n",
       "      <td>NaN</td>\n",
       "      <td>NaN</td>\n",
       "      <td>NaN</td>\n",
       "      <td>NaN</td>\n",
       "      <td>NaN</td>\n",
       "    </tr>\n",
       "    <tr>\n",
       "      <th>82</th>\n",
       "      <td>db-1-289e1026b22447d7b29f94cbaf3f1b77d706fdbd3...</td>\n",
       "      <td>db-1-289e1026b22447d7b29f94cbaf3f1b77d706fdbd3...</td>\n",
       "      <td>arn:aws:sagemaker:us-east-1:626825435328:proce...</td>\n",
       "      <td>NaN</td>\n",
       "      <td>1.0</td>\n",
       "      <td>ml.m5.2xlarge</td>\n",
       "      <td>250.0</td>\n",
       "      <td>NaN</td>\n",
       "      <td>NaN</td>\n",
       "      <td>NaN</td>\n",
       "      <td>...</td>\n",
       "      <td>NaN</td>\n",
       "      <td>NaN</td>\n",
       "      <td>Pipe</td>\n",
       "      <td>automl-covertype-26-18-52-53</td>\n",
       "      <td>Cover_Type</td>\n",
       "      <td>5</td>\n",
       "      <td>NaN</td>\n",
       "      <td>120479346908.dkr.ecr.us-east-1.amazonaws.com/d...</td>\n",
       "      <td>NaN</td>\n",
       "      <td>s3://sagemaker-us-east-1-626825435328/autopilo...</td>\n",
       "    </tr>\n",
       "  </tbody>\n",
       "</table>\n",
       "<p>83 rows × 149 columns</p>\n",
       "</div>"
      ],
      "text/plain": [
       "                                   TrialComponentName  \\\n",
       "0   tuning-job-1-e08c960e01984b4492-056-ef5e6a61-a...   \n",
       "1   tuning-job-1-e08c960e01984b4492-062-a481d3aa-a...   \n",
       "2   tuning-job-1-e08c960e01984b4492-052-3ab9cfdc-a...   \n",
       "3   tuning-job-1-e08c960e01984b4492-050-bf4a1ede-a...   \n",
       "4   tuning-job-1-e08c960e01984b4492-049-6a12120e-a...   \n",
       "..                                                ...   \n",
       "78  automl-cov-dpp7-1-6da5e6d1edd8414b88605823884f...   \n",
       "79  automl-cov-dpp5-1-ce77a54edfb646408e71a96aa425...   \n",
       "80  automl-cov-dpp2-1-156edf68dd7247348b75141035b1...   \n",
       "81  automl-cov-dpp9-1-d6acbb9699764e98b27cba18501a...   \n",
       "82  db-1-289e1026b22447d7b29f94cbaf3f1b77d706fdbd3...   \n",
       "\n",
       "                                          DisplayName  \\\n",
       "0   tuning-job-1-e08c960e01984b4492-056-ef5e6a61-a...   \n",
       "1   tuning-job-1-e08c960e01984b4492-062-a481d3aa-a...   \n",
       "2   tuning-job-1-e08c960e01984b4492-052-3ab9cfdc-a...   \n",
       "3   tuning-job-1-e08c960e01984b4492-050-bf4a1ede-a...   \n",
       "4   tuning-job-1-e08c960e01984b4492-049-6a12120e-a...   \n",
       "..                                                ...   \n",
       "78  automl-cov-dpp7-1-6da5e6d1edd8414b88605823884f...   \n",
       "79  automl-cov-dpp5-1-ce77a54edfb646408e71a96aa425...   \n",
       "80  automl-cov-dpp2-1-156edf68dd7247348b75141035b1...   \n",
       "81  automl-cov-dpp9-1-d6acbb9699764e98b27cba18501a...   \n",
       "82  db-1-289e1026b22447d7b29f94cbaf3f1b77d706fdbd3...   \n",
       "\n",
       "                                            SourceArn  \\\n",
       "0   arn:aws:sagemaker:us-east-1:626825435328:train...   \n",
       "1   arn:aws:sagemaker:us-east-1:626825435328:train...   \n",
       "2   arn:aws:sagemaker:us-east-1:626825435328:train...   \n",
       "3   arn:aws:sagemaker:us-east-1:626825435328:train...   \n",
       "4   arn:aws:sagemaker:us-east-1:626825435328:train...   \n",
       "..                                                ...   \n",
       "78  arn:aws:sagemaker:us-east-1:626825435328:train...   \n",
       "79  arn:aws:sagemaker:us-east-1:626825435328:train...   \n",
       "80  arn:aws:sagemaker:us-east-1:626825435328:train...   \n",
       "81  arn:aws:sagemaker:us-east-1:626825435328:train...   \n",
       "82  arn:aws:sagemaker:us-east-1:626825435328:proce...   \n",
       "\n",
       "                                   SageMaker.ImageUri  \\\n",
       "0   683313688378.dkr.ecr.us-east-1.amazonaws.com/s...   \n",
       "1   683313688378.dkr.ecr.us-east-1.amazonaws.com/s...   \n",
       "2   683313688378.dkr.ecr.us-east-1.amazonaws.com/s...   \n",
       "3   683313688378.dkr.ecr.us-east-1.amazonaws.com/s...   \n",
       "4   683313688378.dkr.ecr.us-east-1.amazonaws.com/s...   \n",
       "..                                                ...   \n",
       "78  683313688378.dkr.ecr.us-east-1.amazonaws.com/s...   \n",
       "79  683313688378.dkr.ecr.us-east-1.amazonaws.com/s...   \n",
       "80  683313688378.dkr.ecr.us-east-1.amazonaws.com/s...   \n",
       "81  683313688378.dkr.ecr.us-east-1.amazonaws.com/s...   \n",
       "82                                                NaN   \n",
       "\n",
       "    SageMaker.InstanceCount SageMaker.InstanceType  SageMaker.VolumeSizeInGB  \\\n",
       "0                       1.0          ml.m5.4xlarge                      50.0   \n",
       "1                       1.0          ml.m5.4xlarge                      50.0   \n",
       "2                       1.0          ml.m5.4xlarge                      50.0   \n",
       "3                       1.0          ml.m5.4xlarge                      50.0   \n",
       "4                       1.0          ml.m5.4xlarge                      50.0   \n",
       "..                      ...                    ...                       ...   \n",
       "78                      1.0          ml.m5.4xlarge                      50.0   \n",
       "79                      1.0          ml.m5.4xlarge                      50.0   \n",
       "80                      1.0          ml.m5.4xlarge                      50.0   \n",
       "81                      1.0          ml.m5.4xlarge                      50.0   \n",
       "82                      1.0          ml.m5.2xlarge                     250.0   \n",
       "\n",
       "   _tuning_objective_metric     alpha  colsample_bytree  ...  \\\n",
       "0             validation:f1  0.004397          0.383481  ...   \n",
       "1             validation:f1  0.003573          0.815086  ...   \n",
       "2             validation:f1  0.000017          0.753552  ...   \n",
       "3             validation:f1  1.354001          0.319729  ...   \n",
       "4             validation:f1  0.000005          0.750449  ...   \n",
       "..                      ...       ...               ...  ...   \n",
       "78                      NaN       NaN               NaN  ...   \n",
       "79                      NaN       NaN               NaN  ...   \n",
       "80                      NaN       NaN               NaN  ...   \n",
       "81                      NaN       NaN               NaN  ...   \n",
       "82                      NaN       NaN               NaN  ...   \n",
       "\n",
       "      code - MediaType                                       code - Value  \\\n",
       "0                  NaN                                                NaN   \n",
       "1                  NaN                                                NaN   \n",
       "2                  NaN                                                NaN   \n",
       "3                  NaN                                                NaN   \n",
       "4                  NaN                                                NaN   \n",
       "..                 ...                                                ...   \n",
       "78  application/x-code  s3://sagemaker-us-east-1-626825435328/autopilo...   \n",
       "79  application/x-code  s3://sagemaker-us-east-1-626825435328/autopilo...   \n",
       "80  application/x-code  s3://sagemaker-us-east-1-626825435328/autopilo...   \n",
       "81  application/x-code  s3://sagemaker-us-east-1-626825435328/autopilo...   \n",
       "82                 NaN                                                NaN   \n",
       "\n",
       "    input_channel_mode                      job_name   label_col  \\\n",
       "0                  NaN                           NaN         NaN   \n",
       "1                  NaN                           NaN         NaN   \n",
       "2                  NaN                           NaN         NaN   \n",
       "3                  NaN                           NaN         NaN   \n",
       "4                  NaN                           NaN         NaN   \n",
       "..                 ...                           ...         ...   \n",
       "78                 NaN                           NaN         NaN   \n",
       "79                 NaN                           NaN         NaN   \n",
       "80                 NaN                           NaN         NaN   \n",
       "81                 NaN                           NaN         NaN   \n",
       "82                Pipe  automl-covertype-26-18-52-53  Cover_Type   \n",
       "\n",
       "    max_dataset_size  SageMaker.ImageUri - MediaType  \\\n",
       "0                NaN                             NaN   \n",
       "1                NaN                             NaN   \n",
       "2                NaN                             NaN   \n",
       "3                NaN                             NaN   \n",
       "4                NaN                             NaN   \n",
       "..               ...                             ...   \n",
       "78               NaN                             NaN   \n",
       "79               NaN                             NaN   \n",
       "80               NaN                             NaN   \n",
       "81               NaN                             NaN   \n",
       "82                 5                             NaN   \n",
       "\n",
       "                           SageMaker.ImageUri - Value ds - MediaType  \\\n",
       "0                                                 NaN            NaN   \n",
       "1                                                 NaN            NaN   \n",
       "2                                                 NaN            NaN   \n",
       "3                                                 NaN            NaN   \n",
       "4                                                 NaN            NaN   \n",
       "..                                                ...            ...   \n",
       "78                                                NaN            NaN   \n",
       "79                                                NaN            NaN   \n",
       "80                                                NaN            NaN   \n",
       "81                                                NaN            NaN   \n",
       "82  120479346908.dkr.ecr.us-east-1.amazonaws.com/d...            NaN   \n",
       "\n",
       "                                           ds - Value  \n",
       "0                                                 NaN  \n",
       "1                                                 NaN  \n",
       "2                                                 NaN  \n",
       "3                                                 NaN  \n",
       "4                                                 NaN  \n",
       "..                                                ...  \n",
       "78                                                NaN  \n",
       "79                                                NaN  \n",
       "80                                                NaN  \n",
       "81                                                NaN  \n",
       "82  s3://sagemaker-us-east-1-626825435328/autopilo...  \n",
       "\n",
       "[83 rows x 149 columns]"
      ]
     },
     "execution_count": 24,
     "metadata": {},
     "output_type": "execute_result"
    }
   ],
   "source": [
    "from sagemaker.analytics import ExperimentAnalytics\n",
    "\n",
    "analytics = ExperimentAnalytics(\n",
    "    sagemaker_session=sess, \n",
    "    experiment_name=auto_ml_job_name+'-aws-auto-ml-job'\n",
    ")\n",
    "\n",
    "df = analytics.dataframe()\n",
    "df"
   ]
  },
  {
   "cell_type": "markdown",
   "metadata": {},
   "source": [
    "# Listing all candidates explored by Amazon SageMaker AutoPilot\n",
    "Once the 'ModelTuning' step is complete, we can list top candidates that were identified by SageMaker AutoPilot, and sort them by their final performance metric."
   ]
  },
  {
   "cell_type": "code",
   "execution_count": 25,
   "metadata": {},
   "outputs": [
    {
     "name": "stdout",
     "output_type": "stream",
     "text": [
      "1  tuning-job-1-e08c960e01984b4492-026-af0e59ff  0.9359400272369385\n",
      "2  tuning-job-1-e08c960e01984b4492-057-662216a8  0.9135299921035767\n",
      "3  tuning-job-1-e08c960e01984b4492-034-13ae9e82  0.913349986076355\n",
      "4  tuning-job-1-e08c960e01984b4492-047-7bdc7236  0.909500002861023\n",
      "5  tuning-job-1-e08c960e01984b4492-014-61c97faa  0.9057000279426575\n",
      "6  tuning-job-1-e08c960e01984b4492-016-25542c9d  0.9043200016021729\n",
      "7  tuning-job-1-e08c960e01984b4492-015-b1006858  0.9036099910736084\n",
      "8  tuning-job-1-e08c960e01984b4492-045-46ba8daf  0.8954899907112122\n",
      "9  tuning-job-1-e08c960e01984b4492-028-f0dd26a1  0.8794900178909302\n",
      "10  tuning-job-1-e08c960e01984b4492-039-a7ef17c2  0.870959997177124\n"
     ]
    }
   ],
   "source": [
    "candidates = sm.list_candidates_for_auto_ml_job(AutoMLJobName=auto_ml_job_name, \n",
    "                                                SortBy='FinalObjectiveMetricValue')['Candidates']\n",
    "index = 1\n",
    "for candidate in candidates:\n",
    "  print (str(index) + \"  \" \n",
    "         + candidate['CandidateName'] + \"  \" \n",
    "         + str(candidate['FinalAutoMLJobObjectiveMetric']['Value']))\n",
    "  index += 1"
   ]
  },
  {
   "cell_type": "code",
   "execution_count": 26,
   "metadata": {},
   "outputs": [
    {
     "name": "stdout",
     "output_type": "stream",
     "text": [
      "Candidate name: tuning-job-1-e08c960e01984b4492-026-af0e59ff\n"
     ]
    }
   ],
   "source": [
    "best_candidate = sm.describe_auto_ml_job(AutoMLJobName=auto_ml_job_name)['BestCandidate']\n",
    "best_candidate_name = best_candidate['CandidateName']\n",
    "\n",
    "print(\"Candidate name: \" + best_candidate_name)"
   ]
  },
  {
   "cell_type": "markdown",
   "metadata": {},
   "source": [
    "We can also see the containers and models composing the Inference Pipeline."
   ]
  },
  {
   "cell_type": "code",
   "execution_count": 27,
   "metadata": {},
   "outputs": [
    {
     "name": "stdout",
     "output_type": "stream",
     "text": [
      "683313688378.dkr.ecr.us-east-1.amazonaws.com/sagemaker-sklearn-automl:0.2-1-cpu-py3\n",
      "s3://sagemaker-us-east-1-626825435328/autopilot_demo_cover/output/automl-covertype-26-18-52-53/data-processor-models/automl-cov-dpp9-1-d6acbb9699764e98b27cba18501a3ea8823d6e16a45b4/output/model.tar.gz\n",
      "-\n",
      "683313688378.dkr.ecr.us-east-1.amazonaws.com/sagemaker-xgboost:1.0-1-cpu-py3\n",
      "s3://sagemaker-us-east-1-626825435328/autopilot_demo_cover/output/automl-covertype-26-18-52-53/tuning/automl-cov-dpp9-xgb/tuning-job-1-e08c960e01984b4492-026-af0e59ff/output/model.tar.gz\n",
      "-\n",
      "683313688378.dkr.ecr.us-east-1.amazonaws.com/sagemaker-sklearn-automl:0.2-1-cpu-py3\n",
      "s3://sagemaker-us-east-1-626825435328/autopilot_demo_cover/output/automl-covertype-26-18-52-53/data-processor-models/automl-cov-dpp9-1-d6acbb9699764e98b27cba18501a3ea8823d6e16a45b4/output/model.tar.gz\n",
      "-\n"
     ]
    }
   ],
   "source": [
    "for container in best_candidate['InferenceContainers']:\n",
    "    print(container['Image'])\n",
    "    print(container['ModelDataUrl'])\n",
    "    print('-')"
   ]
  },
  {
   "cell_type": "markdown",
   "metadata": {},
   "source": [
    "## Deploy the best candidate!\n",
    "Now that we have successfully completed the AutoML job on our dataset and visualized the trials, we can create a model from any of the trials with a single API call and then deploy that model for online or batch prediction using Inference Pipelines. Let's create a SageMaker model for this Inference Pipeline."
   ]
  },
  {
   "cell_type": "code",
   "execution_count": 29,
   "metadata": {},
   "outputs": [
    {
     "name": "stdout",
     "output_type": "stream",
     "text": [
      "Model ARN:  arn:aws:sagemaker:us-east-1:626825435328:model/automl-dm-model-26-18-52-53\n"
     ]
    }
   ],
   "source": [
    "model_name = 'automl-dm-model-' + timestamp_suffix\n",
    "\n",
    "model_arn = sm.create_model(Containers=best_candidate['InferenceContainers'],\n",
    "                            ModelName=model_name,\n",
    "                            ExecutionRoleArn=role)\n",
    "\n",
    "print('Model ARN: ', model_arn['ModelArn'])"
   ]
  },
  {
   "cell_type": "markdown",
   "metadata": {},
   "source": [
    "Configure the endpoint "
   ]
  },
  {
   "cell_type": "code",
   "execution_count": 30,
   "metadata": {},
   "outputs": [
    {
     "name": "stdout",
     "output_type": "stream",
     "text": [
      "Endpoint configuration name: automl-covertype-epc27-19-17-37\n"
     ]
    }
   ],
   "source": [
    " # Endpoint configuration name\n",
    "timestamp_suffix = strftime('%d-%H-%M-%S', gmtime())\n",
    "epc_name = 'automl-covertype-epc' + timestamp_suffix\n",
    "print('Endpoint configuration name:', epc_name)\n",
    "\n",
    "ep_config = sm.create_endpoint_config(EndpointConfigName = epc_name,\n",
    "                                      ProductionVariants=[{'InstanceType':'ml.m4.xlarge',\n",
    "                                                           'InitialInstanceCount':1,\n",
    "                                                           'ModelName':model_name,\n",
    "                                                           'VariantName': 'AllTraffic'}])"
   ]
  },
  {
   "cell_type": "code",
   "execution_count": 31,
   "metadata": {},
   "outputs": [
    {
     "name": "stdout",
     "output_type": "stream",
     "text": [
      "Endpoint name: automl-dm-ep-27-19-17-37\n"
     ]
    }
   ],
   "source": [
    " # Endpoint name\n",
    "ep_name = 'automl-dm-ep-' + timestamp_suffix\n",
    "variant_name = 'automl-covertype-variant-' + timestamp_suffix\n",
    "print('Endpoint name:', ep_name)\n",
    "\n",
    "create_endpoint_response = sm.create_endpoint(EndpointName=ep_name,\n",
    "                                              EndpointConfigName=epc_name)"
   ]
  },
  {
   "cell_type": "code",
   "execution_count": 32,
   "metadata": {},
   "outputs": [],
   "source": [
    "# note that the deployment takes ~10 min"
   ]
  },
  {
   "cell_type": "code",
   "execution_count": 33,
   "metadata": {},
   "outputs": [
    {
     "name": "stdout",
     "output_type": "stream",
     "text": [
      "Endpoint ARN   : arn:aws:sagemaker:us-east-1:626825435328:endpoint/automl-dm-ep-27-19-17-37\n",
      "Endpoint status: InService\n",
      "CPU times: user 271 ms, sys: 24.7 ms, total: 296 ms\n",
      "Wall time: 10min 32s\n"
     ]
    }
   ],
   "source": [
    " %%time\n",
    "sm.get_waiter('endpoint_in_service').wait(EndpointName=ep_name)\n",
    "\n",
    "resp = sm.describe_endpoint(EndpointName=ep_name)\n",
    "status = resp['EndpointStatus']\n",
    "\n",
    "print(\"Endpoint ARN   : \" + resp['EndpointArn'])\n",
    "print(\"Endpoint status: \" + status)"
   ]
  },
  {
   "cell_type": "markdown",
   "metadata": {},
   "source": [
    "## Evaluate the deployed model\n",
    " Let's predict and score the test set. We'll compute metrics ourselve!"
   ]
  },
  {
   "cell_type": "code",
   "execution_count": 35,
   "metadata": {},
   "outputs": [],
   "source": [
    "predictor = sagemaker.predictor.Predictor(ep_name)"
   ]
  },
  {
   "cell_type": "code",
   "execution_count": 45,
   "metadata": {},
   "outputs": [],
   "source": [
    "\n",
    "predictor.serializer = sagemaker.serializers.CSVSerializer()\n",
    "predictor.deserializer = sagemaker.deserializers.CSVDeserializer()"
   ]
  },
  {
   "cell_type": "code",
   "execution_count": 46,
   "metadata": {},
   "outputs": [],
   "source": [
    "df_test = pd.read_csv('/root/ap/data/automl-test.csv')\n",
    "test = df_test.to_numpy()\n",
    "actuals = test[:,-1]"
   ]
  },
  {
   "cell_type": "code",
   "execution_count": 57,
   "metadata": {},
   "outputs": [],
   "source": [
    "import numpy as np\n",
    "def predict(data, rows=1000):\n",
    "    split_array = np.array_split(data, int(data.shape[0] / float(rows) + 1))\n",
    "    predictions = []\n",
    "    for array in split_array:\n",
    "        p = predictor.predict(array)\n",
    "        predictions.extend([int(s[0]) for s in p])\n",
    "\n",
    "    return predictions"
   ]
  },
  {
   "cell_type": "code",
   "execution_count": 58,
   "metadata": {},
   "outputs": [],
   "source": [
    "predictions = predict(test[:,:-1])"
   ]
  },
  {
   "cell_type": "code",
   "execution_count": 61,
   "metadata": {},
   "outputs": [
    {
     "name": "stdout",
     "output_type": "stream",
     "text": [
      "29051\n",
      "29051\n"
     ]
    }
   ],
   "source": [
    "print(len(predictions))\n",
    "print(len(actuals))"
   ]
  },
  {
   "cell_type": "code",
   "execution_count": 62,
   "metadata": {},
   "outputs": [
    {
     "data": {
      "image/png": "[encoded data removed]",
      "text/plain": [
       "<Figure size 1080x720 with 2 Axes>"
      ]
     },
     "metadata": {
      "needs_background": "light"
     },
     "output_type": "display_data"
    }
   ],
   "source": [
    "import matplotlib.pyplot as plt\n",
    "import seaborn as sns\n",
    "from sklearn.metrics import confusion_matrix\n",
    "from IPython.display import display, clear_output\n",
    "\n",
    "fig, ax = plt.subplots(figsize=(15,10))\n",
    "cm = confusion_matrix(actuals,predictions)\n",
    "normalized_cm = cm.astype('float') / cm.sum(axis=1)[:, np.newaxis]\n",
    "sns.heatmap(normalized_cm, ax=ax, annot=cm, fmt='')\n",
    "plt.show()"
   ]
  },
  {
   "cell_type": "code",
   "execution_count": 63,
   "metadata": {},
   "outputs": [],
   "source": [
    "from sklearn.metrics import precision_recall_fscore_support, classification_report"
   ]
  },
  {
   "cell_type": "code",
   "execution_count": 64,
   "metadata": {},
   "outputs": [
    {
     "data": {
      "text/plain": [
       "(array([0.97059954, 0.96010234, 0.95705521, 0.92857143, 0.94540943,\n",
       "        0.95011876, 0.97836775]),\n",
       " array([0.95454975, 0.97905796, 0.9733409 , 0.8540146 , 0.83369803,\n",
       "        0.91220068, 0.94581749]),\n",
       " array([0.96250774, 0.9694875 , 0.96512936, 0.88973384, 0.88604651,\n",
       "        0.93077371, 0.9618173 ]),\n",
       " array([10583, 14182,  1763,   137,   457,   877,  1052]))"
      ]
     },
     "execution_count": 64,
     "metadata": {},
     "output_type": "execute_result"
    }
   ],
   "source": [
    "precision_recall_fscore_support(actuals,predictions)"
   ]
  },
  {
   "cell_type": "code",
   "execution_count": 66,
   "metadata": {},
   "outputs": [
    {
     "name": "stdout",
     "output_type": "stream",
     "text": [
      "              precision    recall  f1-score   support\n",
      "\n",
      "           1       0.97      0.95      0.96     10583\n",
      "           2       0.96      0.98      0.97     14182\n",
      "           3       0.96      0.97      0.97      1763\n",
      "           4       0.93      0.85      0.89       137\n",
      "           5       0.95      0.83      0.89       457\n",
      "           6       0.95      0.91      0.93       877\n",
      "           7       0.98      0.95      0.96      1052\n",
      "\n",
      "    accuracy                           0.96     29051\n",
      "   macro avg       0.96      0.92      0.94     29051\n",
      "weighted avg       0.96      0.96      0.96     29051\n",
      "\n"
     ]
    }
   ],
   "source": [
    "print(classification_report(actuals,predictions))"
   ]
  },
  {
   "cell_type": "markdown",
   "metadata": {},
   "source": [
    "# Clean Up"
   ]
  },
  {
   "cell_type": "code",
   "execution_count": null,
   "metadata": {},
   "outputs": [],
   "source": [
    "# Uncomment to delete\n",
    "sm.delete_endpoint(EndpointName=ep_name)"
   ]
  },
  {
   "cell_type": "markdown",
   "metadata": {},
   "source": [
    "# References"
   ]
  },
  {
   "cell_type": "markdown",
   "metadata": {},
   "source": [
    "* This dataset is part of the UCI Machine Learning Repository, and the original source can be found [here](https://archive.ics.uci.edu/ml/datasets/covertype). The original database owners are Jock A. Blackard, Dr. Denis J. Dean, and Dr. Charles W. Anderson of the Remote Sensing and GIS Program at Colorado State University.  \n",
    "* https://gitlab.com/juliensimon/aim307"
   ]
  }
 ],
 "metadata": {
  "instance_type": "ml.t3.medium",
  "kernelspec": {
   "name": "Python 3.7.7 64-bit ('ml': conda)",
   "display_name": "Python 3.7.7 64-bit ('ml': conda)",
   "metadata": {
    "interpreter": {
     "hash": "a46a7326da725c74d0abad1997cb2210958481e119d745833634a7937449cffa"
    }
   }
  },
  "language_info": {
   "codemirror_mode": {
    "name": "ipython",
    "version": 3
   },
   "file_extension": ".py",
   "mimetype": "text/x-python",
   "name": "python",
   "nbconvert_exporter": "python",
   "pygments_lexer": "ipython3",
   "version": "3.7.7-final"
  }
 },
 "nbformat": 4,
 "nbformat_minor": 4
}