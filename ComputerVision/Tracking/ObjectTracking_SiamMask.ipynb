{
 "cells": [
  {
   "cell_type": "code",
   "execution_count": 1,
   "metadata": {},
   "outputs": [
    {
     "name": "stdout",
     "output_type": "stream",
     "text": [
      "/home/ec2-user/SageMaker/aws_machine_learning\n"
     ]
    }
   ],
   "source": [
    "%cd /home/ec2-user/SageMaker/aws_machine_learning/"
   ]
  },
  {
   "cell_type": "code",
   "execution_count": 2,
   "metadata": {},
   "outputs": [
    {
     "name": "stdout",
     "output_type": "stream",
     "text": [
      "fatal: destination path 'SiamMask' already exists and is not an empty directory.\n"
     ]
    }
   ],
   "source": [
    "!git clone https://github.com/foolwood/SiamMask.git"
   ]
  },
  {
   "cell_type": "code",
   "execution_count": 3,
   "metadata": {},
   "outputs": [
    {
     "name": "stdout",
     "output_type": "stream",
     "text": [
      "/home/ec2-user/SageMaker/aws_machine_learning/SiamMask\n"
     ]
    }
   ],
   "source": [
    "%cd SiamMask/"
   ]
  },
  {
   "cell_type": "code",
   "execution_count": 4,
   "metadata": {},
   "outputs": [],
   "source": [
    "!export SiamMask=$PWD"
   ]
  },
  {
   "cell_type": "code",
   "execution_count": 10,
   "metadata": {},
   "outputs": [
    {
     "name": "stdout",
     "output_type": "stream",
     "text": [
      "Solving environment: done\n",
      "\n",
      "## Package Plan ##\n",
      "\n",
      "  environment location: /home/ec2-user/anaconda3\n",
      "\n",
      "  added / updated specs: \n",
      "    - conda\n",
      "\n",
      "\n",
      "The following packages will be downloaded:\n",
      "\n",
      "    package                    |            build\n",
      "    ---------------------------|-----------------\n",
      "    tqdm-4.45.0                |             py_0          58 KB\n",
      "    conda-package-handling-1.6.0|   py36h7b6447c_0         871 KB\n",
      "    conda-4.8.3                |           py36_0         3.0 MB\n",
      "    ------------------------------------------------------------\n",
      "                                           Total:         4.0 MB\n",
      "\n",
      "The following NEW packages will be INSTALLED:\n",
      "\n",
      "    conda-package-handling: 1.6.0-py36h7b6447c_0\n",
      "    tqdm:                   4.45.0-py_0         \n",
      "\n",
      "The following packages will be UPDATED:\n",
      "\n",
      "    certifi:                2019.11.28-py36_0    --> 2020.4.5.1-py36_0\n",
      "    conda:                  4.5.12-py36_0        --> 4.8.3-py36_0     \n",
      "\n",
      "\n",
      "Downloading and Extracting Packages\n",
      "tqdm-4.45.0          | 58 KB     | ##################################### | 100% \n",
      "conda-package-handli | 871 KB    | ##################################### | 100% \n",
      "conda-4.8.3          | 3.0 MB    | ##################################### | 100% \n",
      "Preparing transaction: done\n",
      "Verifying transaction: done\n",
      "Executing transaction: done\n"
     ]
    }
   ],
   "source": [
    "!conda update -n root conda -y"
   ]
  },
  {
   "cell_type": "code",
   "execution_count": 11,
   "metadata": {},
   "outputs": [
    {
     "name": "stdout",
     "output_type": "stream",
     "text": [
      "Collecting package metadata (repodata.json): done\n",
      "Solving environment: done\n",
      "\n",
      "## Package Plan ##\n",
      "\n",
      "  environment location: /home/ec2-user/anaconda3/envs/siammask\n",
      "\n",
      "  added / updated specs:\n",
      "    - python=3.6\n",
      "\n",
      "\n",
      "The following packages will be downloaded:\n",
      "\n",
      "    package                    |            build\n",
      "    ---------------------------|-----------------\n",
      "    libffi-3.3                 |       he6710b0_0          54 KB\n",
      "    ------------------------------------------------------------\n",
      "                                           Total:          54 KB\n",
      "\n",
      "The following NEW packages will be INSTALLED:\n",
      "\n",
      "  _libgcc_mutex      pkgs/main/linux-64::_libgcc_mutex-0.1-main\n",
      "  ca-certificates    pkgs/main/linux-64::ca-certificates-2020.1.1-0\n",
      "  certifi            pkgs/main/linux-64::certifi-2020.4.5.1-py36_0\n",
      "  ld_impl_linux-64   pkgs/main/linux-64::ld_impl_linux-64-2.33.1-h53a641e_7\n",
      "  libedit            pkgs/main/linux-64::libedit-3.1.20181209-hc058e9b_0\n",
      "  libffi             pkgs/main/linux-64::libffi-3.3-he6710b0_0\n",
      "  libgcc-ng          pkgs/main/linux-64::libgcc-ng-9.1.0-hdf63c60_0\n",
      "  libstdcxx-ng       pkgs/main/linux-64::libstdcxx-ng-9.1.0-hdf63c60_0\n",
      "  ncurses            pkgs/main/linux-64::ncurses-6.2-he6710b0_0\n",
      "  openssl            pkgs/main/linux-64::openssl-1.1.1g-h7b6447c_0\n",
      "  pip                pkgs/main/linux-64::pip-20.0.2-py36_1\n",
      "  python             pkgs/main/linux-64::python-3.6.10-hcf32534_1\n",
      "  readline           pkgs/main/linux-64::readline-8.0-h7b6447c_0\n",
      "  setuptools         pkgs/main/linux-64::setuptools-46.1.3-py36_0\n",
      "  sqlite             pkgs/main/linux-64::sqlite-3.31.1-h62c20be_1\n",
      "  tk                 pkgs/main/linux-64::tk-8.6.8-hbc83047_0\n",
      "  wheel              pkgs/main/linux-64::wheel-0.34.2-py36_0\n",
      "  xz                 pkgs/main/linux-64::xz-5.2.5-h7b6447c_0\n",
      "  zlib               pkgs/main/linux-64::zlib-1.2.11-h7b6447c_3\n",
      "\n",
      "\n",
      "\n",
      "Downloading and Extracting Packages\n",
      "libffi-3.3           | 54 KB     | ##################################### | 100% \n",
      "Preparing transaction: done\n",
      "Verifying transaction: done\n",
      "Executing transaction: done\n",
      "#\n",
      "# To activate this environment, use\n",
      "#\n",
      "#     $ conda activate siammask\n",
      "#\n",
      "# To deactivate an active environment, use\n",
      "#\n",
      "#     $ conda deactivate\n",
      "\n"
     ]
    }
   ],
   "source": [
    "!conda create -n siammask python=3.6 -y --force"
   ]
  },
  {
   "cell_type": "code",
   "execution_count": 12,
   "metadata": {},
   "outputs": [],
   "source": [
    "!source activate siammask"
   ]
  },
  {
   "cell_type": "code",
   "execution_count": 15,
   "metadata": {},
   "outputs": [
    {
     "name": "stdout",
     "output_type": "stream",
     "text": [
      "Requirement already up-to-date: pip in /home/ec2-user/anaconda3/envs/python3/lib/python3.6/site-packages (20.0.2)\n"
     ]
    }
   ],
   "source": [
    "!pip install --upgrade pip"
   ]
  },
  {
   "cell_type": "code",
   "execution_count": 16,
   "metadata": {},
   "outputs": [
    {
     "name": "stdout",
     "output_type": "stream",
     "text": [
      "Requirement already satisfied: Cython==0.29.4 in /home/ec2-user/anaconda3/envs/python3/lib/python3.6/site-packages (from -r requirements.txt (line 1)) (0.29.4)\n",
      "Requirement already satisfied: colorama==0.3.9 in /home/ec2-user/anaconda3/envs/python3/lib/python3.6/site-packages (from -r requirements.txt (line 2)) (0.3.9)\n",
      "Requirement already satisfied: numpy==1.15.4 in /home/ec2-user/anaconda3/envs/python3/lib/python3.6/site-packages (from -r requirements.txt (line 3)) (1.15.4)\n",
      "Requirement already satisfied: requests==2.21.0 in /home/ec2-user/anaconda3/envs/python3/lib/python3.6/site-packages (from -r requirements.txt (line 4)) (2.21.0)\n",
      "Requirement already satisfied: fire==0.1.3 in /home/ec2-user/anaconda3/envs/python3/lib/python3.6/site-packages (from -r requirements.txt (line 5)) (0.1.3)\n",
      "Requirement already satisfied: torch==0.4.1 in /home/ec2-user/anaconda3/envs/python3/lib/python3.6/site-packages (from -r requirements.txt (line 6)) (0.4.1)\n",
      "Requirement already satisfied: matplotlib==2.2.3 in /home/ec2-user/anaconda3/envs/python3/lib/python3.6/site-packages (from -r requirements.txt (line 7)) (2.2.3)\n",
      "Collecting numba==0.39.0\n",
      "  Using cached numba-0.39.0-cp36-cp36m-manylinux1_x86_64.whl (1.9 MB)\n",
      "Requirement already satisfied: scipy==1.1.0 in /home/ec2-user/anaconda3/envs/python3/lib/python3.6/site-packages (from -r requirements.txt (line 9)) (1.1.0)\n",
      "Requirement already satisfied: h5py==2.8.0 in /home/ec2-user/anaconda3/envs/python3/lib/python3.6/site-packages (from -r requirements.txt (line 10)) (2.8.0)\n",
      "Collecting pandas==0.23.4\n",
      "  Using cached pandas-0.23.4-cp36-cp36m-manylinux1_x86_64.whl (8.9 MB)\n",
      "Collecting tqdm==4.29.1\n",
      "  Using cached tqdm-4.29.1-py2.py3-none-any.whl (46 kB)\n",
      "Collecting tensorboardX==1.6\n",
      "  Using cached tensorboardX-1.6-py2.py3-none-any.whl (129 kB)\n",
      "Collecting opencv_python==3.4.3.18\n",
      "  Using cached opencv_python-3.4.3.18-cp36-cp36m-manylinux1_x86_64.whl (25.0 MB)\n",
      "Collecting torchvision==0.2.1\n",
      "  Using cached torchvision-0.2.1-py2.py3-none-any.whl (54 kB)\n",
      "Requirement already satisfied: certifi>=2017.4.17 in /home/ec2-user/anaconda3/envs/python3/lib/python3.6/site-packages (from requests==2.21.0->-r requirements.txt (line 4)) (2019.11.28)\n",
      "Requirement already satisfied: urllib3<1.25,>=1.21.1 in /home/ec2-user/anaconda3/envs/python3/lib/python3.6/site-packages (from requests==2.21.0->-r requirements.txt (line 4)) (1.23)\n",
      "Requirement already satisfied: idna<2.9,>=2.5 in /home/ec2-user/anaconda3/envs/python3/lib/python3.6/site-packages (from requests==2.21.0->-r requirements.txt (line 4)) (2.6)\n",
      "Requirement already satisfied: chardet<3.1.0,>=3.0.2 in /home/ec2-user/anaconda3/envs/python3/lib/python3.6/site-packages (from requests==2.21.0->-r requirements.txt (line 4)) (3.0.4)\n",
      "Requirement already satisfied: six in /home/ec2-user/anaconda3/envs/python3/lib/python3.6/site-packages (from fire==0.1.3->-r requirements.txt (line 5)) (1.11.0)\n",
      "Requirement already satisfied: kiwisolver>=1.0.1 in /home/ec2-user/anaconda3/envs/python3/lib/python3.6/site-packages (from matplotlib==2.2.3->-r requirements.txt (line 7)) (1.0.1)\n",
      "Requirement already satisfied: python-dateutil>=2.1 in /home/ec2-user/anaconda3/envs/python3/lib/python3.6/site-packages (from matplotlib==2.2.3->-r requirements.txt (line 7)) (2.7.3)\n",
      "Requirement already satisfied: cycler>=0.10 in /home/ec2-user/anaconda3/envs/python3/lib/python3.6/site-packages (from matplotlib==2.2.3->-r requirements.txt (line 7)) (0.10.0)\n",
      "Requirement already satisfied: pyparsing!=2.0.4,!=2.1.2,!=2.1.6,>=2.0.1 in /home/ec2-user/anaconda3/envs/python3/lib/python3.6/site-packages (from matplotlib==2.2.3->-r requirements.txt (line 7)) (2.2.0)\n",
      "Requirement already satisfied: pytz in /home/ec2-user/anaconda3/envs/python3/lib/python3.6/site-packages (from matplotlib==2.2.3->-r requirements.txt (line 7)) (2018.4)\n",
      "Collecting llvmlite>=0.24.0dev0\n",
      "  Using cached llvmlite-0.32.0-cp36-cp36m-manylinux1_x86_64.whl (20.2 MB)\n",
      "Requirement already satisfied: protobuf>=3.2.0 in /home/ec2-user/anaconda3/envs/python3/lib/python3.6/site-packages (from tensorboardX==1.6->-r requirements.txt (line 13)) (3.6.1)\n",
      "Requirement already satisfied: pillow>=4.1.1 in /home/ec2-user/anaconda3/envs/python3/lib/python3.6/site-packages (from torchvision==0.2.1->-r requirements.txt (line 16)) (5.1.0)\n",
      "Requirement already satisfied: setuptools in /home/ec2-user/anaconda3/envs/python3/lib/python3.6/site-packages (from kiwisolver>=1.0.1->matplotlib==2.2.3->-r requirements.txt (line 7)) (39.1.0)\n",
      "Installing collected packages: llvmlite, numba, pandas, tqdm, tensorboardX, opencv-python, torchvision\n",
      "  Attempting uninstall: llvmlite\n",
      "    Found existing installation: llvmlite 0.23.1\n",
      "\u001b[31mERROR: Cannot uninstall 'llvmlite'. It is a distutils installed project and thus we cannot accurately determine which files belong to it which would lead to only a partial uninstall.\u001b[0m\n"
     ]
    }
   ],
   "source": [
    "!pip install -r requirements.txt"
   ]
  },
  {
   "cell_type": "code",
   "execution_count": 17,
   "metadata": {},
   "outputs": [
    {
     "name": "stdout",
     "output_type": "stream",
     "text": [
      "Compiling region.pyx because it depends on /home/ec2-user/anaconda3/envs/python3/lib/python3.6/site-packages/Cython/Includes/libc/string.pxd.\n",
      "[1/1] Cythonizing region.pyx\n",
      "/home/ec2-user/anaconda3/envs/python3/lib/python3.6/site-packages/Cython/Compiler/Main.py:367: FutureWarning: Cython directive 'language_level' not set, using 2 for now (Py2). This will change in a later release! File: /home/ec2-user/SageMaker/aws_machine_learning/SiamMask/utils/pyvotkit/region.pyx\n",
      "  tree = Parsing.p_module(s, pxd, full_module_name)\n",
      "running build_ext\n",
      "building 'region' extension\n",
      "gcc -pthread -B /home/ec2-user/anaconda3/envs/python3/compiler_compat -Wl,--sysroot=/ -Wsign-compare -DNDEBUG -g -fwrapv -O3 -Wall -Wstrict-prototypes -fPIC -Isrc/ -I/home/ec2-user/anaconda3/envs/python3/include/python3.6m -c region.c -o build/temp.linux-x86_64-3.6/region.o\n",
      "\u001b[01m\u001b[Kregion.c:\u001b[m\u001b[K In function ‘\u001b[01m\u001b[K__pyx_pw_6region_7Polygon_5__str__\u001b[m\u001b[K’:\n",
      "\u001b[01m\u001b[Kregion.c:4218:70:\u001b[m\u001b[K \u001b[01;35m\u001b[Kwarning: \u001b[m\u001b[K‘\u001b[01m\u001b[K__pyx_v_i\u001b[m\u001b[K’ may be used uninitialized in this function [-Wmaybe-uninitialized]\n",
      "   __pyx_t_10 = PyFloat_FromDouble((__pyx_v_self->_c_region_polygon->x[__pyx_v_i])); if (unlikely(!__pyx_t_10)) __PYX_ERR(0, 141, __pyx_L1_error)\n",
      "\u001b[01;32m\u001b[K                                                                      ^\u001b[m\u001b[K\n",
      "\u001b[01m\u001b[Kregion.c:4087:8:\u001b[m\u001b[K \u001b[01;36m\u001b[Knote: \u001b[m\u001b[K‘\u001b[01m\u001b[K__pyx_v_i\u001b[m\u001b[K’ was declared here\n",
      "   long __pyx_v_i;\n",
      "\u001b[01;32m\u001b[K        ^\u001b[m\u001b[K\n",
      "gcc -pthread -B /home/ec2-user/anaconda3/envs/python3/compiler_compat -Wl,--sysroot=/ -Wsign-compare -DNDEBUG -g -fwrapv -O3 -Wall -Wstrict-prototypes -fPIC -Isrc/ -I/home/ec2-user/anaconda3/envs/python3/include/python3.6m -c src/region.c -o build/temp.linux-x86_64-3.6/src/region.o\n",
      "gcc -pthread -shared -B /home/ec2-user/anaconda3/envs/python3/compiler_compat -L/home/ec2-user/anaconda3/envs/python3/lib -Wl,-rpath=/home/ec2-user/anaconda3/envs/python3/lib -Wl,--no-as-needed -Wl,--sysroot=/ build/temp.linux-x86_64-3.6/region.o build/temp.linux-x86_64-3.6/src/region.o -o /home/ec2-user/SageMaker/aws_machine_learning/SiamMask/utils/pyvotkit/region.cpython-36m-x86_64-linux-gnu.so\n",
      "Compiling region.pyx because it depends on /home/ec2-user/anaconda3/envs/python3/lib/python3.6/site-packages/Cython/Includes/libc/string.pxd.\n",
      "[1/1] Cythonizing region.pyx\n",
      "/home/ec2-user/anaconda3/envs/python3/lib/python3.6/site-packages/Cython/Compiler/Main.py:367: FutureWarning: Cython directive 'language_level' not set, using 2 for now (Py2). This will change in a later release! File: /home/ec2-user/SageMaker/aws_machine_learning/SiamMask/utils/pysot/utils/region.pyx\n",
      "  tree = Parsing.p_module(s, pxd, full_module_name)\n",
      "running build_ext\n",
      "building 'region' extension\n",
      "gcc -pthread -B /home/ec2-user/anaconda3/envs/python3/compiler_compat -Wl,--sysroot=/ -Wsign-compare -DNDEBUG -g -fwrapv -O3 -Wall -Wstrict-prototypes -fPIC -Isrc/ -I. -I/home/ec2-user/anaconda3/envs/python3/include/python3.6m -c region.c -o build/temp.linux-x86_64-3.6/region.o\n",
      "\u001b[01m\u001b[Kregion.c:\u001b[m\u001b[K In function ‘\u001b[01m\u001b[K__pyx_pw_6region_7Polygon_5__str__\u001b[m\u001b[K’:\n",
      "\u001b[01m\u001b[Kregion.c:4238:70:\u001b[m\u001b[K \u001b[01;35m\u001b[Kwarning: \u001b[m\u001b[K‘\u001b[01m\u001b[K__pyx_v_i\u001b[m\u001b[K’ may be used uninitialized in this function [-Wmaybe-uninitialized]\n",
      "   __pyx_t_10 = PyFloat_FromDouble((__pyx_v_self->_c_region_polygon->x[__pyx_v_i])); if (unlikely(!__pyx_t_10)) __PYX_ERR(0, 147, __pyx_L1_error)\n",
      "\u001b[01;32m\u001b[K                                                                      ^\u001b[m\u001b[K\n",
      "\u001b[01m\u001b[Kregion.c:4107:8:\u001b[m\u001b[K \u001b[01;36m\u001b[Knote: \u001b[m\u001b[K‘\u001b[01m\u001b[K__pyx_v_i\u001b[m\u001b[K’ was declared here\n",
      "   long __pyx_v_i;\n",
      "\u001b[01;32m\u001b[K        ^\u001b[m\u001b[K\n",
      "gcc -pthread -B /home/ec2-user/anaconda3/envs/python3/compiler_compat -Wl,--sysroot=/ -Wsign-compare -DNDEBUG -g -fwrapv -O3 -Wall -Wstrict-prototypes -fPIC -Isrc/ -I. -I/home/ec2-user/anaconda3/envs/python3/include/python3.6m -c src/region.c -o build/temp.linux-x86_64-3.6/src/region.o\n",
      "gcc -pthread -shared -B /home/ec2-user/anaconda3/envs/python3/compiler_compat -L/home/ec2-user/anaconda3/envs/python3/lib -Wl,-rpath=/home/ec2-user/anaconda3/envs/python3/lib -Wl,--no-as-needed -Wl,--sysroot=/ build/temp.linux-x86_64-3.6/region.o build/temp.linux-x86_64-3.6/src/region.o -o /home/ec2-user/SageMaker/aws_machine_learning/SiamMask/utils/pysot/utils/region.cpython-36m-x86_64-linux-gnu.so\n"
     ]
    }
   ],
   "source": [
    "!bash make.sh"
   ]
  },
  {
   "cell_type": "code",
   "execution_count": 18,
   "metadata": {},
   "outputs": [],
   "source": [
    "!export PYTHONPATH=$PWD:$PYTHONPATH\n"
   ]
  },
  {
   "cell_type": "code",
   "execution_count": 21,
   "metadata": {},
   "outputs": [
    {
     "name": "stdout",
     "output_type": "stream",
     "text": [
      "/home/ec2-user/SageMaker/aws_machine_learning/SiamMask/experiments/siammask_sharp\n"
     ]
    }
   ],
   "source": [
    "%cd ./experiments/siammask_sharp\n"
   ]
  },
  {
   "cell_type": "code",
   "execution_count": 23,
   "metadata": {},
   "outputs": [
    {
     "name": "stdout",
     "output_type": "stream",
     "text": [
      "--2020-04-22 19:21:56--  http://www.robots.ox.ac.uk/~qwang/SiamMask_VOT.pth\n",
      "Resolving www.robots.ox.ac.uk (www.robots.ox.ac.uk)... 129.67.94.2\n",
      "Connecting to www.robots.ox.ac.uk (www.robots.ox.ac.uk)|129.67.94.2|:80... connected.\n",
      "HTTP request sent, awaiting response... 200 OK\n",
      "Length: 101533952 (97M)\n",
      "Saving to: ‘SiamMask_VOT.pth’\n",
      "\n",
      "SiamMask_VOT.pth    100%[===================>]  96.83M  18.9MB/s    in 5.6s    \n",
      "\n",
      "2020-04-22 19:22:02 (17.3 MB/s) - ‘SiamMask_VOT.pth’ saved [101533952/101533952]\n",
      "\n",
      "--2020-04-22 19:22:02--  http://www.robots.ox.ac.uk/~qwang/SiamMask_DAVIS.pth\n",
      "Resolving www.robots.ox.ac.uk (www.robots.ox.ac.uk)... 129.67.94.2\n",
      "Connecting to www.robots.ox.ac.uk (www.robots.ox.ac.uk)|129.67.94.2|:80... connected.\n",
      "HTTP request sent, awaiting response... 200 OK\n",
      "Length: 105878246 (101M)\n",
      "Saving to: ‘SiamMask_DAVIS.pth’\n",
      "\n",
      "SiamMask_DAVIS.pth  100%[===================>] 100.97M  17.8MB/s    in 6.1s    \n",
      "\n",
      "2020-04-22 19:22:08 (16.4 MB/s) - ‘SiamMask_DAVIS.pth’ saved [105878246/105878246]\n",
      "\n"
     ]
    }
   ],
   "source": [
    "!wget http://www.robots.ox.ac.uk/~qwang/SiamMask_VOT.pth\n",
    "!wget http://www.robots.ox.ac.uk/~qwang/SiamMask_DAVIS.pth"
   ]
  },
  {
   "cell_type": "code",
   "execution_count": null,
   "metadata": {},
   "outputs": [],
   "source": []
  },
  {
   "cell_type": "code",
   "execution_count": null,
   "metadata": {},
   "outputs": [],
   "source": []
  },
  {
   "cell_type": "code",
   "execution_count": null,
   "metadata": {},
   "outputs": [],
   "source": []
  },
  {
   "cell_type": "code",
   "execution_count": null,
   "metadata": {},
   "outputs": [],
   "source": [
    "%cd /home/ec2-user/SageMaker/aws_machine_learning/"
   ]
  },
  {
   "cell_type": "code",
   "execution_count": null,
   "metadata": {},
   "outputs": [],
   "source": [
    "%pwd"
   ]
  },
  {
   "cell_type": "code",
   "execution_count": null,
   "metadata": {},
   "outputs": [],
   "source": []
  },
  {
   "cell_type": "code",
   "execution_count": null,
   "metadata": {},
   "outputs": [],
   "source": []
  }
 ],
 "metadata": {
  "kernelspec": {
   "display_name": "conda_python3",
   "language": "python",
   "name": "conda_python3"
  },
  "language_info": {
   "codemirror_mode": {
    "name": "ipython",
    "version": 3
   },
   "file_extension": ".py",
   "mimetype": "text/x-python",
   "name": "python",
   "nbconvert_exporter": "python",
   "pygments_lexer": "ipython3",
   "version": "3.6.13"
  }
 },
 "nbformat": 4,
 "nbformat_minor": 4
}
