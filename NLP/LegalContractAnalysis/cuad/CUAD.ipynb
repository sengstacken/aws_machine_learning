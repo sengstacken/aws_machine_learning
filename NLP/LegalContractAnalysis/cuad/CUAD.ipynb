{
 "cells": [
  {
   "cell_type": "markdown",
   "id": "0273b9d0",
   "metadata": {},
   "source": [
    "references: \n",
    "1. https://qa.fastforwardlabs.com/pytorch/hugging%20face/wikipedia/bert/transformers/2020/05/19/Getting_Started_with_QA.html\n",
    "1. https://towardsdatascience.com/how-to-set-up-a-machine-learning-model-for-legal-contract-review-fe3b48b05a0e\n",
    "1. https://towardsdatascience.com/how-to-set-up-a-machine-learning-model-for-legal-contract-review-part-2-6ecbbe680ba\n",
    "1. https://github.com/huggingface/notebooks/blob/master/examples/question_answering.ipynb\n",
    "1. https://arxiv.org/abs/2103.06268\n",
    "1. https://www.atticusprojectai.org/\n",
    "1. https://qa.fastforwardlabs.com/no%20answer/null%20threshold/bert/distilbert/exact%20match/f1/robust%20predictions/2020/06/09/Evaluating_BERT_on_SQuAD.html"
   ]
  },
  {
   "cell_type": "code",
   "execution_count": null,
   "id": "7aa30f04",
   "metadata": {},
   "outputs": [],
   "source": [
    "!git clone https://github.com/TheAtticusProject/cuad.git"
   ]
  },
  {
   "cell_type": "code",
   "execution_count": null,
   "id": "406a3f8b",
   "metadata": {},
   "outputs": [],
   "source": [
    "%pip install streamlit\n",
    "%pip install st-annotated-text"
   ]
  },
  {
   "cell_type": "code",
   "execution_count": null,
   "id": "4d60d20b",
   "metadata": {},
   "outputs": [],
   "source": [
    "import streamlit as st\n",
    "#from st_annotated_text import annotated_text"
   ]
  },
  {
   "cell_type": "code",
   "execution_count": null,
   "id": "da55cf17",
   "metadata": {},
   "outputs": [],
   "source": [
    "# get checkpoints - https://zenodo.org/record/4599830\n",
    "!wget https://zenodo.org/record/4599830/files/roberta-base.zip  # roberta-base"
   ]
  },
  {
   "cell_type": "code",
   "execution_count": null,
   "id": "27d62512",
   "metadata": {},
   "outputs": [],
   "source": [
    "# OPTIONAL - get checkpoints - https://zenodo.org/record/4599830\n",
    "!wget https://zenodo.org/record/4599830/files/deberta-v2-xlarge.zip  # deberta"
   ]
  },
  {
   "cell_type": "code",
   "execution_count": null,
   "id": "1e547ad3",
   "metadata": {},
   "outputs": [],
   "source": [
    "# OPTIONAL - get checkpoints - https://zenodo.org/record/4599830\n",
    "!wget https://zenodo.org/record/4599830/files/roberta-large.zip  # roberta-large"
   ]
  },
  {
   "cell_type": "code",
   "execution_count": null,
   "id": "c642ab93",
   "metadata": {},
   "outputs": [],
   "source": [
    "!mkdir /home/ec2-user/SageMaker/LegalContractAnalysis/cuad/data"
   ]
  },
  {
   "cell_type": "code",
   "execution_count": null,
   "id": "da7d5575",
   "metadata": {},
   "outputs": [],
   "source": [
    "!unzip /home/ec2-user/SageMaker/LegalContractAnalysis/cuad/data.zip -d /home/ec2-user/SageMaker/LegalContractAnalysis/cuad/data"
   ]
  },
  {
   "cell_type": "code",
   "execution_count": null,
   "id": "b5a549d6",
   "metadata": {},
   "outputs": [],
   "source": [
    "!mkdir /home/ec2-user/SageMaker/LegalContractAnalysis/cuad/trained_models"
   ]
  },
  {
   "cell_type": "code",
   "execution_count": null,
   "id": "ce3178be",
   "metadata": {},
   "outputs": [],
   "source": [
    "!unzip /home/ec2-user/SageMaker/LegalContractAnalysis/cuad/roberta-base.zip -d /home/ec2-user/SageMaker/LegalContractAnalysis/cuad/trained_models"
   ]
  },
  {
   "cell_type": "code",
   "execution_count": null,
   "id": "319c2dfb",
   "metadata": {},
   "outputs": [],
   "source": [
    "!python /home/ec2-user/SageMaker/LegalContractAnalysis/cuad/evaluate.py"
   ]
  },
  {
   "cell_type": "code",
   "execution_count": null,
   "id": "4027d666",
   "metadata": {},
   "outputs": [],
   "source": [
    "%cd /home/ec2-user/SageMaker/LegalContractAnalysis/cuad/"
   ]
  },
  {
   "cell_type": "code",
   "execution_count": 1,
   "id": "a4d50a01",
   "metadata": {},
   "outputs": [
    {
     "name": "stdout",
     "output_type": "stream",
     "text": [
      "/home/ec2-user/SageMaker/LegalContractAnalysis/cuad\n"
     ]
    }
   ],
   "source": [
    "!pwd"
   ]
  },
  {
   "cell_type": "code",
   "execution_count": 2,
   "id": "aba9c538",
   "metadata": {},
   "outputs": [
    {
     "name": "stdout",
     "output_type": "stream",
     "text": [
      "Collecting tqdm\n",
      "  Downloading tqdm-4.62.0-py2.py3-none-any.whl (76 kB)\n",
      "\u001b[K     |████████████████████████████████| 76 kB 6.0 MB/s  eta 0:00:01\n",
      "\u001b[?25hInstalling collected packages: tqdm\n",
      "Successfully installed tqdm-4.62.0\n",
      "\u001b[33mWARNING: You are using pip version 21.1.2; however, version 21.2.4 is available.\n",
      "You should consider upgrading via the '/home/ec2-user/anaconda3/envs/pytorch_latest_p36/bin/python -m pip install --upgrade pip' command.\u001b[0m\n"
     ]
    }
   ],
   "source": [
    "!pip install tqdm"
   ]
  },
  {
   "cell_type": "code",
   "execution_count": 3,
   "id": "7a69e398",
   "metadata": {},
   "outputs": [
    {
     "name": "stdout",
     "output_type": "stream",
     "text": [
      "Collecting transformers\n",
      "  Downloading transformers-4.9.2-py3-none-any.whl (2.6 MB)\n",
      "\u001b[K     |████████████████████████████████| 2.6 MB 25.7 MB/s eta 0:00:01\n",
      "\u001b[?25hRequirement already satisfied: importlib-metadata in /home/ec2-user/anaconda3/envs/pytorch_latest_p36/lib/python3.6/site-packages (from transformers) (3.7.0)\n",
      "Collecting tokenizers<0.11,>=0.10.1\n",
      "  Downloading tokenizers-0.10.3-cp36-cp36m-manylinux_2_5_x86_64.manylinux1_x86_64.manylinux_2_12_x86_64.manylinux2010_x86_64.whl (3.3 MB)\n",
      "\u001b[K     |████████████████████████████████| 3.3 MB 59.6 MB/s eta 0:00:01\n",
      "\u001b[?25hRequirement already satisfied: packaging in /home/ec2-user/anaconda3/envs/pytorch_latest_p36/lib/python3.6/site-packages (from transformers) (20.9)\n",
      "Collecting huggingface-hub==0.0.12\n",
      "  Downloading huggingface_hub-0.0.12-py3-none-any.whl (37 kB)\n",
      "Requirement already satisfied: pyyaml>=5.1 in /home/ec2-user/anaconda3/envs/pytorch_latest_p36/lib/python3.6/site-packages (from transformers) (5.4.1)\n",
      "Collecting filelock\n",
      "  Downloading filelock-3.0.12-py3-none-any.whl (7.6 kB)\n",
      "Collecting sacremoses\n",
      "  Downloading sacremoses-0.0.45-py3-none-any.whl (895 kB)\n",
      "\u001b[K     |████████████████████████████████| 895 kB 54.2 MB/s eta 0:00:01\n",
      "\u001b[?25hRequirement already satisfied: numpy>=1.17 in /home/ec2-user/anaconda3/envs/pytorch_latest_p36/lib/python3.6/site-packages (from transformers) (1.19.2)\n",
      "Requirement already satisfied: requests in /home/ec2-user/anaconda3/envs/pytorch_latest_p36/lib/python3.6/site-packages (from transformers) (2.25.1)\n",
      "Requirement already satisfied: tqdm>=4.27 in /home/ec2-user/anaconda3/envs/pytorch_latest_p36/lib/python3.6/site-packages (from transformers) (4.62.0)\n",
      "Requirement already satisfied: dataclasses in /home/ec2-user/anaconda3/envs/pytorch_latest_p36/lib/python3.6/site-packages (from transformers) (0.8)\n",
      "Requirement already satisfied: regex!=2019.12.17 in /home/ec2-user/anaconda3/envs/pytorch_latest_p36/lib/python3.6/site-packages (from transformers) (2020.11.13)\n",
      "Requirement already satisfied: typing-extensions in /home/ec2-user/anaconda3/envs/pytorch_latest_p36/lib/python3.6/site-packages (from huggingface-hub==0.0.12->transformers) (3.7.4.3)\n",
      "Requirement already satisfied: pyparsing>=2.0.2 in /home/ec2-user/anaconda3/envs/pytorch_latest_p36/lib/python3.6/site-packages (from packaging->transformers) (2.4.7)\n",
      "Requirement already satisfied: zipp>=0.5 in /home/ec2-user/anaconda3/envs/pytorch_latest_p36/lib/python3.6/site-packages (from importlib-metadata->transformers) (3.4.0)\n",
      "Requirement already satisfied: chardet<5,>=3.0.2 in /home/ec2-user/anaconda3/envs/pytorch_latest_p36/lib/python3.6/site-packages (from requests->transformers) (3.0.4)\n",
      "Requirement already satisfied: idna<3,>=2.5 in /home/ec2-user/anaconda3/envs/pytorch_latest_p36/lib/python3.6/site-packages (from requests->transformers) (2.10)\n",
      "Requirement already satisfied: certifi>=2017.4.17 in /home/ec2-user/anaconda3/envs/pytorch_latest_p36/lib/python3.6/site-packages (from requests->transformers) (2021.5.30)\n",
      "Requirement already satisfied: urllib3<1.27,>=1.21.1 in /home/ec2-user/anaconda3/envs/pytorch_latest_p36/lib/python3.6/site-packages (from requests->transformers) (1.26.5)\n",
      "Requirement already satisfied: joblib in /home/ec2-user/anaconda3/envs/pytorch_latest_p36/lib/python3.6/site-packages (from sacremoses->transformers) (1.0.1)\n",
      "Requirement already satisfied: click in /home/ec2-user/anaconda3/envs/pytorch_latest_p36/lib/python3.6/site-packages (from sacremoses->transformers) (7.1.2)\n",
      "Requirement already satisfied: six in /home/ec2-user/anaconda3/envs/pytorch_latest_p36/lib/python3.6/site-packages (from sacremoses->transformers) (1.15.0)\n",
      "Installing collected packages: filelock, tokenizers, sacremoses, huggingface-hub, transformers\n",
      "Successfully installed filelock-3.0.12 huggingface-hub-0.0.12 sacremoses-0.0.45 tokenizers-0.10.3 transformers-4.9.2\n",
      "\u001b[33mWARNING: You are using pip version 21.1.2; however, version 21.2.4 is available.\n",
      "You should consider upgrading via the '/home/ec2-user/anaconda3/envs/pytorch_latest_p36/bin/python -m pip install --upgrade pip' command.\u001b[0m\n"
     ]
    }
   ],
   "source": [
    "!pip install transformers"
   ]
  },
  {
   "cell_type": "code",
   "execution_count": 4,
   "id": "c3162033",
   "metadata": {},
   "outputs": [
    {
     "name": "stdout",
     "output_type": "stream",
     "text": [
      "Collecting tensorboard\n",
      "  Downloading tensorboard-2.6.0-py3-none-any.whl (5.6 MB)\n",
      "\u001b[K     |████████████████████████████████| 5.6 MB 36.7 MB/s eta 0:00:01\n",
      "\u001b[?25hRequirement already satisfied: numpy>=1.12.0 in /home/ec2-user/anaconda3/envs/pytorch_latest_p36/lib/python3.6/site-packages (from tensorboard) (1.19.2)\n",
      "Collecting google-auth-oauthlib<0.5,>=0.4.1\n",
      "  Downloading google_auth_oauthlib-0.4.5-py2.py3-none-any.whl (18 kB)\n",
      "Collecting markdown>=2.6.8\n",
      "  Downloading Markdown-3.3.4-py3-none-any.whl (97 kB)\n",
      "\u001b[K     |████████████████████████████████| 97 kB 11.5 MB/s eta 0:00:01\n",
      "\u001b[?25hRequirement already satisfied: protobuf>=3.6.0 in /home/ec2-user/anaconda3/envs/pytorch_latest_p36/lib/python3.6/site-packages (from tensorboard) (3.17.3)\n",
      "Collecting google-auth<2,>=1.6.3\n",
      "  Downloading google_auth-1.34.0-py2.py3-none-any.whl (152 kB)\n",
      "\u001b[K     |████████████████████████████████| 152 kB 41.8 MB/s eta 0:00:01\n",
      "\u001b[?25hCollecting absl-py>=0.4\n",
      "  Downloading absl_py-0.13.0-py3-none-any.whl (132 kB)\n",
      "\u001b[K     |████████████████████████████████| 132 kB 64.4 MB/s eta 0:00:01\n",
      "\u001b[?25hCollecting tensorboard-plugin-wit>=1.6.0\n",
      "  Downloading tensorboard_plugin_wit-1.8.0-py3-none-any.whl (781 kB)\n",
      "\u001b[K     |████████████████████████████████| 781 kB 59.1 MB/s eta 0:00:01\n",
      "\u001b[?25hCollecting tensorboard-data-server<0.7.0,>=0.6.0\n",
      "  Downloading tensorboard_data_server-0.6.1-py3-none-manylinux2010_x86_64.whl (4.9 MB)\n",
      "\u001b[K     |████████████████████████████████| 4.9 MB 36.9 MB/s eta 0:00:01\n",
      "\u001b[?25hRequirement already satisfied: wheel>=0.26 in /home/ec2-user/anaconda3/envs/pytorch_latest_p36/lib/python3.6/site-packages (from tensorboard) (0.36.2)\n",
      "Requirement already satisfied: werkzeug>=0.11.15 in /home/ec2-user/anaconda3/envs/pytorch_latest_p36/lib/python3.6/site-packages (from tensorboard) (1.0.1)\n",
      "Requirement already satisfied: setuptools>=41.0.0 in /home/ec2-user/anaconda3/envs/pytorch_latest_p36/lib/python3.6/site-packages (from tensorboard) (49.6.0.post20210108)\n",
      "Collecting grpcio>=1.24.3\n",
      "  Downloading grpcio-1.39.0-cp36-cp36m-manylinux2014_x86_64.whl (4.3 MB)\n",
      "\u001b[K     |████████████████████████████████| 4.3 MB 43.0 MB/s eta 0:00:01\n",
      "\u001b[?25hRequirement already satisfied: requests<3,>=2.21.0 in /home/ec2-user/anaconda3/envs/pytorch_latest_p36/lib/python3.6/site-packages (from tensorboard) (2.25.1)\n",
      "Requirement already satisfied: six in /home/ec2-user/anaconda3/envs/pytorch_latest_p36/lib/python3.6/site-packages (from absl-py>=0.4->tensorboard) (1.15.0)\n",
      "Collecting cachetools<5.0,>=2.0.0\n",
      "  Downloading cachetools-4.2.2-py3-none-any.whl (11 kB)\n",
      "Requirement already satisfied: rsa<5,>=3.1.4 in /home/ec2-user/anaconda3/envs/pytorch_latest_p36/lib/python3.6/site-packages (from google-auth<2,>=1.6.3->tensorboard) (4.7.2)\n",
      "Collecting pyasn1-modules>=0.2.1\n",
      "  Downloading pyasn1_modules-0.2.8-py2.py3-none-any.whl (155 kB)\n",
      "\u001b[K     |████████████████████████████████| 155 kB 54.9 MB/s eta 0:00:01\n",
      "\u001b[?25hCollecting requests-oauthlib>=0.7.0\n",
      "  Downloading requests_oauthlib-1.3.0-py2.py3-none-any.whl (23 kB)\n",
      "Requirement already satisfied: importlib-metadata in /home/ec2-user/anaconda3/envs/pytorch_latest_p36/lib/python3.6/site-packages (from markdown>=2.6.8->tensorboard) (3.7.0)\n",
      "Requirement already satisfied: pyasn1<0.5.0,>=0.4.6 in /home/ec2-user/anaconda3/envs/pytorch_latest_p36/lib/python3.6/site-packages (from pyasn1-modules>=0.2.1->google-auth<2,>=1.6.3->tensorboard) (0.4.8)\n",
      "Requirement already satisfied: urllib3<1.27,>=1.21.1 in /home/ec2-user/anaconda3/envs/pytorch_latest_p36/lib/python3.6/site-packages (from requests<3,>=2.21.0->tensorboard) (1.26.5)\n",
      "Requirement already satisfied: certifi>=2017.4.17 in /home/ec2-user/anaconda3/envs/pytorch_latest_p36/lib/python3.6/site-packages (from requests<3,>=2.21.0->tensorboard) (2021.5.30)\n",
      "Requirement already satisfied: chardet<5,>=3.0.2 in /home/ec2-user/anaconda3/envs/pytorch_latest_p36/lib/python3.6/site-packages (from requests<3,>=2.21.0->tensorboard) (3.0.4)\n",
      "Requirement already satisfied: idna<3,>=2.5 in /home/ec2-user/anaconda3/envs/pytorch_latest_p36/lib/python3.6/site-packages (from requests<3,>=2.21.0->tensorboard) (2.10)\n",
      "Collecting oauthlib>=3.0.0\n",
      "  Downloading oauthlib-3.1.1-py2.py3-none-any.whl (146 kB)\n",
      "\u001b[K     |████████████████████████████████| 146 kB 57.1 MB/s eta 0:00:01\n",
      "\u001b[?25hRequirement already satisfied: typing-extensions>=3.6.4 in /home/ec2-user/anaconda3/envs/pytorch_latest_p36/lib/python3.6/site-packages (from importlib-metadata->markdown>=2.6.8->tensorboard) (3.7.4.3)\n",
      "Requirement already satisfied: zipp>=0.5 in /home/ec2-user/anaconda3/envs/pytorch_latest_p36/lib/python3.6/site-packages (from importlib-metadata->markdown>=2.6.8->tensorboard) (3.4.0)\n",
      "Installing collected packages: pyasn1-modules, oauthlib, cachetools, requests-oauthlib, google-auth, tensorboard-plugin-wit, tensorboard-data-server, markdown, grpcio, google-auth-oauthlib, absl-py, tensorboard\n",
      "Successfully installed absl-py-0.13.0 cachetools-4.2.2 google-auth-1.34.0 google-auth-oauthlib-0.4.5 grpcio-1.39.0 markdown-3.3.4 oauthlib-3.1.1 pyasn1-modules-0.2.8 requests-oauthlib-1.3.0 tensorboard-2.6.0 tensorboard-data-server-0.6.1 tensorboard-plugin-wit-1.8.0\n",
      "\u001b[33mWARNING: You are using pip version 21.1.2; however, version 21.2.4 is available.\n",
      "You should consider upgrading via the '/home/ec2-user/anaconda3/envs/pytorch_latest_p36/bin/python -m pip install --upgrade pip' command.\u001b[0m\n"
     ]
    }
   ],
   "source": [
    "!pip install tensorboard"
   ]
  },
  {
   "cell_type": "code",
   "execution_count": null,
   "id": "fd12e340",
   "metadata": {},
   "outputs": [],
   "source": [
    "!python train.py \\\n",
    "        --output_dir ./train_models/roberta-base \\\n",
    "        --model_type roberta \\\n",
    "        --model_name_or_path /home/ec2-user/SageMaker/LegalContractAnalysis/cuad/trained_models/roberta-base/ \\\n",
    "        --data_dir ./data/ \\\n",
    "        --predict_file /home/ec2-user/SageMaker/LegalContractAnalysis/cuad/data/test.json \\\n",
    "        --do_eval \\\n",
    "        --version_2_with_negative \\\n",
    "        --per_gpu_eval_batch_size=40  \\\n",
    "        --max_seq_length 512 \\\n",
    "        --max_answer_length 512 \\\n",
    "        --doc_stride 256 \\\n",
    "        --save_steps 1000 \\\n",
    "        --n_best_size 20 \\\n",
    "        --cache_dir /home/ec2-user/SageMaker/LegalContractAnalysis/cuad/cache/ \\\n",
    "        --overwrite_output_dir \\\n",
    "        --threads 4"
   ]
  },
  {
   "cell_type": "code",
   "execution_count": 5,
   "id": "b8e7b905",
   "metadata": {},
   "outputs": [],
   "source": [
    "import torch\n",
    "import transformers"
   ]
  },
  {
   "cell_type": "code",
   "execution_count": 33,
   "id": "9d1b89dc",
   "metadata": {},
   "outputs": [
    {
     "name": "stdout",
     "output_type": "stream",
     "text": [
      "/home/ec2-user/SageMaker/LegalContractAnalysis/cuad\n"
     ]
    }
   ],
   "source": [
    "!pwd"
   ]
  },
  {
   "cell_type": "markdown",
   "id": "2fa96afe",
   "metadata": {},
   "source": [
    "## Load Model and Tokenizer\n",
    "\n",
    "Note that the Question Answering Models are not yet compatible with fast tokenizer so we set the flag to False"
   ]
  },
  {
   "cell_type": "code",
   "execution_count": 7,
   "id": "506bd2c8",
   "metadata": {},
   "outputs": [],
   "source": [
    "from transformers import AutoTokenizer, AutoModelForQuestionAnswering\n",
    "\n",
    "# Load the fine-tuned model\n",
    "tokenizer = AutoTokenizer.from_pretrained(\"./trained_models/roberta-base/\")\n",
    "model = AutoModelForQuestionAnswering.from_pretrained(\"./trained_models/roberta-base/\")"
   ]
  },
  {
   "cell_type": "code",
   "execution_count": 18,
   "id": "774a251e",
   "metadata": {},
   "outputs": [],
   "source": [
    "import transformers\n",
    "assert isinstance(tokenizer, transformers.PreTrainedTokenizerFast)"
   ]
  },
  {
   "cell_type": "code",
   "execution_count": 8,
   "id": "27b478a8",
   "metadata": {},
   "outputs": [
    {
     "data": {
      "text/plain": [
       "{'input_ids': [0, 9178, 203, 5627, 64, 10, 5627, 611, 5858, 34600, 2], 'attention_mask': [1, 1, 1, 1, 1, 1, 1, 1, 1, 1, 1]}"
      ]
     },
     "execution_count": 8,
     "metadata": {},
     "output_type": "execute_result"
    }
   ],
   "source": [
    "tokenizer(\"how much wood can a woodchuck chuck\")"
   ]
  },
  {
   "cell_type": "markdown",
   "id": "81dfb540",
   "metadata": {},
   "source": [
    "# Create the Question / Context\n",
    "\n",
    "To perform question answering on the contract we need to concatenate the question with the contract data.  Next the data is tokenized (convert from words to numbers) and then fed to the trained model.  The model will then provide two outputs - The start and end logits"
   ]
  },
  {
   "cell_type": "code",
   "execution_count": 14,
   "id": "6c8e2f93",
   "metadata": {},
   "outputs": [],
   "source": [
    "def single_prediction(question,context):\n",
    "    \n",
    "    # 1. TOKENIZE THE INPUT\n",
    "    # note: if you don't include return_tensors='pt' you'll get a list of lists which is easier for \n",
    "    # exploration but you cannot feed that into a model. \n",
    "    inputs = tokenizer.encode_plus(question, context, return_tensors=\"pt\") \n",
    "\n",
    "    # 2. OBTAIN MODEL SCORES\n",
    "    # the AutoModelForQuestionAnswering class includes a span predictor on top of the model. \n",
    "    # the model returns answer start and end scores for each word in the text\n",
    "    output = model(**inputs)\n",
    "    answer_start_scores, answer_end_scores = model(**inputs,return_dict=False)\n",
    "    answer_start = torch.argmax(answer_start_scores)  # get the most likely beginning of answer with the argmax of the score\n",
    "    answer_end = torch.argmax(answer_end_scores) + 1  # get the most likely end of answer with the argmax of the score\n",
    "\n",
    "    # 3. GET THE ANSWER SPAN\n",
    "    # once we have the most likely start and end tokens, we grab all the tokens between them\n",
    "    # and convert tokens back to words!\n",
    "    answer = tokenizer.convert_tokens_to_string(tokenizer.convert_ids_to_tokens(inputs[\"input_ids\"][0][answer_start:answer_end]))\n",
    "\n",
    "    print(f'Question:  {question}')\n",
    "    print()\n",
    "    print(f'Answer:  {answer}')"
   ]
  },
  {
   "cell_type": "markdown",
   "id": "16e637df",
   "metadata": {},
   "source": [
    "#### Example 1"
   ]
  },
  {
   "cell_type": "code",
   "execution_count": 15,
   "id": "72436c35",
   "metadata": {},
   "outputs": [
    {
     "name": "stdout",
     "output_type": "stream",
     "text": [
      "Exhibit 10.2\n",
      "\n",
      "______________________________________________________________________________\n",
      "\n",
      "CO-PROMOTION AGREEMENT\n",
      "\n",
      "by and between\n",
      "\n",
      "DOVA PHARMACEUTICALS, INC.\n",
      "\n",
      "and\n",
      "\n",
      "VALEANT PHARMACEUTICALS NORTH AMERICA LLC\n",
      "\n",
      "September 26, 2018\n",
      "\n",
      "______________________________________________________________________________\n",
      "\n",
      "CONFIDENTIAL TREATMENT HAS BEEN REQUESTED FOR PORTIONS OF THIS EXHIBIT. THE COPY FILED HEREWITH OMITS THE INFORMATION SUBJECT TO A CONFIDENTIALITY REQUEST. OMISSIONS ARE DESIGNATED [***]. A COMPLETE VERSION OF THIS EXHIBIT HAS BEEN FILED SEPARATELY WITH THE SECURITIES AND EXCHANGE COMMISSION.\n",
      "\n",
      "Source: DOVA PHARMACEUTICALS INC., 10-Q, 11/8/2018\n",
      "\n",
      "\n",
      "\n",
      "\n",
      "\n",
      "TABLE OF CONTENTS\n",
      "\n",
      "Page\n",
      "\n",
      "ARTICLE 1 DEFINITIONS 1\n",
      "\n",
      "ARTICLE 2 RIGHTS AND OBLIGATIONS 8\n",
      "\n",
      "2.1 Engagement; Grant of Rights. 8\n",
      "\n",
      "2.2 Retention of Rights. 9\n",
      "\n",
      "2.3 Non-Competition; Non-Solicitation. 9\n",
      "\n",
      "2.4 Dova Trademarks and Copyrights. 10\n",
      "\n",
      "ARTICLE 3 JOINT STEERING COMMITTEE 11\n",
      "\n",
      "3.1 Formation of the JSC. 11\n",
      "\n",
      "3.2 Meetings and Minutes. 11\n",
      "\n",
      "3.3 Purpose of the JSC. 11\n",
      "\n",
      "3.4 Decision Making. 13\n",
      "\n",
      "3.5 Marketing Sub-Committee. 13\n",
      "\n",
      "\n"
     ]
    }
   ],
   "source": [
    "context = \"\"\"Exhibit 10.2\\n\\n______________________________________________________________________________\\n\\nCO-PROMOTION AGREEMENT\\n\\nby and between\\n\\nDOVA PHARMACEUTICALS, INC.\\n\\nand\\n\\nVALEANT PHARMACEUTICALS NORTH AMERICA LLC\\n\\nSeptember 26, 2018\\n\\n______________________________________________________________________________\\n\\nCONFIDENTIAL TREATMENT HAS BEEN REQUESTED FOR PORTIONS OF THIS EXHIBIT. THE COPY FILED HEREWITH OMITS THE INFORMATION SUBJECT TO A CONFIDENTIALITY REQUEST. OMISSIONS ARE DESIGNATED [***]. A COMPLETE VERSION OF THIS EXHIBIT HAS BEEN FILED SEPARATELY WITH THE SECURITIES AND EXCHANGE COMMISSION.\\n\\nSource: DOVA PHARMACEUTICALS INC., 10-Q, 11/8/2018\\n\\n\\n\\n\\n\\nTABLE OF CONTENTS\\n\\nPage\\n\\nARTICLE 1 DEFINITIONS 1\\n\\nARTICLE 2 RIGHTS AND OBLIGATIONS 8\\n\\n2.1 Engagement; Grant of Rights. 8\\n\\n2.2 Retention of Rights. 9\\n\\n2.3 Non-Competition; Non-Solicitation. 9\\n\\n2.4 Dova Trademarks and Copyrights. 10\\n\\nARTICLE 3 JOINT STEERING COMMITTEE 11\\n\\n3.1 Formation of the JSC. 11\\n\\n3.2 Meetings and Minutes. 11\\n\\n3.3 Purpose of the JSC. 11\\n\\n3.4 Decision Making. 13\\n\\n3.5 Marketing Sub-Committee. 13\\n\\n\"\"\"\n",
    "\n",
    "print(context)"
   ]
  },
  {
   "cell_type": "code",
   "execution_count": 16,
   "id": "c19f5f0b",
   "metadata": {},
   "outputs": [],
   "source": [
    "question = \"Highlight the parts (if any) of this contract related to \\\"Agreement Date\\\" that should be reviewed by a lawyer. Details: The date of the contract\""
   ]
  },
  {
   "cell_type": "code",
   "execution_count": 17,
   "id": "b0bb217a",
   "metadata": {},
   "outputs": [
    {
     "name": "stdout",
     "output_type": "stream",
     "text": [
      "Question:  Highlight the parts (if any) of this contract related to \"Agreement Date\" that should be reviewed by a lawyer. Details: The date of the contract\n",
      "\n",
      "Answer:  September 26, 2018\n"
     ]
    }
   ],
   "source": [
    "single_prediction(question,context)"
   ]
  },
  {
   "cell_type": "markdown",
   "id": "539fe0a6",
   "metadata": {},
   "source": [
    "#### Example 2"
   ]
  },
  {
   "cell_type": "code",
   "execution_count": 10,
   "id": "5227a22d",
   "metadata": {},
   "outputs": [
    {
     "name": "stdout",
     "output_type": "stream",
     "text": [
      "10.\tSUSPENSION:  \n",
      "\n",
      "(a)  If Licensor breaches or is in default of any of its representations and warranties hereunder, Fox-Warner, in addition to any and all other rights it may have under this Agreement or in law or in equity, may suspend its distribution hereunder, and any payments which might otherwise be due Licensor until such occurrence is ended or remedied, and the Term of this Agreement shall be extended for a period equal to the length of such suspension.  Before Fox-Warner can declare a breach or default under this provision, it shall give Licensor written notice specifying the nature of the breach, and Licensor shall have thirty (30) days within which to effect a cure of such alleged breach.\n",
      "\n",
      "(b)  Producer expressly understands and agrees that if Fox-Warner breaches this Agreement, including, without limitation, a breach of its obli¬gations to make payments and provide statements hereunder, the damage, if any, caused Producer thereby will not be irreparable or otherwise suf¬ficient to entitle Producer to injunctive or other equit¬able relief.  Producer agrees that the rights and remedies available to Producer in any such event shall be strictly limited to the right, if any, to recover damages in an action at law, and Producer shall not be entitled by reason of any such breach to terminate or rescind this Agreement, to restrain Fox-Warner's exercise of any of Fox-Warner's rights here¬under, or to restrain the exhibition or exploitation of the Picture.  Before Licensor can declare a breach under this provision, it shall give Fox-Warner written notice specifying the nature of the breach, and Fox-Warner shall have thirty (30) days within which to effect a cure of such alleged breach.\n",
      "\n"
     ]
    }
   ],
   "source": [
    "context = \"\"\"10.\tSUSPENSION:  \n",
    "\n",
    "(a)  If Licensor breaches or is in default of any of its representations and warranties hereunder, Fox-Warner, in addition to any and all other rights it may have under this Agreement or in law or in equity, may suspend its distribution hereunder, and any payments which might otherwise be due Licensor until such occurrence is ended or remedied, and the Term of this Agreement shall be extended for a period equal to the length of such suspension.  Before Fox-Warner can declare a breach or default under this provision, it shall give Licensor written notice specifying the nature of the breach, and Licensor shall have thirty (30) days within which to effect a cure of such alleged breach.\n",
    "\n",
    "(b)  Producer expressly understands and agrees that if Fox-Warner breaches this Agreement, including, without limitation, a breach of its obli¬gations to make payments and provide statements hereunder, the damage, if any, caused Producer thereby will not be irreparable or otherwise suf¬ficient to entitle Producer to injunctive or other equit¬able relief.  Producer agrees that the rights and remedies available to Producer in any such event shall be strictly limited to the right, if any, to recover damages in an action at law, and Producer shall not be entitled by reason of any such breach to terminate or rescind this Agreement, to restrain Fox-Warner's exercise of any of Fox-Warner's rights here¬under, or to restrain the exhibition or exploitation of the Picture.  Before Licensor can declare a breach under this provision, it shall give Fox-Warner written notice specifying the nature of the breach, and Fox-Warner shall have thirty (30) days within which to effect a cure of such alleged breach.\n",
    "\"\"\"\n",
    "\n",
    "print(context)"
   ]
  },
  {
   "cell_type": "code",
   "execution_count": 11,
   "id": "ddf58a74",
   "metadata": {},
   "outputs": [],
   "source": [
    "question = 'Highlight the parts (if any) of this contract related to \"Cap On Liability\" that should be reviewed by a lawyer. Details: Does the contract include a cap on liability upon the breach of a party’s obligation? This includes time limitation for the counterparty to bring claims or maximum amount for recovery.'"
   ]
  },
  {
   "cell_type": "code",
   "execution_count": 12,
   "id": "accbfd88",
   "metadata": {},
   "outputs": [
    {
     "name": "stdout",
     "output_type": "stream",
     "text": [
      "Question:  Highlight the parts (if any) of this contract related to \"Cap On Liability\" that should be reviewed by a lawyer. Details: Does the contract include a cap on liability upon the breach of a party’s obligation? This includes time limitation for the counterparty to bring claims or maximum amount for recovery.\n",
      "\n",
      "Answer:   Producer agrees that the rights and remedies available to Producer in any such event shall be strictly limited to the right, if any, to recover damages in an action at law, and Producer shall not be entitled by reason of any such breach to terminate or rescind this Agreement, to restrain Fox-Warner's exercise of any of Fox-Warner's rights here¬under, or to restrain the exhibition or exploitation of the Picture.\n"
     ]
    }
   ],
   "source": [
    "single_prediction(question,context)"
   ]
  },
  {
   "cell_type": "markdown",
   "id": "f65b22f5",
   "metadata": {},
   "source": [
    "#### Example 3"
   ]
  },
  {
   "cell_type": "code",
   "execution_count": null,
   "id": "39f42e14",
   "metadata": {},
   "outputs": [],
   "source": [
    "context = \"\"\"14.\tFURTHER ASSURANCES:  Licensor shall execute and deliver to Fox-Warner promptly upon Fox-Warner's request, any other instruments or documents considered by Fox-Warner to be necessary or desirable to evidence, effectuate or confirm this Agreement, or any of the terms and conditions hereof.  Licensor shall provide Fox-Warner with a Laboratory Access Letter and a Transfer of Rights, substantially in the form of Exhibits \"B\" and \"C\" hereto, providing Fox-Warner with access to all film materials required for Delivery of the Picture.\n",
    "\n",
    "15.\tCALIFORNIA LAW:  This Agreement shall be construed and interpreted, and all questions as to performance determined in accordance with the laws of the State of California applicable to contracts executed and to be fully performed in the State of California.\n",
    "\n",
    " \n",
    "16.\tSEVERABILITY:  Nothing herein contained shall be construed to require the performance by either party of any act contrary to law or contrary to the rules and regulations of any guild having jurisdiction.  In the event of any conflict between any provision hereof and any law or governmental regulation or guild agreement, the latter shall prevail; but, in such event, the affected provisions of this Agreement shall be curtailed only to the extent necessary to bring them within the requirements of such law, regulation or guild agreement.\n",
    "\"\"\"\n",
    "\n",
    "print(context)"
   ]
  },
  {
   "cell_type": "code",
   "execution_count": null,
   "id": "5cc9efe7",
   "metadata": {},
   "outputs": [],
   "source": [
    "question = \"\"\"Highlight the parts (if any) of this contract related to \"Governing Law\" that should be reviewed by a lawyer. Details: Which state/country's law governs the interpretation of the contract?\"\"\""
   ]
  },
  {
   "cell_type": "code",
   "execution_count": null,
   "id": "a1dcb15a",
   "metadata": {},
   "outputs": [],
   "source": [
    "single_prediction(question,context)"
   ]
  },
  {
   "cell_type": "markdown",
   "id": "4dab5065",
   "metadata": {},
   "source": [
    "#### Example 4"
   ]
  },
  {
   "cell_type": "code",
   "execution_count": null,
   "id": "26c9407b",
   "metadata": {},
   "outputs": [],
   "source": [
    "context = \"\"\"Hot Air Productions, Inc.\n",
    "Mammoth Productions\n",
    "8436 Wilshire Boulevard\n",
    "Suite 730\n",
    "Los Angeles, CA 90048\n",
    "\n",
    "Re:\tRights Acquisition Agreement \n",
    "\"Sex, Lies and Politcs\"\n",
    "\n",
    "Gentlemen:\n",
    "\n",
    "This Cover Letter and its attachments constitute the Rights Acquisition Agreement which is entered into as of the 15th day of August, 2000, between F-W Entertainment N.V. (\"Distributor\") and Mammoth Productions (\"Mammoth\") and Hot Air Productions, Inc. (\"Hot Air\"). Distributor shall acquire from Hot Air, a motion picture produced by Hot Air under the conditions as spelled out in this Agreement.  The picture to be produced hereunder is \"Sex, Lies And Politics\" (the \"Picture\").  It is a provision of this Agreement, that upon Delivery of the Picture, Distributor shall pay to Hot Air an amount equal to the Acquisition Price as defined in paragraph 3., below. \n",
    "\n",
    "Whereas, Mammoth and Hot Air entered into a service agreement dated August 15, 2000 wherein Hot Air agreed to provide its services as the producer of the Picture, as an employee-for-hire and thereby fulfill Mammoth's production obligations with this Agreement.\n",
    "\"\"\""
   ]
  },
  {
   "cell_type": "code",
   "execution_count": null,
   "id": "e4dc2ac3",
   "metadata": {},
   "outputs": [],
   "source": [
    "question = '''Highlight the parts (if any) of this contract related to \"Agreement Date\" that should be reviewed by a lawyer. Details: The date of the contract'''"
   ]
  },
  {
   "cell_type": "code",
   "execution_count": null,
   "id": "00ed5a0f",
   "metadata": {},
   "outputs": [],
   "source": [
    "single_prediction(question,context)"
   ]
  },
  {
   "cell_type": "markdown",
   "id": "a72cc558",
   "metadata": {},
   "source": [
    "#### Example 5"
   ]
  },
  {
   "cell_type": "code",
   "execution_count": null,
   "id": "b2289140",
   "metadata": {},
   "outputs": [],
   "source": [
    "context = \"\"\":  If Owner wishes to assign, sell, license, or otherwise exploit the Reserved Rights after the expiration of the Holdback Period, Owner will first notify Purchaser of Owner's intention to do so and will negotiate in good faith with Purchaser for a period of thirty (30) days with respect thereto.  If Purchaser is unable or unwilling to acquire the Reserved Rights or if the parties are unable to reach agreement upon the terms of such acquisition after such period of negotiation, then Owner may enter into negotiations with a third party or parties with respect to such rights.  However, that if Owner shall receive a bona fide offer from a third party which Owner wishes to accept, Owner may not conclude any agreement with such third party in relation to the assignment, sale, license, or exploitation of the Reserved Rights without first re-offering the same by notice in writing to Purchaser upon the same terms and conditions as are proposed by the third party.  Purchaser shall, within thirty (30) days after receipt of such notice from Owner, have the right to enter into an agreement with Owner within that thirty (30) day period on the same terms contained in such notice; provided that Purchaser shall not be obliged to meet any terms which cannot be met as easily by one person as another.  In the event that Purchaser shall not wish to enter into such an agreement, Owner shall have the right to accept the bona fide offer aforesaid.  Owner shall not enter into an agreement with a third party for the acquisition of the Reserved Rights on terms different from those submitted to Purchaser in connection with the bona fide offer aforesaid, unless and until Owner shall have notified Purchaser in writing of the new bona fide offer on such different terms and Purchaser shall have the opportunity to enter into an agreement with Owner in accordance with the procedure set forth herein with reference to the new bona fide offer. \n",
    "\"\"\""
   ]
  },
  {
   "cell_type": "code",
   "execution_count": null,
   "id": "c9ecd724",
   "metadata": {},
   "outputs": [],
   "source": [
    "print(context)"
   ]
  },
  {
   "cell_type": "code",
   "execution_count": null,
   "id": "a48445d3",
   "metadata": {},
   "outputs": [],
   "source": [
    "question = \"\"\"Highlight the parts (if any) of this contract related to \"Rofr/Rofo/Rofn\" that should be reviewed by a lawyer. Details: Is there a clause granting one party a right of first refusal, right of first offer or right of first negotiation to purchase, license, market, or distribute equity interest, technology, assets, products or services?\"\"\""
   ]
  },
  {
   "cell_type": "code",
   "execution_count": null,
   "id": "f2696c6d",
   "metadata": {},
   "outputs": [],
   "source": [
    "single_prediction(question,context)"
   ]
  },
  {
   "cell_type": "code",
   "execution_count": null,
   "id": "2333feea",
   "metadata": {},
   "outputs": [],
   "source": []
  },
  {
   "cell_type": "markdown",
   "id": "9d4d8c72",
   "metadata": {},
   "source": [
    "## Long text\n",
    "\n",
    "What do we do when the lenght of text is greater than 512 tokens?  Recall that most BERT-esque models can only accept 512 tokens at once. This means we'll have to split our input into chunks and each chunk must not exceed 512 tokens in total.\n",
    "\n",
    "When working with Question Answering, it's crucial that each chunk follows this format:\n",
    "\n",
    "[CLS] question tokens [SEP] context tokens [SEP]\n",
    "\n",
    "So, we'll chunk the longer text, combine it with the question and evaluate all of the results.  Think of this like a slinding window approach for Q&A across the documents"
   ]
  },
  {
   "cell_type": "code",
   "execution_count": 24,
   "id": "cdd4b56b",
   "metadata": {},
   "outputs": [],
   "source": [
    "max_length = 384 # The maximum length of a feature (question and context)\n",
    "doc_stride = 128 # The authorized overlap between two part of the context when splitting it is needed."
   ]
  },
  {
   "cell_type": "markdown",
   "id": "28407d6b",
   "metadata": {},
   "source": [
    "Note that we never want to truncate the question, only the context, else the only_second truncation picked. Now, our tokenizer can automatically return us a list of features capped by a certain maximum length, with the overlap we talked above, we just have to tell it with return_overflowing_tokens=True and by passing the stride:"
   ]
  },
  {
   "cell_type": "code",
   "execution_count": 20,
   "id": "8875f4da",
   "metadata": {},
   "outputs": [],
   "source": [
    "question = \"\"\"Highlight the parts (if any) of this contract related to \"Agreement Date\" that should be reviewed by a lawyer. Details: The date of the contract\"\"\""
   ]
  },
  {
   "cell_type": "code",
   "execution_count": 21,
   "id": "73111a8b",
   "metadata": {},
   "outputs": [],
   "source": [
    "context = \"\"\"EXHIBIT 10.1   ENDORSEMENT AGREEMENT   This Endorsement Agreement (\\\"Agreement\\\") made October 30, 2017, between National Football League Alumni - Northern California Chapter (\\\"NFLA-NC\\\"), a charitable corporation organized under the laws of California, having its principal office at 1311 Madison Avenue, Redwood CA 94061; National Football League Alumni, Inc. (\\\"NFLA\\\"), a charitable corporation organized under the laws of Florida, having its principal office at 8000 Midlantic Drive, 130 S., Mount Laurel, NJ. 08054 and Food For Athletes, Inc. a corporation organized under the laws of California / Gridiron BioNutrients\\u2122, a corporation organized under the laws of Nevada having their principal office(s) at 1119 West 1st Ave., STE G, Spokane, WA 99201 (collectively the \\\"Company\\\").   RECITALS   A. Whereas, NFLA is a nationwide group of former National Football League players, coaches, and other employees whose mission is to serve, assist and inform players and their families. The association offers a variety of medical, financial and social programs to help members lead healthy, productive and connected lives.    B. Whereas, NFLA-NC is a local Chapter of the NFLA and supports the organizations \\\"Caring for Kids\\\" initiative through fundraising for youth-related charities.    C. The Company desires to obtain the rights to use the Pro Football Legends Logo of the NFLA in connection with the advertisement and promotion of certain of its products. An image of the Pro Football Legends Logo is depicted in Exhibit A.    D. The NFLA agrees to license such rights to the Company.   In consideration of the matters described above, and of the mutual benefits and obligations set forth in this Agreement, the parties agree as follows:   SECTION ONE. DEFINITIONS   As used in this Agreement, the following terms shall be defined as follows:   A. \\\"Contract Period\\\" shall mean that period of time of three (3) years commencing on November 1st, 2017 and concluding November 2nd, 2020, unless terminated sooner or extended as provided in this Agreement.    B. \\\"Contract Territory\\\" shall mean worldwide.    C. \\\"Contract Year\\\" shall mean each of the consecutive 12-month periods beginning on the effective date of the Agreement of the Contract Period.   1\\n\\nSource: GRIDIRON BIONUTRIENTS, INC., 8-K, 12/6/2017\\n\\n\\n\\n\\n\\n      D. \\\"Gross Sales\\\" shall mean total revenues, under generally accepted accounting principles, from sales of the Licensed Products, but does not include any revenue from sales, use or other transaction taxes, duties, handling, graphics, embroidery or shipping.    E. \\\"Net Sales\\\" shall mean Gross Sales less Product returns, trade discounts, samples, allowances, value added services, markdowns, customer charge backs and liquidation sales (substantially discounted and out of ordinary distribution channel) of Licensed Products.    F. \\\"Licensed Products\\\" shall mean BlackMP Living Water, BlackMP Concentrate, Zezel Probiotic Water, Zayin Sports Water, Gridiron MVP\\u2122 and Gridiron MVP\\u2122 Concentrate using the Pro Football Legends Logo on the Licensed Products' affixed labels, hang-tags or packaging. Other products of the Company may be added to the list of Licensed Products during the Contract Period by written amendment to this Agreement. All amendments to this Agreement must be signed by all parties to this Agreement.    G. \\\"Products\\\" shall mean goods manufactured, distributed or otherwise sold by the Company.    H. \\\"Licensed Marks\\\" shall mean in connection with the rights and benefits granted to Company hereunder as set forth in General Terms. Company may utilize only the logo and other trademarks listed on Exhibit A (the \\\"Licensed Marks\\\") during the Term and within the Territory solely in connection with advertising and promotional materials that identify Company as a sponsor of the Pro Football Legends, provided that NFLA first approves all such uses in writing. Any use of the Licensed Marks will bear the trademark and/or copyright notices required by NFLA to facilitate its trademark protection program and will be a \\\"work made for hire\\\" for NFLA. All of Company's uses of the Licensed Marks shall inure to the benefit of the NFLA. After the expiration or termination of this Agreement, Company will refrain from further use of the Licensed Marks used pursuant to this Agreement. Company will not sublicense pass-through or otherwise grant to any third parties the rights granted to Company hereunder without the NFLA prior written consent, including but not limited to the right to use the Licensed Marks. Company acknowledges that this Agreement does not grant Company any rights with respect to any other NFLA Marks (defined below), the name, likeness, signature, or other attributes of any NFLA member or other individual, or any audio or video of any NFLA event. Company agrees that the quality of all services offered by Company under the Licensed Marks will conform to Licensor's written quality control standards and that Company will annually provide to NFLA samples of any advertising and marketing materials that use the Licensed Marks.    I. \\\"Trademark Protection\\\" for the purposes of this agreement, \\\"NFLA MARKS\\\" means the names, symbols, emblems, designs, and colors of the NFLA, including but not limited to the Licensed Marks. Company acknowledges and agrees that all right, title and interest in and to the NFLA marks belongs to the NFLA. Company agrees that NFLA marks possesses a special, unique and extraordinary character that makes difficult assessment of the monetary damages that would be sustained by their unauthorized use. Company recognizes that irreparable injury would be caused by unauthorized use of any of the NFLA marks, and agrees that injunctive and other equitable relief would be appropriate in the event of such unauthorized use, and that such remedy would not be exclusive of other legal remedies available to NFLA. Company recognizes that great value and goodwill associated with NFLA marks belongs to the NFLA and that the NFLA marks have secondary meaning.   2\\n\\nSource: GRIDIRON BIONUTRIENTS, INC., 8-K, 12/6/2017\\n\\n\\n\\n\\n\\n      J. \\\"NFLA Identification\\\" means the right to use, subject to the provisions of this Agreement, the NFLA name, and Pro Football Legends Logo and any other means of endorsement by the NFLA used in connection with the advertisement and promotion of the Company and the Licensed Products.    K. \\\"One (1) Unit\\\" shall represent $0.05 (1 Unit = $0.05USD) for purposes of defining the monetary donation allocation of the Company's sold products to the NFLA-NC, specific to the terms of this Agreement. A Licensed Product in no circumstance shall be valued at less than one (1) full Unit and under no circumstance shall a Unit be fractionalized (if required rounded up to the nearest whole number). SECTION TWO. GRANT OF RIGHTS   In consideration of the remuneration to be paid to the NFLA-NC pursuant to this Agreement, the NFLA grants to Company and to its authorized distributors and sublicenses the right and license during the Contract Period to use the NFLA Identification solely in connection with the advertisement, marketing and promotion of the Products within the Contract Territory as set forth in this Agreement. NFLA agrees not to grant the right to use the NFLAs Identification to anyone other than Company in connection with the advertisement and promotion of Products. It is understood that Company, its authorized distributors and sublicenses may not use the name of the NFLA in connection with any items for sale or resale, other than the Products as specified in this Agreement. The foregoing rights to use the name of the NFLA is limited to television, radio and print advertising, advertising published over the Internet (provided that such material is limited to advertising or Product promotion only), public relations and marketing materials, point-of-sale displays, free standing inserts, videos shown to customers and consumers, catalogs for customers and consumers, direct mail (including e-mail) and billboards. Company shall ensure that all uses of the name of the NFLA comply with applicable law.   SECTION THREE. PRIOR APPROVAL   Company agrees that no use of the name of the NFLA Identification nor any item used in connection with the name of NFLA Identification (including any Licensed Product) will be made under this Agreement unless and until the same is approved by the NFLA. The NFLA agrees that any material, advertising or otherwise, submitted for approval as provided in this section may be deemed by Company to have been approved under this section if the same is not disapproved in writing within ten (10) business days after receipt of the material. The NFLA agrees that it will reasonably cooperate with Company and that any material submitted under this section will not be unreasonably disapproved and, if it is disapproved, that Company will be advised of the specific grounds for disapproval. If Company desires immediate approval of advertising material, Company shall have the right to directly contact the NFLA's authorized agent to obtain such approval. Company agrees to protect, indemnify and hold harmless the NFLA and their authorized agents, or any of them, from and against any and all expenses, damages, claims, suits, actions, judgments and costs whatsoever, arising out of, or in any way connected with any advertising material furnished by, or on behalf of Company, except with respect to any inaccurate information furnished by them expressly for use in such advertising.   3\\n\\nSource: GRIDIRON BIONUTRIENTS, INC., 8-K, 12/6/2017\\n\\n\\n\\n\\n\\n      SECTION FOUR. REMUNERATION   In consideration of the endorsement rights granted under this Agreement, Company shall provide the following remuneration:   A. An initial one-time license fee of $35,000.00USD (Thirty-Five Thousand Dollars) payable to the NFLA-NC;    B. A one-time $10,000USD (Ten Thousand Dollars) promotional fee payable to NFLA. The $10,000 promotional fee shall be payable in four (4) quarterly payments beginning in 2018: Q1 ($2500); Q2 ($2500); Q3 ($2500); Q4 ($2500). Each payment shall be delivered by no later than the 10t h day of the first month of each quarter.    C. A *donation of $0.05 per Unit sold of Licensed Products within the Contract Territory payable to the **NFL Alumni Northern California Chapter. Donated amounts will be allocated and dispersed to the Northern California Chapter beginning on the first full quarter [three (3) month period] of the Agreement and continue on a quarterly basis thereafter for the term of this Agreement. Where the following per Unit conversion shall apply for the term of this Agreement:\\n\\n a. (1) Bottle of BlackMP LivingWater = 1 Unit\\n\\n b. (1 )  4oz  bo t t l e  o f  BlackMPConcentrate = 30 Units\\n\\n c. (1) Bottle of Zezel ProbioticWater = 1 Unit\\n\\n d. (1) Bottle of Zayin Sports Water = 1 Unit  e. (1) Bottle Gridiron MVP\\u2122 Water= 1 Unit\\n\\n f. (1) 4oz bottle of Gridiron MVP\\u2122Concentrate = 30 Units\\n\\n _____________    * The NFLA-NC will donate 15% of the above described proceeds to the NFLA.\\n\\n ** The Company will provide to the NFLA-NC upon request the most recent quarterly sales report of the Company'sLicensed Products.   D. Product Commitment. Up to Two-thousand (2,000) 4oz bottles of BlackMP Living Water Concentrate to be used as a \\\"value appeal\\\"  for  annual  membership renewal  (up to  a  $220,000 value)  a l located to  the  NFLA and provide a combination/assortment of bottle water to NFLA-NC for display and use though out the term of the Agreement at the NFLA-NC facilities. The Company agrees to pay for all shipping costs of the Products under the Product Commitment to the fulfillment center, currently Sharp Marketing, located in Fort Lauderdale, FL and to any subsequent fulfillment center that is contracted by the NFLA to provide distribution to existing and new NFLA members.    E. Affiliated Partnership Commitment. Company agrees to facilitate and provide in good-faith their affiliated partnership discount program benefits and access to applicable health and wellness research, information and protocols to NFLA members (Current partnership benefit includes providing NFLA members with a 15% discount on all Kraski's Nutrition Real Products For Real People); and    F. Marketing Commitment. Company agrees that it will continue in good-faith to produce and market Licensed Products in the same manner that it is currently producing and marketing such items as of September 2017, unless Company and the NFLA/NFLA-NC believe it is not commercially reasonable to continue to produce and market the Licensed Products.   4\\n\\nSource: GRIDIRON BIONUTRIENTS, INC., 8-K, 12/6/2017\\n\\n\\n\\n\\n\\n      SECTION FIVE. SERVICES OF COMPANY   A. Resource Call Center. For the term of this Agreement Company shall provide a call in center whereby NFLA members can call for information, ask questions, and consult with Company's staff on details and specifics of the Company's Products and replenishment program.   \"\"\""
   ]
  },
  {
   "cell_type": "code",
   "execution_count": 25,
   "id": "ccc83b8c",
   "metadata": {},
   "outputs": [],
   "source": [
    "tokenized_example = tokenizer(\n",
    "    question,\n",
    "    context,\n",
    "    max_length=max_length,\n",
    "    truncation=\"only_second\",\n",
    "    return_overflowing_tokens=True,\n",
    "    stride=doc_stride)"
   ]
  },
  {
   "cell_type": "code",
   "execution_count": 26,
   "id": "bfd79127",
   "metadata": {
    "collapsed": true,
    "jupyter": {
     "outputs_hidden": true
    }
   },
   "outputs": [
    {
     "data": {
      "text/plain": [
       "{'input_ids': [[0, 18522, 6991, 5, 1667, 36, 1594, 143, 43, 9, 42, 1355, 1330, 7, 22, 19897, 43563, 10566, 113, 14, 197, 28, 7123, 30, 10, 2470, 4, 10574, 35, 20, 1248, 9, 5, 1355, 2, 2, 6725, 725, 8863, 2068, 158, 4, 134, 1437, 1437, 34588, 18347, 20944, 5680, 4629, 20944, 1437, 1437, 152, 4680, 27209, 1757, 8759, 6697, 19897, 43563, 8070, 156, 779, 389, 6, 193, 6, 227, 496, 3910, 815, 726, 28709, 111, 2874, 886, 8749, 6697, 12048, 250, 12, 6905, 16844, 10, 13615, 12772, 5798, 223, 5, 2074, 9, 886, 6, 519, 63, 5402, 558, 23, 508, 1225, 6370, 2666, 6, 1211, 1845, 5267, 361, 1749, 5606, 131, 496, 3910, 815, 726, 28709, 6, 603, 4, 6697, 12048, 250, 16844, 10, 13615, 12772, 5798, 223, 5, 2074, 9, 1261, 6, 519, 63, 5402, 558, 23, 38433, 4079, 462, 26970, 3936, 6, 8325, 208, 482, 5455, 22729, 6, 10585, 4, 321, 2940, 4283, 8, 3652, 286, 27417, 293, 6, 603, 4, 10, 12772, 5798, 223, 5, 2074, 9, 886, 1589, 22665, 11680, 12334, 43977, 44067, 13445, 6, 10, 12772, 5798, 223, 5, 2074, 9, 5077, 519, 49, 5402, 558, 1640, 29, 43, 23, 365, 1646, 580, 112, 620, 4597, 482, 26538, 272, 6, 27410, 6, 9342, 6705, 16295, 36, 32177, 6608, 5, 22, 21960, 18653, 1437, 1437, 14895, 2068, 19569, 1437, 1437, 83, 4, 19563, 6, 1485, 250, 16, 10, 5807, 333, 9, 320, 496, 3910, 815, 472, 6, 4055, 6, 8, 97, 1321, 1060, 2511, 16, 7, 1807, 6, 3991, 8, 6296, 472, 8, 49, 1232, 4, 20, 5259, 1523, 10, 3143, 9, 1131, 6, 613, 8, 592, 1767, 7, 244, 453, 483, 2245, 6, 8737, 8, 3665, 1074, 4, 1437, 1437, 1437, 163, 4, 19563, 6, 1485, 250, 12, 6905, 16, 10, 400, 8749, 9, 5, 1485, 250, 8, 4548, 5, 2665, 22, 347, 5867, 13, 9151, 113, 3893, 149, 8023, 13, 2719, 12, 3368, 12237, 4, 1437, 1437, 1437, 230, 4, 20, 1260, 22215, 7, 6925, 5, 659, 7, 304, 5, 1698, 3910, 24322, 38732, 9, 5, 1485, 250, 11, 2748, 19, 5, 6859, 8, 6174, 9, 1402, 9, 63, 785, 4, 660, 2274, 9, 5, 1698, 3910, 24322, 38732, 16, 21520, 11, 32674, 83, 4, 1437, 1437, 1437, 211, 4, 20, 1485, 250, 11687, 7, 4385, 215, 2], [0, 18522, 6991, 5, 1667, 36, 1594, 143, 43, 9, 42, 1355, 1330, 7, 22, 19897, 43563, 10566, 113, 14, 197, 28, 7123, 30, 10, 2470, 4, 10574, 35, 20, 1248, 9, 5, 1355, 2, 2, 472, 8, 49, 1232, 4, 20, 5259, 1523, 10, 3143, 9, 1131, 6, 613, 8, 592, 1767, 7, 244, 453, 483, 2245, 6, 8737, 8, 3665, 1074, 4, 1437, 1437, 1437, 163, 4, 19563, 6, 1485, 250, 12, 6905, 16, 10, 400, 8749, 9, 5, 1485, 250, 8, 4548, 5, 2665, 22, 347, 5867, 13, 9151, 113, 3893, 149, 8023, 13, 2719, 12, 3368, 12237, 4, 1437, 1437, 1437, 230, 4, 20, 1260, 22215, 7, 6925, 5, 659, 7, 304, 5, 1698, 3910, 24322, 38732, 9, 5, 1485, 250, 11, 2748, 19, 5, 6859, 8, 6174, 9, 1402, 9, 63, 785, 4, 660, 2274, 9, 5, 1698, 3910, 24322, 38732, 16, 21520, 11, 32674, 83, 4, 1437, 1437, 1437, 211, 4, 20, 1485, 250, 11687, 7, 4385, 215, 659, 7, 5, 1260, 4, 1437, 1437, 96, 6077, 9, 5, 3510, 1602, 1065, 6, 8, 9, 5, 7628, 1795, 8, 9333, 278, 7264, 11, 42, 8759, 6, 5, 1799, 2854, 25, 3905, 35, 1437, 1437, 39274, 19551, 4, 5885, 25623, 2068, 11654, 1437, 1437, 287, 341, 11, 42, 8759, 6, 5, 511, 1110, 5658, 28, 6533, 25, 3905, 35, 1437, 1437, 83, 4, 22, 43218, 18365, 113, 5658, 1266, 14, 675, 9, 86, 9, 130, 36, 246, 43, 107, 7034, 17725, 15, 759, 112, 620, 6, 193, 8, 23380, 759, 132, 1187, 6, 2760, 6, 3867, 18450, 10027, 50, 3112, 25, 1286, 11, 42, 8759, 4, 1437, 1437, 1437, 163, 4, 22, 43218, 23463, 113, 5658, 1266, 3612, 4, 1437, 1437, 1437, 230, 4, 22, 43218, 2041, 113, 5658, 1266, 349, 9, 5, 3396, 316, 12, 2151, 5788, 1786, 15, 5, 2375, 1248, 9, 5, 8759, 9, 5, 15739, 18365, 4, 1437, 1437, 112, 50118, 50118, 7061, 35, 8837, 2688, 5216, 2191, 163, 7744, 6972, 6934, 29203, 6, 18012, 482, 290, 12, 530, 6, 316, 73, 401, 73, 3789, 50140, 50140, 50140, 1437, 1437, 1437, 1437, 1437, 211, 4, 22, 534, 14500, 4706, 113, 5658, 1266, 746, 3883, 6, 223, 3489, 3903, 6846, 7797, 6, 31, 647, 9, 5, 43345, 9467, 6, 53, 473, 45, 680, 143, 903, 2], [0, 18522, 6991, 5, 1667, 36, 1594, 143, 43, 9, 42, 1355, 1330, 7, 22, 19897, 43563, 10566, 113, 14, 197, 28, 7123, 30, 10, 2470, 4, 10574, 35, 20, 1248, 9, 5, 1355, 2, 2, 132, 1187, 6, 2760, 6, 3867, 18450, 10027, 50, 3112, 25, 1286, 11, 42, 8759, 4, 1437, 1437, 1437, 163, 4, 22, 43218, 23463, 113, 5658, 1266, 3612, 4, 1437, 1437, 1437, 230, 4, 22, 43218, 2041, 113, 5658, 1266, 349, 9, 5, 3396, 316, 12, 2151, 5788, 1786, 15, 5, 2375, 1248, 9, 5, 8759, 9, 5, 15739, 18365, 4, 1437, 1437, 112, 50118, 50118, 7061, 35, 8837, 2688, 5216, 2191, 163, 7744, 6972, 6934, 29203, 6, 18012, 482, 290, 12, 530, 6, 316, 73, 401, 73, 3789, 50140, 50140, 50140, 1437, 1437, 1437, 1437, 1437, 211, 4, 22, 534, 14500, 4706, 113, 5658, 1266, 746, 3883, 6, 223, 3489, 3903, 6846, 7797, 6, 31, 647, 9, 5, 43345, 9467, 6, 53, 473, 45, 680, 143, 903, 31, 647, 6, 304, 50, 97, 2676, 2556, 6, 5941, 6, 5516, 6, 12774, 6, 26370, 5326, 219, 50, 6738, 4, 1437, 1437, 1437, 381, 4, 22, 15721, 4706, 113, 5658, 1266, 8675, 4706, 540, 7702, 2886, 6, 721, 12018, 6, 7931, 6, 23885, 6, 923, 355, 518, 6, 2458, 20650, 6, 2111, 1427, 7314, 8, 6936, 1258, 647, 36, 10936, 20034, 11416, 17533, 8, 66, 9, 7945, 3854, 4238, 43, 9, 43345, 9467, 4, 1437, 1437, 1437, 274, 4, 22, 47316, 25144, 9467, 113, 5658, 1266, 1378, 7629, 10427, 3201, 6, 1378, 7629, 37823, 7954, 6, 525, 5841, 523, 23440, 26842, 3201, 6, 525, 857, 179, 1847, 3201, 6, 22665, 11680, 9133, 13445, 8, 22665, 11680, 9133, 13445, 37823, 7954, 634, 5, 1698, 3910, 24322, 38732, 15, 5, 43345, 9467, 108, 11129, 24194, 14105, 6, 6713, 12, 35103, 50, 9805, 4, 1944, 785, 9, 5, 1260, 189, 28, 355, 7, 5, 889, 9, 43345, 9467, 148, 5, 15739, 18365, 30, 1982, 8322, 7, 42, 8759, 4, 404, 13037, 7, 42, 8759, 531, 28, 1419, 30, 70, 1799, 7, 42, 8759, 4, 1437, 1437, 1437, 272, 4, 22, 47559, 113, 5658, 1266, 3057, 13918, 6, 7664, 50, 3680, 1088, 30, 5, 1260, 4, 1437, 1437, 1437, 289, 4, 22, 47316, 25144, 19793, 113, 5658, 1266, 11, 2748, 19, 5, 2], [0, 18522, 6991, 5, 1667, 36, 1594, 143, 43, 9, 42, 1355, 1330, 7, 22, 19897, 43563, 10566, 113, 14, 197, 28, 7123, 30, 10, 2470, 4, 10574, 35, 20, 1248, 9, 5, 1355, 2, 2, 6, 1378, 7629, 37823, 7954, 6, 525, 5841, 523, 23440, 26842, 3201, 6, 525, 857, 179, 1847, 3201, 6, 22665, 11680, 9133, 13445, 8, 22665, 11680, 9133, 13445, 37823, 7954, 634, 5, 1698, 3910, 24322, 38732, 15, 5, 43345, 9467, 108, 11129, 24194, 14105, 6, 6713, 12, 35103, 50, 9805, 4, 1944, 785, 9, 5, 1260, 189, 28, 355, 7, 5, 889, 9, 43345, 9467, 148, 5, 15739, 18365, 30, 1982, 8322, 7, 42, 8759, 4, 404, 13037, 7, 42, 8759, 531, 28, 1419, 30, 70, 1799, 7, 42, 8759, 4, 1437, 1437, 1437, 272, 4, 22, 47559, 113, 5658, 1266, 3057, 13918, 6, 7664, 50, 3680, 1088, 30, 5, 1260, 4, 1437, 1437, 1437, 289, 4, 22, 47316, 25144, 19793, 113, 5658, 1266, 11, 2748, 19, 5, 659, 8, 1795, 4159, 7, 1260, 259, 5087, 25, 278, 7264, 11, 1292, 20374, 4, 1260, 189, 16085, 129, 5, 6655, 8, 97, 23348, 3147, 15, 32674, 83, 36, 627, 22, 47316, 25144, 19793, 8070, 148, 5, 25569, 8, 624, 5, 23463, 9382, 11, 2748, 19, 4579, 8, 14634, 3183, 14, 3058, 1260, 25, 10, 9242, 9, 5, 1698, 3910, 24322, 6, 1286, 14, 1485, 250, 78, 28634, 70, 215, 2939, 11, 2410, 4, 5053, 304, 9, 5, 43345, 19793, 40, 4649, 5, 8442, 8, 73, 368, 4857, 16081, 1552, 30, 1485, 250, 7, 9666, 63, 8442, 2591, 586, 8, 40, 28, 10, 22, 6014, 156, 13, 6198, 113, 13, 1485, 250, 4, 404, 9, 1260, 18, 2939, 9, 5, 43345, 19793, 5658, 11, 2407, 7, 5, 1796, 9, 5, 1485, 250, 4, 572, 5, 24833, 50, 17829, 9, 42, 8759, 6, 1260, 40, 19525, 31, 617, 304, 9, 5, 43345, 19793, 341, 22918, 7, 42, 8759, 4, 1260, 40, 45, 2849, 46344, 1323, 12, 11672, 50, 3680, 4470, 7, 143, 371, 1799, 5, 659, 4159, 7, 1260, 259, 5087, 396, 5, 1485, 250, 2052, 1982, 7132, 6, 217, 53, 45, 1804, 7, 5, 235, 7, 304, 5, 43345, 19793, 4, 1260, 17748, 14, 42, 8759, 473, 45, 4470, 1260, 143, 659, 19, 2098, 7, 143, 97, 1485, 250, 2], [0, 18522, 6991, 5, 1667, 36, 1594, 143, 43, 9, 42, 1355, 1330, 7, 22, 19897, 43563, 10566, 113, 14, 197, 28, 7123, 30, 10, 2470, 4, 10574, 35, 20, 1248, 9, 5, 1355, 2, 2, 1485, 250, 7, 9666, 63, 8442, 2591, 586, 8, 40, 28, 10, 22, 6014, 156, 13, 6198, 113, 13, 1485, 250, 4, 404, 9, 1260, 18, 2939, 9, 5, 43345, 19793, 5658, 11, 2407, 7, 5, 1796, 9, 5, 1485, 250, 4, 572, 5, 24833, 50, 17829, 9, 42, 8759, 6, 1260, 40, 19525, 31, 617, 304, 9, 5, 43345, 19793, 341, 22918, 7, 42, 8759, 4, 1260, 40, 45, 2849, 46344, 1323, 12, 11672, 50, 3680, 4470, 7, 143, 371, 1799, 5, 659, 4159, 7, 1260, 259, 5087, 396, 5, 1485, 250, 2052, 1982, 7132, 6, 217, 53, 45, 1804, 7, 5, 235, 7, 304, 5, 43345, 19793, 4, 1260, 17748, 14, 42, 8759, 473, 45, 4470, 1260, 143, 659, 19, 2098, 7, 143, 97, 1485, 250, 19793, 36, 30764, 874, 238, 5, 766, 6, 33699, 6, 6543, 6, 50, 97, 16763, 9, 143, 1485, 250, 919, 50, 97, 1736, 6, 50, 143, 6086, 50, 569, 9, 143, 1485, 250, 515, 4, 1260, 11687, 14, 5, 1318, 9, 70, 518, 1661, 30, 1260, 223, 5, 43345, 19793, 40, 18627, 7, 24154, 35354, 18, 1982, 1318, 797, 2820, 8, 14, 1260, 40, 6333, 694, 7, 1485, 250, 7931, 9, 143, 4579, 8, 2474, 3183, 14, 304, 5, 43345, 19793, 4, 1437, 1437, 1437, 38, 4, 22, 12667, 33059, 3994, 5922, 113, 13, 5, 6216, 9, 42, 1288, 6, 22, 12048, 250, 15231, 104, 113, 839, 5, 2523, 6, 19830, 6, 2841, 42216, 6, 7191, 6, 8, 8089, 9, 5, 1485, 250, 6, 217, 53, 45, 1804, 7, 5, 43345, 19793, 4, 1260, 17748, 8, 11687, 14, 70, 235, 6, 1270, 8, 773, 11, 8, 7, 5, 1485, 250, 4863, 12918, 7, 5, 1485, 250, 4, 1260, 11687, 14, 1485, 250, 4863, 28011, 10, 780, 6, 2216, 8, 7116, 2048, 14, 817, 1202, 4990, 9, 5, 5775, 8357, 14, 74, 28, 5232, 30, 49, 18893, 304, 4, 1260, 15637, 14, 17617, 30788, 1356, 74, 28, 1726, 30, 18893, 304, 9, 143, 9, 5, 1485, 250, 4863, 6, 8, 11687, 14, 30272, 879, 32740, 8, 97, 27083, 3500, 74, 2], [0, 18522, 6991, 5, 1667, 36, 1594, 143, 43, 9, 42, 1355, 1330, 7, 22, 19897, 43563, 10566, 113, 14, 197, 28, 7123, 30, 10, 2470, 4, 10574, 35, 20, 1248, 9, 5, 1355, 2, 2, 5922, 113, 13, 5, 6216, 9, 42, 1288, 6, 22, 12048, 250, 15231, 104, 113, 839, 5, 2523, 6, 19830, 6, 2841, 42216, 6, 7191, 6, 8, 8089, 9, 5, 1485, 250, 6, 217, 53, 45, 1804, 7, 5, 43345, 19793, 4, 1260, 17748, 8, 11687, 14, 70, 235, 6, 1270, 8, 773, 11, 8, 7, 5, 1485, 250, 4863, 12918, 7, 5, 1485, 250, 4, 1260, 11687, 14, 1485, 250, 4863, 28011, 10, 780, 6, 2216, 8, 7116, 2048, 14, 817, 1202, 4990, 9, 5, 5775, 8357, 14, 74, 28, 5232, 30, 49, 18893, 304, 4, 1260, 15637, 14, 17617, 30788, 1356, 74, 28, 1726, 30, 18893, 304, 9, 143, 9, 5, 1485, 250, 4863, 6, 8, 11687, 14, 30272, 879, 32740, 8, 97, 27083, 3500, 74, 28, 3901, 11, 5, 515, 9, 215, 18893, 304, 6, 8, 14, 215, 20687, 74, 45, 28, 5451, 9, 97, 1030, 26552, 577, 7, 1485, 250, 4, 1260, 15637, 14, 372, 923, 8, 20061, 3059, 19, 1485, 250, 4863, 12918, 7, 5, 1485, 250, 8, 14, 5, 1485, 250, 4863, 33, 5929, 3099, 4, 1437, 1437, 132, 50118, 50118, 7061, 35, 8837, 2688, 5216, 2191, 163, 7744, 6972, 6934, 29203, 6, 18012, 482, 290, 12, 530, 6, 316, 73, 401, 73, 3789, 50140, 50140, 50140, 1437, 1437, 1437, 1437, 1437, 344, 4, 22, 12048, 250, 36309, 113, 839, 5, 235, 7, 304, 6, 2087, 7, 5, 7668, 9, 42, 8759, 6, 5, 1485, 250, 766, 6, 8, 1698, 3910, 24322, 38732, 8, 143, 97, 839, 9, 13746, 30, 5, 1485, 250, 341, 11, 2748, 19, 5, 6859, 8, 6174, 9, 5, 1260, 8, 5, 43345, 9467, 4, 1437, 1437, 1437, 229, 4, 22, 3762, 36, 134, 43, 7545, 113, 5658, 3594, 68, 288, 4, 2546, 36, 134, 7545, 5457, 68, 288, 4, 2546, 14505, 43, 13, 6216, 9, 17032, 5, 5775, 7096, 12278, 9, 5, 1260, 18, 1088, 785, 7, 5, 1485, 250, 12, 6905, 6, 2167, 7, 5, 1110, 9, 42, 8759, 4, 83, 43345, 7702, 11, 117, 24804, 5658, 28, 2328, 23, 540, 87, 65, 36, 134, 2], [0, 18522, 6991, 5, 1667, 36, 1594, 143, 43, 9, 42, 1355, 1330, 7, 22, 19897, 43563, 10566, 113, 14, 197, 28, 7123, 30, 10, 2470, 4, 10574, 35, 20, 1248, 9, 5, 1355, 2, 2, 4, 22, 12048, 250, 36309, 113, 839, 5, 235, 7, 304, 6, 2087, 7, 5, 7668, 9, 42, 8759, 6, 5, 1485, 250, 766, 6, 8, 1698, 3910, 24322, 38732, 8, 143, 97, 839, 9, 13746, 30, 5, 1485, 250, 341, 11, 2748, 19, 5, 6859, 8, 6174, 9, 5, 1260, 8, 5, 43345, 9467, 4, 1437, 1437, 1437, 229, 4, 22, 3762, 36, 134, 43, 7545, 113, 5658, 3594, 68, 288, 4, 2546, 36, 134, 7545, 5457, 68, 288, 4, 2546, 14505, 43, 13, 6216, 9, 17032, 5, 5775, 7096, 12278, 9, 5, 1260, 18, 1088, 785, 7, 5, 1485, 250, 12, 6905, 6, 2167, 7, 5, 1110, 9, 42, 8759, 4, 83, 43345, 7702, 11, 117, 24804, 5658, 28, 2328, 23, 540, 87, 65, 36, 134, 43, 455, 7545, 8, 223, 117, 24804, 5658, 10, 7545, 28, 13484, 337, 1538, 36, 1594, 1552, 14439, 62, 7, 5, 14712, 1086, 346, 322, 39274, 34302, 4, 8837, 11088, 3243, 248, 26686, 1437, 1437, 96, 6077, 9, 5, 6398, 25131, 1258, 7, 28, 1199, 7, 5, 1485, 250, 12, 6905, 22918, 7, 42, 8759, 6, 5, 1485, 250, 7752, 7, 1260, 8, 7, 63, 8672, 14806, 8, 2849, 5895, 21526, 5, 235, 8, 4385, 148, 5, 15739, 18365, 7, 304, 5, 1485, 250, 36309, 9382, 11, 2748, 19, 5, 6859, 6, 2474, 8, 6174, 9, 5, 9467, 624, 5, 15739, 23463, 25, 278, 7264, 11, 42, 8759, 4, 1485, 250, 11687, 45, 7, 4470, 5, 235, 7, 304, 5, 1485, 1620, 36309, 7, 1268, 97, 87, 1260, 11, 2748, 19, 5, 6859, 8, 6174, 9, 9467, 4, 85, 16, 6238, 14, 1260, 6, 63, 8672, 14806, 8, 2849, 5895, 21526, 189, 45, 304, 5, 766, 9, 5, 1485, 250, 11, 2748, 19, 143, 1964, 13, 1392, 50, 5032, 1627, 6, 97, 87, 5, 9467, 25, 17966, 11, 42, 8759, 4, 20, 37902, 659, 7, 304, 5, 766, 9, 5, 1485, 250, 16, 1804, 7, 2384, 6, 3188, 8, 5780, 4579, 6, 4579, 1027, 81, 5, 3742, 36, 39355, 14, 215, 1468, 16, 1804, 7, 4579, 50, 7702, 6174, 2], [0, 18522, 6991, 5, 1667, 36, 1594, 143, 43, 9, 42, 1355, 1330, 7, 22, 19897, 43563, 10566, 113, 14, 197, 28, 7123, 30, 10, 2470, 4, 10574, 35, 20, 1248, 9, 5, 1355, 2, 2, 6, 2474, 8, 6174, 9, 5, 9467, 624, 5, 15739, 23463, 25, 278, 7264, 11, 42, 8759, 4, 1485, 250, 11687, 45, 7, 4470, 5, 235, 7, 304, 5, 1485, 1620, 36309, 7, 1268, 97, 87, 1260, 11, 2748, 19, 5, 6859, 8, 6174, 9, 9467, 4, 85, 16, 6238, 14, 1260, 6, 63, 8672, 14806, 8, 2849, 5895, 21526, 189, 45, 304, 5, 766, 9, 5, 1485, 250, 11, 2748, 19, 143, 1964, 13, 1392, 50, 5032, 1627, 6, 97, 87, 5, 9467, 25, 17966, 11, 42, 8759, 4, 20, 37902, 659, 7, 304, 5, 766, 9, 5, 1485, 250, 16, 1804, 7, 2384, 6, 3188, 8, 5780, 4579, 6, 4579, 1027, 81, 5, 3742, 36, 39355, 14, 215, 1468, 16, 1804, 7, 4579, 50, 7702, 6174, 129, 238, 285, 3115, 8, 2474, 3183, 6, 477, 12, 1116, 12, 25248, 8612, 6, 481, 2934, 41470, 6, 3424, 2343, 7, 916, 8, 2360, 6, 19111, 29, 13, 916, 8, 2360, 6, 2228, 7107, 36, 8529, 364, 12, 6380, 43, 8, 30792, 4, 1260, 5658, 1306, 14, 70, 2939, 9, 5, 766, 9, 5, 1485, 250, 8096, 19, 10404, 488, 4, 1437, 1437, 39274, 39451, 4, 4729, 31259, 1480, 35654, 2118, 1437, 1437, 1260, 11687, 14, 117, 304, 9, 5, 766, 9, 5, 1485, 250, 36309, 3486, 143, 6880, 341, 11, 2748, 19, 5, 766, 9, 1485, 250, 36309, 36, 8529, 143, 43345, 7702, 43, 40, 28, 156, 223, 42, 8759, 3867, 8, 454, 5, 276, 16, 2033, 30, 5, 1485, 250, 4, 20, 1485, 250, 11687, 14, 143, 1468, 6, 4579, 50, 3680, 6, 4813, 13, 2846, 25, 1286, 11, 42, 2810, 189, 28, 7661, 30, 1260, 7, 33, 57, 2033, 223, 42, 2810, 114, 5, 276, 16, 45, 36631, 5202, 11, 2410, 624, 2724, 36, 698, 43, 265, 360, 71, 18245, 9, 5, 1468, 4, 20, 1485, 250, 11687, 14, 24, 40, 15646, 11866, 19, 1260, 8, 14, 143, 1468, 4813, 223, 42, 2810, 40, 45, 28, 21153, 12231, 4735, 36631, 5202, 8, 6, 114, 24, 16, 36631, 5202, 6, 14, 1260, 40, 28, 5578, 9, 2], [0, 18522, 6991, 5, 1667, 36, 1594, 143, 43, 9, 42, 1355, 1330, 7, 22, 19897, 43563, 10566, 113, 14, 197, 28, 7123, 30, 10, 2470, 4, 10574, 35, 20, 1248, 9, 5, 1355, 2, 2, 11, 2748, 19, 5, 766, 9, 1485, 250, 36309, 36, 8529, 143, 43345, 7702, 43, 40, 28, 156, 223, 42, 8759, 3867, 8, 454, 5, 276, 16, 2033, 30, 5, 1485, 250, 4, 20, 1485, 250, 11687, 14, 143, 1468, 6, 4579, 50, 3680, 6, 4813, 13, 2846, 25, 1286, 11, 42, 2810, 189, 28, 7661, 30, 1260, 7, 33, 57, 2033, 223, 42, 2810, 114, 5, 276, 16, 45, 36631, 5202, 11, 2410, 624, 2724, 36, 698, 43, 265, 360, 71, 18245, 9, 5, 1468, 4, 20, 1485, 250, 11687, 14, 24, 40, 15646, 11866, 19, 1260, 8, 14, 143, 1468, 4813, 223, 42, 2810, 40, 45, 28, 21153, 12231, 4735, 36631, 5202, 8, 6, 114, 24, 16, 36631, 5202, 6, 14, 1260, 40, 28, 5578, 9, 5, 2167, 5619, 13, 32129, 4, 318, 1260, 22215, 3169, 2846, 9, 4579, 1468, 6, 1260, 5658, 33, 5, 235, 7, 2024, 1511, 5, 1485, 250, 18, 8672, 2936, 7, 6925, 215, 2846, 4, 1260, 11687, 7, 1744, 6, 40654, 4591, 8, 946, 27243, 5, 1485, 250, 8, 49, 8672, 3525, 6, 50, 143, 9, 106, 6, 31, 8, 136, 143, 8, 70, 4068, 6, 8357, 6, 1449, 6, 10401, 6, 2163, 6, 28728, 8, 1042, 14778, 6, 21005, 66, 9, 6, 50, 11, 143, 169, 3665, 19, 143, 4579, 1468, 34123, 30, 6, 50, 15, 4137, 9, 1260, 6, 4682, 19, 2098, 7, 143, 20403, 335, 34123, 30, 106, 28706, 13, 304, 11, 215, 4579, 4, 1437, 1437, 155, 50118, 50118, 7061, 35, 8837, 2688, 5216, 2191, 163, 7744, 6972, 6934, 29203, 6, 18012, 482, 290, 12, 530, 6, 316, 73, 401, 73, 3789, 50140, 50140, 50140, 1437, 1437, 1437, 1437, 1437, 39274, 274, 14257, 4, 30199, 4154, 2076, 6034, 1437, 1437, 96, 6077, 9, 5, 13746, 659, 4159, 223, 42, 8759, 6, 1260, 5658, 694, 5, 511, 6398, 25131, 1258, 35, 1437, 1437, 83, 4, 660, 2557, 65, 12, 958, 4385, 4029, 9, 68, 2022, 6, 151, 4, 612, 14505, 36, 38011, 12, 25496, 24359, 37702, 43, 21467, 7, 5, 1485, 250, 12, 6905, 131, 1437, 1437, 2], [0, 18522, 6991, 5, 1667, 36, 1594, 143, 43, 9, 42, 1355, 1330, 7, 22, 19897, 43563, 10566, 113, 14, 197, 28, 7123, 30, 10, 2470, 4, 10574, 35, 20, 1248, 9, 5, 1355, 2, 2, 34123, 30, 6, 50, 15, 4137, 9, 1260, 6, 4682, 19, 2098, 7, 143, 20403, 335, 34123, 30, 106, 28706, 13, 304, 11, 215, 4579, 4, 1437, 1437, 155, 50118, 50118, 7061, 35, 8837, 2688, 5216, 2191, 163, 7744, 6972, 6934, 29203, 6, 18012, 482, 290, 12, 530, 6, 316, 73, 401, 73, 3789, 50140, 50140, 50140, 1437, 1437, 1437, 1437, 1437, 39274, 274, 14257, 4, 30199, 4154, 2076, 6034, 1437, 1437, 96, 6077, 9, 5, 13746, 659, 4159, 223, 42, 8759, 6, 1260, 5658, 694, 5, 511, 6398, 25131, 1258, 35, 1437, 1437, 83, 4, 660, 2557, 65, 12, 958, 4385, 4029, 9, 68, 2022, 6, 151, 4, 612, 14505, 36, 38011, 12, 25496, 24359, 37702, 43, 21467, 7, 5, 1485, 250, 12, 6905, 131, 1437, 1437, 1437, 163, 4, 83, 65, 12, 958, 68, 698, 6, 151, 14505, 36, 28612, 24359, 37702, 43, 14634, 4029, 21467, 7, 1485, 250, 4, 20, 68, 698, 6, 151, 14634, 4029, 5658, 28, 21467, 11, 237, 36, 306, 43, 3472, 3081, 1786, 11, 199, 35, 1209, 134, 1358, 41374, 4397, 1209, 176, 1358, 41374, 4397, 1209, 246, 1358, 41374, 4397, 1209, 306, 1358, 41374, 322, 4028, 3207, 5658, 28, 2781, 30, 117, 423, 87, 5, 158, 90, 1368, 183, 9, 5, 78, 353, 9, 349, 297, 4, 1437, 1437, 1437, 230, 4, 83, 1009, 7254, 1258, 9, 68, 288, 4, 2546, 228, 7545, 1088, 9, 43345, 9467, 624, 5, 15739, 23463, 21467, 7, 5, 13540, 12048, 726, 28709, 2874, 886, 8749, 4, 1599, 1070, 5353, 40, 28, 12971, 8, 32807, 7, 5, 2874, 886, 8749, 1786, 15, 5, 78, 455, 297, 646, 9983, 36, 246, 43, 353, 675, 742, 9, 5, 8759, 8, 535, 15, 10, 3472, 1453, 17998, 13, 5, 1385, 9, 42, 8759, 4, 4820, 5, 511, 228, 7545, 10012, 5658, 3253, 13, 5, 1385, 9, 42, 8759, 35, 50140, 10, 4, 36, 134, 43, 37880, 9, 1378, 7629, 10427, 25589, 5457, 112, 7545, 50140, 741, 4, 36, 134, 4839, 1437, 204, 3979, 1437, 5276, 326, 326, 784, 364, 1437, 1021, 856, 1437, 1378, 7629, 9157, 6342, 2], [0, 18522, 6991, 5, 1667, 36, 1594, 143, 43, 9, 42, 1355, 1330, 7, 22, 19897, 43563, 10566, 113, 14, 197, 28, 7123, 30, 10, 2470, 4, 10574, 35, 20, 1248, 9, 5, 1355, 2, 2, 4, 83, 1009, 7254, 1258, 9, 68, 288, 4, 2546, 228, 7545, 1088, 9, 43345, 9467, 624, 5, 15739, 23463, 21467, 7, 5, 13540, 12048, 726, 28709, 2874, 886, 8749, 4, 1599, 1070, 5353, 40, 28, 12971, 8, 32807, 7, 5, 2874, 886, 8749, 1786, 15, 5, 78, 455, 297, 646, 9983, 36, 246, 43, 353, 675, 742, 9, 5, 8759, 8, 535, 15, 10, 3472, 1453, 17998, 13, 5, 1385, 9, 42, 8759, 4, 4820, 5, 511, 228, 7545, 10012, 5658, 3253, 13, 5, 1385, 9, 42, 8759, 35, 50140, 10, 4, 36, 134, 43, 37880, 9, 1378, 7629, 10427, 25589, 5457, 112, 7545, 50140, 741, 4, 36, 134, 4839, 1437, 204, 3979, 1437, 5276, 326, 326, 784, 364, 1437, 1021, 856, 1437, 1378, 7629, 9157, 6342, 7954, 5457, 389, 24525, 50140, 740, 4, 36, 134, 43, 37880, 9, 525, 5841, 523, 23440, 26842, 25589, 5457, 112, 7545, 50140, 385, 4, 36, 134, 43, 37880, 9, 525, 857, 179, 1847, 3201, 5457, 112, 7545, 1437, 364, 4, 36, 134, 43, 37880, 22665, 11680, 9133, 13445, 3201, 5214, 112, 7545, 50140, 856, 4, 36, 134, 43, 204, 3979, 7304, 9, 22665, 11680, 9133, 13445, 9157, 6342, 7954, 5457, 389, 24525, 50140, 1437, 36440, 27203, 1437, 1437, 1437, 1009, 20, 1485, 250, 12, 6905, 40, 8253, 379, 207, 9, 5, 1065, 1602, 6938, 7, 5, 1485, 250, 4, 50140, 13540, 20, 1260, 40, 694, 7, 5, 1485, 250, 12, 6905, 2115, 2069, 5, 144, 485, 3472, 647, 266, 9, 5, 1260, 18, 47316, 25144, 9467, 4, 1437, 1437, 211, 4, 7702, 36886, 1757, 4, 3105, 7, 1596, 12, 212, 37292, 36, 176, 6, 151, 43, 204, 3979, 9407, 9, 1378, 7629, 10427, 3201, 37823, 7954, 7, 28, 341, 25, 10, 22, 19434, 2868, 113, 1437, 13, 1437, 1013, 1437, 6332, 14573, 1437, 36, 658, 7, 1437, 10, 1437, 68, 16846, 6, 151, 923, 43, 1437, 10, 784, 2034, 7, 1437, 5, 1437, 1485, 250, 8, 694, 10, 4069, 73, 2401, 48174, 9, 7304, 514, 7, 1485, 250, 12, 6905, 13, 2332, 8, 304, 600, 66, 5, 1385, 9, 2], [0, 18522, 6991, 5, 1667, 36, 1594, 143, 43, 9, 42, 1355, 1330, 7, 22, 19897, 43563, 10566, 113, 14, 197, 28, 7123, 30, 10, 2470, 4, 10574, 35, 20, 1248, 9, 5, 1355, 2, 2, 1065, 1602, 6938, 7, 5, 1485, 250, 4, 50140, 13540, 20, 1260, 40, 694, 7, 5, 1485, 250, 12, 6905, 2115, 2069, 5, 144, 485, 3472, 647, 266, 9, 5, 1260, 18, 47316, 25144, 9467, 4, 1437, 1437, 211, 4, 7702, 36886, 1757, 4, 3105, 7, 1596, 12, 212, 37292, 36, 176, 6, 151, 43, 204, 3979, 9407, 9, 1378, 7629, 10427, 3201, 37823, 7954, 7, 28, 341, 25, 10, 22, 19434, 2868, 113, 1437, 13, 1437, 1013, 1437, 6332, 14573, 1437, 36, 658, 7, 1437, 10, 1437, 68, 16846, 6, 151, 923, 43, 1437, 10, 784, 2034, 7, 1437, 5, 1437, 1485, 250, 8, 694, 10, 4069, 73, 2401, 48174, 9, 7304, 514, 7, 1485, 250, 12, 6905, 13, 2332, 8, 304, 600, 66, 5, 1385, 9, 5, 8759, 23, 5, 1485, 250, 12, 6905, 2644, 4, 20, 1260, 11687, 7, 582, 13, 70, 6738, 1042, 9, 5, 9467, 223, 5, 7702, 36886, 1757, 7, 5, 27125, 1312, 6, 855, 14765, 9020, 6, 2034, 11, 3339, 19014, 6, 8854, 8, 7, 143, 7757, 27125, 1312, 14, 16, 13196, 30, 5, 1485, 250, 7, 694, 3854, 7, 2210, 8, 92, 1485, 250, 453, 4, 1437, 1437, 1437, 381, 4, 11176, 37220, 11697, 36886, 1757, 4, 1260, 11687, 7, 9666, 8, 694, 11, 205, 12, 32118, 49, 13778, 3088, 6720, 586, 1795, 8, 899, 7, 10404, 474, 8, 14423, 557, 6, 335, 8, 18956, 7, 1485, 250, 453, 36, 42124, 3088, 1796, 1171, 1976, 1485, 250, 453, 19, 10, 379, 207, 6720, 15, 70, 10991, 4970, 118, 18, 20056, 2822, 9467, 286, 2822, 1806, 4397, 8, 1437, 1437, 1437, 274, 4, 9020, 36886, 1757, 4, 1260, 11687, 14, 24, 40, 535, 11, 205, 12, 32118, 7, 2592, 8, 210, 43345, 9467, 11, 5, 276, 4737, 14, 24, 16, 855, 5591, 8, 2474, 215, 1964, 25, 9, 772, 193, 6, 3867, 1260, 8, 5, 1485, 250, 73, 12048, 250, 12, 6905, 679, 24, 16, 45, 23245, 5701, 7, 535, 7, 2592, 8, 210, 5, 43345, 9467, 4, 1437, 1437, 204, 50118, 50118, 7061, 35, 8837, 2688, 5216, 2191, 163, 2], [0, 18522, 6991, 5, 1667, 36, 1594, 143, 43, 9, 42, 1355, 1330, 7, 22, 19897, 43563, 10566, 113, 14, 197, 28, 7123, 30, 10, 2470, 4, 10574, 35, 20, 1248, 9, 5, 1355, 2, 2, 586, 1795, 8, 899, 7, 10404, 474, 8, 14423, 557, 6, 335, 8, 18956, 7, 1485, 250, 453, 36, 42124, 3088, 1796, 1171, 1976, 1485, 250, 453, 19, 10, 379, 207, 6720, 15, 70, 10991, 4970, 118, 18, 20056, 2822, 9467, 286, 2822, 1806, 4397, 8, 1437, 1437, 1437, 274, 4, 9020, 36886, 1757, 4, 1260, 11687, 14, 24, 40, 535, 11, 205, 12, 32118, 7, 2592, 8, 210, 43345, 9467, 11, 5, 276, 4737, 14, 24, 16, 855, 5591, 8, 2474, 215, 1964, 25, 9, 772, 193, 6, 3867, 1260, 8, 5, 1485, 250, 73, 12048, 250, 12, 6905, 679, 24, 16, 45, 23245, 5701, 7, 535, 7, 2592, 8, 210, 5, 43345, 9467, 4, 1437, 1437, 204, 50118, 50118, 7061, 35, 8837, 2688, 5216, 2191, 163, 7744, 6972, 6934, 29203, 6, 18012, 482, 290, 12, 530, 6, 316, 73, 401, 73, 3789, 50140, 50140, 50140, 1437, 1437, 1437, 1437, 1437, 39274, 274, 10002, 4, 39922, 3243, 13675, 13784, 1437, 1437, 83, 4, 13877, 3310, 824, 4, 286, 5, 1385, 9, 42, 8759, 1260, 5658, 694, 10, 486, 11, 1312, 23920, 1485, 250, 453, 64, 486, 13, 335, 6, 1394, 1142, 6, 8, 12777, 19, 1260, 18, 813, 15, 1254, 8, 16047, 9, 5, 1260, 18, 9467, 8, 27991, 16812, 586, 4, 1437, 1437, 1437, 2]], 'attention_mask': [[1, 1, 1, 1, 1, 1, 1, 1, 1, 1, 1, 1, 1, 1, 1, 1, 1, 1, 1, 1, 1, 1, 1, 1, 1, 1, 1, 1, 1, 1, 1, 1, 1, 1, 1, 1, 1, 1, 1, 1, 1, 1, 1, 1, 1, 1, 1, 1, 1, 1, 1, 1, 1, 1, 1, 1, 1, 1, 1, 1, 1, 1, 1, 1, 1, 1, 1, 1, 1, 1, 1, 1, 1, 1, 1, 1, 1, 1, 1, 1, 1, 1, 1, 1, 1, 1, 1, 1, 1, 1, 1, 1, 1, 1, 1, 1, 1, 1, 1, 1, 1, 1, 1, 1, 1, 1, 1, 1, 1, 1, 1, 1, 1, 1, 1, 1, 1, 1, 1, 1, 1, 1, 1, 1, 1, 1, 1, 1, 1, 1, 1, 1, 1, 1, 1, 1, 1, 1, 1, 1, 1, 1, 1, 1, 1, 1, 1, 1, 1, 1, 1, 1, 1, 1, 1, 1, 1, 1, 1, 1, 1, 1, 1, 1, 1, 1, 1, 1, 1, 1, 1, 1, 1, 1, 1, 1, 1, 1, 1, 1, 1, 1, 1, 1, 1, 1, 1, 1, 1, 1, 1, 1, 1, 1, 1, 1, 1, 1, 1, 1, 1, 1, 1, 1, 1, 1, 1, 1, 1, 1, 1, 1, 1, 1, 1, 1, 1, 1, 1, 1, 1, 1, 1, 1, 1, 1, 1, 1, 1, 1, 1, 1, 1, 1, 1, 1, 1, 1, 1, 1, 1, 1, 1, 1, 1, 1, 1, 1, 1, 1, 1, 1, 1, 1, 1, 1, 1, 1, 1, 1, 1, 1, 1, 1, 1, 1, 1, 1, 1, 1, 1, 1, 1, 1, 1, 1, 1, 1, 1, 1, 1, 1, 1, 1, 1, 1, 1, 1, 1, 1, 1, 1, 1, 1, 1, 1, 1, 1, 1, 1, 1, 1, 1, 1, 1, 1, 1, 1, 1, 1, 1, 1, 1, 1, 1, 1, 1, 1, 1, 1, 1, 1, 1, 1, 1, 1, 1, 1, 1, 1, 1, 1, 1, 1, 1, 1, 1, 1, 1, 1, 1, 1, 1, 1, 1, 1, 1, 1, 1, 1, 1, 1, 1, 1, 1, 1, 1, 1, 1, 1, 1, 1, 1, 1, 1, 1, 1, 1, 1, 1, 1, 1, 1, 1, 1, 1, 1, 1, 1, 1, 1, 1, 1, 1], [1, 1, 1, 1, 1, 1, 1, 1, 1, 1, 1, 1, 1, 1, 1, 1, 1, 1, 1, 1, 1, 1, 1, 1, 1, 1, 1, 1, 1, 1, 1, 1, 1, 1, 1, 1, 1, 1, 1, 1, 1, 1, 1, 1, 1, 1, 1, 1, 1, 1, 1, 1, 1, 1, 1, 1, 1, 1, 1, 1, 1, 1, 1, 1, 1, 1, 1, 1, 1, 1, 1, 1, 1, 1, 1, 1, 1, 1, 1, 1, 1, 1, 1, 1, 1, 1, 1, 1, 1, 1, 1, 1, 1, 1, 1, 1, 1, 1, 1, 1, 1, 1, 1, 1, 1, 1, 1, 1, 1, 1, 1, 1, 1, 1, 1, 1, 1, 1, 1, 1, 1, 1, 1, 1, 1, 1, 1, 1, 1, 1, 1, 1, 1, 1, 1, 1, 1, 1, 1, 1, 1, 1, 1, 1, 1, 1, 1, 1, 1, 1, 1, 1, 1, 1, 1, 1, 1, 1, 1, 1, 1, 1, 1, 1, 1, 1, 1, 1, 1, 1, 1, 1, 1, 1, 1, 1, 1, 1, 1, 1, 1, 1, 1, 1, 1, 1, 1, 1, 1, 1, 1, 1, 1, 1, 1, 1, 1, 1, 1, 1, 1, 1, 1, 1, 1, 1, 1, 1, 1, 1, 1, 1, 1, 1, 1, 1, 1, 1, 1, 1, 1, 1, 1, 1, 1, 1, 1, 1, 1, 1, 1, 1, 1, 1, 1, 1, 1, 1, 1, 1, 1, 1, 1, 1, 1, 1, 1, 1, 1, 1, 1, 1, 1, 1, 1, 1, 1, 1, 1, 1, 1, 1, 1, 1, 1, 1, 1, 1, 1, 1, 1, 1, 1, 1, 1, 1, 1, 1, 1, 1, 1, 1, 1, 1, 1, 1, 1, 1, 1, 1, 1, 1, 1, 1, 1, 1, 1, 1, 1, 1, 1, 1, 1, 1, 1, 1, 1, 1, 1, 1, 1, 1, 1, 1, 1, 1, 1, 1, 1, 1, 1, 1, 1, 1, 1, 1, 1, 1, 1, 1, 1, 1, 1, 1, 1, 1, 1, 1, 1, 1, 1, 1, 1, 1, 1, 1, 1, 1, 1, 1, 1, 1, 1, 1, 1, 1, 1, 1, 1, 1, 1, 1, 1, 1, 1, 1, 1, 1, 1, 1, 1, 1, 1, 1, 1, 1, 1, 1, 1, 1, 1, 1, 1, 1], [1, 1, 1, 1, 1, 1, 1, 1, 1, 1, 1, 1, 1, 1, 1, 1, 1, 1, 1, 1, 1, 1, 1, 1, 1, 1, 1, 1, 1, 1, 1, 1, 1, 1, 1, 1, 1, 1, 1, 1, 1, 1, 1, 1, 1, 1, 1, 1, 1, 1, 1, 1, 1, 1, 1, 1, 1, 1, 1, 1, 1, 1, 1, 1, 1, 1, 1, 1, 1, 1, 1, 1, 1, 1, 1, 1, 1, 1, 1, 1, 1, 1, 1, 1, 1, 1, 1, 1, 1, 1, 1, 1, 1, 1, 1, 1, 1, 1, 1, 1, 1, 1, 1, 1, 1, 1, 1, 1, 1, 1, 1, 1, 1, 1, 1, 1, 1, 1, 1, 1, 1, 1, 1, 1, 1, 1, 1, 1, 1, 1, 1, 1, 1, 1, 1, 1, 1, 1, 1, 1, 1, 1, 1, 1, 1, 1, 1, 1, 1, 1, 1, 1, 1, 1, 1, 1, 1, 1, 1, 1, 1, 1, 1, 1, 1, 1, 1, 1, 1, 1, 1, 1, 1, 1, 1, 1, 1, 1, 1, 1, 1, 1, 1, 1, 1, 1, 1, 1, 1, 1, 1, 1, 1, 1, 1, 1, 1, 1, 1, 1, 1, 1, 1, 1, 1, 1, 1, 1, 1, 1, 1, 1, 1, 1, 1, 1, 1, 1, 1, 1, 1, 1, 1, 1, 1, 1, 1, 1, 1, 1, 1, 1, 1, 1, 1, 1, 1, 1, 1, 1, 1, 1, 1, 1, 1, 1, 1, 1, 1, 1, 1, 1, 1, 1, 1, 1, 1, 1, 1, 1, 1, 1, 1, 1, 1, 1, 1, 1, 1, 1, 1, 1, 1, 1, 1, 1, 1, 1, 1, 1, 1, 1, 1, 1, 1, 1, 1, 1, 1, 1, 1, 1, 1, 1, 1, 1, 1, 1, 1, 1, 1, 1, 1, 1, 1, 1, 1, 1, 1, 1, 1, 1, 1, 1, 1, 1, 1, 1, 1, 1, 1, 1, 1, 1, 1, 1, 1, 1, 1, 1, 1, 1, 1, 1, 1, 1, 1, 1, 1, 1, 1, 1, 1, 1, 1, 1, 1, 1, 1, 1, 1, 1, 1, 1, 1, 1, 1, 1, 1, 1, 1, 1, 1, 1, 1, 1, 1, 1, 1, 1, 1, 1, 1, 1, 1, 1, 1, 1, 1, 1, 1, 1, 1, 1], [1, 1, 1, 1, 1, 1, 1, 1, 1, 1, 1, 1, 1, 1, 1, 1, 1, 1, 1, 1, 1, 1, 1, 1, 1, 1, 1, 1, 1, 1, 1, 1, 1, 1, 1, 1, 1, 1, 1, 1, 1, 1, 1, 1, 1, 1, 1, 1, 1, 1, 1, 1, 1, 1, 1, 1, 1, 1, 1, 1, 1, 1, 1, 1, 1, 1, 1, 1, 1, 1, 1, 1, 1, 1, 1, 1, 1, 1, 1, 1, 1, 1, 1, 1, 1, 1, 1, 1, 1, 1, 1, 1, 1, 1, 1, 1, 1, 1, 1, 1, 1, 1, 1, 1, 1, 1, 1, 1, 1, 1, 1, 1, 1, 1, 1, 1, 1, 1, 1, 1, 1, 1, 1, 1, 1, 1, 1, 1, 1, 1, 1, 1, 1, 1, 1, 1, 1, 1, 1, 1, 1, 1, 1, 1, 1, 1, 1, 1, 1, 1, 1, 1, 1, 1, 1, 1, 1, 1, 1, 1, 1, 1, 1, 1, 1, 1, 1, 1, 1, 1, 1, 1, 1, 1, 1, 1, 1, 1, 1, 1, 1, 1, 1, 1, 1, 1, 1, 1, 1, 1, 1, 1, 1, 1, 1, 1, 1, 1, 1, 1, 1, 1, 1, 1, 1, 1, 1, 1, 1, 1, 1, 1, 1, 1, 1, 1, 1, 1, 1, 1, 1, 1, 1, 1, 1, 1, 1, 1, 1, 1, 1, 1, 1, 1, 1, 1, 1, 1, 1, 1, 1, 1, 1, 1, 1, 1, 1, 1, 1, 1, 1, 1, 1, 1, 1, 1, 1, 1, 1, 1, 1, 1, 1, 1, 1, 1, 1, 1, 1, 1, 1, 1, 1, 1, 1, 1, 1, 1, 1, 1, 1, 1, 1, 1, 1, 1, 1, 1, 1, 1, 1, 1, 1, 1, 1, 1, 1, 1, 1, 1, 1, 1, 1, 1, 1, 1, 1, 1, 1, 1, 1, 1, 1, 1, 1, 1, 1, 1, 1, 1, 1, 1, 1, 1, 1, 1, 1, 1, 1, 1, 1, 1, 1, 1, 1, 1, 1, 1, 1, 1, 1, 1, 1, 1, 1, 1, 1, 1, 1, 1, 1, 1, 1, 1, 1, 1, 1, 1, 1, 1, 1, 1, 1, 1, 1, 1, 1, 1, 1, 1, 1, 1, 1, 1, 1, 1, 1, 1, 1, 1, 1, 1, 1, 1], [1, 1, 1, 1, 1, 1, 1, 1, 1, 1, 1, 1, 1, 1, 1, 1, 1, 1, 1, 1, 1, 1, 1, 1, 1, 1, 1, 1, 1, 1, 1, 1, 1, 1, 1, 1, 1, 1, 1, 1, 1, 1, 1, 1, 1, 1, 1, 1, 1, 1, 1, 1, 1, 1, 1, 1, 1, 1, 1, 1, 1, 1, 1, 1, 1, 1, 1, 1, 1, 1, 1, 1, 1, 1, 1, 1, 1, 1, 1, 1, 1, 1, 1, 1, 1, 1, 1, 1, 1, 1, 1, 1, 1, 1, 1, 1, 1, 1, 1, 1, 1, 1, 1, 1, 1, 1, 1, 1, 1, 1, 1, 1, 1, 1, 1, 1, 1, 1, 1, 1, 1, 1, 1, 1, 1, 1, 1, 1, 1, 1, 1, 1, 1, 1, 1, 1, 1, 1, 1, 1, 1, 1, 1, 1, 1, 1, 1, 1, 1, 1, 1, 1, 1, 1, 1, 1, 1, 1, 1, 1, 1, 1, 1, 1, 1, 1, 1, 1, 1, 1, 1, 1, 1, 1, 1, 1, 1, 1, 1, 1, 1, 1, 1, 1, 1, 1, 1, 1, 1, 1, 1, 1, 1, 1, 1, 1, 1, 1, 1, 1, 1, 1, 1, 1, 1, 1, 1, 1, 1, 1, 1, 1, 1, 1, 1, 1, 1, 1, 1, 1, 1, 1, 1, 1, 1, 1, 1, 1, 1, 1, 1, 1, 1, 1, 1, 1, 1, 1, 1, 1, 1, 1, 1, 1, 1, 1, 1, 1, 1, 1, 1, 1, 1, 1, 1, 1, 1, 1, 1, 1, 1, 1, 1, 1, 1, 1, 1, 1, 1, 1, 1, 1, 1, 1, 1, 1, 1, 1, 1, 1, 1, 1, 1, 1, 1, 1, 1, 1, 1, 1, 1, 1, 1, 1, 1, 1, 1, 1, 1, 1, 1, 1, 1, 1, 1, 1, 1, 1, 1, 1, 1, 1, 1, 1, 1, 1, 1, 1, 1, 1, 1, 1, 1, 1, 1, 1, 1, 1, 1, 1, 1, 1, 1, 1, 1, 1, 1, 1, 1, 1, 1, 1, 1, 1, 1, 1, 1, 1, 1, 1, 1, 1, 1, 1, 1, 1, 1, 1, 1, 1, 1, 1, 1, 1, 1, 1, 1, 1, 1, 1, 1, 1, 1, 1, 1, 1, 1, 1, 1, 1, 1, 1, 1, 1], [1, 1, 1, 1, 1, 1, 1, 1, 1, 1, 1, 1, 1, 1, 1, 1, 1, 1, 1, 1, 1, 1, 1, 1, 1, 1, 1, 1, 1, 1, 1, 1, 1, 1, 1, 1, 1, 1, 1, 1, 1, 1, 1, 1, 1, 1, 1, 1, 1, 1, 1, 1, 1, 1, 1, 1, 1, 1, 1, 1, 1, 1, 1, 1, 1, 1, 1, 1, 1, 1, 1, 1, 1, 1, 1, 1, 1, 1, 1, 1, 1, 1, 1, 1, 1, 1, 1, 1, 1, 1, 1, 1, 1, 1, 1, 1, 1, 1, 1, 1, 1, 1, 1, 1, 1, 1, 1, 1, 1, 1, 1, 1, 1, 1, 1, 1, 1, 1, 1, 1, 1, 1, 1, 1, 1, 1, 1, 1, 1, 1, 1, 1, 1, 1, 1, 1, 1, 1, 1, 1, 1, 1, 1, 1, 1, 1, 1, 1, 1, 1, 1, 1, 1, 1, 1, 1, 1, 1, 1, 1, 1, 1, 1, 1, 1, 1, 1, 1, 1, 1, 1, 1, 1, 1, 1, 1, 1, 1, 1, 1, 1, 1, 1, 1, 1, 1, 1, 1, 1, 1, 1, 1, 1, 1, 1, 1, 1, 1, 1, 1, 1, 1, 1, 1, 1, 1, 1, 1, 1, 1, 1, 1, 1, 1, 1, 1, 1, 1, 1, 1, 1, 1, 1, 1, 1, 1, 1, 1, 1, 1, 1, 1, 1, 1, 1, 1, 1, 1, 1, 1, 1, 1, 1, 1, 1, 1, 1, 1, 1, 1, 1, 1, 1, 1, 1, 1, 1, 1, 1, 1, 1, 1, 1, 1, 1, 1, 1, 1, 1, 1, 1, 1, 1, 1, 1, 1, 1, 1, 1, 1, 1, 1, 1, 1, 1, 1, 1, 1, 1, 1, 1, 1, 1, 1, 1, 1, 1, 1, 1, 1, 1, 1, 1, 1, 1, 1, 1, 1, 1, 1, 1, 1, 1, 1, 1, 1, 1, 1, 1, 1, 1, 1, 1, 1, 1, 1, 1, 1, 1, 1, 1, 1, 1, 1, 1, 1, 1, 1, 1, 1, 1, 1, 1, 1, 1, 1, 1, 1, 1, 1, 1, 1, 1, 1, 1, 1, 1, 1, 1, 1, 1, 1, 1, 1, 1, 1, 1, 1, 1, 1, 1, 1, 1, 1, 1, 1, 1, 1, 1, 1, 1, 1, 1, 1], [1, 1, 1, 1, 1, 1, 1, 1, 1, 1, 1, 1, 1, 1, 1, 1, 1, 1, 1, 1, 1, 1, 1, 1, 1, 1, 1, 1, 1, 1, 1, 1, 1, 1, 1, 1, 1, 1, 1, 1, 1, 1, 1, 1, 1, 1, 1, 1, 1, 1, 1, 1, 1, 1, 1, 1, 1, 1, 1, 1, 1, 1, 1, 1, 1, 1, 1, 1, 1, 1, 1, 1, 1, 1, 1, 1, 1, 1, 1, 1, 1, 1, 1, 1, 1, 1, 1, 1, 1, 1, 1, 1, 1, 1, 1, 1, 1, 1, 1, 1, 1, 1, 1, 1, 1, 1, 1, 1, 1, 1, 1, 1, 1, 1, 1, 1, 1, 1, 1, 1, 1, 1, 1, 1, 1, 1, 1, 1, 1, 1, 1, 1, 1, 1, 1, 1, 1, 1, 1, 1, 1, 1, 1, 1, 1, 1, 1, 1, 1, 1, 1, 1, 1, 1, 1, 1, 1, 1, 1, 1, 1, 1, 1, 1, 1, 1, 1, 1, 1, 1, 1, 1, 1, 1, 1, 1, 1, 1, 1, 1, 1, 1, 1, 1, 1, 1, 1, 1, 1, 1, 1, 1, 1, 1, 1, 1, 1, 1, 1, 1, 1, 1, 1, 1, 1, 1, 1, 1, 1, 1, 1, 1, 1, 1, 1, 1, 1, 1, 1, 1, 1, 1, 1, 1, 1, 1, 1, 1, 1, 1, 1, 1, 1, 1, 1, 1, 1, 1, 1, 1, 1, 1, 1, 1, 1, 1, 1, 1, 1, 1, 1, 1, 1, 1, 1, 1, 1, 1, 1, 1, 1, 1, 1, 1, 1, 1, 1, 1, 1, 1, 1, 1, 1, 1, 1, 1, 1, 1, 1, 1, 1, 1, 1, 1, 1, 1, 1, 1, 1, 1, 1, 1, 1, 1, 1, 1, 1, 1, 1, 1, 1, 1, 1, 1, 1, 1, 1, 1, 1, 1, 1, 1, 1, 1, 1, 1, 1, 1, 1, 1, 1, 1, 1, 1, 1, 1, 1, 1, 1, 1, 1, 1, 1, 1, 1, 1, 1, 1, 1, 1, 1, 1, 1, 1, 1, 1, 1, 1, 1, 1, 1, 1, 1, 1, 1, 1, 1, 1, 1, 1, 1, 1, 1, 1, 1, 1, 1, 1, 1, 1, 1, 1, 1, 1, 1, 1, 1, 1, 1, 1, 1, 1, 1, 1], [1, 1, 1, 1, 1, 1, 1, 1, 1, 1, 1, 1, 1, 1, 1, 1, 1, 1, 1, 1, 1, 1, 1, 1, 1, 1, 1, 1, 1, 1, 1, 1, 1, 1, 1, 1, 1, 1, 1, 1, 1, 1, 1, 1, 1, 1, 1, 1, 1, 1, 1, 1, 1, 1, 1, 1, 1, 1, 1, 1, 1, 1, 1, 1, 1, 1, 1, 1, 1, 1, 1, 1, 1, 1, 1, 1, 1, 1, 1, 1, 1, 1, 1, 1, 1, 1, 1, 1, 1, 1, 1, 1, 1, 1, 1, 1, 1, 1, 1, 1, 1, 1, 1, 1, 1, 1, 1, 1, 1, 1, 1, 1, 1, 1, 1, 1, 1, 1, 1, 1, 1, 1, 1, 1, 1, 1, 1, 1, 1, 1, 1, 1, 1, 1, 1, 1, 1, 1, 1, 1, 1, 1, 1, 1, 1, 1, 1, 1, 1, 1, 1, 1, 1, 1, 1, 1, 1, 1, 1, 1, 1, 1, 1, 1, 1, 1, 1, 1, 1, 1, 1, 1, 1, 1, 1, 1, 1, 1, 1, 1, 1, 1, 1, 1, 1, 1, 1, 1, 1, 1, 1, 1, 1, 1, 1, 1, 1, 1, 1, 1, 1, 1, 1, 1, 1, 1, 1, 1, 1, 1, 1, 1, 1, 1, 1, 1, 1, 1, 1, 1, 1, 1, 1, 1, 1, 1, 1, 1, 1, 1, 1, 1, 1, 1, 1, 1, 1, 1, 1, 1, 1, 1, 1, 1, 1, 1, 1, 1, 1, 1, 1, 1, 1, 1, 1, 1, 1, 1, 1, 1, 1, 1, 1, 1, 1, 1, 1, 1, 1, 1, 1, 1, 1, 1, 1, 1, 1, 1, 1, 1, 1, 1, 1, 1, 1, 1, 1, 1, 1, 1, 1, 1, 1, 1, 1, 1, 1, 1, 1, 1, 1, 1, 1, 1, 1, 1, 1, 1, 1, 1, 1, 1, 1, 1, 1, 1, 1, 1, 1, 1, 1, 1, 1, 1, 1, 1, 1, 1, 1, 1, 1, 1, 1, 1, 1, 1, 1, 1, 1, 1, 1, 1, 1, 1, 1, 1, 1, 1, 1, 1, 1, 1, 1, 1, 1, 1, 1, 1, 1, 1, 1, 1, 1, 1, 1, 1, 1, 1, 1, 1, 1, 1, 1, 1, 1, 1, 1, 1, 1, 1, 1, 1, 1, 1], [1, 1, 1, 1, 1, 1, 1, 1, 1, 1, 1, 1, 1, 1, 1, 1, 1, 1, 1, 1, 1, 1, 1, 1, 1, 1, 1, 1, 1, 1, 1, 1, 1, 1, 1, 1, 1, 1, 1, 1, 1, 1, 1, 1, 1, 1, 1, 1, 1, 1, 1, 1, 1, 1, 1, 1, 1, 1, 1, 1, 1, 1, 1, 1, 1, 1, 1, 1, 1, 1, 1, 1, 1, 1, 1, 1, 1, 1, 1, 1, 1, 1, 1, 1, 1, 1, 1, 1, 1, 1, 1, 1, 1, 1, 1, 1, 1, 1, 1, 1, 1, 1, 1, 1, 1, 1, 1, 1, 1, 1, 1, 1, 1, 1, 1, 1, 1, 1, 1, 1, 1, 1, 1, 1, 1, 1, 1, 1, 1, 1, 1, 1, 1, 1, 1, 1, 1, 1, 1, 1, 1, 1, 1, 1, 1, 1, 1, 1, 1, 1, 1, 1, 1, 1, 1, 1, 1, 1, 1, 1, 1, 1, 1, 1, 1, 1, 1, 1, 1, 1, 1, 1, 1, 1, 1, 1, 1, 1, 1, 1, 1, 1, 1, 1, 1, 1, 1, 1, 1, 1, 1, 1, 1, 1, 1, 1, 1, 1, 1, 1, 1, 1, 1, 1, 1, 1, 1, 1, 1, 1, 1, 1, 1, 1, 1, 1, 1, 1, 1, 1, 1, 1, 1, 1, 1, 1, 1, 1, 1, 1, 1, 1, 1, 1, 1, 1, 1, 1, 1, 1, 1, 1, 1, 1, 1, 1, 1, 1, 1, 1, 1, 1, 1, 1, 1, 1, 1, 1, 1, 1, 1, 1, 1, 1, 1, 1, 1, 1, 1, 1, 1, 1, 1, 1, 1, 1, 1, 1, 1, 1, 1, 1, 1, 1, 1, 1, 1, 1, 1, 1, 1, 1, 1, 1, 1, 1, 1, 1, 1, 1, 1, 1, 1, 1, 1, 1, 1, 1, 1, 1, 1, 1, 1, 1, 1, 1, 1, 1, 1, 1, 1, 1, 1, 1, 1, 1, 1, 1, 1, 1, 1, 1, 1, 1, 1, 1, 1, 1, 1, 1, 1, 1, 1, 1, 1, 1, 1, 1, 1, 1, 1, 1, 1, 1, 1, 1, 1, 1, 1, 1, 1, 1, 1, 1, 1, 1, 1, 1, 1, 1, 1, 1, 1, 1, 1, 1, 1, 1, 1, 1, 1, 1, 1, 1], [1, 1, 1, 1, 1, 1, 1, 1, 1, 1, 1, 1, 1, 1, 1, 1, 1, 1, 1, 1, 1, 1, 1, 1, 1, 1, 1, 1, 1, 1, 1, 1, 1, 1, 1, 1, 1, 1, 1, 1, 1, 1, 1, 1, 1, 1, 1, 1, 1, 1, 1, 1, 1, 1, 1, 1, 1, 1, 1, 1, 1, 1, 1, 1, 1, 1, 1, 1, 1, 1, 1, 1, 1, 1, 1, 1, 1, 1, 1, 1, 1, 1, 1, 1, 1, 1, 1, 1, 1, 1, 1, 1, 1, 1, 1, 1, 1, 1, 1, 1, 1, 1, 1, 1, 1, 1, 1, 1, 1, 1, 1, 1, 1, 1, 1, 1, 1, 1, 1, 1, 1, 1, 1, 1, 1, 1, 1, 1, 1, 1, 1, 1, 1, 1, 1, 1, 1, 1, 1, 1, 1, 1, 1, 1, 1, 1, 1, 1, 1, 1, 1, 1, 1, 1, 1, 1, 1, 1, 1, 1, 1, 1, 1, 1, 1, 1, 1, 1, 1, 1, 1, 1, 1, 1, 1, 1, 1, 1, 1, 1, 1, 1, 1, 1, 1, 1, 1, 1, 1, 1, 1, 1, 1, 1, 1, 1, 1, 1, 1, 1, 1, 1, 1, 1, 1, 1, 1, 1, 1, 1, 1, 1, 1, 1, 1, 1, 1, 1, 1, 1, 1, 1, 1, 1, 1, 1, 1, 1, 1, 1, 1, 1, 1, 1, 1, 1, 1, 1, 1, 1, 1, 1, 1, 1, 1, 1, 1, 1, 1, 1, 1, 1, 1, 1, 1, 1, 1, 1, 1, 1, 1, 1, 1, 1, 1, 1, 1, 1, 1, 1, 1, 1, 1, 1, 1, 1, 1, 1, 1, 1, 1, 1, 1, 1, 1, 1, 1, 1, 1, 1, 1, 1, 1, 1, 1, 1, 1, 1, 1, 1, 1, 1, 1, 1, 1, 1, 1, 1, 1, 1, 1, 1, 1, 1, 1, 1, 1, 1, 1, 1, 1, 1, 1, 1, 1, 1, 1, 1, 1, 1, 1, 1, 1, 1, 1, 1, 1, 1, 1, 1, 1, 1, 1, 1, 1, 1, 1, 1, 1, 1, 1, 1, 1, 1, 1, 1, 1, 1, 1, 1, 1, 1, 1, 1, 1, 1, 1, 1, 1, 1, 1, 1, 1, 1, 1, 1, 1, 1, 1, 1, 1, 1, 1, 1], [1, 1, 1, 1, 1, 1, 1, 1, 1, 1, 1, 1, 1, 1, 1, 1, 1, 1, 1, 1, 1, 1, 1, 1, 1, 1, 1, 1, 1, 1, 1, 1, 1, 1, 1, 1, 1, 1, 1, 1, 1, 1, 1, 1, 1, 1, 1, 1, 1, 1, 1, 1, 1, 1, 1, 1, 1, 1, 1, 1, 1, 1, 1, 1, 1, 1, 1, 1, 1, 1, 1, 1, 1, 1, 1, 1, 1, 1, 1, 1, 1, 1, 1, 1, 1, 1, 1, 1, 1, 1, 1, 1, 1, 1, 1, 1, 1, 1, 1, 1, 1, 1, 1, 1, 1, 1, 1, 1, 1, 1, 1, 1, 1, 1, 1, 1, 1, 1, 1, 1, 1, 1, 1, 1, 1, 1, 1, 1, 1, 1, 1, 1, 1, 1, 1, 1, 1, 1, 1, 1, 1, 1, 1, 1, 1, 1, 1, 1, 1, 1, 1, 1, 1, 1, 1, 1, 1, 1, 1, 1, 1, 1, 1, 1, 1, 1, 1, 1, 1, 1, 1, 1, 1, 1, 1, 1, 1, 1, 1, 1, 1, 1, 1, 1, 1, 1, 1, 1, 1, 1, 1, 1, 1, 1, 1, 1, 1, 1, 1, 1, 1, 1, 1, 1, 1, 1, 1, 1, 1, 1, 1, 1, 1, 1, 1, 1, 1, 1, 1, 1, 1, 1, 1, 1, 1, 1, 1, 1, 1, 1, 1, 1, 1, 1, 1, 1, 1, 1, 1, 1, 1, 1, 1, 1, 1, 1, 1, 1, 1, 1, 1, 1, 1, 1, 1, 1, 1, 1, 1, 1, 1, 1, 1, 1, 1, 1, 1, 1, 1, 1, 1, 1, 1, 1, 1, 1, 1, 1, 1, 1, 1, 1, 1, 1, 1, 1, 1, 1, 1, 1, 1, 1, 1, 1, 1, 1, 1, 1, 1, 1, 1, 1, 1, 1, 1, 1, 1, 1, 1, 1, 1, 1, 1, 1, 1, 1, 1, 1, 1, 1, 1, 1, 1, 1, 1, 1, 1, 1, 1, 1, 1, 1, 1, 1, 1, 1, 1, 1, 1, 1, 1, 1, 1, 1, 1, 1, 1, 1, 1, 1, 1, 1, 1, 1, 1, 1, 1, 1, 1, 1, 1, 1, 1, 1, 1, 1, 1, 1, 1, 1, 1, 1, 1, 1, 1, 1, 1, 1, 1, 1, 1, 1, 1, 1], [1, 1, 1, 1, 1, 1, 1, 1, 1, 1, 1, 1, 1, 1, 1, 1, 1, 1, 1, 1, 1, 1, 1, 1, 1, 1, 1, 1, 1, 1, 1, 1, 1, 1, 1, 1, 1, 1, 1, 1, 1, 1, 1, 1, 1, 1, 1, 1, 1, 1, 1, 1, 1, 1, 1, 1, 1, 1, 1, 1, 1, 1, 1, 1, 1, 1, 1, 1, 1, 1, 1, 1, 1, 1, 1, 1, 1, 1, 1, 1, 1, 1, 1, 1, 1, 1, 1, 1, 1, 1, 1, 1, 1, 1, 1, 1, 1, 1, 1, 1, 1, 1, 1, 1, 1, 1, 1, 1, 1, 1, 1, 1, 1, 1, 1, 1, 1, 1, 1, 1, 1, 1, 1, 1, 1, 1, 1, 1, 1, 1, 1, 1, 1, 1, 1, 1, 1, 1, 1, 1, 1, 1, 1, 1, 1, 1, 1, 1, 1, 1, 1, 1, 1, 1, 1, 1, 1, 1, 1, 1, 1, 1, 1, 1, 1, 1, 1, 1, 1, 1, 1, 1, 1, 1, 1, 1, 1, 1, 1, 1, 1, 1, 1, 1, 1, 1, 1, 1, 1, 1, 1, 1, 1, 1, 1, 1, 1, 1, 1, 1, 1, 1, 1, 1, 1, 1, 1, 1, 1, 1, 1, 1, 1, 1, 1, 1, 1, 1, 1, 1, 1, 1, 1, 1, 1, 1, 1, 1, 1, 1, 1, 1, 1, 1, 1, 1, 1, 1, 1, 1, 1, 1, 1, 1, 1, 1, 1, 1, 1, 1, 1, 1, 1, 1, 1, 1, 1, 1, 1, 1, 1, 1, 1, 1, 1, 1, 1, 1, 1, 1, 1, 1, 1, 1, 1, 1, 1, 1, 1, 1, 1, 1, 1, 1, 1, 1, 1, 1, 1, 1, 1, 1, 1, 1, 1, 1, 1, 1, 1, 1, 1, 1, 1, 1, 1, 1, 1, 1, 1, 1, 1, 1, 1, 1, 1, 1, 1, 1, 1, 1, 1, 1, 1, 1, 1, 1, 1, 1, 1, 1, 1, 1, 1, 1, 1, 1, 1, 1, 1, 1, 1, 1, 1, 1, 1, 1, 1, 1, 1, 1, 1, 1, 1, 1, 1, 1, 1, 1, 1, 1, 1, 1, 1, 1, 1, 1, 1, 1, 1, 1, 1, 1, 1, 1, 1, 1, 1, 1, 1, 1, 1, 1, 1, 1], [1, 1, 1, 1, 1, 1, 1, 1, 1, 1, 1, 1, 1, 1, 1, 1, 1, 1, 1, 1, 1, 1, 1, 1, 1, 1, 1, 1, 1, 1, 1, 1, 1, 1, 1, 1, 1, 1, 1, 1, 1, 1, 1, 1, 1, 1, 1, 1, 1, 1, 1, 1, 1, 1, 1, 1, 1, 1, 1, 1, 1, 1, 1, 1, 1, 1, 1, 1, 1, 1, 1, 1, 1, 1, 1, 1, 1, 1, 1, 1, 1, 1, 1, 1, 1, 1, 1, 1, 1, 1, 1, 1, 1, 1, 1, 1, 1, 1, 1, 1, 1, 1, 1, 1, 1, 1, 1, 1, 1, 1, 1, 1, 1, 1, 1, 1, 1, 1, 1, 1, 1, 1, 1, 1, 1, 1, 1, 1, 1, 1, 1, 1, 1, 1, 1, 1, 1, 1, 1, 1, 1, 1, 1, 1, 1, 1, 1, 1, 1, 1, 1, 1, 1, 1, 1, 1, 1, 1, 1, 1, 1, 1, 1, 1, 1, 1, 1, 1, 1, 1, 1, 1, 1, 1, 1, 1, 1, 1, 1, 1, 1, 1, 1, 1, 1, 1, 1, 1, 1, 1, 1, 1, 1, 1, 1, 1, 1, 1, 1, 1, 1, 1, 1, 1, 1, 1, 1, 1, 1, 1, 1, 1, 1, 1, 1, 1, 1, 1, 1, 1, 1, 1, 1, 1, 1, 1, 1, 1, 1, 1, 1, 1, 1, 1, 1, 1, 1, 1, 1, 1, 1, 1, 1, 1, 1, 1, 1, 1, 1, 1, 1, 1, 1]], 'overflow_to_sample_mapping': [0, 0, 0, 0, 0, 0, 0, 0, 0, 0, 0, 0, 0]}"
      ]
     },
     "execution_count": 26,
     "metadata": {},
     "output_type": "execute_result"
    }
   ],
   "source": [
    "tokenized_example"
   ]
  },
  {
   "cell_type": "code",
   "execution_count": 27,
   "id": "37319d99",
   "metadata": {},
   "outputs": [
    {
     "data": {
      "text/plain": [
       "[384, 384, 384, 384, 384, 384, 384, 384, 384, 384, 384, 384, 253]"
      ]
     },
     "execution_count": 27,
     "metadata": {},
     "output_type": "execute_result"
    }
   ],
   "source": [
    "[len(x) for x in tokenized_example[\"input_ids\"]]"
   ]
  },
  {
   "cell_type": "code",
   "execution_count": 28,
   "id": "5682863d",
   "metadata": {},
   "outputs": [
    {
     "name": "stdout",
     "output_type": "stream",
     "text": [
      "<s>Highlight the parts (if any) of this contract related to \"Agreement Date\" that should be reviewed by a lawyer. Details: The date of the contract</s></s>EXHIBIT 10.1   ENDORSEMENT AGREEMENT   This Endorsement Agreement (\"Agreement\") made October 30, 2017, between National Football League Alumni - Northern California Chapter (\"NFLA-NC\"), a charitable corporation organized under the laws of California, having its principal office at 1311 Madison Avenue, Redwood CA 94061; National Football League Alumni, Inc. (\"NFLA\"), a charitable corporation organized under the laws of Florida, having its principal office at 8000 Midlantic Drive, 130 S., Mount Laurel, NJ. 08054 and Food For Athletes, Inc. a corporation organized under the laws of California / Gridiron BioNutrients™, a corporation organized under the laws of Nevada having their principal office(s) at 1119 West 1st Ave., STE G, Spokane, WA 99201 (collectively the \"Company\").   RECITALS   A. Whereas, NFLA is a nationwide group of former National Football League players, coaches, and other employees whose mission is to serve, assist and inform players and their families. The association offers a variety of medical, financial and social programs to help members lead healthy, productive and connected lives.    B. Whereas, NFLA-NC is a local Chapter of the NFLA and supports the organizations \"Caring for Kids\" initiative through fundraising for youth-related charities.    C. The Company desires to obtain the rights to use the Pro Football Legends Logo of the NFLA in connection with the advertisement and promotion of certain of its products. An image of the Pro Football Legends Logo is depicted in Exhibit A.    D. The NFLA agrees to license such</s>\n",
      "<s>Highlight the parts (if any) of this contract related to \"Agreement Date\" that should be reviewed by a lawyer. Details: The date of the contract</s></s> players and their families. The association offers a variety of medical, financial and social programs to help members lead healthy, productive and connected lives.    B. Whereas, NFLA-NC is a local Chapter of the NFLA and supports the organizations \"Caring for Kids\" initiative through fundraising for youth-related charities.    C. The Company desires to obtain the rights to use the Pro Football Legends Logo of the NFLA in connection with the advertisement and promotion of certain of its products. An image of the Pro Football Legends Logo is depicted in Exhibit A.    D. The NFLA agrees to license such rights to the Company.   In consideration of the matters described above, and of the mutual benefits and obligations set forth in this Agreement, the parties agree as follows:   SECTION ONE. DEFINITIONS   As used in this Agreement, the following terms shall be defined as follows:   A. \"Contract Period\" shall mean that period of time of three (3) years commencing on November 1st, 2017 and concluding November 2nd, 2020, unless terminated sooner or extended as provided in this Agreement.    B. \"Contract Territory\" shall mean worldwide.    C. \"Contract Year\" shall mean each of the consecutive 12-month periods beginning on the effective date of the Agreement of the Contract Period.   1\n",
      "\n",
      "Source: GRIDIRON BIONUTRIENTS, INC., 8-K, 12/6/2017\n",
      "\n",
      "\n",
      "\n",
      "\n",
      "\n",
      "      D. \"Gross Sales\" shall mean total revenues, under generally accepted accounting principles, from sales of the Licensed Products, but does not include any revenue</s>\n"
     ]
    }
   ],
   "source": [
    "for x in tokenized_example[\"input_ids\"][:2]:\n",
    "    print(tokenizer.decode(x))"
   ]
  },
  {
   "cell_type": "code",
   "execution_count": null,
   "id": "d8ff7270",
   "metadata": {},
   "outputs": [],
   "source": []
  },
  {
   "cell_type": "code",
   "execution_count": null,
   "id": "f0281c4c",
   "metadata": {},
   "outputs": [],
   "source": []
  },
  {
   "cell_type": "code",
   "execution_count": null,
   "id": "5e4b9220",
   "metadata": {},
   "outputs": [],
   "source": []
  },
  {
   "cell_type": "code",
   "execution_count": null,
   "id": "79fbda07",
   "metadata": {},
   "outputs": [],
   "source": []
  },
  {
   "cell_type": "code",
   "execution_count": null,
   "id": "343539e8",
   "metadata": {},
   "outputs": [],
   "source": []
  },
  {
   "cell_type": "code",
   "execution_count": null,
   "id": "f20d6537",
   "metadata": {},
   "outputs": [],
   "source": []
  },
  {
   "cell_type": "code",
   "execution_count": null,
   "id": "501ed20c",
   "metadata": {},
   "outputs": [],
   "source": []
  },
  {
   "cell_type": "code",
   "execution_count": null,
   "id": "92e72858",
   "metadata": {},
   "outputs": [],
   "source": []
  },
  {
   "cell_type": "code",
   "execution_count": null,
   "id": "dbc0bee3",
   "metadata": {},
   "outputs": [],
   "source": []
  },
  {
   "cell_type": "code",
   "execution_count": 1,
   "id": "4ea61c34",
   "metadata": {},
   "outputs": [],
   "source": [
    "from predict import run_prediction\n",
    "import json\n",
    "import tqdm"
   ]
  },
  {
   "cell_type": "code",
   "execution_count": 2,
   "id": "78f5c7ce",
   "metadata": {},
   "outputs": [],
   "source": [
    "with open('./data/CUADv1.json') as json_file:\n",
    "    data = json.load(json_file)"
   ]
  },
  {
   "cell_type": "code",
   "execution_count": 3,
   "id": "cf5e621f",
   "metadata": {},
   "outputs": [],
   "source": [
    "questions = []\n",
    "for i, q in enumerate(data['data'][0]['paragraphs'][0]['qas']):\n",
    "    question = data['data'][0]['paragraphs'][0]['qas'][i]['question']\n",
    "    questions.append(question)\n",
    "contract = data['data'][0]['paragraphs'][0]['context']"
   ]
  },
  {
   "cell_type": "code",
   "execution_count": 4,
   "id": "a59c467d",
   "metadata": {},
   "outputs": [],
   "source": [
    "with open('./temp/contract.txt', 'w') as f:\n",
    "    f.write(' '.join(contract.split()))"
   ]
  },
  {
   "cell_type": "code",
   "execution_count": 5,
   "id": "dd3dba66",
   "metadata": {},
   "outputs": [
    {
     "data": {
      "text/plain": [
       "['Highlight the parts (if any) of this contract related to \"Effective Date\" that should be reviewed by a lawyer. Details: The date when the contract is effective\\xa0']"
      ]
     },
     "execution_count": 5,
     "metadata": {},
     "output_type": "execute_result"
    }
   ],
   "source": [
    "[questions[3]]"
   ]
  },
  {
   "cell_type": "code",
   "execution_count": 6,
   "id": "d569f54f",
   "metadata": {},
   "outputs": [
    {
     "name": "stdout",
     "output_type": "stream",
     "text": [
      "./trained_models/roberta-base/\n"
     ]
    },
    {
     "name": "stderr",
     "output_type": "stream",
     "text": [
      "convert squad examples to features: 100%|██████████| 1/1 [00:01<00:00,  1.06s/it]\n",
      "add example index and unique id: 100%|██████████| 1/1 [00:00<00:00, 9686.61it/s]\n"
     ]
    },
    {
     "name": "stdout",
     "output_type": "stream",
     "text": [
      "[<transformers.data.processors.squad.SquadResult object at 0x7fcf36a2dcf8>, <transformers.data.processors.squad.SquadResult object at 0x7fcf36a2dcc0>, <transformers.data.processors.squad.SquadResult object at 0x7fcf36a2db38>, <transformers.data.processors.squad.SquadResult object at 0x7fcf36a2d9e8>, <transformers.data.processors.squad.SquadResult object at 0x7fcf36a2db00>, <transformers.data.processors.squad.SquadResult object at 0x7fcf36a2dc18>, <transformers.data.processors.squad.SquadResult object at 0x7fcf36a2dc50>, <transformers.data.processors.squad.SquadResult object at 0x7fcf36a2dba8>, <transformers.data.processors.squad.SquadResult object at 0x7fcf36a2dbe0>, <transformers.data.processors.squad.SquadResult object at 0x7fcf36a2db70>, <transformers.data.processors.squad.SquadResult object at 0x7fcf36a2dac8>, <transformers.data.processors.squad.SquadResult object at 0x7fcf36a2da58>, <transformers.data.processors.squad.SquadResult object at 0x7fcfe3b953c8>, <transformers.data.processors.squad.SquadResult object at 0x7fcf36a38160>, <transformers.data.processors.squad.SquadResult object at 0x7fcf36a380b8>, <transformers.data.processors.squad.SquadResult object at 0x7fcf36a380f0>, <transformers.data.processors.squad.SquadResult object at 0x7fcf36a38128>, <transformers.data.processors.squad.SquadResult object at 0x7fcf36a38048>, <transformers.data.processors.squad.SquadResult object at 0x7fcf36a38518>, <transformers.data.processors.squad.SquadResult object at 0x7fcf36a385c0>, <transformers.data.processors.squad.SquadResult object at 0x7fcf3492ae48>, <transformers.data.processors.squad.SquadResult object at 0x7fcf3492aef0>, <transformers.data.processors.squad.SquadResult object at 0x7fcf3492aeb8>, <transformers.data.processors.squad.SquadResult object at 0x7fcf3492ae80>, <transformers.data.processors.squad.SquadResult object at 0x7fcf3492af28>, <transformers.data.processors.squad.SquadResult object at 0x7fcf3492af60>, <transformers.data.processors.squad.SquadResult object at 0x7fcf3492af98>, <transformers.data.processors.squad.SquadResult object at 0x7fcf3492afd0>, <transformers.data.processors.squad.SquadResult object at 0x7fcf4d52b048>]\n",
      "5\n",
      "hello\n",
      "OrderedDict([('0', 'The term of this Agreement shall be ten (10) years (the \"Term\") which shall commence on the date upon which the Company delivers to Distributor the last Sample, as defined hereinafter.')])\n",
      "CPU times: user 4.34 s, sys: 1.56 s, total: 5.9 s\n",
      "Wall time: 6.94 s\n"
     ]
    }
   ],
   "source": [
    "%%time \n",
    "out = run_prediction([questions[3]],contract,\"./trained_models/roberta-base/\")\n",
    "print(out)"
   ]
  },
  {
   "cell_type": "code",
   "execution_count": 40,
   "id": "91237545",
   "metadata": {},
   "outputs": [],
   "source": [
    "import json"
   ]
  },
  {
   "cell_type": "code",
   "execution_count": 41,
   "id": "45a6d7b9",
   "metadata": {},
   "outputs": [],
   "source": [
    "preds = json.load(open('./results/nbest.txt', 'rb'))"
   ]
  },
  {
   "cell_type": "code",
   "execution_count": 43,
   "id": "18f2ab30",
   "metadata": {},
   "outputs": [
    {
     "data": {
      "text/plain": [
       "[{'text': 'The term of this Agreement shall be ten (10) years (the \"Term\") which shall commence on the date upon which the Company delivers to Distributor the last Sample, as defined hereinafter.',\n",
       "  'probability': 0.7390376093749573,\n",
       "  'start_logit': 9.529376983642578,\n",
       "  'end_logit': 9.426068305969238},\n",
       " {'text': '7th day of September, 1999.',\n",
       "  'probability': 0.2114331269146031,\n",
       "  'start_logit': 8.802209854125977,\n",
       "  'end_logit': 8.901795387268066},\n",
       " {'text': 'Unless earlier terminated otherwise provided therein, this Agreement, subject to the commencement date established in Section 1.3, shall be effective immediately.',\n",
       "  'probability': 0.04378594324949106,\n",
       "  'start_logit': 8.206672668457031,\n",
       "  'end_logit': 7.922736644744873},\n",
       " {'text': 'this 7th day of September, 1999.',\n",
       "  'probability': 0.005682502386584134,\n",
       "  'start_logit': 5.18569278717041,\n",
       "  'end_logit': 8.901795387268066},\n",
       " {'text': 'The',\n",
       "  'probability': 6.064899567679408e-05,\n",
       "  'start_logit': 9.529376983642578,\n",
       "  'end_logit': 0.018067291006445885},\n",
       " {'text': '',\n",
       "  'probability': 1.6907868742523368e-07,\n",
       "  'start_logit': 1.8028284311294556,\n",
       "  'end_logit': 1.8621217012405396}]"
      ]
     },
     "execution_count": 43,
     "metadata": {},
     "output_type": "execute_result"
    }
   ],
   "source": [
    "preds['0']"
   ]
  },
  {
   "cell_type": "code",
   "execution_count": null,
   "id": "452c9fdf",
   "metadata": {},
   "outputs": [],
   "source": []
  },
  {
   "cell_type": "code",
   "execution_count": 16,
   "id": "596bc447",
   "metadata": {},
   "outputs": [
    {
     "name": "stdout",
     "output_type": "stream",
     "text": [
      "./trained_models/roberta-base/\n"
     ]
    },
    {
     "name": "stderr",
     "output_type": "stream",
     "text": [
      "convert squad examples to features: 100%|██████████| 41/41 [00:37<00:00,  1.09it/s]\n",
      "add example index and unique id: 100%|██████████| 41/41 [00:00<00:00, 34208.57it/s]\n"
     ]
    },
    {
     "name": "stdout",
     "output_type": "stream",
     "text": [
      "CPU times: user 1min, sys: 19 s, total: 1min 19s\n",
      "Wall time: 2min 1s\n"
     ]
    },
    {
     "data": {
      "text/plain": [
       "OrderedDict([('0', 'DISTRIBUTOR AGREEMENT'),\n",
       "             ('1', 'Distributor'),\n",
       "             ('2', '7th day of September, 1999.'),\n",
       "             ('3',\n",
       "              'The term of this Agreement shall be ten (10) years (the \"Term\") which shall commence on the date upon which the Company delivers to Distributor the last Sample, as defined hereinafter.'),\n",
       "             ('4',\n",
       "              'The term of this Agreement shall be ten (10) years (the \"Term\") which shall commence on the date upon which the Company delivers to Distributor the last Sample, as defined hereinafter.'),\n",
       "             ('5',\n",
       "              'If Distributor complies with all of the terms of this Agreement, the Agreement shall be renewable on an annual basis for one (1) year terms for up to another ten (10) years on the same terms and conditions as set forth herein.'),\n",
       "             ('6',\n",
       "              'If Distributor complies with all of the terms of this Agreement, the Agreement shall be renewable on an annual basis for one (1) year terms for up to another ten (10) years on the same terms and conditions as set forth herein.'),\n",
       "             ('7',\n",
       "              'This Agreement is to be construed according to the laws of the State of Illinois.'),\n",
       "             ('8', ''),\n",
       "             ('9',\n",
       "              'Term of the Agreement and for a period of eighteen (18) months thereafter, nor will Distributor solicit any customer or potential customer of Company to purchase a competitive product during that period.'),\n",
       "             ('10',\n",
       "              'The Company appoints the Distributor as an exclusive distributor of Products in the Market, subject to the terms and conditions of this Agreement.'),\n",
       "             ('11',\n",
       "              'During the Term of this Agreement and for a period of twelve (12) months thereafter, the Distributor (on behalf of itself, each of its affiliates and each of their respective representatives) agrees that it will not directly or indirectly solicit or hire any executive, managerial or technical employee of the Company or any of its affiliates.'),\n",
       "             ('12',\n",
       "              \"Company hereby appoints Distributor as Company's exclusive distributor within the Market and grants to Distributor the exclusive right to sell and distribute Products within the Market, and Distributor hereby accepts such appointment and such grant, in accordance with the terms and conditions of this Agreement.\"),\n",
       "             ('13',\n",
       "              'During the Term of this Agreement and for a period of twelve (12) months thereafter, the Distributor (on behalf of itself, each of its affiliates and each of their respective representatives) agrees that it will not directly or indirectly solicit or hire any executive, managerial or technical employee of the Company or any of its affiliates.'),\n",
       "             ('14',\n",
       "              'Distributor further agrees that it will not interfere with or otherwise disrupt the business relations between the Company or nay of its affiliates and any of their current or prospective customers, suppliers or distributors, during the'),\n",
       "             ('15', 'Either party may terminate this Agreement upon 30 days'),\n",
       "             ('16',\n",
       "              \"Distributor shall exercise its option to become exclusive Distributor of other Products or devices by serving written notification on Company of its election to become exclusive distributor within thirty (30) days upon which Company informed Distributor in writing of Company's intention to introduce other Products or devices. If Distributor does not exercise its option as herein provided, Company may distribute the other Products or devices within the Market itself or through other distributors.\"),\n",
       "             ('17',\n",
       "              'Upon termination of this Agreement Distributor shall have no further right to the Names and said License to use the Names shall terminate.'),\n",
       "             ('18',\n",
       "              'No assignment of this Agreement or any right accruing hereunder shall be made by the Distributor in whole or in part, without the prior written consent of the Company, which consent shall not be unreasonably withheld.'),\n",
       "             ('19', ''),\n",
       "             ('20',\n",
       "              'The prices set forth in Section 2.4(a) shall be subject to adjustment annually on the first day of each Product Year beginning in the calendar year 2000 and on the first day of each succeeding Product Year for the remainder of the Term and all renewals of this Agreement in proportion to the increase or decrease in the Consumer Price Index (CPI) as compared to the CPI as it existed on the first day of the Term of this Agreement.'),\n",
       "             ('21',\n",
       "              'A minimum of a $250,000.00 purchase order must be received by Company by the first of each month for a total (12) month period.'),\n",
       "             ('22',\n",
       "              \"Company's representatives will make themselves available three days per month in the first Product Year to consult with and train Distributor.\"),\n",
       "             ('23', ''),\n",
       "             ('24', ''),\n",
       "             ('25',\n",
       "              'The Company hereby grants the Distributor the right to do business and use the name \"Electric City of Illinois\" or a similar variation thereof (collectively the \"Names\") for use under this Agreement.'),\n",
       "             ('26',\n",
       "              \"Distributor shall have no right to sublicense the Names or to do business under any other names without the Company's prior approval in writing.\"),\n",
       "             ('27', ''),\n",
       "             ('28',\n",
       "              \"Distributor shall have no right to sublicense the Names or to do business under any other names without the Company's prior approval in writing.\"),\n",
       "             ('29', ''),\n",
       "             ('30', ''),\n",
       "             ('31', ''),\n",
       "             ('32',\n",
       "              'Following expiration or termination of this Agreement, the Distributor may continue to sell any Products in the Market which are in its inventory'),\n",
       "             ('33',\n",
       "              'Distributor shall submit written reports to the Company each quarter during the first year of the Term, commencing ninety (90) days after execution of this Agreement, describing its efforts, the potential customers it has approached and the status of its efforts.'),\n",
       "             ('34',\n",
       "              'Distributor shall make reasonable efforts to notify the Company of the proposed delivery schedule before accepting a customer order and shall give the Company written notice of any customer purchase orders which imposes liability for late shipment and neither the Distributor nor the Company shall have a liability for consequential or liquidated damages pertaining to late delivery unless Company specifically acknowledges and agrees in writing to the same.'),\n",
       "             ('35',\n",
       "              'Distributor shall make reasonable efforts to notify the Company of the proposed delivery schedule before accepting a customer order and shall give the Company written notice of any customer purchase orders which imposes liability for late shipment and neither the Distributor nor the Company shall have a liability for consequential or liquidated damages pertaining to late delivery unless Company specifically acknowledges and agrees in writing to the same.'),\n",
       "             ('36',\n",
       "              'Distributor shall make reasonable efforts to notify the Company of the proposed delivery schedule before accepting a customer order and shall give the Company written notice of any customer purchase orders which imposes liability for late shipment and neither the Distributor nor the Company shall have a liability for consequential or liquidated damages pertaining to late delivery unless Company specifically acknowledges and agrees in writing to the same.'),\n",
       "             ('37',\n",
       "              \"Company further warrants that the Products sold hereunder shall be free from defects in design, materials and workmanship for a period of twenty-four (24) months after delivery to Distributor's end-user.\"),\n",
       "             ('38',\n",
       "              'Company will carry a reasonable amount of product liability insurance through a reasonably acceptable products liability insurance company and will name the Distributor as an additional insured under that policy.'),\n",
       "             ('39',\n",
       "              'During the Term of this Agreement and for three years thereafter, the Distributor (on behalf of itself and each of its affiliates) agrees not to commence, or provide any information to or otherwise assist any person or entity in connection with, any suit, action or proceeding contesting the ownership, validity or enforceability of any patent, copyright, trademark, trade name or other propriety right owned by or licensed to the Company, whether currently existing or hereinafter invented, developed or acquired unless required to by court order.'),\n",
       "             ('40', '')])"
      ]
     },
     "execution_count": 16,
     "metadata": {},
     "output_type": "execute_result"
    }
   ],
   "source": [
    "%%time \n",
    "run_prediction(questions,contract,\"./trained_models/roberta-base/\")"
   ]
  },
  {
   "cell_type": "code",
   "execution_count": null,
   "id": "03fe2601",
   "metadata": {
    "jupyter": {
     "source_hidden": true
    }
   },
   "outputs": [],
   "source": []
  },
  {
   "cell_type": "code",
   "execution_count": 8,
   "id": "c4bff153",
   "metadata": {},
   "outputs": [
    {
     "data": {
      "text/plain": [
       "'4.5.1'"
      ]
     },
     "execution_count": 8,
     "metadata": {},
     "output_type": "execute_result"
    }
   ],
   "source": [
    "import transformers\n",
    "transformers.__version__"
   ]
  },
  {
   "cell_type": "code",
   "execution_count": null,
   "id": "f3fcf853",
   "metadata": {},
   "outputs": [],
   "source": [
    "context = \"\"\"CONFIDENTIAL TREATMENT HAS BEEN REQUESTED FOR PORTIONS OF THIS EXHIBIT. THE COPY FILED HEREWITH OMITS THE INFORMATION SUBJECT TO A CONFIDENTIALITY REQUEST. OMISSIONS ARE DESIGNATED [***]. A COMPLETE VERSION OF THIS EXHIBIT HAS BEEN FILED SEPARATELY WITH THE SECURITIES AND EXCHANGE COMMISSION.\\n\\nSource: DOVA PHARMACEUTICALS INC., 10-Q, 11/8/2018\\n\\n\\n\\n\\n\\nprotection and deceptive trade practices, including any state anti-kickback/fraud and abuse related laws, all as amended from time to time.\\n\\n1.8 \\\"Business Day\\\" means each day of the week, excluding Saturday, Sunday or a day on which banking institutions in New York, New York, USA are closed.\\n\\n1.9 \\\"Calendar Quarter\\\" shall mean each successive period of three (3) calendar months commencing on January 1, April 1, July 1 and October 1, except that the first Calendar Quarter of the Term shall commence on the Effective Date and end on the day immediately prior to the first to occur of January 1, April 1, July 1 or October 1 after the Effective Date, and the last Calendar Quarter shall end on the last day of the Term.\\n\\n1.10 \\\"Calendar Year\\\" shall mean each successive period of twelve (12) months commencing on January 1 and ending on December 31, except that the first Calendar Year of the Term shall commence on the Effective Date and end on December 31 of the year in which the Effective Date occurs, and the last Calendar Year of the Term shall commence on January 1 of the year in which the Term ends and end on the last day of the Term.\\n\\n1.11 \\\"Claims\\\" shall mean all charges, complaints, actions, suits, proceedings, hearings, investigations, claims, demands, judgments, orders, decrees, stipulations or injunctions, in each case of a Third Party (including any Governmental Authority).\\n\\n1.12 \\\"Code\\\" shall mean the Code on Interactions with Healthcare Professionals promulgated by the Pharmaceutical Research and Manufacturers of America (PhRMA)/BIO, as it may be amended.\\n\\n1.13 \\\"Compensation Report\\\" shall have the meaning set forth in Section 4.2.2(b)\"\"\"\n",
    "\n",
    "print(context)\n",
    "#context = \"\"\"\"Exhibit 10.2\\n\\n______________________________________________________________________________\\n\\nCO-PROMOTION AGREEMENT\\n\\nby and between\\n\\nDOVA PHARMACEUTICALS, INC.\\n\\nand\\n\\nVALEANT PHARMACEUTICALS NORTH AMERICA LLC\\n\\nSeptember 26, 2018\\n\\n______________________________________________________________________________\\n\\nCONFIDENTIAL TREATMENT HAS BEEN REQUESTED FOR PORTIONS OF THIS EXHIBIT. THE COPY FILED HEREWITH OMITS THE INFORMATION SUBJECT TO A CONFIDENTIALITY REQUEST. OMISSIONS ARE DESIGNATED [***]. A COMPLETE VERSION OF THIS EXHIBIT HAS BEEN FILED SEPARATELY WITH THE SECURITIES AND EXCHANGE COMMISSION.\\n\\nSource: DOVA PHARMACEUTICALS INC., 10-Q, 11/8/2018\\n\\n\\n\\n\\n\\nTABLE OF CONTENTS\\n\\nPage\\n\\nARTICLE 1 DEFINITIONS 1\\n\\nARTICLE 2 RIGHTS AND OBLIGATIONS 8\\n\\n2.1 Engagement; Grant of Rights. 8\\n\\n2.2 Retention of Rights. 9\\n\\n2.3 Non-Competition; Non-Solicitation. 9\\n\\n2.4 Dova Trademarks and Copyrights. 10\\n\\nARTICLE 3 JOINT STEERING COMMITTEE 11\\n\\n3.1 Formation of the JSC. 11\\n\\n3.2 Meetings and Minutes. 11\\n\\n3.3 Purpose of the JSC. 11\\n\\n3.4 Decision Making. 13\\n\\n3.5 Marketing Sub-Committee. 13\\n\\nARTICLE 4 VALEANT ACTIVITIES FOR THE PRODUCT 14\\n\\n4.1 Valeant Activities. 14\\n\\n4.2 Detailing. 15\\n\\n4.3 Compliance with Applicable Law. 17\\n\\n4.4 Field Force Personnel Training; Product Materials. 19\\n\\n4.5 Provisions Related to Field Force Personnel. 21\\n\\n4.6 Responsibility for Valeant Activity Costs and Expenses. 22\\n\\n4.7 Data Sharing. 22\\n\\nARTICLE 5 REGULATORY, SAFETY AND SURVEILLANCE, COMMERCIAL MATTERS 23\\n\\n5.1 Dova Responsibility. 23\\n\\n5.2 Valeant Involvement. 23\\n\\n5.3 Inspections. 23\\n\\n5.4 Pharmacovigilance. 24\\n\\n5.5 Unsolicited Requests for Medical Information. 24\\n\\n5.6 Recalls and Market Withdrawals. 25\\n\\n5.7 Certain Reporting Responsibilities. 25\\n\\n5.8 Booking of Sales Revenues. 25\\n\\n5.9 Returns. 25\\n\\nSource: DOVA PHARMACEUTICALS INC., 10-Q, 11/8/2018\\n\\n\\n\\n\\n\\ni\\n\\nCONFIDENTIAL TREATMENT HAS BEEN REQUESTED FOR PORTIONS OF THIS EXHIBIT. THE COPY FILED HEREWITH OMITS THE INFORMATION SUBJECT TO A CONFIDENTIALITY REQUEST. OMISSIONS ARE DESIGNATED [***]. A COMPLETE VERSION OF THIS EXHIBIT HAS BEEN FILED SEPARATELY WITH THE SECURITIES AND EXCHANGE COMMISSION.\\n\\nSource: DOVA PHARMACEUTICALS INC., 10-Q, 11/8/2018\\n\\n\\n\\n\\n\\nTABLE OF CONTENTS (continued)\\n\\n5.10 Manufacturing; Distribution; Marketing. 25\\n\\nARTICLE 6 FINANCIAL PROVISIONS 26\\n\\n6.1 Promotion Fee. 26\\n\\n6.2 Milestone Payment. 27\\n\\n6.3 Reports; Payments. 27\\n\\n6.4 Taxes. 28\\n\\n6.5 Determination of Specialty. 29\\n\\nARTICLE 7 AUDIT RIGHTS 30\\n\\n7.1 Recordkeeping. 30\\n\\n7.2 Valeant Rights. 30\\n\\n7.3 Dova Rights. 31\\n\\nARTICLE 8 INTELLECTUAL PROPERTY 32\\n\\n8.1 Ownership of Intellectual Property. 32\\n\\n8.2 Title to Trademarks and Copyrights. 32\\n\\n8.3 Protection of Trademarks and Copyrights. 32\\n\\n8.4 Disclosure of Know-How. 33\\n\\nARTICLE 9 CONFIDENTIALITY 33\\n\\n9.1 Confidential Information. 33\\n\\n9.2 Public Announcements. 34\\n\\nARTICLE 10 REPRESENTATIONS AND WARRANTIES; ADDITIONAL COVENANTS 35\\n\\n10.1 Representations and Warranties of Dova. 35\\n\\n10.2 Representations and Warranties of Valeant. 37\\n\\n10.3 Disclaimer of Warranty. 38\\n\\n10.4 Additional Covenants. 39\\n\\nARTICLE 11 INDEMNIFICATION; LIMITATIONS ON LIABILITY 39\\n\\n11.1 Indemnification by Dova. 39\\n\\n11.2 Indemnification by Valeant. 39\\n\\n11.3 Indemnification Procedures. 40\\n\\n11.4 Limitation of Liability. 40\\n\\n11.5 Insurance. 40\\n\\nARTICLE 12 TERM AND TERMINATION 41\\n\\n12.1 Term. 41\\n\\n12.2 Early Termination for Cause. 41\\n\\nSource: DOVA PHARMACEUTICALS INC., 10-Q, 11/8/2018\\n\\n\\n\\n\\n\\n12.3 Other Early Termination. 42\\n\\n12.4 Effects of Termination. 42\\n\\n12.5 Tail Period. 42\\n\\nii\\n\\nCONFIDENTIAL TREATMENT HAS BEEN REQUESTED FOR PORTIONS OF THIS EXHIBIT. THE COPY FILED HEREWITH OMITS THE INFORMATION SUBJECT TO A CONFIDENTIALITY REQUEST. OMISSIONS ARE DESIGNATED [***]. A COMPLETE VERSION OF THIS EXHIBIT HAS BEEN FILED SEPARATELY WITH THE SECURITIES AND EXCHANGE COMMISSION.\\n\\nSource: DOVA PHARMACEUTICALS INC., 10-Q, 11/8/2018\\n\\n\\n\\n\\n\\nTABLE OF CONTENTS (continued)\\n\\n12.6 Survival. 43\\n\\nARTICLE 13 MISCELLANEOUS 43\\n\\n13.1 Force Majeure. 43\\n\\n13.2 Assignment. 43\\n\\n13.3 Severability. 44\\n\\n13.4 Notices. 44\\n\\n13.5 Governing Law. 45\\n\\n13.6 Dispute Resolution. 45\\n\\n13.7 Waiver of Jury Trial. 45\\n\\n13.8 Entire Agreement; Amendments. 46\\n\\n13.9 Headings. 46\\n\\n13.10 Independent Contractors. 46\\n\\n13.11 Third Party Beneficiaries. 46\\n\\n13.12 Waiver. 46\\n\\n13.13 Cumulative Remedies. 46\\n\\n13.14 Waiver of Rule of Construction. 46\\n\\n13.15 Use of Names. 46\\n\\n13.16 Further Actions and Documents. 47\\n\\n13.17 Certain Conventions. 47\\n\\n13.18 Counterparts. 47\\n\\niii\\n\\nCONFIDENTIAL TREATMENT HAS BEEN REQUESTED FOR PORTIONS OF THIS EXHIBIT. THE COPY FILED HEREWITH OMITS THE INFORMATION SUBJECT TO A CONFIDENTIALITY REQUEST. OMISSIONS ARE DESIGNATED [***]. A COMPLETE VERSION OF THIS EXHIBIT HAS BEEN FILED SEPARATELY WITH THE SECURITIES AND EXCHANGE COMMISSION.\\n\\nSource: DOVA PHARMACEUTICALS INC., 10-Q, 11/8/2018\\n\\n\\n\\n\\n\\nCO-PROMOTION AGREEMENT\\n\\nThis Co-Promotion Agreement (this \\\"Agreement\\\") is entered into and dated as of September 26, 2018 (the \\\"Effective Date\\\") by and between Dova Pharmaceuticals, Inc., a Delaware corporation (\\\"Dova\\\"), and Valeant Pharmaceuticals North America LLC, a Delaware limited liability company (\\\"Valeant\\\"). Dova and Valeant are each referred to individually as a \\\"Party\\\" and together as the \\\"Parties\\\".\\n\\nRECITALS\\n\\nWHEREAS, Dova has developed and has rights to market and sell the Product (as defined below) in the Territory;\\n\\nWHEREAS, the Parties believe that it would be mutually beneficial to collaborate on promotional activities for the Product and, accordingly, Dova desires that Valeant conduct certain promotional activities, and Valeant desires to conduct such activities, for the Product in the Territory;\\n\\nNOW, THEREFORE, in consideration of the following mutual promises and obligations, and for other good and valuable consideration the adequacy and sufficiency of which are hereby acknowledged, the Parties agree as follows:\\n\\nCONFIDENTIAL TREATMENT HAS BEEN REQUESTED FOR PORTIONS OF THIS EXHIBIT. THE COPY FILED HEREWITH OMITS THE INFORMATION SUBJECT TO A CONFIDENTIALITY REQUEST. OMISSIONS ARE DESIGNATED [***]. A COMPLETE VERSION OF THIS EXHIBIT HAS BEEN FILED SEPARATELY WITH THE SECURITIES AND EXCHANGE COMMISSION.\\n\\nSource: DOVA PHARMACEUTICALS INC., 10-Q, 11/8/2018\\n\\n\\n\\n\\n\\nARTICLE 1   DEFINITIONS\\n\\n1.1 \\\"Act\\\" shall mean the Federal Food, Drug and Cosmetic Act, 21 U.S.C. \\u00a7 301 et seq., as it may be amended from time to time, and the regulations promulgated thereunder.\\n\\n1.2 \\\"Adverse Event\\\" shall mean any untoward medical occurrence in a patient or clinical investigation subject who is administered the Product, but which does not necessarily have a causal relationship with the treatment for which the Product is used. An \\\"Adverse Event\\\" can include any unfavorable and unintended sign (including an abnormal laboratory finding), symptom or disease temporally associated with the use of the Product, whether or not related to the Product. A pre-existing condition that worsened in severity after administration of the Product would be considered an \\\"Adverse Event\\\".\\n\\n1.3 \\\"Affiliate\\\" shall mean, with respect to any Person, any other Person that directly or indirectly controls, is controlled by or is under common control with such Person. A Person shall be deemed to control another Person if such Person possesses the power to direct or cause the direction of the management, business and policies of such Person, whether through the ownership of fifty percent (50%) or more (or such lesser percentage which is the maximum allowed to be owned by a foreign corporation in a particular jurisdiction) of the voting securities of such Person, by contract or otherwise.\\n\\n1.4 \\\"Agreement\\\" shall have the meaning set forth in the preamble to this Agreement.\\n\\n1.5 \\\"Alliance Managers\\\" shall have the meaning set forth in Section 4.1.4.\\n\\n1.6 \\\"Alternate Product\\\" shall mean a pharmaceutical product that is commercialized by Valeant or its Affiliates in the Territory and that is part of the Salix business segment of Valeant's parent company, Bausch Health Companies, Inc. (or, in the event that such business segments are restructured, that is part of the Salix business unit), and which product is complementary to the Product with regard to Target Professionals in the Specialty.\\n\\n1.7 \\\"Applicable Laws\\\" shall mean all applicable statutes, ordinances, regulations, codes, rules, or orders of any kind whatsoever of any Governmental Authority in the Territory pertaining to any of the activities and obligations contemplated by this Agreement, including, as applicable, the Act, the Generic Drug Enforcement Act of 1992 (21 U.S.C. \\u00a7 335a et seq.), the Anti- Kickback Statute (42 U.S.C. \\u00a7 1320a-7b et seq.)\"\"\"\n",
    "# 1. TOKENIZE THE INPUT\n",
    "# note: if you don't include return_tensors='pt' you'll get a list of lists which is easier for \n",
    "# exploration but you cannot feed that into a model. \n",
    "inputs = tokenizer.encode_plus(question, context, return_tensors=\"pt\") \n",
    "\n",
    "# 2. OBTAIN MODEL SCORES\n",
    "# the AutoModelForQuestionAnswering class includes a span predictor on top of the model. \n",
    "# the model returns answer start and end scores for each word in the text\n",
    "output = model(**inputs)\n",
    "answer_start_scores, answer_end_scores = model(**inputs,return_dict=False)\n",
    "answer_start = torch.argmax(answer_start_scores)  # get the most likely beginning of answer with the argmax of the score\n",
    "answer_end = torch.argmax(answer_end_scores) + 1  # get the most likely end of answer with the argmax of the score\n",
    "\n",
    "# 3. GET THE ANSWER SPAN\n",
    "# once we have the most likely start and end tokens, we grab all the tokens between them\n",
    "# and convert tokens back to words!\n",
    "tokenizer.convert_tokens_to_string(tokenizer.convert_ids_to_tokens(inputs[\"input_ids\"][0][answer_start:answer_end]))"
   ]
  },
  {
   "cell_type": "code",
   "execution_count": null,
   "id": "4268415a",
   "metadata": {},
   "outputs": [],
   "source": [
    "answer_start_scores"
   ]
  },
  {
   "cell_type": "code",
   "execution_count": null,
   "id": "5e44d1c3",
   "metadata": {},
   "outputs": [],
   "source": [
    "answer_end_scores"
   ]
  },
  {
   "cell_type": "code",
   "execution_count": 14,
   "id": "2124f7ff",
   "metadata": {},
   "outputs": [],
   "source": [
    "from transformers.data.processors.squad import SquadResult, SquadV2Processor, SquadExample"
   ]
  },
  {
   "cell_type": "code",
   "execution_count": null,
   "id": "4c5100bf",
   "metadata": {},
   "outputs": [],
   "source": [
    "SquadExample()"
   ]
  }
 ],
 "metadata": {
  "kernelspec": {
   "display_name": "conda_pytorch_latest_p36",
   "language": "python",
   "name": "conda_pytorch_latest_p36"
  },
  "language_info": {
   "codemirror_mode": {
    "name": "ipython",
    "version": 3
   },
   "file_extension": ".py",
   "mimetype": "text/x-python",
   "name": "python",
   "nbconvert_exporter": "python",
   "pygments_lexer": "ipython3",
   "version": "3.6.13"
  }
 },
 "nbformat": 4,
 "nbformat_minor": 5
}
